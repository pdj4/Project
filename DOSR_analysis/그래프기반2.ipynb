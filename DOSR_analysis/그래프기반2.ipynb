{
  "cells": [
    {
      "cell_type": "code",
      "execution_count": null,
      "id": "59fc802d",
      "metadata": {
        "id": "59fc802d"
      },
      "outputs": [],
      "source": [
        "import glob\n",
        "import os\n",
        "import numpy as np\n",
        "import pandas as pd\n",
        "import matplotlib.pyplot as plt\n",
        "from pykrx import stock\n",
        "from tqdm import tqdm\n",
        "from timeit import default_timer as timer\n",
        "import itertools\n",
        "import scipy.sparse as sp\n",
        "import networkx as nx\n",
        "\n",
        "import torch\n",
        "import torch.nn as nn\n",
        "import torch.optim as optim\n",
        "import torch.nn.functional as F\n",
        "# https://www.dgl.ai/pages/start.html\n",
        "import dgl\n",
        "from dgl.nn import SAGEConv\n",
        "from sklearn.metrics import roc_auc_score"
      ]
    },
    {
      "cell_type": "markdown",
      "id": "e8f52c33",
      "metadata": {
        "id": "e8f52c33"
      },
      "source": [
        "# Featuring Engineering"
      ]
    },
    {
      "cell_type": "markdown",
      "id": "f28134a4",
      "metadata": {
        "id": "f28134a4"
      },
      "source": [
        "**기본 지표 생성**\n",
        "\n",
        "n = 일주일, 1개월, etc…\n",
        "\n",
        "- 과거 n일 동안의 평균 종가, 표준 편차\n",
        "- 과거 n일 동안의 평균 거래량, 표준 편차\n",
        "- 전날 일일 수익률\n",
        "- 과거 n일간 평균 수익률\n",
        "- 과거 n일간 일일 수익률의 이동 평균"
      ]
    },
    {
      "cell_type": "code",
      "execution_count": null,
      "id": "7b9f1e43",
      "metadata": {
        "id": "7b9f1e43"
      },
      "outputs": [],
      "source": [
        "# make basic indicators\n",
        "def get_basic_indicators(df, week=5, month=21):\n",
        "    df_copy = df.copy()\n",
        "    price = df_copy['gts_iem_end_pr']\n",
        "    volume = df_copy['gts_acl_trd_qty']\n",
        "    avg_price_week = price.rolling(window=week).mean()\n",
        "    avg_price_month = price.rolling(window=month).mean()\n",
        "    std_price_week = price.rolling(window=week).std()\n",
        "    std_price_month = price.rolling(window=month).std()\n",
        "\n",
        "    avg_volume_week = volume.rolling(window=week).mean()\n",
        "    avg_volume_month = volume.rolling(window=month).mean()\n",
        "    std_volume_week = volume.rolling(window=week).std()\n",
        "    std_volume_month = volume.rolling(window=month).std()\n",
        "\n",
        "    return_1 = ((price - price.shift(1)) / price.shift(1)).shift(1).fillna(0)\n",
        "    return_week = ((price - price.shift(week)) / price.shift(week)).shift(1).fillna(0)\n",
        "    return_month = ((price - price.shift(month)) / price.shift(month)).shift(1).fillna(0)\n",
        "\n",
        "    return_ma_week = return_1.rolling(window=week).mean()\n",
        "    return_ma_month = return_1.rolling(window=month).mean()\n",
        "\n",
        "    df_copy['avg_price_week'] = avg_price_week\n",
        "    df_copy['avg_price_month'] = avg_price_month\n",
        "    df_copy['std_price_week'] = std_price_week\n",
        "    df_copy['std_price_month'] = std_price_month\n",
        "\n",
        "    df_copy['avg_volume_week'] = avg_volume_week\n",
        "    df_copy['avg_volume_month'] = avg_volume_month\n",
        "    df_copy['std_volume_week'] = std_volume_week\n",
        "    df_copy['std_volume_month'] = std_volume_month\n",
        "\n",
        "    df_copy['return_1'] = return_1\n",
        "    df_copy['return_week'] = return_week\n",
        "    df_copy['return_month'] = return_month\n",
        "\n",
        "    df_copy['return_ma_week'] = return_ma_week\n",
        "    df_copy['return_ma_month'] = return_ma_month\n",
        "\n",
        "    return df_copy"
      ]
    },
    {
      "cell_type": "markdown",
      "id": "bc4e83fd",
      "metadata": {
        "id": "bc4e83fd"
      },
      "source": [
        "**기술 지표 생성**\n",
        "\n",
        "- BOLL (볼린저 밴드)\n",
        "    - 주가의 변동이 표준정규분포함수를 따른다는 가정 하에 주가 이동평균선의 위,아래에 생성되는 가상의 기준선\n",
        "    - 상한선, 중심선, 하한선으로 보통 구분함\n",
        "- MACD (이동평균 수렴확산지수)\n",
        "    - MACD: 단기이동평균(12)와 장기이동평균선(26)의 차이값. 우리나라 주식시장에 맞게 5일, 20일로 대체하기도 함\n",
        "    - MACD Signal: MACD의 9일 이동평균값\n",
        "    - MACD Oscillator: MACD값과 Signal값의 차이\n",
        "- RSI (상대강도지수)\n",
        "    - 특정 기간 동안 주가의 상승/하락 각각의 변화량평균을 구하여 과매수 혹은 과매도 선호를 산출하는 지수\n",
        "    - 30 이하면 과매도, 70 이상이면 과매수로 해석함\n",
        "- Stochastic Oscillator (스토캐스틱 지표)\n",
        "    - 최근 n일간의 최고가와 최저가를 기준으로 전자에 가까울수록 매도세, 후자에 가까울수록 매수세가 강함을 나타내는 지표\n",
        "    - 20 이하면 과매도, 80 이상이면 과매수로 해석함"
      ]
    },
    {
      "cell_type": "code",
      "execution_count": null,
      "id": "2c52968c",
      "metadata": {
        "id": "2c52968c"
      },
      "outputs": [],
      "source": [
        "# make techincal indicators\n",
        "def get_boll(price,n=20):\n",
        "  '''\n",
        "  parameters:\n",
        "    price: 가격 (종가, dtype=list)\n",
        "    n: 종가 단순이동평균 계산 날짜수\n",
        "  returns:\n",
        "    볼린저밴드 하한선, 볼린저밴드 중심선, 볼린저밴드 상한선\n",
        "  '''\n",
        "  sma=price.rolling(window=n).mean()\n",
        "  std=price.rolling(window=n).std()\n",
        "  boll_mid=sma #볼린저밴드 중심선\n",
        "  boll_high=sma+2*std #볼린저밴드 상한선\n",
        "  boll_low=sma-2*std #볼린저밴드 하한선\n",
        "  return boll_low, boll_mid, boll_high\n",
        "\n",
        "def get_macd(price,n=9):\n",
        "  '''\n",
        "  parameters:\n",
        "    price: 가격 (종가, dtype=list)\n",
        "    n: 이동평균 계산 날짜수 (dtype=int)\n",
        "  returns:\n",
        "    MACD, MACD 시그널, MACD 오실레이터\n",
        "  '''\n",
        "  # 얘는 지수 이동 평균 Exponential Moving Average (EMA) 을 사용함\n",
        "  ewm12=price.ewm(span=12, adjust=False).mean()\n",
        "  ewm26=price.ewm(span=26, adjust=False).mean()\n",
        "  macd=ewm12-ewm26 #MACD\n",
        "  macd_signal=macd.ewm(span=n,min_periods=n-1,adjust=False).mean() #MACD Signal\n",
        "  macd_oscil=macd-macd_signal #MACD Oscillator\n",
        "  return macd, macd_signal, macd_oscil\n",
        "\n",
        "def get_rsi(price,n1=14,n2=9):\n",
        "  '''\n",
        "  parameters:\n",
        "    price: 가격 (종가, dtype=list)\n",
        "    n1: 평균상승률/평균하락률 지수이동평균 계산 날짜수\n",
        "    n2: 단순이동평균 계산 날짜수\n",
        "  returns: RSI, RSI 시그널\n",
        "  '''\n",
        "  delta=price.diff()\n",
        "  up=delta.clip(lower=0)\n",
        "  down=delta.clip(upper=0)\n",
        "  ema_up=up.ewm(com=n1, adjust=False).mean()\n",
        "  ema_down=abs(down.ewm(com=n1, adjust=False).mean())\n",
        "  rs=ema_up/ema_down\n",
        "  rsi=100-np.floor((100/(1+rs))) #RSI\n",
        "  rsi_signal=rsi.rolling(window=n2).mean() #RSI Signal\n",
        "  return rsi, rsi_signal\n",
        "\n",
        "def get_stochastic(high,low,close,n=15, m=5, t=3):\n",
        "  '''\n",
        "  parmameters:\n",
        "    high: 고가 (dtype=list)\n",
        "    low: 저가 (dtype=list)\n",
        "    close: 종가 (dtype=list)\n",
        "    n: fast K stochastic 도출 시 이동평균 구간\n",
        "    m: slow K stochastic 도출 시 이동평균 구간\n",
        "    t: slow D stochastic 도출 시 이동평균 구간\n",
        "  returns:\n",
        "    Fast%K, Slow%K, Slow%D\n",
        "  '''\n",
        "  min_low=low.rolling(n).min()\n",
        "  max_high=high.rolling(n).max()\n",
        "  fast_k=100*(close-min_low)/(max_high-min_low)\n",
        "  slow_k=fast_k.rolling(m).mean()\n",
        "  slow_d=slow_k.rolling(t).mean()\n",
        "  return fast_k, slow_k, slow_d"
      ]
    },
    {
      "cell_type": "code",
      "execution_count": null,
      "id": "643d2a1a",
      "metadata": {
        "id": "643d2a1a"
      },
      "outputs": [],
      "source": [
        "def get_technical_indicator(df):\n",
        "    df_copy = df.copy()\n",
        "    price = df['gts_iem_end_pr']\n",
        "    high = df['gts_iem_hi_pr']\n",
        "    low = df['gts_iem_low_pr']\n",
        "\n",
        "    df_copy['BoLL_low'], df_copy['BoLL_mid'], df_copy['BoLL_high'] = get_boll(price)\n",
        "    df_copy['MACD'], df_copy['MACD_signal'], df_copy['MACD_oscil'] = get_macd(price)\n",
        "    df_copy['RSI'], df_copy['RSI_signal'] = get_rsi(price)\n",
        "    df_copy['fast_K'], df_copy['slow_K'], df_copy['slow_D'] = get_stochastic(high, low, price)\n",
        "\n",
        "    return df_copy"
      ]
    },
    {
      "cell_type": "code",
      "execution_count": null,
      "id": "8f1404a9",
      "metadata": {
        "id": "8f1404a9"
      },
      "outputs": [],
      "source": [
        "def calculate_turbulence(data):\n",
        "    \"\"\"calculate turbulence index based on dow 30\"\"\"\n",
        "\n",
        "    df = data.copy()\n",
        "    df_price_pivot = df.pivot(index='trd_dt', columns='tck_iem_cd', values='gts_iem_end_pr')\n",
        "    df_price_pivot = df_price_pivot.pct_change()\n",
        "\n",
        "    unique_date = df.trd_dt.unique()\n",
        "    # start after a month\n",
        "    start = 21\n",
        "    turbulence_index = [0] * start\n",
        "    count = 0\n",
        "    for i in tqdm(range(start, len(unique_date))):\n",
        "        current_price = df_price_pivot[df_price_pivot.index == unique_date[i]]\n",
        "        # use one month rolling window to calcualte covariance\n",
        "        hist_price = df_price_pivot[\n",
        "            (df_price_pivot.index < unique_date[i])\n",
        "            & (df_price_pivot.index >= unique_date[i - start])\n",
        "        ]\n",
        "        # Drop tickers which has number missing values more than the \"oldest\" ticker\n",
        "        filtered_hist_price = hist_price.iloc[hist_price.isna().sum().min():].dropna(axis=1)\n",
        "\n",
        "        cov_temp = filtered_hist_price.cov()\n",
        "        current_temp = current_price[[x for x in filtered_hist_price]] - np.mean(filtered_hist_price, axis=0)\n",
        "\n",
        "        temp = current_temp.values.dot(np.linalg.pinv(cov_temp)).dot(current_temp.values.T)\n",
        "        if temp > 0:\n",
        "            count += 1\n",
        "            if count > 2:\n",
        "                turbulence_temp = temp[0][0]\n",
        "            else:\n",
        "                # avoid large outlier because of the calculation just begins\n",
        "                turbulence_temp = 0\n",
        "        else:\n",
        "            turbulence_temp = 0\n",
        "        turbulence_index.append(turbulence_temp)\n",
        "    turbulence_index = pd.DataFrame({'trd_dt': df_price_pivot.index, 'turbulence': turbulence_index})\n",
        "    return turbulence_index\n",
        "\n",
        "def add_turbulence(data):\n",
        "    df = data.copy()\n",
        "    turbulence_index = calculate_turbulence(df)\n",
        "    df = df.merge(turbulence_index, on=\"trd_dt\")\n",
        "    df = df.sort_values([\"trd_dt\", \"tck_iem_cd\"]).reset_index(drop=True)\n",
        "    return df"
      ]
    },
    {
      "cell_type": "markdown",
      "id": "0db402e4",
      "metadata": {
        "id": "0db402e4"
      },
      "source": [
        "### 해외 국내 피쳐 생성"
      ]
    },
    {
      "cell_type": "code",
      "execution_count": null,
      "id": "797e9763",
      "metadata": {
        "id": "797e9763"
      },
      "outputs": [],
      "source": [
        "# # turbulence index부터 생성\n",
        "# df_with_tb = add_turbulence(df)\n",
        "\n",
        "# # 종목 별로 데이터프레임 분할\n",
        "# names = df_with_tb['tck_iem_cd'].unique()\n",
        "# df_per_name = [df_with_tb[df_with_tb['tck_iem_cd'] == name] for name in names]\n",
        "\n",
        "# # 종목 별로 기본지표 & 기술지표 생성\n",
        "# df_per_name_final = []\n",
        "# for df_i in df_per_name:\n",
        "#     df_i = get_technical_indicator(df_i)\n",
        "#     df_i = get_basic_indicators(df_i)\n",
        "#     df_per_name_final.append(df_i)\n",
        "\n",
        "# # concat all dataframes\n",
        "# df_final = pd.concat(df_per_name_final)\n",
        "# # reindex\n",
        "# df_final = df_final.sort_values(['tck_iem_cd', 'trd_dt']).reset_index(drop=True)\n",
        "\n",
        "# # save csv\n",
        "# df_final.to_csv('NASDAQ_Stock_data.csv', encoding='cp949', index=False)"
      ]
    },
    {
      "cell_type": "markdown",
      "id": "a2e5b542",
      "metadata": {
        "id": "a2e5b542"
      },
      "source": [
        "# Graph Building"
      ]
    },
    {
      "cell_type": "markdown",
      "id": "6f20d289",
      "metadata": {
        "id": "6f20d289"
      },
      "source": [
        "## Method 1)\n",
        "Correlation과 Cumulative return을 고려한 stock-specific metric을 통해 유사한 종목 계산"
      ]
    },
    {
      "cell_type": "code",
      "execution_count": null,
      "id": "59928f72",
      "metadata": {
        "id": "59928f72",
        "outputId": "88eac264-04d2-4a7b-ca5e-9399053e4306"
      },
      "outputs": [
        {
          "name": "stderr",
          "output_type": "stream",
          "text": [
            "C:\\Users\\82109\\AppData\\Local\\Temp\\ipykernel_21944\\236495483.py:3: DtypeWarning: Columns (1) have mixed types. Specify dtype option on import or set low_memory=False.\n",
            "  df_kor = pd.read_csv('KOREA_Stock_data_noqty.csv', encoding='cp949')\n"
          ]
        }
      ],
      "source": [
        "# 데이터 PATH 조정\n",
        "df_nas = pd.read_csv('NASDAQ_Stock_data_noqty.csv', encoding='cp949')\n",
        "df_kor = pd.read_csv('KOREA_Stock_data_noqty.csv', encoding='cp949')\n",
        "\n",
        "names_nas = df_nas['tck_iem_cd'].unique()\n",
        "df_per_name_nas = [df_nas[df_nas['tck_iem_cd'] == name] for name in names_nas]\n",
        "\n",
        "names_kor = df_kor['tck_iem_cd'].unique()\n",
        "df_per_name_kor = [df_kor[df_kor['tck_iem_cd'] == name] for name in names_kor]"
      ]
    },
    {
      "cell_type": "markdown",
      "id": "f3336204",
      "metadata": {
        "id": "f3336204"
      },
      "source": [
        "Target paper:\n",
        "\n",
        "Dolphin, Rian, et al. \"Measuring financial time series similarity with a view to identifying profitable stock market opportunities.\" International Conference on Case-Based Reasoning. Cham: Springer International Publishing, 2021.\n",
        "\n",
        "https://arxiv.org/pdf/2107.03926.pdf"
      ]
    },
    {
      "cell_type": "code",
      "execution_count": null,
      "id": "9a9b74fd",
      "metadata": {
        "id": "9a9b74fd"
      },
      "outputs": [],
      "source": [
        "def get_monthly_return(df):\n",
        "    df_copy = df.copy()\n",
        "    df_copy['trd_dt'] = df_copy['trd_dt'].astype(str)\n",
        "    df_copy['date'] = pd.to_datetime(df_copy['trd_dt'])\n",
        "    df_copy = df_copy.set_index('date')\n",
        "    df_copy = df_copy.resample('M').last('D')\n",
        "    df_copy['monthly_return'] = df_copy['gts_iem_end_pr'].pct_change()\n",
        "    # df_copy = df_copy.fillna(0)\n",
        "    df_copy = df_copy.dropna()\n",
        "    return df_copy['monthly_return'].values\n",
        "\n",
        "# from target paper\n",
        "def pearson_correlation(x, y):\n",
        "    return np.dot((x - np.mean(x)), (y - np.mean(y))) / ((np.linalg.norm(x - np.mean(x))) * (np.linalg.norm(y - np.mean(y))))\n",
        "\n",
        "def adjusted_correlation(x, y):\n",
        "    return np.dot(x, y) / ((np.linalg.norm(x)) * (np.linalg.norm(y)))\n",
        "\n",
        "def calculate_cumulative_return(c_i, c_j):\n",
        "    return np.abs((c_i+1).cumprod()[-1] - (c_j+1).cumprod()[-1])\n",
        "\n",
        "def final_similarity(c_i, c_j, w=0.5):\n",
        "    e = calculate_cumulative_return(c_i, c_j)\n",
        "    tau = adjusted_correlation(c_i, c_j)\n",
        "    return w / (1+e) + (1-w) * tau"
      ]
    },
    {
      "cell_type": "code",
      "execution_count": null,
      "id": "3bf94796",
      "metadata": {
        "id": "3bf94796",
        "outputId": "19582585-6ea7-4876-9baa-9768ad8c768b"
      },
      "outputs": [
        {
          "name": "stderr",
          "output_type": "stream",
          "text": [
            "100%|██████████| 2743/2743 [01:40<00:00, 27.28it/s]\n"
          ]
        }
      ],
      "source": [
        "# 미국 종목 <-> 한국 종목간 유사도 비교 후 Similarity가 0.7 이상인 두 종목에 edge 연결\n",
        "n, m = len(df_per_name_nas), len(df_per_name_kor)\n",
        "threshold = 0.7\n",
        "adjacency_matrix = sp.lil_matrix((n, m))\n",
        "\n",
        "monthly_returns_nas = [get_monthly_return(i) for i in df_per_name_nas]\n",
        "monthly_returns_kor = [get_monthly_return(i) for i in df_per_name_kor]\n",
        "\n",
        "for i in tqdm(range(n)):\n",
        "    for j in range(m):\n",
        "        x = monthly_returns_nas[i]\n",
        "        y = monthly_returns_kor[j]\n",
        "        if len(x) != 7 or len(y) != 7:\n",
        "            continue\n",
        "        similarity = final_similarity(x, y)\n",
        "        if similarity > threshold:\n",
        "            adjacency_matrix[i, j] = similarity\n",
        "\n",
        "adjacency_matrix = adjacency_matrix.tocsr()\n",
        "sp.save_npz('Stock_Graph_Both.npz', adjacency_matrix)"
      ]
    },
    {
      "cell_type": "code",
      "execution_count": null,
      "id": "844e7b55",
      "metadata": {
        "id": "844e7b55",
        "outputId": "f78efda5-3217-4634-a622-9772ddb02cce"
      },
      "outputs": [
        {
          "name": "stdout",
          "output_type": "stream",
          "text": [
            "Total: 351901\n",
            "Ratio: 5.24%\n"
          ]
        }
      ],
      "source": [
        "# Load our stock graph\n",
        "adj = sp.load_npz('./Stock_Graph_Both.npz')\n",
        "\n",
        "# 전체 엣지 개수\n",
        "print('Total:',np.count_nonzero(adj.toarray()))\n",
        "print(f'Ratio: {np.count_nonzero(adj.toarray()) / (n * m) * 100:.2f}%')"
      ]
    },
    {
      "cell_type": "markdown",
      "id": "8612337d",
      "metadata": {
        "id": "8612337d"
      },
      "source": [
        "그래프 시각화 ( 타겟 노드 = 560 )"
      ]
    },
    {
      "cell_type": "code",
      "execution_count": null,
      "id": "60d646fc",
      "metadata": {
        "id": "60d646fc",
        "outputId": "4e111376-2f51-4e49-f7b9-8744f91c5730"
      },
      "outputs": [
        {
          "name": "stdout",
          "output_type": "stream",
          "text": [
            "Target: 560\n",
            "Most similar stock: 1071\n",
            "Similarity: 0.9832331936173919\n"
          ]
        }
      ],
      "source": [
        "target_node = 560\n",
        "adj_np = adj.toarray()\n",
        "similar_node = adj_np[target_node].argmax()\n",
        "\n",
        "print('Target:',target_node)\n",
        "print('Most similar stock:',similar_node)\n",
        "print('Similarity:',adj[target_node, similar_node])"
      ]
    },
    {
      "cell_type": "code",
      "execution_count": null,
      "id": "ac8def0e",
      "metadata": {
        "id": "ac8def0e",
        "outputId": "ad0f5048-6515-4661-ccf8-e370eb755815"
      },
      "outputs": [
        {
          "data": {
            "image/png": "[encoded data removed]",
            "text/plain": [
              "<Figure size 1500x500 with 1 Axes>"
            ]
          },
          "metadata": {},
          "output_type": "display_data"
        },
        {
          "data": {
            "image/png": "[encoded data removed]",
            "text/plain": [
              "<Figure size 1500x500 with 1 Axes>"
            ]
          },
          "metadata": {},
          "output_type": "display_data"
        },
        {
          "data": {
            "image/png": "[encoded data removed]",
            "text/plain": [
              "<Figure size 1500x500 with 1 Axes>"
            ]
          },
          "metadata": {},
          "output_type": "display_data"
        },
        {
          "data": {
            "image/png": "[encoded data removed]",
            "text/plain": [
              "<Figure size 1500x500 with 1 Axes>"
            ]
          },
          "metadata": {},
          "output_type": "display_data"
        }
      ],
      "source": [
        "def compare_two_stock(df1, df2):\n",
        "    # '유사하다'고 판단한 한국주식과 미국주식을 시각화해서 비교\n",
        "    def apply_exchange(df, exchange=1353.07):\n",
        "        df_copy = df.copy()\n",
        "        df_copy['gts_iem_end_pr'] = df_copy['gts_iem_end_pr'].values * exchange\n",
        "        df_copy['gts_iem_hi_pr'] = df_copy['gts_iem_hi_pr'].values * exchange\n",
        "        df_copy['gts_iem_low_pr'] = df_copy['gts_iem_low_pr'].values * exchange\n",
        "        df_copy = get_technical_indicator(df_copy)\n",
        "        return df_copy\n",
        "\n",
        "    # 현재 환율에 맞추어 미국 주식의 달러->원으로 환산\n",
        "    df1 = apply_exchange(df1)\n",
        "    plt.figure(figsize=(15, 5))\n",
        "\n",
        "    plt.plot(df1['gts_iem_end_pr'].values, label=df1['tck_iem_cd'].unique()[0])\n",
        "    plt.plot(df2['gts_iem_end_pr'].values, label=df2['tck_iem_cd'].unique()[0])\n",
        "    plt.title(f\"Price of two stocks\")\n",
        "    plt.legend()\n",
        "    plt.show()\n",
        "\n",
        "    plt.figure(figsize=(15, 5))\n",
        "    plt.plot(df1['BoLL_mid'].values, label=df1['tck_iem_cd'].unique()[0])\n",
        "    plt.plot(df2['BoLL_mid'].values, label=df2['tck_iem_cd'].unique()[0])\n",
        "    plt.title(f\"Moving average of two stocks\")\n",
        "    plt.legend()\n",
        "    plt.show()\n",
        "\n",
        "    plt.figure(figsize=(15, 5))\n",
        "    plt.plot(df1['MACD_signal'].values, label=df1['tck_iem_cd'].unique()[0], color='red', linestyle='--')\n",
        "    plt.plot(df2['MACD_signal'].values, label=df2['tck_iem_cd'].unique()[0], color='blue', linestyle='--')\n",
        "    plt.title(f\"MACD Signal of two stocks\")\n",
        "    plt.legend()\n",
        "    plt.show()\n",
        "\n",
        "    plt.figure(figsize=(15, 5))\n",
        "    plt.plot(df1['RSI_signal'].values, label=df1['tck_iem_cd'].unique()[0], color='red', linestyle='--')\n",
        "    plt.plot(df2['RSI_signal'].values, label=df2['tck_iem_cd'].unique()[0], color='blue', linestyle='--')\n",
        "    plt.title(f\"RSI Signal of two stocks\")\n",
        "    plt.legend()\n",
        "    plt.show()\n",
        "\n",
        "compare_two_stock(df_per_name_nas[target_node], df_per_name_kor[similar_node])\n"
      ]
    },
    {
      "cell_type": "markdown",
      "id": "f00ca1f3",
      "metadata": {
        "id": "f00ca1f3"
      },
      "source": [
        "결과 시각화"
      ]
    },
    {
      "cell_type": "code",
      "execution_count": null,
      "id": "9fdb1c36",
      "metadata": {
        "id": "9fdb1c36",
        "outputId": "d398eb35-373e-4431-87d5-9b31d28e0f15"
      },
      "outputs": [
        {
          "data": {
            "text/html": [
              "<div>\n",
              "<style scoped>\n",
              "    .dataframe tbody tr th:only-of-type {\n",
              "        vertical-align: middle;\n",
              "    }\n",
              "\n",
              "    .dataframe tbody tr th {\n",
              "        vertical-align: top;\n",
              "    }\n",
              "\n",
              "    .dataframe thead th {\n",
              "        text-align: right;\n",
              "    }\n",
              "</style>\n",
              "<table border=\"1\" class=\"dataframe\">\n",
              "  <thead>\n",
              "    <tr style=\"text-align: right;\">\n",
              "      <th></th>\n",
              "      <th>표준코드</th>\n",
              "      <th>단축코드</th>\n",
              "      <th>한글 종목명</th>\n",
              "      <th>한글 종목약명</th>\n",
              "      <th>영문 종목명</th>\n",
              "      <th>상장일</th>\n",
              "      <th>시장구분</th>\n",
              "      <th>증권구분</th>\n",
              "      <th>소속부</th>\n",
              "      <th>주식종류</th>\n",
              "      <th>액면가</th>\n",
              "      <th>상장주식수</th>\n",
              "    </tr>\n",
              "  </thead>\n",
              "  <tbody>\n",
              "    <tr>\n",
              "      <th>0</th>\n",
              "      <td>KR7095570008</td>\n",
              "      <td>095570</td>\n",
              "      <td>AJ네트웍스보통주</td>\n",
              "      <td>AJ네트웍스</td>\n",
              "      <td>AJ Networks Co.,Ltd.</td>\n",
              "      <td>2015/08/21</td>\n",
              "      <td>KOSPI</td>\n",
              "      <td>주권</td>\n",
              "      <td>NaN</td>\n",
              "      <td>보통주</td>\n",
              "      <td>1000</td>\n",
              "      <td>46822295</td>\n",
              "    </tr>\n",
              "    <tr>\n",
              "      <th>1</th>\n",
              "      <td>KR7006840003</td>\n",
              "      <td>006840</td>\n",
              "      <td>AK홀딩스보통주</td>\n",
              "      <td>AK홀딩스</td>\n",
              "      <td>AK Holdings, Inc.</td>\n",
              "      <td>1999/08/11</td>\n",
              "      <td>KOSPI</td>\n",
              "      <td>주권</td>\n",
              "      <td>NaN</td>\n",
              "      <td>보통주</td>\n",
              "      <td>5000</td>\n",
              "      <td>13247561</td>\n",
              "    </tr>\n",
              "    <tr>\n",
              "      <th>2</th>\n",
              "      <td>KR7282330000</td>\n",
              "      <td>282330</td>\n",
              "      <td>BGF리테일보통주</td>\n",
              "      <td>BGF리테일</td>\n",
              "      <td>BGF Retail</td>\n",
              "      <td>2017/12/08</td>\n",
              "      <td>KOSPI</td>\n",
              "      <td>주권</td>\n",
              "      <td>NaN</td>\n",
              "      <td>보통주</td>\n",
              "      <td>1000</td>\n",
              "      <td>17283906</td>\n",
              "    </tr>\n",
              "    <tr>\n",
              "      <th>3</th>\n",
              "      <td>KR7027410000</td>\n",
              "      <td>027410</td>\n",
              "      <td>BGF보통주</td>\n",
              "      <td>BGF</td>\n",
              "      <td>BGF</td>\n",
              "      <td>2014/05/19</td>\n",
              "      <td>KOSPI</td>\n",
              "      <td>주권</td>\n",
              "      <td>NaN</td>\n",
              "      <td>보통주</td>\n",
              "      <td>1000</td>\n",
              "      <td>95716791</td>\n",
              "    </tr>\n",
              "    <tr>\n",
              "      <th>4</th>\n",
              "      <td>KR7138930003</td>\n",
              "      <td>138930</td>\n",
              "      <td>BNK금융지주보통주</td>\n",
              "      <td>BNK금융지주</td>\n",
              "      <td>BNK Financial Group Inc.</td>\n",
              "      <td>2011/03/30</td>\n",
              "      <td>KOSPI</td>\n",
              "      <td>주권</td>\n",
              "      <td>NaN</td>\n",
              "      <td>보통주</td>\n",
              "      <td>5000</td>\n",
              "      <td>322088438</td>\n",
              "    </tr>\n",
              "    <tr>\n",
              "      <th>...</th>\n",
              "      <td>...</td>\n",
              "      <td>...</td>\n",
              "      <td>...</td>\n",
              "      <td>...</td>\n",
              "      <td>...</td>\n",
              "      <td>...</td>\n",
              "      <td>...</td>\n",
              "      <td>...</td>\n",
              "      <td>...</td>\n",
              "      <td>...</td>\n",
              "      <td>...</td>\n",
              "      <td>...</td>\n",
              "    </tr>\n",
              "    <tr>\n",
              "      <th>2620</th>\n",
              "      <td>KR7024060006</td>\n",
              "      <td>024060</td>\n",
              "      <td>흥구석유</td>\n",
              "      <td>흥구석유</td>\n",
              "      <td>HeunguOil</td>\n",
              "      <td>1994/12/07</td>\n",
              "      <td>KOSDAQ</td>\n",
              "      <td>주권</td>\n",
              "      <td>중견기업부</td>\n",
              "      <td>보통주</td>\n",
              "      <td>100</td>\n",
              "      <td>15000000</td>\n",
              "    </tr>\n",
              "    <tr>\n",
              "      <th>2621</th>\n",
              "      <td>KR7010240000</td>\n",
              "      <td>010240</td>\n",
              "      <td>흥국</td>\n",
              "      <td>흥국</td>\n",
              "      <td>HEUNGKUK METALTECH CO.,LTD.</td>\n",
              "      <td>2009/05/12</td>\n",
              "      <td>KOSDAQ</td>\n",
              "      <td>주권</td>\n",
              "      <td>우량기업부</td>\n",
              "      <td>보통주</td>\n",
              "      <td>500</td>\n",
              "      <td>12322696</td>\n",
              "    </tr>\n",
              "    <tr>\n",
              "      <th>2622</th>\n",
              "      <td>KR7189980006</td>\n",
              "      <td>189980</td>\n",
              "      <td>흥국에프엔비</td>\n",
              "      <td>흥국에프엔비</td>\n",
              "      <td>HYUNGKUK F&amp;B Co., Ltd</td>\n",
              "      <td>2015/08/07</td>\n",
              "      <td>KOSDAQ</td>\n",
              "      <td>주권</td>\n",
              "      <td>우량기업부</td>\n",
              "      <td>보통주</td>\n",
              "      <td>100</td>\n",
              "      <td>40137827</td>\n",
              "    </tr>\n",
              "    <tr>\n",
              "      <th>2623</th>\n",
              "      <td>KR7037440005</td>\n",
              "      <td>037440</td>\n",
              "      <td>희림종합건축사사무소</td>\n",
              "      <td>희림</td>\n",
              "      <td>Heerim Architects &amp; Planners</td>\n",
              "      <td>2000/02/03</td>\n",
              "      <td>KOSDAQ</td>\n",
              "      <td>주권</td>\n",
              "      <td>우량기업부</td>\n",
              "      <td>보통주</td>\n",
              "      <td>500</td>\n",
              "      <td>13922475</td>\n",
              "    </tr>\n",
              "    <tr>\n",
              "      <th>2624</th>\n",
              "      <td>KR7238490007</td>\n",
              "      <td>238490</td>\n",
              "      <td>힘스</td>\n",
              "      <td>힘스</td>\n",
              "      <td>HIMS CO., LTD.</td>\n",
              "      <td>2017/07/20</td>\n",
              "      <td>KOSDAQ</td>\n",
              "      <td>주권</td>\n",
              "      <td>벤처기업부</td>\n",
              "      <td>보통주</td>\n",
              "      <td>500</td>\n",
              "      <td>11312236</td>\n",
              "    </tr>\n",
              "  </tbody>\n",
              "</table>\n",
              "<p>2625 rows × 12 columns</p>\n",
              "</div>"
            ],
            "text/plain": [
              "              표준코드    단축코드      한글 종목명  한글 종목약명                        영문 종목명  \\\n",
              "0     KR7095570008  095570   AJ네트웍스보통주   AJ네트웍스          AJ Networks Co.,Ltd.   \n",
              "1     KR7006840003  006840    AK홀딩스보통주    AK홀딩스             AK Holdings, Inc.   \n",
              "2     KR7282330000  282330   BGF리테일보통주   BGF리테일                    BGF Retail   \n",
              "3     KR7027410000  027410      BGF보통주      BGF                           BGF   \n",
              "4     KR7138930003  138930  BNK금융지주보통주  BNK금융지주      BNK Financial Group Inc.   \n",
              "...            ...     ...         ...      ...                           ...   \n",
              "2620  KR7024060006  024060        흥구석유     흥구석유                     HeunguOil   \n",
              "2621  KR7010240000  010240          흥국       흥국   HEUNGKUK METALTECH CO.,LTD.   \n",
              "2622  KR7189980006  189980      흥국에프엔비   흥국에프엔비         HYUNGKUK F&B Co., Ltd   \n",
              "2623  KR7037440005  037440  희림종합건축사사무소       희림  Heerim Architects & Planners   \n",
              "2624  KR7238490007  238490          힘스       힘스                HIMS CO., LTD.   \n",
              "\n",
              "             상장일    시장구분 증권구분    소속부 주식종류   액면가      상장주식수  \n",
              "0     2015/08/21   KOSPI   주권    NaN  보통주  1000   46822295  \n",
              "1     1999/08/11   KOSPI   주권    NaN  보통주  5000   13247561  \n",
              "2     2017/12/08   KOSPI   주권    NaN  보통주  1000   17283906  \n",
              "3     2014/05/19   KOSPI   주권    NaN  보통주  1000   95716791  \n",
              "4     2011/03/30   KOSPI   주권    NaN  보통주  5000  322088438  \n",
              "...          ...     ...  ...    ...  ...   ...        ...  \n",
              "2620  1994/12/07  KOSDAQ   주권  중견기업부  보통주   100   15000000  \n",
              "2621  2009/05/12  KOSDAQ   주권  우량기업부  보통주   500   12322696  \n",
              "2622  2015/08/07  KOSDAQ   주권  우량기업부  보통주   100   40137827  \n",
              "2623  2000/02/03  KOSDAQ   주권  우량기업부  보통주   500   13922475  \n",
              "2624  2017/07/20  KOSDAQ   주권  벤처기업부  보통주   500   11312236  \n",
              "\n",
              "[2625 rows x 12 columns]"
            ]
          },
          "execution_count": 18,
          "metadata": {},
          "output_type": "execute_result"
        }
      ],
      "source": [
        "# 코스피 & 코스닥 종목 정보 csv 파일 불러오기\n",
        "\n",
        "df1 = pd.read_csv('./data_5155_20230916.csv', encoding='cp949')\n",
        "df2 = pd.read_csv('./data_5206_20230916.csv', encoding='cp949')\n",
        "kor_info = pd.concat([df1, df2])\n",
        "kor_info = kor_info.reset_index(drop=True)\n",
        "kor_info"
      ]
    },
    {
      "cell_type": "code",
      "execution_count": null,
      "id": "af0d7f78",
      "metadata": {
        "id": "af0d7f78",
        "outputId": "d139fd0d-4afb-4150-eada-2d7847b236ab"
      },
      "outputs": [
        {
          "data": {
            "text/html": [
              "<div>\n",
              "<style scoped>\n",
              "    .dataframe tbody tr th:only-of-type {\n",
              "        vertical-align: middle;\n",
              "    }\n",
              "\n",
              "    .dataframe tbody tr th {\n",
              "        vertical-align: top;\n",
              "    }\n",
              "\n",
              "    .dataframe thead th {\n",
              "        text-align: right;\n",
              "    }\n",
              "</style>\n",
              "<table border=\"1\" class=\"dataframe\">\n",
              "  <thead>\n",
              "    <tr style=\"text-align: right;\">\n",
              "      <th></th>\n",
              "      <th>isin_cd</th>\n",
              "      <th>tck_iem_cd</th>\n",
              "      <th>fc_sec_krl_nm</th>\n",
              "      <th>fc_sec_eng_nm</th>\n",
              "    </tr>\n",
              "  </thead>\n",
              "  <tbody>\n",
              "    <tr>\n",
              "      <th>0</th>\n",
              "      <td>US00211V1061</td>\n",
              "      <td>AACG</td>\n",
              "      <td>ATA                                           ...</td>\n",
              "      <td>ATA CreatGlo                                  ...</td>\n",
              "    </tr>\n",
              "    <tr>\n",
              "      <th>1</th>\n",
              "      <td>US00032Q1040</td>\n",
              "      <td>AADI</td>\n",
              "      <td>Aadi Bioscience                               ...</td>\n",
              "      <td>Aadi Bioscience                               ...</td>\n",
              "    </tr>\n",
              "    <tr>\n",
              "      <th>2</th>\n",
              "      <td>US02376R1023</td>\n",
              "      <td>AAL</td>\n",
              "      <td>아메리칸 에어라인스 그룹                                 ...</td>\n",
              "      <td>American Airline                              ...</td>\n",
              "    </tr>\n",
              "    <tr>\n",
              "      <th>3</th>\n",
              "      <td>US03823U1025</td>\n",
              "      <td>AAOI</td>\n",
              "      <td>어플라이드 옵토일렉트로닉스                                ...</td>\n",
              "      <td>AOI                                           ...</td>\n",
              "    </tr>\n",
              "    <tr>\n",
              "      <th>4</th>\n",
              "      <td>US0003602069</td>\n",
              "      <td>AAON</td>\n",
              "      <td>에이에이온                                         ...</td>\n",
              "      <td>AAON                                          ...</td>\n",
              "    </tr>\n",
              "    <tr>\n",
              "      <th>...</th>\n",
              "      <td>...</td>\n",
              "      <td>...</td>\n",
              "      <td>...</td>\n",
              "      <td>...</td>\n",
              "    </tr>\n",
              "    <tr>\n",
              "      <th>2738</th>\n",
              "      <td>US4884452065</td>\n",
              "      <td>ZVRA</td>\n",
              "      <td>Zevra                                         ...</td>\n",
              "      <td>Zevra                                         ...</td>\n",
              "    </tr>\n",
              "    <tr>\n",
              "      <th>2739</th>\n",
              "      <td>US98987D1028</td>\n",
              "      <td>ZVSA</td>\n",
              "      <td>Zyversa                                       ...</td>\n",
              "      <td>Zyversa                                       ...</td>\n",
              "    </tr>\n",
              "    <tr>\n",
              "      <th>2740</th>\n",
              "      <td>US98985Y1082</td>\n",
              "      <td>ZYME</td>\n",
              "      <td>Zymeworks                                     ...</td>\n",
              "      <td>Zymeworks                                     ...</td>\n",
              "    </tr>\n",
              "    <tr>\n",
              "      <th>2741</th>\n",
              "      <td>US98986X1090</td>\n",
              "      <td>ZYNE</td>\n",
              "      <td>자이너바 파마수티컬스                                   ...</td>\n",
              "      <td>Zynerba Pharms                                ...</td>\n",
              "    </tr>\n",
              "    <tr>\n",
              "      <th>2742</th>\n",
              "      <td>US98986M1036</td>\n",
              "      <td>ZYXI</td>\n",
              "      <td>Zynex                                         ...</td>\n",
              "      <td>Zynex                                         ...</td>\n",
              "    </tr>\n",
              "  </tbody>\n",
              "</table>\n",
              "<p>2743 rows × 4 columns</p>\n",
              "</div>"
            ],
            "text/plain": [
              "           isin_cd    tck_iem_cd  \\\n",
              "0     US00211V1061  AACG           \n",
              "1     US00032Q1040  AADI           \n",
              "2     US02376R1023  AAL            \n",
              "3     US03823U1025  AAOI           \n",
              "4     US0003602069  AAON           \n",
              "...            ...           ...   \n",
              "2738  US4884452065  ZVRA           \n",
              "2739  US98987D1028  ZVSA           \n",
              "2740  US98985Y1082  ZYME           \n",
              "2741  US98986X1090  ZYNE           \n",
              "2742  US98986M1036  ZYXI           \n",
              "\n",
              "                                          fc_sec_krl_nm  \\\n",
              "0     ATA                                           ...   \n",
              "1     Aadi Bioscience                               ...   \n",
              "2     아메리칸 에어라인스 그룹                                 ...   \n",
              "3     어플라이드 옵토일렉트로닉스                                ...   \n",
              "4     에이에이온                                         ...   \n",
              "...                                                 ...   \n",
              "2738  Zevra                                         ...   \n",
              "2739  Zyversa                                       ...   \n",
              "2740  Zymeworks                                     ...   \n",
              "2741  자이너바 파마수티컬스                                   ...   \n",
              "2742  Zynex                                         ...   \n",
              "\n",
              "                                          fc_sec_eng_nm  \n",
              "0     ATA CreatGlo                                  ...  \n",
              "1     Aadi Bioscience                               ...  \n",
              "2     American Airline                              ...  \n",
              "3     AOI                                           ...  \n",
              "4     AAON                                          ...  \n",
              "...                                                 ...  \n",
              "2738  Zevra                                         ...  \n",
              "2739  Zyversa                                       ...  \n",
              "2740  Zymeworks                                     ...  \n",
              "2741  Zynerba Pharms                                ...  \n",
              "2742  Zynex                                         ...  \n",
              "\n",
              "[2743 rows x 4 columns]"
            ]
          },
          "execution_count": 19,
          "metadata": {},
          "output_type": "execute_result"
        }
      ],
      "source": [
        "# 나스닥 종목 정보 csv 파일 불러오기\n",
        "nas_info = pd.read_csv('./NAS_STK_IFO.csv', encoding='cp949')\n",
        "nas_info"
      ]
    },
    {
      "cell_type": "code",
      "execution_count": null,
      "id": "872a205b",
      "metadata": {
        "id": "872a205b"
      },
      "outputs": [],
      "source": [
        "# (티커코드 : 종목 이름) 딕셔너리 생성\n",
        "nas_info['tck_iem_cd'] = nas_info['tck_iem_cd'].str.strip()\n",
        "nas_dict = pd.Series(nas_info['fc_sec_eng_nm'].values,index=nas_info['tck_iem_cd']).to_dict()\n",
        "\n",
        "# 티커코드 리스트 생성\n",
        "nas_list = nas_info['tck_iem_cd'].unique().tolist()\n",
        "\n",
        "# (단축코드 : 영문 종목약명) 딕셔너리 생성\n",
        "kor_dict2 = pd.Series(kor_info['영문 종목명'].values,index=kor_info['단축코드']).to_dict()\n",
        "# 단축코드 리스트 생성\n",
        "kor_df = pd.read_csv('./KOREA_Stock_data_noqty.csv', low_memory=False)\n",
        "tk_list = kor_df['tck_iem_cd'].unique()\n",
        "tk_list.sort()"
      ]
    },
    {
      "cell_type": "code",
      "execution_count": null,
      "id": "4b3c0732",
      "metadata": {
        "id": "4b3c0732",
        "outputId": "02a3000b-e8c2-47d1-8677-317948dd6d02"
      },
      "outputs": [
        {
          "data": {
            "text/plain": [
              "['HANWHA(3PB)',\n",
              " 'CJ(4PC)',\n",
              " 'AMOREG(3PC)',\n",
              " 'Lotte Corporation(1P)',\n",
              " 'MIRAE ASSET SECURITIES(2PB)',\n",
              " 'KOREA CIRCUIT(2PB)',\n",
              " 'DAEDUCK Co.,LTD(1P)',\n",
              " 'SAMSUNG C&T CORPORATION(1PB)',\n",
              " 'SK(1P)',\n",
              " 'Haesung Industrial Co., Ltd.(1P)',\n",
              " 'Lutronic(3PC)',\n",
              " 'Inzisoft',\n",
              " 'Vieworks Co., Ltd.',\n",
              " 'DONGKUK STRUCTURES & CONSTRUCTION COMPANY LIMITED',\n",
              " 'VISANG EDUCATION INC',\n",
              " 'Chinyang Holdings Corporation',\n",
              " 'Mercury Corporation',\n",
              " 'SEOAM MACHINERY INDUSTRY CO., LTD.',\n",
              " 'SEWOONMEDICAL CO., LTD.',\n",
              " 'Mirae Asset Venture Investment Co., Ltd',\n",
              " 'SNTEnergy Co.,Ltd.',\n",
              " 'Sangsangin Industry Co., Ltd.',\n",
              " 'WORLDEX INDUSTRY & TRADING CO., LTD',\n",
              " 'WOORIM POWER TRAIN SOLUTION',\n",
              " 'CQV Co., Ltd.',\n",
              " 'MOBASE Co., Ltd.',\n",
              " 'Eco&Dream',\n",
              " 'IM CO., LTD',\n",
              " 'N CITRON, INC.',\n",
              " 'S&S TECH CORPORATION',\n",
              " 'Haitai Confectionery and Foods Co., Ltd.',\n",
              " 'Hydro Lithium',\n",
              " 'HNK MACHINE TOOL CO.,LTD.',\n",
              " 'Wemade Max',\n",
              " 'Inhwa Precision Co., Ltd',\n",
              " 'ABOV Semiconductor Co.,Ltd.',\n",
              " 'DONGSUNG CHEMICAL Co., Ltd.',\n",
              " 'K Auction Inc.',\n",
              " 'REYON PHARMACEUTICAL',\n",
              " 'ENF Technology Co., Ltd',\n",
              " 'KOLON LIFE SCIENCE Inc.',\n",
              " 'POONGSAN CORPORATION',\n",
              " 'S&W Corporation',\n",
              " 'ILJIN ELECTRIC',\n",
              " 'WOOYANG CO., LTD.',\n",
              " 'Daesung Fine Tech. Co., Ltd',\n",
              " 'NHN BUGS Corporation',\n",
              " 'DYPNF CO.,LTD',\n",
              " 'TK CHEMICAL CORPORATION',\n",
              " 'Corentec Co., Ltd.',\n",
              " 'Yellow Balloon Tour Co., Ltd.',\n",
              " 'KISCO Corp.',\n",
              " 'WONIK Materials Co., Ltd.',\n",
              " 'KNW Co., Ltd.',\n",
              " 'Truwin Company Limited',\n",
              " 'KB Financial Group',\n",
              " 'HANSAE',\n",
              " 'DK-Lok Corporation',\n",
              " 'WOOJIN INC',\n",
              " 'HYSONIC Co., Ltd.',\n",
              " 'HIGH TECH PHARM CO., LTD.',\n",
              " 'FINE TECHNIX CO., LTD',\n",
              " 'Miwon Holdings Co.,Ltd.',\n",
              " 'Sebitchem Co., LTD',\n",
              " 'TOPTEC COMPANY,LIMITED',\n",
              " 'LX Semicon',\n",
              " 'DAYANG ELECTRIC CO.,LTD',\n",
              " 'ROBOTIS',\n",
              " 'LX HAUSYS, LTD.',\n",
              " 'LX HAUSYS, LTD.(1P)',\n",
              " 'SELVAS AI Inc.',\n",
              " 'OPTICIS CO., LTD.',\n",
              " 'SY CO., LTD.',\n",
              " 'DSK Co.,Ltd.',\n",
              " 'GENEMATRIX INC.',\n",
              " 'DONGIL METAL CO., LTD.',\n",
              " 'Aprogen Healthcare & Games Inc.',\n",
              " 'JEONJINBIO CO., LTD.',\n",
              " 'Digital Imaging Technology, Inc.',\n",
              " 'Hojeon',\n",
              " 'Namhwa Industrial Co.,Ltd',\n",
              " 'Youngone Corporation',\n",
              " 'Wemade Co., Ltd.',\n",
              " 'YCCHEM',\n",
              " 'CS Wind Corporation',\n",
              " 'Dgenx Co., Ltd.',\n",
              " 'Grand Korea Leisure',\n",
              " 'KANGWON ENERGY',\n",
              " 'GREEN LIFESCIENCE',\n",
              " 'POLARIS UNO',\n",
              " 'Hansol IONES',\n",
              " 'iFamilySC Co., Ltd.',\n",
              " 'HUMAX CO., LTD.',\n",
              " 'Qurient Co., Ltd.',\n",
              " 'INFOvine co., Ltd.',\n",
              " 'LOCK&LOCK CO.,LTD.',\n",
              " 'Woori-Net Co., Ltd.',\n",
              " 'HLB Therapeutics',\n",
              " 'CU MEDICAL SYSTEMS Inc.',\n",
              " 'Korea Computer & Systems Inc.',\n",
              " 'CNPLUS Co., Ltd.',\n",
              " 'STARFLEX CO., LTD',\n",
              " 'IMAGIS Co., Ltd.',\n",
              " 'YONWOO CO., LTD',\n",
              " 'DAESUNG ENERGY',\n",
              " 'T-Robotics co., Ltd.',\n",
              " 'SMEDI',\n",
              " 'MOTREX CO.,LTD',\n",
              " 'FORMETAL CO., LTD',\n",
              " 'INTEROJO CO. LTD.',\n",
              " 'KC Cottrell',\n",
              " 'ITEK, Inc.',\n",
              " 'GnCenergy Co., Ltd.',\n",
              " 'Connectwave',\n",
              " 'CHOSUN WELDING POHANG Co., Ltd',\n",
              " 'KOLON INDUSTRIES',\n",
              " 'KOLON INDUSTRIES(1P)',\n",
              " 'Daejung Chemicals & Metals Co., Ltd.',\n",
              " 'GOLFZON NEWDIN HOLDINGS Co., Ltd.',\n",
              " 'Advanced Nano Products Co.,Ltd',\n",
              " 'KOYJ.CO.,LTD',\n",
              " 'GENORAY Co., Ltd.',\n",
              " 'SAMKEE CORP.',\n",
              " 'KX Innovation',\n",
              " 'YEST Co.,Ltd.',\n",
              " 'Seojin Automotive Co.,Ltd.',\n",
              " 'YG Entertainment Inc.',\n",
              " 'iMarketKorea Inc.',\n",
              " 'WiSoL CO., LTD.',\n",
              " 'iWIN PLUS',\n",
              " 'MS AUTOTECH COMPANY, LIMITED',\n",
              " 'Genic Co., Ltd',\n",
              " 'KOREA FUEL-TECH CORPORATION',\n",
              " 'Wemade Play',\n",
              " 'EMNET INC.',\n",
              " 'HANKOOKCOSMETICS',\n",
              " 'SJM CO.,LTD',\n",
              " 'Alton Sports Co., Ltd.',\n",
              " 'HANIL VACUUM CO., LTD.',\n",
              " 'Anapass, Inc.',\n",
              " 'KAIT',\n",
              " 'ITCEN CO., LTD.',\n",
              " 'Taewoong Logistics Co., Ltd.',\n",
              " 'AMOGREENTECH Co., Ltd.',\n",
              " 'VINA TECH CO.,LTD.',\n",
              " 'Hyundai Futurenet',\n",
              " 'BGFecomaterials',\n",
              " 'HWASHIN PRECISION CO., LTD.',\n",
              " 'HyVISION SYSTEM.INC',\n",
              " 'Soosan Industries',\n",
              " 'JNK HEATERS Co., Ltd',\n",
              " 'DNA Link, Inc',\n",
              " 'The Asia Business Daily Co., Ltd.',\n",
              " 'ECOCAB CO., LTD.',\n",
              " 'PJ METAL CO., LTD.',\n",
              " 'DAESUNG INDUSTRIAL',\n",
              " 'HanmiPharm',\n",
              " 'INTERGIS',\n",
              " 'ABKO CO., LTD.',\n",
              " 'Daesung Hi-Tech Co., Ltd.',\n",
              " 'GH Advanced Materials Inc.',\n",
              " 'NICE D&B CO., LTD.',\n",
              " 'Korea Electric Power Industrial Development',\n",
              " 'TPC Co., Ltd.',\n",
              " 'OPTUS Pharmaceutical',\n",
              " 'SECUVE Co., Ltd.',\n",
              " 'Chorokbaem E&M',\n",
              " 'DILLI ILLUSTRATE INC.,',\n",
              " 'DAIHAN SCIENTIFIC CO., Ltd',\n",
              " 'TSE CO.,Ltd',\n",
              " 'RSUPPORT Co., Ltd.',\n",
              " 'EV ADVANCED MATERIAL',\n",
              " 'FINETEK CO., LTD.',\n",
              " 'DOOSAN TESNA',\n",
              " 'MegaMD Co., Ltd.',\n",
              " 'FINEBESTEEL',\n",
              " 'e-future.Co.,Ltd.',\n",
              " 'Miwon Chemicals',\n",
              " 'Topco Media',\n",
              " 'Sidiz,Inc',\n",
              " 'ASSEMS INC.',\n",
              " 'HARIM Co., Ltd.',\n",
              " 'SUNJIN Co., Ltd',\n",
              " 'Wins co., Ltd.',\n",
              " 'NARAE NANOTECH CORPORATION',\n",
              " 'SD Biosensor',\n",
              " 'People & Technology, Inc.',\n",
              " 'NextEye Co., Ltd.',\n",
              " 'JC Chemical Corporation, LTD.',\n",
              " 'Meritz Financial Group',\n",
              " 'SINJIN SM CO., LTD.',\n",
              " 'OE Solutions Co., Ltd.',\n",
              " 'Hyupjin',\n",
              " 'KOLON PLASTICS, INC.',\n",
              " 'BusinessOn Communication Co., Ltd',\n",
              " 'NIBEC CO., LTD.',\n",
              " 'BNK Financial Group Inc.',\n",
              " 'CITYLABS Co.,LTD.',\n",
              " 'DGB Financial Group',\n",
              " 'E-MART Co., Ltd.',\n",
              " 'KineMaster Corporation',\n",
              " 'AJUSTEEL',\n",
              " 'SurplusGLOBAL,Inc.',\n",
              " 'Mezzion Pharma Co., Ltd.',\n",
              " 'DaeChang Steel CO., LTD.',\n",
              " 'RS Automation Co., Ltd.',\n",
              " 'Park Systems Corp.',\n",
              " 'A SELF-ADMINISTERED REAL ESTATE INVESTMENT TRUST INC.',\n",
              " 'Viatron Technologies, Inc.',\n",
              " 'LegoChem Biosciences Inc.',\n",
              " 'Unitrontech Co.,Ltd.',\n",
              " 'Green Cross Medical Science Corporation',\n",
              " 'BL Corporation',\n",
              " 'Intelligent Digital Integrated Security Co., Ltd',\n",
              " 'HANDS CORPORATION',\n",
              " 'Saramin',\n",
              " 'YoungWoo DSP Co.,Ltd.',\n",
              " 'GC CELL',\n",
              " 'New Power Plasma Co.,Ltd',\n",
              " 'Hugel, Inc.',\n",
              " 'Dynamic Design',\n",
              " 'KTOPREITs',\n",
              " 'DENTIUM',\n",
              " 'Samyang Corporation',\n",
              " 'Samyang Corporation(1P)',\n",
              " 'BCnC Co., Ltd.',\n",
              " 'Protec Mems Technology',\n",
              " 'CHERYONG INDUSTRIAL CO.,LTD.',\n",
              " 'Se Gyung Hi Tech Co., Ltd.',\n",
              " 'RN2 Technologies Co., Ltd.',\n",
              " 'BFLYSOFT CO., LTD.',\n",
              " 'HYTC CO., LTD',\n",
              " 'AVATEC CO., LTD.',\n",
              " 'Hironic Co.,Ltd',\n",
              " 'FASOO Co.,Ltd.',\n",
              " 'KG Eco Technology Services Co., Ltd.',\n",
              " 'SBW Life Sciences',\n",
              " 'KIM ANKOR Oilfield Overseas Resources Development Fund[1]',\n",
              " 'Nable Communications, Inc.',\n",
              " 'WOOREE E&L CO.,Ltd.',\n",
              " 'Optipharm. CO., LTD',\n",
              " 'ASIA SEED Co.,Ltd.',\n",
              " 'Dasan Solueta',\n",
              " 'YMC Co., Ltd.',\n",
              " 'DSR CORP',\n",
              " 'Badaro No.19 Ship Investment Company',\n",
              " 'L&K BIOMED CO., LTD.',\n",
              " 'ATON Inc.',\n",
              " 'ASFLOW CO.,LTD.',\n",
              " 'Zero to Seven Inc',\n",
              " 'Skin n Skin Co., Ltd.',\n",
              " 'Next Entertainment World Co., Ltd.',\n",
              " 'CYMECHS Inc.',\n",
              " 'AEKYUNG CHEMICAL',\n",
              " 'HANKOOK TIRE & TECHNOLOGY',\n",
              " 'THE MIDONG Co,. Ltd',\n",
              " 'PHILOPTICS CO., LTD.',\n",
              " 'KOLMAR KOREA',\n",
              " 'SHIN STEEL CO.,LTD.',\n",
              " 'DRB Industrial',\n",
              " 'Finger Inc.',\n",
              " 'ILOODA Co.,Ltd',\n",
              " 'Hana Materials Inc.',\n",
              " 'CORESTEMCHEMON',\n",
              " 'Naturalendo Tech Co., Ltd',\n",
              " 'PEMTRON Corporation',\n",
              " 'KIM Parallel Oilfield Overseas Resources Development Fund[1]',\n",
              " 'Macromill Embrain Co., Ltd.',\n",
              " 'HYUNDAI INDUSTRIAL CO.,LTD',\n",
              " 'Piolink, Inc.',\n",
              " 'Donga ST',\n",
              " 'LTC Co., LTD.',\n",
              " 'RAM TECHNOLOGY CO., LTD.',\n",
              " 'SUNIC SYSTEM Co., Ltd.',\n",
              " 'LION CHEMTECH CO., Ltd.',\n",
              " 'OPASNET co., Ltd',\n",
              " 'FNC ENTERTAINMENT Co., Ltd.',\n",
              " 'AbClon Inc.',\n",
              " 'INFOMARK Co., Ltd',\n",
              " 'Icure Pharmaceutical Incorporation',\n",
              " 'JB Financial Group Co., Ltd.',\n",
              " 'Vessel Co., Ltd',\n",
              " 'PAVONINE CO., LTD.',\n",
              " 'SEOJIN SYSTEM CO., LTD',\n",
              " 'PI Advanced Materials Co., Ltd.',\n",
              " 'MITECH CO., LTD.',\n",
              " 'ADBIOTECH Co.,Ltd.',\n",
              " 'UTI INC.',\n",
              " 'Dx & Vx',\n",
              " 'HANJINKAL',\n",
              " 'HANJINKAL(1P)',\n",
              " 'NHN',\n",
              " 'CUBE ENTERTAINMENT, INC.',\n",
              " 'NKMAX Co., Ltd.',\n",
              " 'ASIACEMENT',\n",
              " 'KoMiCo Ltd.',\n",
              " 'ENZYCHEM LIFESCIENCES CORPORATION',\n",
              " 'SGA Solutions Co.,Ltd.',\n",
              " 'EyeGene,Inc',\n",
              " 'CHONGKUNDANG',\n",
              " 'GREEN PLUS Co., Ltd',\n",
              " 'Dt&C',\n",
              " 'Shin Hwa Contech Co.,Ltd.',\n",
              " 'GenoFocus, Inc.',\n",
              " 'ADM Korea Inc.',\n",
              " 'NANO. Co., Ltd.',\n",
              " 'Device ENG CO.,Ltd',\n",
              " 'INTELLIAN TECHNOLOGIES Inc.',\n",
              " 'XIIlab Co., Ltd',\n",
              " 'FORCS Co., Ltd.',\n",
              " 'SEOJEON ELECTRIC MACHINERY Co.,Ltd.',\n",
              " 'HYUNGKUK F&B Co., Ltd',\n",
              " 'Namuga Co.,Ltd',\n",
              " 'KOREA ASSET INVESTMENT SECURITIES CO.,LTD.',\n",
              " 'RYUK-IL C&S., Ltd',\n",
              " 'Tego Science, Inc.',\n",
              " 'DoubleUGames',\n",
              " 'KSIGN CO., Ltd.',\n",
              " 'WINHITECH CO., Ltd.',\n",
              " 'Cuckoo Holdings Co.,Ltd',\n",
              " 'Hyulim Networks',\n",
              " 'Spigen Korea Co., Ltd',\n",
              " 'DREAMTECH',\n",
              " 'COSMAX, INC.',\n",
              " 'YJM Games Co., Ltd.',\n",
              " 'JS Corporation',\n",
              " 'Devsisters corporation',\n",
              " 'NOVAREX Co., Ltd.',\n",
              " 'Maniker F&G',\n",
              " 'HAESUNG DS',\n",
              " 'HK inno.N Corporation',\n",
              " 'Abpro Bio Co., Ltd.',\n",
              " 'Alteogen Inc.',\n",
              " 'ANYGEN CO., LTD.',\n",
              " 'CoAsia CM',\n",
              " 'DA Technology Co.,Ltd.',\n",
              " 'WAPS Co., Ltd.',\n",
              " 'DigiCAP',\n",
              " 'NPD Co.,Ltd.',\n",
              " 'KOREA CEMENT co., Ltd.',\n",
              " 'ToolGen Incorporated',\n",
              " 'CHEIL ELECTRIC CO., LTD.',\n",
              " 'KolmarBNH Co., Ltd',\n",
              " 'TELCON RF PHARMACEUTICAL. Inc.',\n",
              " 'RaemongRaein.Co.,Ltd',\n",
              " 'APACT Co., Ltd.',\n",
              " 'Humedix Co., Ltd.',\n",
              " 'ADTechnology Co., Ltd.',\n",
              " 'BCWORLDPHARM Co., Ltd.',\n",
              " 'SEOYONEHWA',\n",
              " 'Me2on Co., Ltd',\n",
              " 'ABION Inc.',\n",
              " 'Union community Co., Ltd.',\n",
              " 'Dream Security Co.,Ltd.',\n",
              " 'Sphere Power',\n",
              " 'GRITEE, Inc.',\n",
              " 'MODETOURREIT',\n",
              " 'JNTC CO.,LTD.',\n",
              " 'HL Mando',\n",
              " 'T3 Entertainment Inc.',\n",
              " 'Global Tax Free Co., Ltd.',\n",
              " 'STUDIO SANTA CLAUS ENTERTAINMENT Co., Ltd.',\n",
              " 'GL Pharm Tech Corp.',\n",
              " 'EXEM CO., LTD.',\n",
              " 'HUMASIS CO., LTD.',\n",
              " 'Action Square Co., Ltd.',\n",
              " 'BENO TNR',\n",
              " 'Dexter studios Co., Ltd.',\n",
              " 'Boditech Med Inc.',\n",
              " 'EuBiologics Co., Ltd.',\n",
              " 'Mr. Blue Corporation',\n",
              " 'SAMSUNG BIOLOGICS',\n",
              " 'JUNGDAWN Co., Ltd.',\n",
              " 'PharmAbcine Inc.',\n",
              " 'Jiransecurity Co., Ltd.',\n",
              " 'SELVAS Healthcare, Inc.',\n",
              " 'Thumbage Co., Ltd.',\n",
              " 'BIOLOG DEVICE CO., LTD',\n",
              " 'DY POWER Corporation',\n",
              " 'SK D&D Co., Ltd',\n",
              " 'INCAR FINANCIAL SERVICE Co.,Ltd.',\n",
              " 'Asia Pacific Satellite Inc.',\n",
              " 'NEOOTO Co., Ltd.',\n",
              " 'DUK SAN NEOLUX CO.,LTD',\n",
              " 'Hansol Paper Co., Ltd.',\n",
              " 'CLASSYS Inc.',\n",
              " 'Hecto Innovation',\n",
              " 'Raphas Co., Ltd.',\n",
              " 'FSN',\n",
              " 'INNOCEAN WORLDWIDE INC.',\n",
              " 'Kumho HT, Inc.',\n",
              " 'Caregen Co.,LTD.',\n",
              " 'KYONGBO PHARMACEUTICAL CO., LTD.',\n",
              " 'TONYMOLY Co., Ltd.',\n",
              " 'i3system, Ind.',\n",
              " 'PharmaResearch',\n",
              " 'MiCo BioMed Co., Ltd.',\n",
              " 'DRTECH Corporation',\n",
              " 'GOLFZON Co., Ltd.',\n",
              " 'RoboRobo Co., Ltd.',\n",
              " 'MegaStudyEdu Co. Ltd',\n",
              " 'WOORY INDUSTRIAL CO.,LTD.',\n",
              " 'WOOJUNG BIO, Inc.',\n",
              " 'TOEBOX KOREA, Ltd.',\n",
              " 'SillaJen, Inc.',\n",
              " 'INNO INSTRUMENT',\n",
              " 'Incross Co.,Ltd.',\n",
              " 'JETEMA Co.,Ltd.',\n",
              " 'Genesem Inc.',\n",
              " 'Neptune Company',\n",
              " 'Cytogen, Inc.',\n",
              " 'RUSSELL CO., LTD.',\n",
              " 'Didim E&F',\n",
              " 'KANGSTEM BIOTECH CO., LTD.',\n",
              " 'WONIK PNE',\n",
              " 'MILAE BIORESOURCES CO., LTD.',\n",
              " 'RFHIC CORPORATION',\n",
              " 'TigerElec Co.,Ltd.',\n",
              " 'Linkgenesis Co., Ltd.',\n",
              " 'DYD',\n",
              " 'FutureChem Co., Ltd.',\n",
              " 'HANDYSOFT, Inc.',\n",
              " 'Chemtros Co., Ltd.',\n",
              " 'HIZEAERO Co.,Ltd.',\n",
              " 'KDCHEM CO., LTD.',\n",
              " 'COSMAX NBT, INC.',\n",
              " 'Creative & Innovative System Corporation',\n",
              " 'Pangen Biotech Inc.',\n",
              " 'Bioptro Inc.',\n",
              " 'CENOTEC Co., Ltd',\n",
              " 'SIMMTECH Co., Ltd.',\n",
              " 'Setopia',\n",
              " 'Mcnulty Korea Co., Ltd',\n",
              " 'DreamCIS INC.',\n",
              " 'Commerce miner',\n",
              " 'THE CODI',\n",
              " 'ATEC MOBILITY',\n",
              " 'SAMYANG OPTICS CO., LTD',\n",
              " 'GENOLUTION INC.',\n",
              " 'KMPHARMACEUTICAL Co.,Ltd.',\n",
              " 'BoKwang Industry Co.,Ltd',\n",
              " 'NEXON Games',\n",
              " 'Fashion Platform Co.,Ltd.',\n",
              " 'ITSHANBUL',\n",
              " 'SyntekaBio,Inc.',\n",
              " 'Bonne Co., Ltd.',\n",
              " 'OSTEONIC Co., Ltd.',\n",
              " 'Olix Pharmaceuticals, Inc.',\n",
              " 'H&B Design',\n",
              " 'Outin Futures Co., Ltd.',\n",
              " 'HYUNDAI CORPORATION HOLDINGS',\n",
              " 'N2TECH CO.,LTD',\n",
              " 'TONGYANG PILE, Inc.',\n",
              " 'Ray Co., Ltd.',\n",
              " 'Genomictree Inc.',\n",
              " 'RAYENCE CO., LTD.',\n",
              " 'Gencurix Inc.',\n",
              " 'LS C&S ASIA',\n",
              " 'HFR, Inc.',\n",
              " 'ECHOMARKETING Co.,Ltd.',\n",
              " 'AIIT ONE Co., Ltd.',\n",
              " 'YIK Corporation',\n",
              " 'RAONTEC Inc.',\n",
              " 'JW LIFESCIENCE',\n",
              " 'Sewon',\n",
              " 'STraffic Co., Ltd.',\n",
              " 'Hecto Financial',\n",
              " 'GREEN CROSS WellBeing Corporation',\n",
              " 'Zaigle Co., Ltd.',\n",
              " 'MedPacto, Inc.',\n",
              " 'Suprema Inc.',\n",
              " 'NBT INC.',\n",
              " 'ST Pharm Co., Ltd.',\n",
              " 'PNC Technologies Co., Ltd.',\n",
              " 'PlayD Co., Ltd.',\n",
              " 'CLIO Cosmetics Co., Ltd',\n",
              " 'NDFOS Co., Ltd.',\n",
              " 'Aligned Genetics, Inc.',\n",
              " 'BIFIDO. Co. Ltd',\n",
              " 'HIMS CO., LTD.',\n",
              " 'ZUMinternet Corp.',\n",
              " 'HLSCIENCE Co., LTD',\n",
              " 'P&H TECH Co., Ltd.',\n",
              " 'WONIK IPS Co.,Ltd.',\n",
              " 'DSC Investment Inc.',\n",
              " 'Doosan Bobcat',\n",
              " 'HWASEUNG ENTERPRISE',\n",
              " 'UNITEKNO Co.,Ltd',\n",
              " 'COSMECCA KOREA CO.,LTD.',\n",
              " 'MECARO.CO.,LTD.',\n",
              " 'OCEANBRIDGE CO., LTD',\n",
              " 'PCL. Inc',\n",
              " 'ASTORY Co., Ltd.',\n",
              " 'NAMU TECH CO.,LTD.',\n",
              " 'Huons Co., Ltd.',\n",
              " 'SHIN HEUNG ENERGY & ELECTRONICS CO., LTD.',\n",
              " 'OLIPASS Corporation',\n",
              " 'A Plus Asset',\n",
              " 'Eone Diagnomics Genome Center Co., Ltd.',\n",
              " 'T.S.Investment Corporation',\n",
              " 'T&R Biofab Co., Ltd',\n",
              " 'ASTA Co., Ltd.',\n",
              " 'InnoTherapy Inc.',\n",
              " 'ECOPRO BM CO., LTD.',\n",
              " 'NANOCMS CO.,LTD',\n",
              " 'SOLUM',\n",
              " 'SEMPIO FOODS',\n",
              " 'ILDONG PHARM',\n",
              " 'BORATR CO., Ltd.',\n",
              " 'Mobiis Co., Ltd.',\n",
              " 'YeSUN Tech Co., Ltd.',\n",
              " 'BIO-FD&C Co.,Ltd.',\n",
              " 'Netmarble Corporation',\n",
              " 'YMT CO., LTD.',\n",
              " 'V-ONE TECH CO., LTD.',\n",
              " 'PUM-TECH KOREA CO., LTD.',\n",
              " 'SEWHA P&C INC.',\n",
              " 'SEMCNS Co., Ltd.',\n",
              " 'Studio Dragon Corporation',\n",
              " 'Neosem Inc.',\n",
              " 'Sugentech, Inc.',\n",
              " 'XAVIS CO., Ltd.',\n",
              " 'SG CO., LTD.',\n",
              " 'YAS Co., Ltd',\n",
              " 'Handok Clean Tech Co., Ltd.',\n",
              " 'POINT ENGINEERING Co., Ltd.',\n",
              " 'BNC Korea Co, Ltd',\n",
              " 'KPS Corporation',\n",
              " 'SILICON 2 Co.,Ltd.',\n",
              " 'CAELUM',\n",
              " 'SOFTCAMP CO., LTD',\n",
              " 'SEJONG MEDICAL Co.Ltd.,',\n",
              " 'mPlus Corp',\n",
              " 'KRAFTON',\n",
              " 'KOREA ARLICO PHARM CO.,LTD.',\n",
              " 'CTK',\n",
              " 'S&D Co., Ltd',\n",
              " 'DENTIS CO.,LTD',\n",
              " 'CHA Vaccine Research Institute',\n",
              " 'A PRO Co., LTD',\n",
              " 'IQUEST Co., Ltd.',\n",
              " 'DK&D',\n",
              " 'Eutilex Co., Ltd.',\n",
              " 'DERKWOO ELECTRONICS CO.,LTD.',\n",
              " 'DRGEM CORPORATION',\n",
              " 'Carelabs Co.,Ltd',\n",
              " 'D&C MEDIA CO.,LTD.',\n",
              " 'PearlAbyss Corp.',\n",
              " 'UST CO., LTD.',\n",
              " 'Datasolution, Inc.',\n",
              " 'Sangshin Electronics Co.,Ltd.',\n",
              " 'GENIANS, INC.',\n",
              " 'HuM&C',\n",
              " 'Ubiquoss Inc.',\n",
              " 'C&G Hi Tech Co., Ltd',\n",
              " 'Elensys Co.,Ltd.',\n",
              " 'CROWN',\n",
              " 'CROWN(1P)',\n",
              " 'Advanced Process Systems Corporation',\n",
              " 'Younghwa Tech Co., Ltd.',\n",
              " 'NFC Corporation',\n",
              " 'HD HYUNDAI',\n",
              " 'HD HYUNDAI ELECTRIC',\n",
              " 'HD Hyundai Construction Equipment',\n",
              " 'KYUNGDONG CITY GAS',\n",
              " 'Naintech. CO.,LTD.',\n",
              " 'BARREL Co., Ltd.',\n",
              " 'AsianaIDT',\n",
              " 'Maeil Dairies Co., Ltd.',\n",
              " 'Miwon Specialty Chemical',\n",
              " 'Geolit Energy',\n",
              " 'EVERYBOT Inc.',\n",
              " 'Newtree Co., Ltd.',\n",
              " 'ORION',\n",
              " 'ILJIN HYSOLUS',\n",
              " 'JEIL PHARM',\n",
              " 'KnJ Co., Ltd.',\n",
              " 'HANWHA SYSTEMS',\n",
              " 'INNOX Advanced Materials Co., Ltd.',\n",
              " 'JIN AIR',\n",
              " 'SAMYANG PACKAGING',\n",
              " 'Wise birds Inc.',\n",
              " 'YM Tech Co., Ltd.',\n",
              " 'Kencoa Aerospace Corporation',\n",
              " 'SSR Inc.',\n",
              " 'SKONEC ENTERTAINMENT Co., Ltd.',\n",
              " 'Jeju Beer Company, Limited',\n",
              " 'Lindeman Asia Investment Corporation',\n",
              " 'INSAN Inc.',\n",
              " 'Rainbow Robotics',\n",
              " 'TSI Co., Ltd.',\n",
              " 'Chunbo Co., Ltd.',\n",
              " 'HLBbioStep',\n",
              " 'MediaZen,Inc.',\n",
              " 'LOTTE WELLFOOD',\n",
              " 'Lake Materials Co., Ltd.',\n",
              " 'KCTECH',\n",
              " 'BGF Retail',\n",
              " 'DONG AH TIRE',\n",
              " 'COWINTECH Co., Ltd',\n",
              " 'KAINOS MEDICINE, INC.',\n",
              " 'CUCKOO HOMESYS',\n",
              " 'SKCHEMICALS',\n",
              " 'SKCHEMICALS(1P)',\n",
              " 'NOVATECH',\n",
              " 'NANOBRICK Co., Ltd.',\n",
              " 'LOTTE DATA COMMUNICATION COMPANY',\n",
              " 'Jeisys Medical',\n",
              " 'BRIDGE BIOTHERAPEUTICS, INC.',\n",
              " 'S-Fuelcell Co., Ltd.',\n",
              " 'Moadata',\n",
              " 'i-Scream Edu Co., Ltd.',\n",
              " 'SV INVESTMENT CORPORATION',\n",
              " 'GIANTSTEP Inc.',\n",
              " 'TWIM Corp',\n",
              " 'Dayou AP Co.,Ltd.',\n",
              " 'Hunesion co.,ltd',\n",
              " 'Shindo Eng. Lab., Ltd.',\n",
              " 'DK Tech Co., Ltd.',\n",
              " 'L&C BIO',\n",
              " 'NEOFECT Co.,Ltd',\n",
              " 'DAEBO MAGNETIC CO.,LTD.',\n",
              " 'Solux Co., Ltd.',\n",
              " 'FOODNAMOO, INC.',\n",
              " 'ActRo',\n",
              " 'NP',\n",
              " 'Aptamer Sciences Inc',\n",
              " 'Pintel Co., Ltd.',\n",
              " 'Hana Pharm',\n",
              " 'Kakao Games Corp.',\n",
              " 'NAU IB Capital',\n",
              " 'Aptabio Therapeutics Inc.',\n",
              " 'Shinhan Alpha REIT',\n",
              " 'EOFlow Co., Ltd.',\n",
              " 'LEMON COMPANY LIMITED',\n",
              " 'coocon Corporation',\n",
              " 'SuNAM Co., Ltd.',\n",
              " 'HYUNDAI DEVELOPMENT COMPANY',\n",
              " 'INNORULES CO.,LTD',\n",
              " 'CS BEARING Co., Ltd.',\n",
              " 'ALOYS Inc.',\n",
              " 'HB SOLUTION',\n",
              " 'HYOSUNG CHEMICAL',\n",
              " 'HYOSUNG TNC',\n",
              " 'HYOSUNG HEAVY INDUSTRIES',\n",
              " 'HYOSUNG ADVANCED MATERIALS',\n",
              " 'SCM Lifescience Co., Ltd.',\n",
              " 'ABL Bio Inc.',\n",
              " 'THE NATURE HOLDINGS CO., LTD',\n",
              " 'AirBusan',\n",
              " 'HANA TECHNOLOGY CO.,LTD.',\n",
              " 'WSI Co., Ltd.',\n",
              " 'Cellid Co., Ltd.',\n",
              " 'WYSIWYG STUDIOS CO., LTD.',\n",
              " 'FLITTO Inc.',\n",
              " 'LaonPeople Inc.',\n",
              " 'HANILCEMENT',\n",
              " 'VAIV company Inc.',\n",
              " 'INNOMETRY Co., Ltd.',\n",
              " 'SK BIOSCIENCE',\n",
              " 'REMED CO.,LTD.',\n",
              " 'Zinitix Co.,Ltd.',\n",
              " 'INNODEP INC.',\n",
              " 'SALTLUX Inc',\n",
              " 'PeopleBio, Inc.',\n",
              " 'Micro Digital Co., Ltd.',\n",
              " 'SJ Group Co., Ltd.',\n",
              " 'SeAH Steel Corporation',\n",
              " 'Neontech Co., Ltd.',\n",
              " 'IL SCIENCE CO.,LTD.',\n",
              " 'Wonbiogen',\n",
              " 'KUKJEON PHARMACEUTICAL Co.,Ltd',\n",
              " 'B2En',\n",
              " 'COMPANY K PARTNERS LIMITED',\n",
              " 'HyundaiAutoever',\n",
              " 'ViGenCell Inc.',\n",
              " 'Castelbajac Co., Ltd.',\n",
              " 'CTR Mobility Co.,Ltd.',\n",
              " 'OHEIM & Company',\n",
              " 'ANIPLUS INC.',\n",
              " 'Voronoi, Inc.',\n",
              " 'DYC',\n",
              " 'GO Element Co., Ltd.',\n",
              " 'Neo Cremar Co., Ltd.',\n",
              " 'CJ Bioscience',\n",
              " 'A.F.W Co., Ltd',\n",
              " 'WILLINGS CO., LTD.',\n",
              " 'Genome&Company',\n",
              " 'RPbio Inc.',\n",
              " 'BIODYNE CO., LTD.',\n",
              " 'DEEPNOID Inc.',\n",
              " 'WooriFinancialGroup',\n",
              " 'RANIX INC.',\n",
              " 'TS Trillion Co., Ltd.',\n",
              " 'Duksan Techopia Co., Ltd.',\n",
              " 'XI S&D',\n",
              " 'CARRIESOFT Co., Ltd.',\n",
              " 'QuantaMatrix Incorporated',\n",
              " 'Xperix',\n",
              " 'SP SYSTEMS CO.,LTD.',\n",
              " 'DAEMO Engineering Co.,Ltd.',\n",
              " 'Envioneer Co., Ltd.',\n",
              " 'KBG',\n",
              " 'Pharmsville Co., Ltd.',\n",
              " 'Best Bristle Company CO., Ltd.',\n",
              " 'HYUNDAI MOVEX',\n",
              " 'PSK INC.',\n",
              " 'WINTEC Co.,Ltd.',\n",
              " 'PRO2000',\n",
              " 'TiumBio Co., Ltd.',\n",
              " 'Wider Planet Inc.',\n",
              " 'HD HYUNDAI ENERGY SOLUTIONS CO.,LTD.',\n",
              " 'THiRA-UTECH CO., LTD.',\n",
              " 'AUROS TECHNOLOGY, INC.',\n",
              " 'JLK, Inc.',\n",
              " 'COPUS KOREA Co., Ltd.',\n",
              " 'MFM KOREA Co., Ltd.',\n",
              " 'TAESUNG',\n",
              " 'KakaoBank Corp.',\n",
              " 'Vaxcell-Bio Therapeutics',\n",
              " 'SK BIOPHARMACEUTICALS',\n",
              " 'RF Materials',\n",
              " 'Lunit Inc.',\n",
              " 'Saltware',\n",
              " 'HD HYUNDAI HEAVY INDUSTRIES',\n",
              " 'Withus Pharmaceutical. Co., LTD',\n",
              " 'LOTTE REIT',\n",
              " 'Stonebridge Ventures, Inc.',\n",
              " 'Nepes Ark Corporation',\n",
              " 'FOCUS HNS',\n",
              " 'VALOFE',\n",
              " 'Celemics, Inc.',\n",
              " 'NOUSBO',\n",
              " 'IDP Corp., Ltd.',\n",
              " 'Wireless Amplifier Module Inc.',\n",
              " 'MOCOMSYS',\n",
              " 'IL SEUNG',\n",
              " 'Nsys Co., Ltd.',\n",
              " 'IGIS Value Plus REIT',\n",
              " 'Prestige Biologics Co., Ltd.',\n",
              " 'Precision Biosensor Inc.',\n",
              " 'WINGS FOOT',\n",
              " 'VIOL Co., Ltd.',\n",
              " 'WAVUS',\n",
              " 'Doosan Fuel Cell',\n",
              " 'Doosan Fuel Cell(1P)',\n",
              " 'Doosan Fuel Cell(2PB)',\n",
              " 'Solus Advanced Materials',\n",
              " 'Solus Advanced Materials(1P)',\n",
              " 'Solus Advanced Materials(2PB)',\n",
              " 'WONTECH',\n",
              " 'Brand X Co., Ltd.',\n",
              " 'NH Prime REIT',\n",
              " 'VUNO, Inc.',\n",
              " 'KYOCHON FOOD&BEVERAGE',\n",
              " 'IBKIMYOUNG CO.,LTD.',\n",
              " 'DAVOLINK',\n",
              " 'SERIM B&G',\n",
              " 'T&L Co., LTD.',\n",
              " 'YOUIL ENERGY TECH CO.,LTD.',\n",
              " 'KCC GLASS Corporation',\n",
              " 'SENKO Co.,Ltd.',\n",
              " 'Life Semantics Corp.',\n",
              " 'P&K Skin Research Center Co.,Ltd.',\n",
              " 'PIMS Inc.',\n",
              " 'Alchera Inc.',\n",
              " 'M2I CORPORATION',\n",
              " 'MOBIRIX Corporation',\n",
              " 'KoBioLabs, Inc',\n",
              " 'NEXTIN Inc.',\n",
              " 'Neuromeka Co., Ltd.',\n",
              " 'WITHTECH, Inc.',\n",
              " 'Enchem Co., Ltd.',\n",
              " 'JR GLOBAL REIT',\n",
              " 'IGIS RESIDENCE REIT',\n",
              " 'Solution Advanced Technology',\n",
              " 'ISAAC Engineering Co., Ltd.',\n",
              " 'C&C INTERNATIONAL',\n",
              " 'CNTUS',\n",
              " 'Clinomics Inc.',\n",
              " 'HYBE',\n",
              " 'Obigo Inc.',\n",
              " 'ENBIOCO., LTD.',\n",
              " 'HMCIB No.5 Special Purpose Acquisition Company',\n",
              " 'Hurum Co., Ltd.',\n",
              " 'DaeduckElectronics',\n",
              " 'DaeduckElectronics(1P)',\n",
              " 'AUTO& Inc.',\n",
              " 'EASY BIO, Inc.',\n",
              " 'NGeneBio Co., Ltd.',\n",
              " 'KOSTECSYS',\n",
              " 'TLB Co., Ltd.',\n",
              " 'CyberOne Co., Ltd.',\n",
              " 'KORAMCO ENERGY PLUS REIT',\n",
              " 'H.PIO Co.,Ltd',\n",
              " 'Miraeasset Maps REIT 1',\n",
              " 'MASTERN PREMIER REIT 1',\n",
              " 'Sukgyung AT Co., Ltd.',\n",
              " 'Amosense Co., Ltd.',\n",
              " 'Soulbrain Co., Ltd.',\n",
              " 'Bitnine Co, Ltd.',\n",
              " 'C&R Research',\n",
              " 'TOP MATERIAL Co.,Ltd',\n",
              " 'Genohco, Inc',\n",
              " 'RBW Inc.',\n",
              " 'SK ie technology',\n",
              " 'SAMYOUNG S&C CO., LTD.',\n",
              " 'CHUNGDAMGLOBAL Co., Ltd.',\n",
              " 'Genesystem Co., Ltd',\n",
              " 'Mobidays',\n",
              " 'TY HOLDINGS',\n",
              " 'TY HOLDINGS(1P)',\n",
              " 'curacle co., ltd.',\n",
              " 'SungEel HiTech Co., Ltd.',\n",
              " 'ESR KENDALL SQUARE REIT',\n",
              " 'HiDeep',\n",
              " 'VC Inc.',\n",
              " '09women Co., Ltd.',\n",
              " 'Shinhan 7th Special Purpose Acquisition Company',\n",
              " 'Plateer Co., Ltd.',\n",
              " 'DB Finance No.9 Special Purpose Acquisition Co., Ltd.',\n",
              " 'ICH Co., Ltd.',\n",
              " 'FIBERPRO',\n",
              " 'OSP Co., Ltd',\n",
              " 'Blitzway',\n",
              " 'Furonteer Inc.',\n",
              " 'POONGWON PRECISION Co.,Ltd.',\n",
              " 'YUNSUNG F&C Co.,Ltd',\n",
              " 'ITEYES Inc.',\n",
              " 'Hancom Lifecare',\n",
              " 'HaAINC KOREA',\n",
              " 'LG Energy Solution',\n",
              " 'DL E&C CO., LTD.',\n",
              " 'DL E&C CO., LTD.(1P)',\n",
              " 'DL E&C(2PC)',\n",
              " 'Picogram Co.,Ltd.',\n",
              " 'LB Lusem',\n",
              " 'CU TECH CORPORATION',\n",
              " 'DEAR U Co.,Ltd.',\n",
              " 'Noul Co., Ltd.',\n",
              " 'Wanted Lab Inc.',\n",
              " 'MAXST CO., LTD',\n",
              " 'D&D platform REIT',\n",
              " 'From Bio Co., Ltd.',\n",
              " 'kakaopay',\n",
              " 'EGTRONICS Co., Ltd.',\n",
              " 'REFINE Co., Ltd',\n",
              " 'WINIA AID CO.,LTD.',\n",
              " 'MAUM.AI, INC.',\n",
              " 'SAMSUNG SPECIAL PURPOSE ACQUISITION 4 COMPANY',\n",
              " 'BioNote',\n",
              " 'Shaperon Inc.',\n",
              " 'HWASEUNG R&A CO., LTD.',\n",
              " 'SAMSUNG MUST SPECIAL PURPOSE ACQUISITION 5 COMPANY',\n",
              " 'NH SPECIAL PURPOSE ACQUISITION 19 COMPANY',\n",
              " 'OptiCore',\n",
              " 'K Car',\n",
              " 'G.I.Tech Co.,Ltd.',\n",
              " 'GnBS eco',\n",
              " 'Onejoon Co., Ltd.',\n",
              " 'Bumhan Fuel Cell Co., Ltd.',\n",
              " 'F&F',\n",
              " 'ECOPRO HN CO., LTD',\n",
              " 'LX HOLDINGS',\n",
              " 'LX HOLDINGS(1P)',\n",
              " 'DT&CRO CO., Ltd.',\n",
              " 'Hanwha Plus No 2 Special Purpose Acquisition Company',\n",
              " 'G2Power Co.Ltd',\n",
              " 'Yuilrobotics. co., Ltd',\n",
              " 'LiComm',\n",
              " 'GENINUS Inc.',\n",
              " '4by4 Inc.',\n",
              " 'Dae Myoung Energy Co. Ltd.',\n",
              " 'Inventage Lab Inc.',\n",
              " 'SBB TECH Co., Ltd.',\n",
              " 'Kornic Automation',\n",
              " 'W-SCOPE CHUNGJU PLANT CO., LTD.',\n",
              " 'Openedges Technology, Inc.',\n",
              " 'SK REIT',\n",
              " 'NEXTCHIP Co., Ltd.',\n",
              " 'SeA Mechanics Co., LTD.',\n",
              " 'Mirae Asset Global REIT',\n",
              " 'AprilBio Co.,Ltd.',\n",
              " 'GAONCHIPS CO., LTD.',\n",
              " 'Hana Financial Twenty Special Purpose Acquisition Company',\n",
              " 'NHALLONEREIT',\n",
              " 'HI Special Purpose Acquisition Company VII',\n",
              " 'KONAN TECHNOLOGY INCORPORATION',\n",
              " 'SKSQUARE',\n",
              " 'SOCAR',\n",
              " 'HPSP Co., Ltd.',\n",
              " 'DB Finance No.10 Special Purpose Acquisition Co., Ltd.',\n",
              " 'SHINHAN SEOBU T&D REIT',\n",
              " 'Plasmapp Co., Ltd.',\n",
              " 'Quality Reliability Technology Inc.',\n",
              " 'IBKS No.17 Special Purpose Acquisition Company',\n",
              " 'Shinhan 9th Special Purpose Acquisition Company',\n",
              " 'Hana Financial Twenty-one SPAC',\n",
              " 'Messe eSang',\n",
              " 'Laserssel Co. Ltd.',\n",
              " 'Mirae Asset Vision Special Purpose Acquisition 1 Company',\n",
              " 'Kiwoom No.6 Special Purpose Acquisition Company',\n",
              " 'EUGENE SPECIAL PURPOSE ACQUISITION 8 COMPANY',\n",
              " 'Sangsangin No.3 Special Purpose Acquisition Company',\n",
              " 'Finger Story CO., LTD.',\n",
              " 'KORAMCO THE ONE REIT',\n",
              " 'JI-Tech Co., Ltd.',\n",
              " 'Justem.Co.,Ltd.',\n",
              " 'Model Solution Co., Ltd.',\n",
              " 'Hana Financial Twenty-two SPAC',\n",
              " 'Shinhan 10th Special Purpose Acquisition Company',\n",
              " 'ENJET Co.,LTD',\n",
              " 'Sandoll, Inc.',\n",
              " 'SAMG ENTERTAINMENT CO.,LTD',\n",
              " 'Bistos Co., Ltd.',\n",
              " 'Kyobo 12 Special Purpose Acquisition Company',\n",
              " 'NH SPECIAL PURPOSE ACQUISITION 23 COMPANY',\n",
              " 'KB No.21 Special Purpose Acquisition Company Co., Ltd.',\n",
              " 'Bellock',\n",
              " 'SAMSUNG SPECIAL PURPOSE ACQUISITION 6 COMPANY',\n",
              " 'TFE Co., Ltd.',\n",
              " 'Shinyoung HappyTomorrow No.8 Special Purpose Acquisition Company',\n",
              " 'Hana Financial Twenty-four SPAC',\n",
              " 'Hanwha Plus No 3 Special Purpose Acquisition Company',\n",
              " 'Yuanta 9 SPECIAL PURPOSE ACQUISITION COMPANY',\n",
              " 'KB STAR REIT',\n",
              " 'Kiwoom No.7 Special Purpose Acquisition Company',\n",
              " 'Yuanta 10 SPECIAL PURPOSE ACQUISITION COMPANY',\n",
              " 'Korea No.11 Special Purpose Acquisition Co., LTD.',\n",
              " 'NH SPECIAL PURPOSE ACQUISITION 24 COMPANY',\n",
              " 'Daishin Balance No.13 Special Purpose Acquisition Company',\n",
              " 'SAMSUNG SPECIAL PURPOSE ACQUISITION 7 COMPANY',\n",
              " 'NH SPECIAL PURPOSE ACQUISITION 26 COMPANY',\n",
              " 'IBKS No.20 Special Purpose Acquisition Company',\n",
              " 'KB No.23 Special Purpose Acquisition Company',\n",
              " 'Kyobo 13 Special Purpose Acquisition Company',\n",
              " 'NH SPECIAL PURPOSE ACQUISITION 27 COMPANY',\n",
              " 'Fine M-Tec Co.,Ltd.',\n",
              " 'EUGENE SPECIAL PURPOSE ACQUISITION 9 COMPANY',\n",
              " 'Daishin Balance No.14 Special Purpose Acquisition Company',\n",
              " 'IBKS No.21 Special Purpose Acquisition Company',\n",
              " 'BNK 1 SPECIAL PURPOSE ACQUISITION COMPANY',\n",
              " 'Shinyoung HappyTomorrow No.9 Special Purpose Acquisition Company',\n",
              " 'UNID btplus',\n",
              " 'Global SM Tech Limited',\n",
              " 'Ameridge Corporation',\n",
              " 'East Asia Holdings Investment Limited',\n",
              " 'CKH Food & Health Limited',\n",
              " 'LVMC Holdings',\n",
              " 'China Crystal New Material Holdings Co., Ltd.',\n",
              " 'Rothwell International Co., Limited',\n",
              " 'HENG SHENG GROUP COMPANY LIMITED',\n",
              " 'Cayman Golden Century Wheel Group Limited',\n",
              " 'Great Rich Technologies Limited',\n",
              " 'ORGANIC TEA COSMETICS HOLDINGS COMPANY LIMITED',\n",
              " 'Coloray International Investment Co., Limited',\n",
              " 'WING YIP FOOD HOLDINGS GROUP',\n",
              " 'SBI FinTech Solutions Co., Ltd.',\n",
              " 'Access Bio, Inc.',\n",
              " 'Englewood Lab, Inc.',\n",
              " 'Kolon TissueGene, Inc.',\n",
              " 'JTC Inc.',\n",
              " 'ME2ZEN Limited',\n",
              " 'Psomagen, Inc.',\n",
              " 'PRESTIGE BIOPHARMA LIMITED KDR',\n",
              " 'NeoImmuneTech, Inc.']"
            ]
          },
          "execution_count": 28,
          "metadata": {},
          "output_type": "execute_result"
        }
      ],
      "source": [
        "# 한글 종목약명 리스트 생성\n",
        "kor_list = [kor_dict2[t] for t in tk_list if t in kor_dict2]\n",
        "kor_list"
      ]
    },
    {
      "cell_type": "code",
      "execution_count": null,
      "id": "45d997b1",
      "metadata": {
        "id": "45d997b1",
        "outputId": "dc592489-7879-4bb7-b4f0-a9b94fa5d096"
      },
      "outputs": [
        {
          "name": "stdout",
          "output_type": "stream",
          "text": [
            "Case of: 4980\n"
          ]
        },
        {
          "data": {
            "image/png": "[encoded data removed]",
            "text/plain": [
              "<Figure size 640x480 with 1 Axes>"
            ]
          },
          "metadata": {},
          "output_type": "display_data"
        }
      ],
      "source": [
        "def visualize_2_hop_graph(adj_np, names_nas, names_kor, name_dic_2, target_node=0, n=4):\n",
        "    simple_G = nx.Graph()\n",
        "    similar_idx = adj_np[:, target_node].argsort()[-n:]\n",
        "    node_colors = {}\n",
        "    node_colors[names_kor[target_node]] = 'red'\n",
        "    for i in similar_idx:\n",
        "        simple_G.add_edge(names_kor[target_node], names_nas[i])\n",
        "        node_colors[names_nas[i]] = 'green'\n",
        "\n",
        "        similar_idx_2hop = adj_np[i].argsort()[-n:]\n",
        "        for j in similar_idx_2hop:\n",
        "            simple_G.add_edge(names_nas[i], names_kor[j])\n",
        "            if not node_colors.get(names_kor[j], False):\n",
        "                node_colors[names_kor[j]] = 'gray'\n",
        "\n",
        "    labels = {word:word for word in simple_G.nodes()}\n",
        "    for k in labels.keys():\n",
        "        if name_dic_2.get(k, False):\n",
        "            labels[k] = name_dic_2[k]\n",
        "    # pos = nx.spring_layout(simple_G)\n",
        "    pos = nx.kamada_kawai_layout(simple_G)\n",
        "    print('Case of:',names_kor[target_node])\n",
        "    nx.draw(simple_G, pos, labels=labels, with_labels=True,node_color=[node_colors[node] for node in simple_G.nodes()], font_size=8)\n",
        "\n",
        "visualize_2_hop_graph(adj_np, names_nas, names_kor, kor_dict2, target_node=315, n=5)"
      ]
    },
    {
      "cell_type": "code",
      "execution_count": null,
      "id": "c4da8749",
      "metadata": {
        "id": "c4da8749",
        "outputId": "1e1397bf-43e3-4d2d-e6bb-11f6e6eae990"
      },
      "outputs": [
        {
          "name": "stdout",
          "output_type": "stream",
          "text": [
            "Case of: Mezzion Pharma Co., Ltd.\n"
          ]
        },
        {
          "data": {
            "image/png": "[encoded data removed]",
            "text/plain": [
              "<Figure size 640x480 with 1 Axes>"
            ]
          },
          "metadata": {},
          "output_type": "display_data"
        }
      ],
      "source": [
        "# Bipartite 그래프 시각화\n",
        "\n",
        "def visualize_bipartite_graph(adj_np, names_nas, names_kor, name_dic_2, target_node=0, n=4):\n",
        "    simple_G = nx.Graph()\n",
        "    similar_idx = adj_np[:, target_node].argsort()[-n:]\n",
        "    node_colors = {}\n",
        "    node_colors[names_kor[target_node]] = 'red'\n",
        "    nas_nodes = []\n",
        "    kor_nodes = [names_kor[target_node]]\n",
        "    for i in similar_idx:\n",
        "        simple_G.add_edge(names_kor[target_node], names_nas[i])\n",
        "        nas_nodes.append(names_nas[i])\n",
        "        node_colors[names_nas[i]] = 'green'\n",
        "\n",
        "        similar_idx_2hop = adj_np[i].argsort()[-n:]\n",
        "        for j in similar_idx_2hop:\n",
        "            simple_G.add_edge(names_nas[i], names_kor[j])\n",
        "            if not node_colors.get(names_kor[j], False):\n",
        "                node_colors[names_kor[j]] = 'red'\n",
        "                kor_nodes.append(names_kor[j])\n",
        "\n",
        "    B = nx.Graph()\n",
        "    B.add_nodes_from(nas_nodes, bipartite=0)\n",
        "    B.add_nodes_from(kor_nodes, bipartite=1)\n",
        "    B.add_edges_from(simple_G.edges())\n",
        "\n",
        "\n",
        "    labels = {word:word for word in B.nodes()}\n",
        "    for k in labels.keys():\n",
        "        if name_dic_2.get(k, False):\n",
        "            labels[k] = name_dic_2[k]\n",
        "\n",
        "    print('Case of:', name_dic_2[names_kor[target_node]])\n",
        "    nx.draw_networkx(B, pos = nx.drawing.layout.bipartite_layout(B, nas_nodes), labels=labels, with_labels=True, node_color=[node_colors[node] for node in B.nodes()], font_size=7, width = 0.5)\n",
        "visualize_bipartite_graph(adj_np, nas_list, tk_list, kor_dict2, target_node=315, n=4)"
      ]
    },
    {
      "cell_type": "markdown",
      "id": "fdb4984a",
      "metadata": {
        "id": "fdb4984a"
      },
      "source": [
        "## Method 2)\n",
        "Compute Similarity through Stock embedding from Deep Neural Networks"
      ]
    },
    {
      "cell_type": "markdown",
      "id": "d34a6ea0",
      "metadata": {
        "id": "d34a6ea0"
      },
      "source": [
        "Model Training & Feature Extraction\n",
        "\n",
        "각 종목 별로 6일 단위의 sequence를 생성한 뒤 ['gts_iem_ong_pr', 'gts_iem_hi_pr', 'gts_iem_low_pr', 'gts_acl_trd_qty']을 사용해 종가('gts_iem_end_pr')를 예측하는 LSTM 모델을 학습시킨다. 학습된 LSTM 모델에 가장 마지막 즉, 최신의 sequence를 넣어 각 종목별 feature를 추출했으며, 이는 추후 node의 feature로 사용할 수 있도록 저장했다.\n",
        "\n",
        "\n",
        "Framework Reference : Feng, Shibo, et al. \"Relation-aware dynamic attributed graph attention network for stocks recommendation.\" Pattern Recognition 121 (2022): 108119."
      ]
    },
    {
      "cell_type": "code",
      "execution_count": null,
      "id": "e7c624a6",
      "metadata": {
        "id": "e7c624a6"
      },
      "outputs": [],
      "source": [
        "device = torch.device('cuda:0' if torch.cuda.is_available() else 'cpu')\n",
        "# device = torch.device('cpu')\n",
        "\n",
        "select = 'NASDAQ' # or 'KOREA'\n",
        "\n",
        "if select == 'NASDAQ':\n",
        "    df = pd.read_csv('./NASDAQ_Stock_data_noqty.csv', low_memory=False)\n",
        "\n",
        "    os.makedirs('./nsdq_weight', exist_ok=True)\n",
        "    os.makedirs('./nsdq_feature', exist_ok=True)\n",
        "\n",
        "    weight_file = './nsdq_weight/{}_cp.pth'\n",
        "    feature_file = './nsdq_feature/{}_feat.npy'\n",
        "\n",
        "\n",
        "elif select == 'KOREA':\n",
        "    df = pd.read_csv('./KOREA_Stock_data.csv', low_memory=False)\n",
        "\n",
        "    os.makedirs('./kor_weight', exist_ok=True)\n",
        "    os.makedirs('./kor_feature', exist_ok=True)\n",
        "\n",
        "    weight_file = './kor_weight/{}_cp.pth'\n",
        "    feature_file = './kor_feature/{}_feat.npy'\n",
        "\n",
        "else:\n",
        "    print('Wrong option.')\n",
        "    exit()"
      ]
    },
    {
      "cell_type": "code",
      "execution_count": null,
      "id": "59e98b91",
      "metadata": {
        "id": "59e98b91",
        "outputId": "3fa9802a-e23b-4c70-819a-2a5ab13193c9"
      },
      "outputs": [
        {
          "name": "stderr",
          "output_type": "stream",
          "text": [
            "\r",
            "  0%|          | 0/2743 [00:00<?, ?it/s]"
          ]
        },
        {
          "name": "stdout",
          "output_type": "stream",
          "text": [
            "Epoch [1/3], Loss: 397.3226\n",
            "Epoch [2/3], Loss: 380.3647\n"
          ]
        },
        {
          "name": "stderr",
          "output_type": "stream",
          "text": [
            "\r",
            "  0%|          | 1/2743 [00:20<15:44:30, 20.67s/it]"
          ]
        },
        {
          "name": "stdout",
          "output_type": "stream",
          "text": [
            "Epoch [3/3], Loss: 405.3923\n",
            "AACG done.\n",
            "20.313313200000266\n",
            "Epoch [1/3], Loss: 410.8319\n",
            "Epoch [2/3], Loss: 426.9342\n"
          ]
        },
        {
          "name": "stderr",
          "output_type": "stream",
          "text": [
            "\r",
            "  0%|          | 2/2743 [00:41<15:48:30, 20.76s/it]"
          ]
        },
        {
          "name": "stdout",
          "output_type": "stream",
          "text": [
            "Epoch [3/3], Loss: 381.3617\n",
            "AADI done.\n",
            "20.47835259999556\n",
            "Epoch [1/3], Loss: 396.7847\n",
            "Epoch [2/3], Loss: 434.7950\n"
          ]
        },
        {
          "name": "stderr",
          "output_type": "stream",
          "text": [
            "\r",
            "  0%|          | 3/2743 [01:02<15:48:28, 20.77s/it]"
          ]
        },
        {
          "name": "stdout",
          "output_type": "stream",
          "text": [
            "Epoch [3/3], Loss: 411.9907\n",
            "AAL done.\n",
            "20.434442599995236\n",
            "Epoch [1/3], Loss: 406.6659\n",
            "Epoch [2/3], Loss: 389.2774\n"
          ]
        },
        {
          "name": "stderr",
          "output_type": "stream",
          "text": [
            "\r",
            "  0%|          | 4/2743 [01:23<15:59:06, 21.01s/it]"
          ]
        },
        {
          "name": "stdout",
          "output_type": "stream",
          "text": [
            "Epoch [3/3], Loss: 403.6235\n",
            "AAOI done.\n",
            "21.037649999998393\n",
            "Epoch [1/3], Loss: 385.4862\n",
            "Epoch [2/3], Loss: 400.9230\n"
          ]
        },
        {
          "name": "stderr",
          "output_type": "stream",
          "text": [
            "\r",
            "  0%|          | 5/2743 [01:45<16:04:28, 21.14s/it]"
          ]
        },
        {
          "name": "stdout",
          "output_type": "stream",
          "text": [
            "Epoch [3/3], Loss: 432.2950\n",
            "AAON done.\n",
            "21.002962300000945\n",
            "Epoch [1/3], Loss: 379.6880\n",
            "Epoch [2/3], Loss: 424.9857\n"
          ]
        },
        {
          "name": "stderr",
          "output_type": "stream",
          "text": [
            "\r",
            "  0%|          | 6/2743 [02:05<15:58:08, 21.00s/it]"
          ]
        },
        {
          "name": "stdout",
          "output_type": "stream",
          "text": [
            "Epoch [3/3], Loss: 408.6058\n",
            "AAPL done.\n",
            "20.410152699994796\n",
            "Epoch [1/3], Loss: 406.6572\n",
            "Epoch [2/3], Loss: 381.3290\n"
          ]
        },
        {
          "name": "stderr",
          "output_type": "stream",
          "text": [
            "\r",
            "  0%|          | 7/2743 [02:26<15:57:58, 21.01s/it]"
          ]
        },
        {
          "name": "stdout",
          "output_type": "stream",
          "text": [
            "Epoch [3/3], Loss: 432.8084\n",
            "ABCB done.\n",
            "20.675970399999642\n",
            "Epoch [1/3], Loss: 398.8903\n",
            "Epoch [2/3], Loss: 423.8319\n"
          ]
        },
        {
          "name": "stderr",
          "output_type": "stream",
          "text": [
            "\r",
            "  0%|          | 8/2743 [02:47<16:00:40, 21.08s/it]"
          ]
        },
        {
          "name": "stdout",
          "output_type": "stream",
          "text": [
            "Epoch [3/3], Loss: 390.2593\n",
            "ABCL done.\n",
            "20.87225629999739\n",
            "Epoch [1/3], Loss: 399.3224\n",
            "Epoch [2/3], Loss: 392.8149\n"
          ]
        },
        {
          "name": "stderr",
          "output_type": "stream",
          "text": [
            "\r",
            "  0%|          | 9/2743 [03:08<15:58:07, 21.03s/it]"
          ]
        },
        {
          "name": "stdout",
          "output_type": "stream",
          "text": [
            "Epoch [3/3], Loss: 389.0816\n",
            "ABCM done.\n",
            "20.569724699998915\n",
            "Epoch [1/3], Loss: 425.9759\n",
            "Epoch [2/3], Loss: 358.1812\n"
          ]
        },
        {
          "name": "stderr",
          "output_type": "stream",
          "text": [
            "\r",
            "  0%|          | 10/2743 [03:30<16:00:42, 21.09s/it]"
          ]
        },
        {
          "name": "stdout",
          "output_type": "stream",
          "text": [
            "Epoch [3/3], Loss: 400.0216\n",
            "ABEO done.\n",
            "20.88941039999918\n",
            "Epoch [1/3], Loss: 399.0878\n",
            "Epoch [2/3], Loss: 328.1319\n"
          ]
        },
        {
          "name": "stderr",
          "output_type": "stream",
          "text": [
            "\r",
            "  0%|          | 11/2743 [03:52<16:16:45, 21.45s/it]"
          ]
        },
        {
          "name": "stdout",
          "output_type": "stream",
          "text": [
            "Epoch [3/3], Loss: 406.0105\n",
            "ABIO done.\n",
            "21.90214389999892\n",
            "Epoch [1/3], Loss: 376.9716\n",
            "Epoch [2/3], Loss: 427.0291\n"
          ]
        },
        {
          "name": "stderr",
          "output_type": "stream",
          "text": [
            "\r",
            "  0%|          | 12/2743 [04:14<16:25:18, 21.65s/it]"
          ]
        },
        {
          "name": "stdout",
          "output_type": "stream",
          "text": [
            "Epoch [3/3], Loss: 433.4691\n",
            "ABNB done.\n",
            "21.73324899999716\n",
            "Epoch [1/3], Loss: 385.1601\n",
            "Epoch [2/3], Loss: 418.3763\n"
          ]
        },
        {
          "name": "stderr",
          "output_type": "stream",
          "text": [
            "\r",
            "  0%|          | 13/2743 [04:37<16:38:48, 21.95s/it]"
          ]
        },
        {
          "name": "stdout",
          "output_type": "stream",
          "text": [
            "Epoch [3/3], Loss: 378.8740\n",
            "ABOS done.\n",
            "22.263132799998857\n",
            "Epoch [1/3], Loss: 359.2986\n",
            "Epoch [2/3], Loss: 392.1166\n"
          ]
        },
        {
          "name": "stderr",
          "output_type": "stream",
          "text": [
            "\r",
            "  1%|          | 14/2743 [04:59<16:44:22, 22.08s/it]"
          ]
        },
        {
          "name": "stdout",
          "output_type": "stream",
          "text": [
            "Epoch [3/3], Loss: 381.5589\n",
            "ABSI done.\n",
            "22.008474999995087\n",
            "Epoch [1/3], Loss: 399.0794\n",
            "Epoch [2/3], Loss: 388.5246\n"
          ]
        },
        {
          "name": "stderr",
          "output_type": "stream",
          "text": [
            "\r",
            "  1%|          | 15/2743 [05:22<16:53:54, 22.30s/it]"
          ]
        },
        {
          "name": "stdout",
          "output_type": "stream",
          "text": [
            "Epoch [3/3], Loss: 406.8647\n",
            "ABUS done.\n",
            "22.43091419999837\n",
            "Epoch [1/3], Loss: 426.8619\n",
            "Epoch [2/3], Loss: 415.8811\n"
          ]
        },
        {
          "name": "stderr",
          "output_type": "stream",
          "text": [
            "\r",
            "  1%|          | 16/2743 [05:45<17:01:11, 22.47s/it]"
          ]
        },
        {
          "name": "stdout",
          "output_type": "stream",
          "text": [
            "Epoch [3/3], Loss: 396.2118\n",
            "ABVC done.\n",
            "22.47223909999593\n",
            "Epoch [1/3], Loss: 388.2930\n",
            "Epoch [2/3], Loss: 390.7448\n"
          ]
        },
        {
          "name": "stderr",
          "output_type": "stream",
          "text": [
            "\r",
            "  1%|          | 17/2743 [06:07<16:54:25, 22.33s/it]"
          ]
        },
        {
          "name": "stdout",
          "output_type": "stream",
          "text": [
            "Epoch [3/3], Loss: 392.1670\n",
            "ACAD done.\n",
            "21.62211770000431\n",
            "Epoch [1/3], Loss: 391.7139\n",
            "Epoch [2/3], Loss: 413.6146\n"
          ]
        },
        {
          "name": "stderr",
          "output_type": "stream",
          "text": [
            "\r",
            "  1%|          | 18/2743 [06:28<16:42:42, 22.08s/it]"
          ]
        },
        {
          "name": "stdout",
          "output_type": "stream",
          "text": [
            "Epoch [3/3], Loss: 420.4555\n",
            "ACB done.\n",
            "21.143030799998087\n",
            "Epoch [1/3], Loss: 433.4847\n",
            "Epoch [2/3], Loss: 421.9537\n"
          ]
        },
        {
          "name": "stderr",
          "output_type": "stream",
          "text": [
            "\r",
            "  1%|          | 19/2743 [06:49<16:29:56, 21.81s/it]"
          ]
        },
        {
          "name": "stdout",
          "output_type": "stream",
          "text": [
            "Epoch [3/3], Loss: 411.2859\n",
            "ACCD done.\n",
            "20.79876819999481\n",
            "Epoch [1/3], Loss: 380.2556\n",
            "Epoch [2/3], Loss: 410.4369\n"
          ]
        },
        {
          "name": "stderr",
          "output_type": "stream",
          "text": [
            "\r",
            "  1%|          | 20/2743 [07:10<16:18:15, 21.56s/it]"
          ]
        },
        {
          "name": "stdout",
          "output_type": "stream",
          "text": [
            "Epoch [3/3], Loss: 408.4187\n",
            "ACDC done.\n",
            "20.621519499996793\n",
            "Epoch [1/3], Loss: 416.7729\n",
            "Epoch [2/3], Loss: 388.5356\n"
          ]
        },
        {
          "name": "stderr",
          "output_type": "stream",
          "text": [
            "\r",
            "  1%|          | 21/2743 [07:32<16:14:33, 21.48s/it]"
          ]
        },
        {
          "name": "stdout",
          "output_type": "stream",
          "text": [
            "Epoch [3/3], Loss: 434.8406\n",
            "ACER done.\n",
            "20.965448499999184\n",
            "Epoch [1/3], Loss: 408.0592\n",
            "Epoch [2/3], Loss: 408.2500\n"
          ]
        },
        {
          "name": "stderr",
          "output_type": "stream",
          "text": [
            "\r",
            "  1%|          | 22/2743 [07:53<16:07:00, 21.32s/it]"
          ]
        },
        {
          "name": "stdout",
          "output_type": "stream",
          "text": [
            "Epoch [3/3], Loss: 391.8391\n",
            "ACET done.\n",
            "20.61059419999947\n",
            "Epoch [1/3], Loss: 415.6535\n",
            "Epoch [2/3], Loss: 363.9662\n"
          ]
        },
        {
          "name": "stderr",
          "output_type": "stream",
          "text": [
            "\r",
            "  1%|          | 23/2743 [08:13<16:00:34, 21.19s/it]"
          ]
        },
        {
          "name": "stdout",
          "output_type": "stream",
          "text": [
            "Epoch [3/3], Loss: 396.3075\n",
            "ACGL done.\n",
            "20.524654400003783\n",
            "Epoch [1/3], Loss: 392.2249\n",
            "Epoch [2/3], Loss: 428.2220\n"
          ]
        },
        {
          "name": "stderr",
          "output_type": "stream",
          "text": [
            "\r",
            "  1%|          | 24/2743 [08:35<15:57:46, 21.14s/it]"
          ]
        },
        {
          "name": "stdout",
          "output_type": "stream",
          "text": [
            "Epoch [3/3], Loss: 396.3304\n",
            "ACGLN done.\n",
            "20.66673830000218\n",
            "Epoch [1/3], Loss: 410.7048\n",
            "Epoch [2/3], Loss: 405.2066\n"
          ]
        },
        {
          "name": "stderr",
          "output_type": "stream",
          "text": [
            "\r",
            "  1%|          | 25/2743 [08:55<15:54:00, 21.06s/it]"
          ]
        },
        {
          "name": "stdout",
          "output_type": "stream",
          "text": [
            "Epoch [3/3], Loss: 398.3981\n",
            "ACGLO done.\n",
            "20.533310499995423\n",
            "Epoch [1/3], Loss: 384.6334\n",
            "Epoch [2/3], Loss: 415.4189\n"
          ]
        },
        {
          "name": "stderr",
          "output_type": "stream",
          "text": [
            "\r",
            "  1%|          | 26/2743 [09:17<15:54:52, 21.09s/it]"
          ]
        },
        {
          "name": "stdout",
          "output_type": "stream",
          "text": [
            "Epoch [3/3], Loss: 409.8227\n",
            "ACHC done.\n",
            "20.801565000001574\n",
            "Epoch [1/3], Loss: 396.8655\n",
            "Epoch [2/3], Loss: 394.3983\n"
          ]
        },
        {
          "name": "stderr",
          "output_type": "stream",
          "text": [
            "\r",
            "  1%|          | 27/2743 [09:38<15:53:06, 21.06s/it]"
          ]
        },
        {
          "name": "stdout",
          "output_type": "stream",
          "text": [
            "Epoch [3/3], Loss: 384.3252\n",
            "ACHL done.\n",
            "20.638895299998694\n",
            "Epoch [1/3], Loss: 418.5295\n",
            "Epoch [2/3], Loss: 401.8531\n"
          ]
        },
        {
          "name": "stderr",
          "output_type": "stream",
          "text": [
            "\r",
            "  1%|          | 28/2743 [09:58<15:50:46, 21.01s/it]"
          ]
        },
        {
          "name": "stdout",
          "output_type": "stream",
          "text": [
            "Epoch [3/3], Loss: 418.5805\n",
            "ACHV done.\n",
            "20.566806299997552\n",
            "Epoch [1/3], Loss: 377.5578\n",
            "Epoch [2/3], Loss: 378.5131\n"
          ]
        },
        {
          "name": "stderr",
          "output_type": "stream",
          "text": [
            "\r",
            "  1%|          | 29/2743 [10:19<15:47:19, 20.94s/it]"
          ]
        },
        {
          "name": "stdout",
          "output_type": "stream",
          "text": [
            "Epoch [3/3], Loss: 330.3974\n",
            "ACIU done.\n",
            "20.44047760000103\n",
            "Epoch [1/3], Loss: 421.6850\n",
            "Epoch [2/3], Loss: 402.6453\n"
          ]
        },
        {
          "name": "stderr",
          "output_type": "stream",
          "text": [
            "\r",
            "  1%|          | 30/2743 [10:40<15:44:23, 20.89s/it]"
          ]
        },
        {
          "name": "stdout",
          "output_type": "stream",
          "text": [
            "Epoch [3/3], Loss: 398.4319\n",
            "ACIW done.\n",
            "20.40927019999799\n",
            "Epoch [1/3], Loss: 397.0546\n",
            "Epoch [2/3], Loss: 386.9471\n"
          ]
        },
        {
          "name": "stderr",
          "output_type": "stream",
          "text": [
            "\r",
            "  1%|          | 31/2743 [11:01<15:42:38, 20.86s/it]"
          ]
        },
        {
          "name": "stdout",
          "output_type": "stream",
          "text": [
            "Epoch [3/3], Loss: 379.3089\n",
            "ACLS done.\n",
            "20.44238580000092\n",
            "Epoch [1/3], Loss: 408.1316\n",
            "Epoch [2/3], Loss: 419.3422\n"
          ]
        },
        {
          "name": "stderr",
          "output_type": "stream",
          "text": [
            "\r",
            "  1%|          | 32/2743 [11:22<15:41:12, 20.83s/it]"
          ]
        },
        {
          "name": "stdout",
          "output_type": "stream",
          "text": [
            "Epoch [3/3], Loss: 413.0493\n",
            "ACLX done.\n",
            "20.434464499994647\n",
            "Epoch [1/3], Loss: 397.3842\n",
            "Epoch [2/3], Loss: 400.6945\n"
          ]
        },
        {
          "name": "stderr",
          "output_type": "stream",
          "text": [
            "\r",
            "  1%|          | 33/2743 [11:43<15:42:53, 20.88s/it]"
          ]
        },
        {
          "name": "stdout",
          "output_type": "stream",
          "text": [
            "Epoch [3/3], Loss: 400.7312\n",
            "ACMR done.\n",
            "20.63872270000138\n",
            "Epoch [1/3], Loss: 422.9944\n",
            "Epoch [2/3], Loss: 413.2834\n"
          ]
        },
        {
          "name": "stderr",
          "output_type": "stream",
          "text": [
            "\r",
            "  1%|          | 34/2743 [12:03<15:43:47, 20.90s/it]"
          ]
        },
        {
          "name": "stdout",
          "output_type": "stream",
          "text": [
            "Epoch [3/3], Loss: 409.5923\n",
            "ACNB done.\n",
            "20.624131599994143\n",
            "Epoch [1/3], Loss: 406.9316\n",
            "Epoch [2/3], Loss: 398.7935\n"
          ]
        },
        {
          "name": "stderr",
          "output_type": "stream",
          "text": [
            "\r",
            "  1%|▏         | 35/2743 [12:25<15:50:54, 21.07s/it]"
          ]
        },
        {
          "name": "stdout",
          "output_type": "stream",
          "text": [
            "Epoch [3/3], Loss: 394.5417\n",
            "ACON done.\n",
            "21.10682340000494\n",
            "Epoch [1/3], Loss: 421.4467\n",
            "Epoch [2/3], Loss: 388.0352\n"
          ]
        },
        {
          "name": "stderr",
          "output_type": "stream",
          "text": [
            "\r",
            "  1%|▏         | 36/2743 [12:46<15:49:53, 21.05s/it]"
          ]
        },
        {
          "name": "stdout",
          "output_type": "stream",
          "text": [
            "Epoch [3/3], Loss: 416.0756\n",
            "ACOR done.\n",
            "20.664886999999\n",
            "Epoch [1/3], Loss: 401.0701\n",
            "Epoch [2/3], Loss: 389.8251\n"
          ]
        },
        {
          "name": "stderr",
          "output_type": "stream",
          "text": [
            "\r",
            "  1%|▏         | 37/2743 [13:07<15:47:12, 21.00s/it]"
          ]
        },
        {
          "name": "stdout",
          "output_type": "stream",
          "text": [
            "Epoch [3/3], Loss: 407.5680\n",
            "ACRS done.\n",
            "20.53579410000384\n",
            "Epoch [1/3], Loss: 397.6111\n",
            "Epoch [2/3], Loss: 393.9779\n"
          ]
        },
        {
          "name": "stderr",
          "output_type": "stream",
          "text": [
            "\r",
            "  1%|▏         | 38/2743 [13:28<15:45:03, 20.96s/it]"
          ]
        },
        {
          "name": "stdout",
          "output_type": "stream",
          "text": [
            "Epoch [3/3], Loss: 387.5128\n",
            "ACRV done.\n",
            "20.509191499993904\n",
            "Epoch [1/3], Loss: 418.3348\n",
            "Epoch [2/3], Loss: 372.3665\n"
          ]
        },
        {
          "name": "stderr",
          "output_type": "stream",
          "text": [
            "\r",
            "  1%|▏         | 39/2743 [13:48<15:42:17, 20.91s/it]"
          ]
        },
        {
          "name": "stdout",
          "output_type": "stream",
          "text": [
            "Epoch [3/3], Loss: 409.5961\n",
            "ACRX done.\n",
            "20.43641100000241\n",
            "Epoch [1/3], Loss: 432.1046\n",
            "Epoch [2/3], Loss: 408.9674\n"
          ]
        },
        {
          "name": "stderr",
          "output_type": "stream",
          "text": [
            "\r",
            "  1%|▏         | 40/2743 [14:10<15:43:50, 20.95s/it]"
          ]
        },
        {
          "name": "stdout",
          "output_type": "stream",
          "text": [
            "Epoch [3/3], Loss: 384.9774\n",
            "ACST done.\n",
            "20.704474300000584\n",
            "Epoch [1/3], Loss: 421.9498\n",
            "Epoch [2/3], Loss: 414.8738\n"
          ]
        },
        {
          "name": "stderr",
          "output_type": "stream",
          "text": [
            "\r",
            "  1%|▏         | 41/2743 [14:30<15:43:35, 20.95s/it]"
          ]
        },
        {
          "name": "stdout",
          "output_type": "stream",
          "text": [
            "Epoch [3/3], Loss: 353.3087\n",
            "ACT done.\n",
            "20.61205119999795\n",
            "Epoch [1/3], Loss: 383.5070\n",
            "Epoch [2/3], Loss: 425.1304\n"
          ]
        },
        {
          "name": "stderr",
          "output_type": "stream",
          "text": [
            "\r",
            "  2%|▏         | 42/2743 [14:51<15:42:02, 20.93s/it]"
          ]
        },
        {
          "name": "stdout",
          "output_type": "stream",
          "text": [
            "Epoch [3/3], Loss: 384.5963\n",
            "ACTG done.\n",
            "20.505851200003235\n",
            "Epoch [1/3], Loss: 416.8079\n",
            "Epoch [2/3], Loss: 400.4371\n"
          ]
        },
        {
          "name": "stderr",
          "output_type": "stream",
          "text": [
            "\r",
            "  2%|▏         | 43/2743 [15:12<15:43:38, 20.97s/it]"
          ]
        },
        {
          "name": "stdout",
          "output_type": "stream",
          "text": [
            "Epoch [3/3], Loss: 414.8216\n",
            "ACVA done.\n",
            "20.72455259999697\n",
            "Epoch [1/3], Loss: 379.5966\n",
            "Epoch [2/3], Loss: 399.6427\n"
          ]
        },
        {
          "name": "stderr",
          "output_type": "stream",
          "text": [
            "\r",
            "  2%|▏         | 44/2743 [15:33<15:41:57, 20.94s/it]"
          ]
        },
        {
          "name": "stdout",
          "output_type": "stream",
          "text": [
            "Epoch [3/3], Loss: 404.7960\n",
            "ACXP done.\n",
            "20.525410499998543\n",
            "Epoch [1/3], Loss: 410.8626\n",
            "Epoch [2/3], Loss: 378.9796\n"
          ]
        },
        {
          "name": "stderr",
          "output_type": "stream",
          "text": [
            "\r",
            "  2%|▏         | 45/2743 [15:54<15:44:17, 21.00s/it]"
          ]
        },
        {
          "name": "stdout",
          "output_type": "stream",
          "text": [
            "Epoch [3/3], Loss: 432.5945\n",
            "ADAP done.\n",
            "20.792096799996216\n",
            "Epoch [1/3], Loss: 362.3888\n",
            "Epoch [2/3], Loss: 408.6901\n"
          ]
        },
        {
          "name": "stderr",
          "output_type": "stream",
          "text": [
            "\r",
            "  2%|▏         | 46/2743 [16:16<15:48:26, 21.10s/it]"
          ]
        },
        {
          "name": "stdout",
          "output_type": "stream",
          "text": [
            "Epoch [3/3], Loss: 396.1585\n",
            "ADBE done.\n",
            "20.98905840000225\n",
            "Epoch [1/3], Loss: 403.8122\n",
            "Epoch [2/3], Loss: 408.3640\n"
          ]
        },
        {
          "name": "stderr",
          "output_type": "stream",
          "text": [
            "\r",
            "  2%|▏         | 47/2743 [16:37<15:50:11, 21.15s/it]"
          ]
        },
        {
          "name": "stdout",
          "output_type": "stream",
          "text": [
            "Epoch [3/3], Loss: 407.7847\n",
            "ADD done.\n",
            "20.910612200001196\n",
            "Epoch [1/3], Loss: 394.7275\n",
            "Epoch [2/3], Loss: 391.6699\n"
          ]
        },
        {
          "name": "stderr",
          "output_type": "stream",
          "text": [
            "\r",
            "  2%|▏         | 48/2743 [16:58<15:51:05, 21.17s/it]"
          ]
        },
        {
          "name": "stdout",
          "output_type": "stream",
          "text": [
            "Epoch [3/3], Loss: 397.7550\n",
            "ADEA done.\n",
            "20.893197500001406\n",
            "Epoch [1/3], Loss: 415.1764\n",
            "Epoch [2/3], Loss: 384.3029\n"
          ]
        },
        {
          "name": "stderr",
          "output_type": "stream",
          "text": [
            "\r",
            "  2%|▏         | 49/2743 [17:20<15:51:40, 21.20s/it]"
          ]
        },
        {
          "name": "stdout",
          "output_type": "stream",
          "text": [
            "Epoch [3/3], Loss: 435.9600\n",
            "ADES done.\n",
            "20.883085100002063\n",
            "Epoch [1/3], Loss: 383.6909\n",
            "Epoch [2/3], Loss: 320.8503\n"
          ]
        },
        {
          "name": "stderr",
          "output_type": "stream",
          "text": [
            "\r",
            "  2%|▏         | 50/2743 [17:41<15:50:26, 21.18s/it]"
          ]
        },
        {
          "name": "stdout",
          "output_type": "stream",
          "text": [
            "Epoch [3/3], Loss: 415.4116\n",
            "ADI done.\n",
            "20.78927239999757\n",
            "Epoch [1/3], Loss: 399.5733\n",
            "Epoch [2/3], Loss: 394.3632\n"
          ]
        },
        {
          "name": "stderr",
          "output_type": "stream",
          "text": [
            "\r",
            "  2%|▏         | 51/2743 [18:02<15:50:26, 21.18s/it]"
          ]
        },
        {
          "name": "stdout",
          "output_type": "stream",
          "text": [
            "Epoch [3/3], Loss: 382.9430\n",
            "ADIL done.\n",
            "20.85768359999929\n",
            "Epoch [1/3], Loss: 397.7379\n",
            "Epoch [2/3], Loss: 408.5439\n"
          ]
        },
        {
          "name": "stderr",
          "output_type": "stream",
          "text": [
            "\r",
            "  2%|▏         | 52/2743 [18:23<15:46:04, 21.09s/it]"
          ]
        },
        {
          "name": "stdout",
          "output_type": "stream",
          "text": [
            "Epoch [3/3], Loss: 420.1207\n",
            "ADMA done.\n",
            "20.53483899999992\n",
            "Epoch [1/3], Loss: 425.9916\n",
            "Epoch [2/3], Loss: 394.7971\n"
          ]
        },
        {
          "name": "stderr",
          "output_type": "stream",
          "text": [
            "\r",
            "  2%|▏         | 53/2743 [18:44<15:42:32, 21.02s/it]"
          ]
        },
        {
          "name": "stdout",
          "output_type": "stream",
          "text": [
            "Epoch [3/3], Loss: 386.3776\n",
            "ADMP done.\n",
            "20.51271270000143\n",
            "Epoch [1/3], Loss: 376.8504\n",
            "Epoch [2/3], Loss: 391.3356\n"
          ]
        },
        {
          "name": "stderr",
          "output_type": "stream",
          "text": [
            "\r",
            "  2%|▏         | 54/2743 [19:04<15:36:24, 20.89s/it]"
          ]
        },
        {
          "name": "stdout",
          "output_type": "stream",
          "text": [
            "Epoch [3/3], Loss: 412.0815\n",
            "ADN done.\n",
            "20.24558590000379\n",
            "Epoch [1/3], Loss: 411.0632\n",
            "Epoch [2/3], Loss: 427.9394\n"
          ]
        },
        {
          "name": "stderr",
          "output_type": "stream",
          "text": [
            "\r",
            "  2%|▏         | 55/2743 [19:25<15:34:13, 20.85s/it]"
          ]
        },
        {
          "name": "stdout",
          "output_type": "stream",
          "text": [
            "Epoch [3/3], Loss: 416.5345\n",
            "ADP done.\n",
            "20.41481290000229\n",
            "Epoch [1/3], Loss: 383.8975\n",
            "Epoch [2/3], Loss: 403.9056\n"
          ]
        },
        {
          "name": "stderr",
          "output_type": "stream",
          "text": [
            "\r",
            "  2%|▏         | 56/2743 [19:46<15:33:02, 20.83s/it]"
          ]
        },
        {
          "name": "stdout",
          "output_type": "stream",
          "text": [
            "Epoch [3/3], Loss: 378.0417\n",
            "ADPT done.\n",
            "20.447588399998494\n",
            "Epoch [1/3], Loss: 409.3706\n",
            "Epoch [2/3], Loss: 360.5117\n"
          ]
        },
        {
          "name": "stderr",
          "output_type": "stream",
          "text": [
            "\r",
            "  2%|▏         | 57/2743 [20:07<15:33:54, 20.86s/it]"
          ]
        },
        {
          "name": "stdout",
          "output_type": "stream",
          "text": [
            "Epoch [3/3], Loss: 425.2831\n",
            "ADSE done.\n",
            "20.581093699998746\n",
            "Epoch [1/3], Loss: 384.0391\n",
            "Epoch [2/3], Loss: 398.6801\n"
          ]
        },
        {
          "name": "stderr",
          "output_type": "stream",
          "text": [
            "\r",
            "  2%|▏         | 58/2743 [20:27<15:31:37, 20.82s/it]"
          ]
        },
        {
          "name": "stdout",
          "output_type": "stream",
          "text": [
            "Epoch [3/3], Loss: 415.2794\n",
            "ADSK done.\n",
            "20.374274900001183\n",
            "Epoch [1/3], Loss: 409.7729\n",
            "Epoch [2/3], Loss: 418.4142\n"
          ]
        },
        {
          "name": "stderr",
          "output_type": "stream",
          "text": [
            "\r",
            "  2%|▏         | 59/2743 [20:48<15:34:17, 20.89s/it]"
          ]
        },
        {
          "name": "stdout",
          "output_type": "stream",
          "text": [
            "Epoch [3/3], Loss: 418.5893\n",
            "ADTH done.\n",
            "20.688088299997617\n",
            "Epoch [1/3], Loss: 391.4254\n",
            "Epoch [2/3], Loss: 409.8303\n"
          ]
        },
        {
          "name": "stderr",
          "output_type": "stream",
          "text": [
            "\r",
            "  2%|▏         | 60/2743 [21:09<15:33:57, 20.89s/it]"
          ]
        },
        {
          "name": "stdout",
          "output_type": "stream",
          "text": [
            "Epoch [3/3], Loss: 381.3315\n",
            "ADTN done.\n",
            "20.542415900003107\n",
            "Epoch [1/3], Loss: 414.3767\n",
            "Epoch [2/3], Loss: 399.8285\n"
          ]
        },
        {
          "name": "stderr",
          "output_type": "stream",
          "text": [
            "\r",
            "  2%|▏         | 61/2743 [21:30<15:37:12, 20.97s/it]"
          ]
        },
        {
          "name": "stdout",
          "output_type": "stream",
          "text": [
            "Epoch [3/3], Loss: 372.8932\n",
            "ADTX done.\n",
            "20.81038350000017\n",
            "Epoch [1/3], Loss: 387.3399\n",
            "Epoch [2/3], Loss: 386.0670\n"
          ]
        },
        {
          "name": "stderr",
          "output_type": "stream",
          "text": [
            "\r",
            "  2%|▏         | 62/2743 [21:51<15:34:20, 20.91s/it]"
          ]
        },
        {
          "name": "stdout",
          "output_type": "stream",
          "text": [
            "Epoch [3/3], Loss: 406.3655\n",
            "ADUS done.\n",
            "20.431258999997226\n",
            "Epoch [1/3], Loss: 402.2835\n",
            "Epoch [2/3], Loss: 392.6873\n"
          ]
        },
        {
          "name": "stderr",
          "output_type": "stream",
          "text": [
            "\r",
            "  2%|▏         | 63/2743 [22:12<15:32:59, 20.89s/it]"
          ]
        },
        {
          "name": "stdout",
          "output_type": "stream",
          "text": [
            "Epoch [3/3], Loss: 398.9139\n",
            "ADV done.\n",
            "20.492394700006116\n",
            "Epoch [1/3], Loss: 415.8459\n",
            "Epoch [2/3], Loss: 392.1025\n"
          ]
        },
        {
          "name": "stderr",
          "output_type": "stream",
          "text": [
            "\r",
            "  2%|▏         | 64/2743 [22:33<15:29:56, 20.83s/it]"
          ]
        },
        {
          "name": "stdout",
          "output_type": "stream",
          "text": [
            "Epoch [3/3], Loss: 396.1855\n",
            "ADVM done.\n",
            "20.343163400000776\n",
            "Epoch [1/3], Loss: 408.5224\n",
            "Epoch [2/3], Loss: 403.0565\n"
          ]
        },
        {
          "name": "stderr",
          "output_type": "stream",
          "text": [
            "\r",
            "  2%|▏         | 65/2743 [22:54<15:30:52, 20.86s/it]"
          ]
        },
        {
          "name": "stdout",
          "output_type": "stream",
          "text": [
            "Epoch [3/3], Loss: 375.2301\n",
            "ADXN done.\n",
            "20.582212899993465\n",
            "Epoch [1/3], Loss: 350.1022\n",
            "Epoch [2/3], Loss: 409.9418\n"
          ]
        },
        {
          "name": "stderr",
          "output_type": "stream",
          "text": [
            "\r",
            "  2%|▏         | 66/2743 [23:15<15:35:31, 20.97s/it]"
          ]
        },
        {
          "name": "stdout",
          "output_type": "stream",
          "text": [
            "Epoch [3/3], Loss: 390.8162\n",
            "AEHL done.\n",
            "20.878414099999645\n",
            "Epoch [1/3], Loss: 391.9358\n",
            "Epoch [2/3], Loss: 389.0162\n"
          ]
        },
        {
          "name": "stderr",
          "output_type": "stream",
          "text": [
            "\r",
            "  2%|▏         | 67/2743 [23:36<15:34:20, 20.95s/it]"
          ]
        },
        {
          "name": "stdout",
          "output_type": "stream",
          "text": [
            "Epoch [3/3], Loss: 403.0435\n",
            "AEHR done.\n",
            "20.550486300002376\n",
            "Epoch [1/3], Loss: 384.3176\n",
            "Epoch [2/3], Loss: 402.6533\n"
          ]
        },
        {
          "name": "stderr",
          "output_type": "stream",
          "text": [
            "\r",
            "  2%|▏         | 68/2743 [23:57<15:40:42, 21.10s/it]"
          ]
        },
        {
          "name": "stdout",
          "output_type": "stream",
          "text": [
            "Epoch [3/3], Loss: 400.9751\n",
            "AEI done.\n",
            "21.10168379999959\n",
            "Epoch [1/3], Loss: 416.3234\n",
            "Epoch [2/3], Loss: 408.4818\n"
          ]
        },
        {
          "name": "stderr",
          "output_type": "stream",
          "text": [
            "\r",
            "  3%|▎         | 69/2743 [24:18<15:39:58, 21.09s/it]"
          ]
        },
        {
          "name": "stdout",
          "output_type": "stream",
          "text": [
            "Epoch [3/3], Loss: 400.2064\n",
            "AEIS done.\n",
            "20.722374200006016\n",
            "Epoch [1/3], Loss: 390.3470\n",
            "Epoch [2/3], Loss: 414.0239\n"
          ]
        },
        {
          "name": "stderr",
          "output_type": "stream",
          "text": [
            "\r",
            "  3%|▎         | 70/2743 [24:39<15:37:40, 21.05s/it]"
          ]
        },
        {
          "name": "stdout",
          "output_type": "stream",
          "text": [
            "Epoch [3/3], Loss: 424.6230\n",
            "AEMD done.\n",
            "20.598487999995996\n",
            "Epoch [1/3], Loss: 416.7077\n",
            "Epoch [2/3], Loss: 403.5094\n"
          ]
        },
        {
          "name": "stderr",
          "output_type": "stream",
          "text": [
            "\r",
            "  3%|▎         | 71/2743 [25:00<15:33:00, 20.95s/it]"
          ]
        },
        {
          "name": "stdout",
          "output_type": "stream",
          "text": [
            "Epoch [3/3], Loss: 421.4093\n",
            "AEP done.\n",
            "20.384594499999366\n",
            "Epoch [1/3], Loss: 326.6979\n",
            "Epoch [2/3], Loss: 394.7818\n"
          ]
        },
        {
          "name": "stderr",
          "output_type": "stream",
          "text": [
            "\r",
            "  3%|▎         | 72/2743 [25:21<15:27:46, 20.84s/it]"
          ]
        },
        {
          "name": "stdout",
          "output_type": "stream",
          "text": [
            "Epoch [3/3], Loss: 382.0790\n",
            "AEY done.\n",
            "20.2455415000004\n",
            "Epoch [1/3], Loss: 394.0400\n",
            "Epoch [2/3], Loss: 419.0307\n"
          ]
        },
        {
          "name": "stderr",
          "output_type": "stream",
          "text": [
            "\r",
            "  3%|▎         | 73/2743 [25:42<15:28:31, 20.87s/it]"
          ]
        },
        {
          "name": "stdout",
          "output_type": "stream",
          "text": [
            "Epoch [3/3], Loss: 386.8530\n",
            "AEYE done.\n",
            "20.583841800005757\n",
            "Epoch [1/3], Loss: 439.9456\n",
            "Epoch [2/3], Loss: 401.4913\n"
          ]
        },
        {
          "name": "stderr",
          "output_type": "stream",
          "text": [
            "\r",
            "  3%|▎         | 74/2743 [26:02<15:27:27, 20.85s/it]"
          ]
        },
        {
          "name": "stdout",
          "output_type": "stream",
          "text": [
            "Epoch [3/3], Loss: 395.7694\n",
            "AEZS done.\n",
            "20.463559099996928\n",
            "Epoch [1/3], Loss: 396.6539\n",
            "Epoch [2/3], Loss: 394.5827\n"
          ]
        },
        {
          "name": "stderr",
          "output_type": "stream",
          "text": [
            "\r",
            "  3%|▎         | 75/2743 [26:23<15:23:41, 20.77s/it]"
          ]
        },
        {
          "name": "stdout",
          "output_type": "stream",
          "text": [
            "Epoch [3/3], Loss: 394.8799\n",
            "AFCG done.\n",
            "20.252950399997644\n",
            "Epoch [1/3], Loss: 382.9631\n",
            "Epoch [2/3], Loss: 434.6245\n"
          ]
        },
        {
          "name": "stderr",
          "output_type": "stream",
          "text": [
            "\r",
            "  3%|▎         | 76/2743 [26:44<15:22:17, 20.75s/it]"
          ]
        },
        {
          "name": "stdout",
          "output_type": "stream",
          "text": [
            "Epoch [3/3], Loss: 438.8872\n",
            "AFIB done.\n",
            "20.359134999998787\n",
            "Epoch [1/3], Loss: 389.6125\n",
            "Epoch [2/3], Loss: 385.8650\n"
          ]
        },
        {
          "name": "stderr",
          "output_type": "stream",
          "text": [
            "\r",
            "  3%|▎         | 77/2743 [27:05<15:25:35, 20.83s/it]"
          ]
        },
        {
          "name": "stdout",
          "output_type": "stream",
          "text": [
            "Epoch [3/3], Loss: 391.2199\n",
            "AFMD done.\n",
            "20.68436450000445\n",
            "Epoch [1/3], Loss: 385.6913\n",
            "Epoch [2/3], Loss: 398.8796\n"
          ]
        },
        {
          "name": "stderr",
          "output_type": "stream",
          "text": [
            "\r",
            "  3%|▎         | 78/2743 [27:25<15:25:04, 20.83s/it]"
          ]
        },
        {
          "name": "stdout",
          "output_type": "stream",
          "text": [
            "Epoch [3/3], Loss: 428.7632\n",
            "AFRM done.\n",
            "20.4788131000023\n",
            "Epoch [1/3], Loss: 419.4927\n",
            "Epoch [2/3], Loss: 405.7681\n"
          ]
        },
        {
          "name": "stderr",
          "output_type": "stream",
          "text": [
            "\r",
            "  3%|▎         | 79/2743 [27:47<15:29:01, 20.92s/it]"
          ]
        },
        {
          "name": "stdout",
          "output_type": "stream",
          "text": [
            "Epoch [3/3], Loss: 428.4005\n",
            "AFYA done.\n",
            "20.809629000003042\n",
            "Epoch [1/3], Loss: 384.6013\n",
            "Epoch [2/3], Loss: 425.5612\n"
          ]
        },
        {
          "name": "stderr",
          "output_type": "stream",
          "text": [
            "\r",
            "  3%|▎         | 80/2743 [28:07<15:28:13, 20.91s/it]"
          ]
        },
        {
          "name": "stdout",
          "output_type": "stream",
          "text": [
            "Epoch [3/3], Loss: 419.8672\n",
            "AGAE done.\n",
            "20.552733100004843\n",
            "Epoch [1/3], Loss: 394.8286\n",
            "Epoch [2/3], Loss: 407.3193\n"
          ]
        },
        {
          "name": "stderr",
          "output_type": "stream",
          "text": [
            "\r",
            "  3%|▎         | 81/2743 [28:28<15:28:03, 20.92s/it]"
          ]
        },
        {
          "name": "stdout",
          "output_type": "stream",
          "text": [
            "Epoch [3/3], Loss: 386.4770\n",
            "AGBA done.\n",
            "20.592731400000048\n",
            "Epoch [1/3], Loss: 400.5455\n",
            "Epoch [2/3], Loss: 423.7812\n"
          ]
        },
        {
          "name": "stderr",
          "output_type": "stream",
          "text": [
            "\r",
            "  3%|▎         | 82/2743 [28:49<15:28:31, 20.94s/it]"
          ]
        },
        {
          "name": "stdout",
          "output_type": "stream",
          "text": [
            "Epoch [3/3], Loss: 373.0985\n",
            "AGEN done.\n",
            "20.644028399998206\n",
            "Epoch [1/3], Loss: 362.0834\n",
            "Epoch [2/3], Loss: 393.5523\n"
          ]
        },
        {
          "name": "stderr",
          "output_type": "stream",
          "text": [
            "\r",
            "  3%|▎         | 83/2743 [29:11<15:32:14, 21.03s/it]"
          ]
        },
        {
          "name": "stdout",
          "output_type": "stream",
          "text": [
            "Epoch [3/3], Loss: 432.2627\n",
            "AGFY done.\n",
            "20.903278099998715\n",
            "Epoch [1/3], Loss: 400.9779\n",
            "Epoch [2/3], Loss: 368.3882\n"
          ]
        },
        {
          "name": "stderr",
          "output_type": "stream",
          "text": [
            "\r",
            "  3%|▎         | 84/2743 [29:32<15:31:36, 21.02s/it]"
          ]
        },
        {
          "name": "stdout",
          "output_type": "stream",
          "text": [
            "Epoch [3/3], Loss: 414.0855\n",
            "AGIL done.\n",
            "20.662850799999433\n",
            "Epoch [1/3], Loss: 404.4882\n",
            "Epoch [2/3], Loss: 410.4789\n"
          ]
        },
        {
          "name": "stderr",
          "output_type": "stream",
          "text": [
            "\r",
            "  3%|▎         | 85/2743 [29:52<15:27:34, 20.94s/it]"
          ]
        },
        {
          "name": "stdout",
          "output_type": "stream",
          "text": [
            "Epoch [3/3], Loss: 386.7361\n",
            "AGIO done.\n",
            "20.405049799999688\n",
            "Epoch [1/3], Loss: 403.1956\n",
            "Epoch [2/3], Loss: 418.2673\n"
          ]
        },
        {
          "name": "stderr",
          "output_type": "stream",
          "text": [
            "\r",
            "  3%|▎         | 86/2743 [30:13<15:23:58, 20.86s/it]"
          ]
        },
        {
          "name": "stdout",
          "output_type": "stream",
          "text": [
            "Epoch [3/3], Loss: 411.0837\n",
            "AGLE done.\n",
            "20.341328199996497\n",
            "Epoch [1/3], Loss: 440.9482\n",
            "Epoch [2/3], Loss: 408.6393\n"
          ]
        },
        {
          "name": "stderr",
          "output_type": "stream",
          "text": [
            "\r",
            "  3%|▎         | 87/2743 [30:34<15:21:44, 20.82s/it]"
          ]
        },
        {
          "name": "stdout",
          "output_type": "stream",
          "text": [
            "Epoch [3/3], Loss: 389.1976\n",
            "AGNC done.\n",
            "20.38287080000009\n",
            "Epoch [1/3], Loss: 394.5750\n",
            "Epoch [2/3], Loss: 413.4381\n"
          ]
        },
        {
          "name": "stderr",
          "output_type": "stream",
          "text": [
            "\r",
            "  3%|▎         | 88/2743 [30:55<15:21:44, 20.83s/it]"
          ]
        },
        {
          "name": "stdout",
          "output_type": "stream",
          "text": [
            "Epoch [3/3], Loss: 420.2471\n",
            "AGNCL done.\n",
            "20.50434849999874\n",
            "Epoch [1/3], Loss: 410.2808\n",
            "Epoch [2/3], Loss: 424.4032\n"
          ]
        },
        {
          "name": "stderr",
          "output_type": "stream",
          "text": [
            "\r",
            "  3%|▎         | 89/2743 [31:16<15:27:16, 20.96s/it]"
          ]
        },
        {
          "name": "stdout",
          "output_type": "stream",
          "text": [
            "Epoch [3/3], Loss: 400.8631\n",
            "AGNCM done.\n",
            "20.925569999999425\n",
            "Epoch [1/3], Loss: 399.4901\n",
            "Epoch [2/3], Loss: 382.9314\n"
          ]
        },
        {
          "name": "stderr",
          "output_type": "stream",
          "text": [
            "\r",
            "  3%|▎         | 90/2743 [31:37<15:27:12, 20.97s/it]"
          ]
        },
        {
          "name": "stdout",
          "output_type": "stream",
          "text": [
            "Epoch [3/3], Loss: 353.1558\n",
            "AGNCN done.\n",
            "20.64492009999958\n",
            "Epoch [1/3], Loss: 403.7061\n",
            "Epoch [2/3], Loss: 430.5177\n"
          ]
        },
        {
          "name": "stderr",
          "output_type": "stream",
          "text": [
            "\r",
            "  3%|▎         | 91/2743 [31:58<15:22:55, 20.88s/it]"
          ]
        },
        {
          "name": "stdout",
          "output_type": "stream",
          "text": [
            "Epoch [3/3], Loss: 404.7890\n",
            "AGNCO done.\n",
            "20.32530350000161\n",
            "Epoch [1/3], Loss: 397.9246\n",
            "Epoch [2/3], Loss: 385.1785\n"
          ]
        },
        {
          "name": "stderr",
          "output_type": "stream",
          "text": [
            "\r",
            "  3%|▎         | 92/2743 [32:19<15:24:36, 20.93s/it]"
          ]
        },
        {
          "name": "stdout",
          "output_type": "stream",
          "text": [
            "Epoch [3/3], Loss: 426.7868\n",
            "AGNCP done.\n",
            "20.695611099996313\n",
            "Epoch [1/3], Loss: 437.8446\n",
            "Epoch [2/3], Loss: 410.0755\n"
          ]
        },
        {
          "name": "stderr",
          "output_type": "stream",
          "text": [
            "\r",
            "  3%|▎         | 93/2743 [32:39<15:19:32, 20.82s/it]"
          ]
        },
        {
          "name": "stdout",
          "output_type": "stream",
          "text": [
            "Epoch [3/3], Loss: 381.0332\n",
            "AGRI done.\n",
            "20.230218100005004\n",
            "Epoch [1/3], Loss: 376.3566\n",
            "Epoch [2/3], Loss: 403.4147\n"
          ]
        },
        {
          "name": "stderr",
          "output_type": "stream",
          "text": [
            "\r",
            "  3%|▎         | 94/2743 [33:00<15:16:35, 20.76s/it]"
          ]
        },
        {
          "name": "stdout",
          "output_type": "stream",
          "text": [
            "Epoch [3/3], Loss: 392.4570\n",
            "AGRX done.\n",
            "20.28268240000034\n",
            "Epoch [1/3], Loss: 419.4350\n",
            "Epoch [2/3], Loss: 392.5671\n"
          ]
        },
        {
          "name": "stderr",
          "output_type": "stream",
          "text": [
            "\r",
            "  3%|▎         | 95/2743 [33:21<15:17:52, 20.80s/it]"
          ]
        },
        {
          "name": "stdout",
          "output_type": "stream",
          "text": [
            "Epoch [3/3], Loss: 377.7031\n",
            "AGYS done.\n",
            "20.53828020000219\n",
            "Epoch [1/3], Loss: 386.6187\n",
            "Epoch [2/3], Loss: 379.0086\n"
          ]
        },
        {
          "name": "stderr",
          "output_type": "stream",
          "text": [
            "\r",
            "  3%|▎         | 96/2743 [33:42<15:22:17, 20.91s/it]"
          ]
        },
        {
          "name": "stdout",
          "output_type": "stream",
          "text": [
            "Epoch [3/3], Loss: 408.8865\n",
            "AHCO done.\n",
            "20.81555500000104\n",
            "Epoch [1/3], Loss: 383.9249\n",
            "Epoch [2/3], Loss: 389.9753\n"
          ]
        },
        {
          "name": "stderr",
          "output_type": "stream",
          "text": [
            "\r",
            "  4%|▎         | 97/2743 [34:03<15:23:28, 20.94s/it]"
          ]
        },
        {
          "name": "stdout",
          "output_type": "stream",
          "text": [
            "Epoch [3/3], Loss: 402.5239\n",
            "AHG done.\n",
            "20.68178949999856\n",
            "Epoch [1/3], Loss: 422.4107\n",
            "Epoch [2/3], Loss: 416.2200\n"
          ]
        },
        {
          "name": "stderr",
          "output_type": "stream",
          "text": [
            "\r",
            "  4%|▎         | 98/2743 [34:24<15:20:04, 20.87s/it]"
          ]
        },
        {
          "name": "stdout",
          "output_type": "stream",
          "text": [
            "Epoch [3/3], Loss: 392.4648\n",
            "AIHS done.\n",
            "20.368667800001276\n",
            "Epoch [1/3], Loss: 432.4309\n",
            "Epoch [2/3], Loss: 410.2959\n"
          ]
        },
        {
          "name": "stderr",
          "output_type": "stream",
          "text": [
            "\r",
            "  4%|▎         | 99/2743 [34:45<15:23:57, 20.97s/it]"
          ]
        },
        {
          "name": "stdout",
          "output_type": "stream",
          "text": [
            "Epoch [3/3], Loss: 417.9845\n",
            "AIMD done.\n",
            "20.849519799994596\n",
            "Epoch [1/3], Loss: 377.4632\n",
            "Epoch [2/3], Loss: 403.8105\n"
          ]
        },
        {
          "name": "stderr",
          "output_type": "stream",
          "text": [
            "\r",
            "  4%|▎         | 100/2743 [35:06<15:25:27, 21.01s/it]"
          ]
        },
        {
          "name": "stdout",
          "output_type": "stream",
          "text": [
            "Epoch [3/3], Loss: 448.6398\n",
            "AIP done.\n",
            "20.774371900006372\n",
            "Epoch [1/3], Loss: 411.9623\n",
            "Epoch [2/3], Loss: 410.8078\n"
          ]
        },
        {
          "name": "stderr",
          "output_type": "stream",
          "text": [
            "\r",
            "  4%|▎         | 101/2743 [35:27<15:25:07, 21.01s/it]"
          ]
        },
        {
          "name": "stdout",
          "output_type": "stream",
          "text": [
            "Epoch [3/3], Loss: 414.5256\n",
            "AIRG done.\n",
            "20.67850460000045\n",
            "Epoch [1/3], Loss: 398.4511\n",
            "Epoch [2/3], Loss: 390.3940\n"
          ]
        },
        {
          "name": "stderr",
          "output_type": "stream",
          "text": [
            "\r",
            "  4%|▎         | 102/2743 [35:48<15:25:37, 21.03s/it]"
          ]
        },
        {
          "name": "stdout",
          "output_type": "stream",
          "text": [
            "Epoch [3/3], Loss: 466.0761\n",
            "AIRS done.\n",
            "20.740037000003213\n",
            "Epoch [1/3], Loss: 408.7330\n",
            "Epoch [2/3], Loss: 401.9620\n"
          ]
        },
        {
          "name": "stderr",
          "output_type": "stream",
          "text": [
            "\r",
            "  4%|▍         | 103/2743 [36:08<15:17:46, 20.86s/it]"
          ]
        },
        {
          "name": "stdout",
          "output_type": "stream",
          "text": [
            "Epoch [3/3], Loss: 387.8918\n",
            "AKAM done.\n",
            "20.1287353000007\n",
            "Epoch [1/3], Loss: 411.1304\n",
            "Epoch [2/3], Loss: 413.2298\n"
          ]
        },
        {
          "name": "stderr",
          "output_type": "stream",
          "text": [
            "\r",
            "  4%|▍         | 104/2743 [36:29<15:12:48, 20.75s/it]"
          ]
        },
        {
          "name": "stdout",
          "output_type": "stream",
          "text": [
            "Epoch [3/3], Loss: 402.9538\n",
            "AKAN done.\n",
            "20.17729180000606\n",
            "Epoch [1/3], Loss: 440.0017\n",
            "Epoch [2/3], Loss: 374.9796\n"
          ]
        },
        {
          "name": "stderr",
          "output_type": "stream",
          "text": [
            "\r",
            "  4%|▍         | 105/2743 [36:50<15:11:05, 20.72s/it]"
          ]
        },
        {
          "name": "stdout",
          "output_type": "stream",
          "text": [
            "Epoch [3/3], Loss: 393.5940\n",
            "AKBA done.\n",
            "20.316003500003717\n",
            "Epoch [1/3], Loss: 414.3873\n",
            "Epoch [2/3], Loss: 418.2393\n"
          ]
        },
        {
          "name": "stderr",
          "output_type": "stream",
          "text": [
            "\r",
            "  4%|▍         | 106/2743 [37:10<15:12:21, 20.76s/it]"
          ]
        },
        {
          "name": "stdout",
          "output_type": "stream",
          "text": [
            "Epoch [3/3], Loss: 426.7228\n",
            "AKLI done.\n",
            "20.513808499999868\n",
            "Epoch [1/3], Loss: 396.2318\n",
            "Epoch [2/3], Loss: 422.3897\n"
          ]
        },
        {
          "name": "stderr",
          "output_type": "stream",
          "text": [
            "\r",
            "  4%|▍         | 107/2743 [37:31<15:14:30, 20.82s/it]"
          ]
        },
        {
          "name": "stdout",
          "output_type": "stream",
          "text": [
            "Epoch [3/3], Loss: 405.5619\n",
            "AKRO done.\n",
            "20.61510659999476\n",
            "Epoch [1/3], Loss: 378.4924\n",
            "Epoch [2/3], Loss: 397.0394\n"
          ]
        },
        {
          "name": "stderr",
          "output_type": "stream",
          "text": [
            "\r",
            "  4%|▍         | 108/2743 [37:53<15:18:12, 20.91s/it]"
          ]
        },
        {
          "name": "stdout",
          "output_type": "stream",
          "text": [
            "Epoch [3/3], Loss: 396.9134\n",
            "AKTS done.\n",
            "20.78743189999659\n",
            "Epoch [1/3], Loss: 393.0040\n",
            "Epoch [2/3], Loss: 408.4531\n"
          ]
        },
        {
          "name": "stderr",
          "output_type": "stream",
          "text": [
            "\r",
            "  4%|▍         | 109/2743 [38:13<15:13:07, 20.80s/it]"
          ]
        },
        {
          "name": "stdout",
          "output_type": "stream",
          "text": [
            "Epoch [3/3], Loss: 409.3730\n",
            "AKTX done.\n",
            "20.207060000000638\n",
            "Epoch [1/3], Loss: 418.5956\n",
            "Epoch [2/3], Loss: 400.6283\n"
          ]
        },
        {
          "name": "stderr",
          "output_type": "stream",
          "text": [
            "\r",
            "  4%|▍         | 110/2743 [38:34<15:10:06, 20.74s/it]"
          ]
        },
        {
          "name": "stdout",
          "output_type": "stream",
          "text": [
            "Epoch [3/3], Loss: 398.3539\n",
            "AKU done.\n",
            "20.261169899997185\n",
            "Epoch [1/3], Loss: 425.9078\n",
            "Epoch [2/3], Loss: 344.9409\n"
          ]
        },
        {
          "name": "stderr",
          "output_type": "stream",
          "text": [
            "\r",
            "  4%|▍         | 111/2743 [38:55<15:12:51, 20.81s/it]"
          ]
        },
        {
          "name": "stdout",
          "output_type": "stream",
          "text": [
            "Epoch [3/3], Loss: 386.4274\n",
            "AKYA done.\n",
            "20.62168119999842\n",
            "Epoch [1/3], Loss: 407.5001\n",
            "Epoch [2/3], Loss: 397.5147\n"
          ]
        },
        {
          "name": "stderr",
          "output_type": "stream",
          "text": [
            "\r",
            "  4%|▍         | 112/2743 [39:15<15:10:03, 20.75s/it]"
          ]
        },
        {
          "name": "stdout",
          "output_type": "stream",
          "text": [
            "Epoch [3/3], Loss: 393.0245\n",
            "ALAR done.\n",
            "20.28532859999541\n",
            "Epoch [1/3], Loss: 374.8979\n",
            "Epoch [2/3], Loss: 393.2626\n"
          ]
        },
        {
          "name": "stderr",
          "output_type": "stream",
          "text": [
            "\r",
            "  4%|▍         | 113/2743 [39:36<15:10:35, 20.77s/it]"
          ]
        },
        {
          "name": "stdout",
          "output_type": "stream",
          "text": [
            "Epoch [3/3], Loss: 375.8641\n",
            "ALBT done.\n",
            "20.481716800000868\n",
            "Epoch [1/3], Loss: 388.9121\n",
            "Epoch [2/3], Loss: 369.8923\n"
          ]
        },
        {
          "name": "stderr",
          "output_type": "stream",
          "text": [
            "\r",
            "  4%|▍         | 114/2743 [39:57<15:13:35, 20.85s/it]"
          ]
        },
        {
          "name": "stdout",
          "output_type": "stream",
          "text": [
            "Epoch [3/3], Loss: 413.7692\n",
            "ALCO done.\n",
            "20.680587700000615\n",
            "Epoch [1/3], Loss: 402.2406\n",
            "Epoch [2/3], Loss: 403.2512\n"
          ]
        },
        {
          "name": "stderr",
          "output_type": "stream",
          "text": [
            "\r",
            "  4%|▍         | 115/2743 [40:18<15:17:54, 20.96s/it]"
          ]
        },
        {
          "name": "stdout",
          "output_type": "stream",
          "text": [
            "Epoch [3/3], Loss: 384.7611\n",
            "ALDX done.\n",
            "20.86412350000319\n",
            "Epoch [1/3], Loss: 402.0877\n",
            "Epoch [2/3], Loss: 397.7389\n"
          ]
        },
        {
          "name": "stderr",
          "output_type": "stream",
          "text": [
            "\r",
            "  4%|▍         | 116/2743 [40:39<15:15:49, 20.92s/it]"
          ]
        },
        {
          "name": "stdout",
          "output_type": "stream",
          "text": [
            "Epoch [3/3], Loss: 381.9286\n",
            "ALEC done.\n",
            "20.483758900001703\n",
            "Epoch [1/3], Loss: 368.7178\n",
            "Epoch [2/3], Loss: 419.4361\n"
          ]
        },
        {
          "name": "stderr",
          "output_type": "stream",
          "text": [
            "\r",
            "  4%|▍         | 117/2743 [41:00<15:14:02, 20.88s/it]"
          ]
        },
        {
          "name": "stdout",
          "output_type": "stream",
          "text": [
            "Epoch [3/3], Loss: 410.2659\n",
            "ALGM done.\n",
            "20.46179680000205\n",
            "Epoch [1/3], Loss: 416.6446\n",
            "Epoch [2/3], Loss: 397.5204\n"
          ]
        },
        {
          "name": "stderr",
          "output_type": "stream",
          "text": [
            "\r",
            "  4%|▍         | 118/2743 [41:21<15:11:48, 20.84s/it]"
          ]
        },
        {
          "name": "stdout",
          "output_type": "stream",
          "text": [
            "Epoch [3/3], Loss: 403.5089\n",
            "ALGN done.\n",
            "20.401581900005112\n",
            "Epoch [1/3], Loss: 394.6412\n",
            "Epoch [2/3], Loss: 383.9383\n"
          ]
        },
        {
          "name": "stderr",
          "output_type": "stream",
          "text": [
            "\r",
            "  4%|▍         | 119/2743 [41:41<15:08:57, 20.78s/it]"
          ]
        },
        {
          "name": "stdout",
          "output_type": "stream",
          "text": [
            "Epoch [3/3], Loss: 402.1302\n",
            "ALGS done.\n",
            "20.305719600000884\n",
            "Epoch [1/3], Loss: 374.1543\n",
            "Epoch [2/3], Loss: 387.7167\n"
          ]
        },
        {
          "name": "stderr",
          "output_type": "stream",
          "text": [
            "\r",
            "  4%|▍         | 120/2743 [42:02<15:11:53, 20.86s/it]"
          ]
        },
        {
          "name": "stdout",
          "output_type": "stream",
          "text": [
            "Epoch [3/3], Loss: 402.1481\n",
            "ALGT done.\n",
            "20.694329700003436\n",
            "Epoch [1/3], Loss: 399.2097\n",
            "Epoch [2/3], Loss: 417.9380\n"
          ]
        },
        {
          "name": "stderr",
          "output_type": "stream",
          "text": [
            "\r",
            "  4%|▍         | 121/2743 [42:23<15:14:03, 20.92s/it]"
          ]
        },
        {
          "name": "stdout",
          "output_type": "stream",
          "text": [
            "Epoch [3/3], Loss: 377.9408\n",
            "ALHC done.\n",
            "20.71126760000334\n",
            "Epoch [1/3], Loss: 385.1740\n",
            "Epoch [2/3], Loss: 433.6393\n"
          ]
        },
        {
          "name": "stderr",
          "output_type": "stream",
          "text": [
            "\r",
            "  4%|▍         | 122/2743 [42:45<15:18:29, 21.03s/it]"
          ]
        },
        {
          "name": "stdout",
          "output_type": "stream",
          "text": [
            "Epoch [3/3], Loss: 442.3887\n",
            "ALIM done.\n",
            "20.939567999994324\n",
            "Epoch [1/3], Loss: 397.2706\n",
            "Epoch [2/3], Loss: 404.6362\n"
          ]
        },
        {
          "name": "stderr",
          "output_type": "stream",
          "text": [
            "\r",
            "  4%|▍         | 123/2743 [43:06<15:18:00, 21.02s/it]"
          ]
        },
        {
          "name": "stdout",
          "output_type": "stream",
          "text": [
            "Epoch [3/3], Loss: 422.4494\n",
            "ALKS done.\n",
            "20.674009899994417\n",
            "Epoch [1/3], Loss: 412.0208\n",
            "Epoch [2/3], Loss: 389.7899\n"
          ]
        },
        {
          "name": "stderr",
          "output_type": "stream",
          "text": [
            "\r",
            "  5%|▍         | 124/2743 [43:27<15:15:44, 20.98s/it]"
          ]
        },
        {
          "name": "stdout",
          "output_type": "stream",
          "text": [
            "Epoch [3/3], Loss: 413.9401\n",
            "ALKT done.\n",
            "20.535151600000972\n",
            "Epoch [1/3], Loss: 422.4445\n",
            "Epoch [2/3], Loss: 385.0126\n"
          ]
        },
        {
          "name": "stderr",
          "output_type": "stream",
          "text": [
            "\r",
            "  5%|▍         | 125/2743 [43:47<15:13:24, 20.93s/it]"
          ]
        },
        {
          "name": "stdout",
          "output_type": "stream",
          "text": [
            "Epoch [3/3], Loss: 407.4542\n",
            "ALLK done.\n",
            "20.474388999995426\n",
            "Epoch [1/3], Loss: 391.7632\n",
            "Epoch [2/3], Loss: 393.6630\n"
          ]
        },
        {
          "name": "stderr",
          "output_type": "stream",
          "text": [
            "\r",
            "  5%|▍         | 126/2743 [44:08<15:10:20, 20.87s/it]"
          ]
        },
        {
          "name": "stdout",
          "output_type": "stream",
          "text": [
            "Epoch [3/3], Loss: 403.6938\n",
            "ALLO done.\n",
            "20.383120399994368\n",
            "Epoch [1/3], Loss: 334.4689\n",
            "Epoch [2/3], Loss: 417.7569\n"
          ]
        },
        {
          "name": "stderr",
          "output_type": "stream",
          "text": [
            "\r",
            "  5%|▍         | 127/2743 [44:29<15:11:41, 20.91s/it]"
          ]
        },
        {
          "name": "stdout",
          "output_type": "stream",
          "text": [
            "Epoch [3/3], Loss: 437.2006\n",
            "ALLR done.\n",
            "20.659166400000686\n",
            "Epoch [1/3], Loss: 417.0407\n",
            "Epoch [2/3], Loss: 379.7779\n"
          ]
        },
        {
          "name": "stderr",
          "output_type": "stream",
          "text": [
            "\r",
            "  5%|▍         | 128/2743 [44:50<15:11:57, 20.92s/it]"
          ]
        },
        {
          "name": "stdout",
          "output_type": "stream",
          "text": [
            "Epoch [3/3], Loss: 398.6454\n",
            "ALLT done.\n",
            "20.619300099999236\n",
            "Epoch [1/3], Loss: 398.9700\n",
            "Epoch [2/3], Loss: 416.7863\n"
          ]
        },
        {
          "name": "stderr",
          "output_type": "stream",
          "text": [
            "\r",
            "  5%|▍         | 129/2743 [45:11<15:07:11, 20.82s/it]"
          ]
        },
        {
          "name": "stdout",
          "output_type": "stream",
          "text": [
            "Epoch [3/3], Loss: 393.3828\n",
            "ALNY done.\n",
            "20.245095099999162\n",
            "Epoch [1/3], Loss: 399.0511\n",
            "Epoch [2/3], Loss: 411.5555\n"
          ]
        },
        {
          "name": "stderr",
          "output_type": "stream",
          "text": [
            "\r",
            "  5%|▍         | 130/2743 [45:32<15:08:12, 20.85s/it]"
          ]
        },
        {
          "name": "stdout",
          "output_type": "stream",
          "text": [
            "Epoch [3/3], Loss: 372.3277\n",
            "ALPN done.\n",
            "20.591056100005517\n",
            "Epoch [1/3], Loss: 427.0477\n",
            "Epoch [2/3], Loss: 408.0474\n"
          ]
        },
        {
          "name": "stderr",
          "output_type": "stream",
          "text": [
            "\r",
            "  5%|▍         | 131/2743 [45:53<15:09:36, 20.89s/it]"
          ]
        },
        {
          "name": "stdout",
          "output_type": "stream",
          "text": [
            "Epoch [3/3], Loss: 378.6287\n",
            "ALPP done.\n",
            "20.650610400000005\n",
            "Epoch [1/3], Loss: 427.4420\n",
            "Epoch [2/3], Loss: 391.7672\n"
          ]
        },
        {
          "name": "stderr",
          "output_type": "stream",
          "text": [
            "\r",
            "  5%|▍         | 132/2743 [46:14<15:14:24, 21.01s/it]"
          ]
        },
        {
          "name": "stdout",
          "output_type": "stream",
          "text": [
            "Epoch [3/3], Loss: 374.1201\n",
            "ALRM done.\n",
            "20.948577100003604\n",
            "Epoch [1/3], Loss: 417.8063\n",
            "Epoch [2/3], Loss: 384.4336\n"
          ]
        },
        {
          "name": "stderr",
          "output_type": "stream",
          "text": [
            "\r",
            "  5%|▍         | 133/2743 [46:35<15:13:37, 21.00s/it]"
          ]
        },
        {
          "name": "stdout",
          "output_type": "stream",
          "text": [
            "Epoch [3/3], Loss: 409.3813\n",
            "ALRN done.\n",
            "20.63070819999848\n",
            "Epoch [1/3], Loss: 424.8512\n",
            "Epoch [2/3], Loss: 413.9167\n"
          ]
        },
        {
          "name": "stderr",
          "output_type": "stream",
          "text": [
            "\r",
            "  5%|▍         | 134/2743 [46:56<15:08:36, 20.90s/it]"
          ]
        },
        {
          "name": "stdout",
          "output_type": "stream",
          "text": [
            "Epoch [3/3], Loss: 413.2579\n",
            "ALRS done.\n",
            "20.30532690000109\n",
            "Epoch [1/3], Loss: 426.8676\n",
            "Epoch [2/3], Loss: 421.2050\n"
          ]
        },
        {
          "name": "stderr",
          "output_type": "stream",
          "text": [
            "\r",
            "  5%|▍         | 135/2743 [47:17<15:09:35, 20.93s/it]"
          ]
        },
        {
          "name": "stdout",
          "output_type": "stream",
          "text": [
            "Epoch [3/3], Loss: 421.4319\n",
            "ALT done.\n",
            "20.658173899995745\n",
            "Epoch [1/3], Loss: 386.7696\n",
            "Epoch [2/3], Loss: 405.0731\n"
          ]
        },
        {
          "name": "stderr",
          "output_type": "stream",
          "text": [
            "\r",
            "  5%|▍         | 136/2743 [47:38<15:11:39, 20.98s/it]"
          ]
        },
        {
          "name": "stdout",
          "output_type": "stream",
          "text": [
            "Epoch [3/3], Loss: 402.5621\n",
            "ALTI done.\n",
            "20.773116800002754\n",
            "Epoch [1/3], Loss: 429.2035\n",
            "Epoch [2/3], Loss: 397.0835\n"
          ]
        },
        {
          "name": "stderr",
          "output_type": "stream",
          "text": [
            "\r",
            "  5%|▍         | 137/2743 [47:59<15:14:15, 21.05s/it]"
          ]
        },
        {
          "name": "stdout",
          "output_type": "stream",
          "text": [
            "Epoch [3/3], Loss: 418.8618\n",
            "ALTO done.\n",
            "20.870178999997734\n",
            "Epoch [1/3], Loss: 428.6976\n",
            "Epoch [2/3], Loss: 405.4772\n"
          ]
        },
        {
          "name": "stderr",
          "output_type": "stream",
          "text": [
            "\r",
            "  5%|▌         | 138/2743 [48:19<15:08:21, 20.92s/it]"
          ]
        },
        {
          "name": "stdout",
          "output_type": "stream",
          "text": [
            "Epoch [3/3], Loss: 410.6541\n",
            "ALTR done.\n",
            "20.287551699999312\n",
            "Epoch [1/3], Loss: 405.4461\n",
            "Epoch [2/3], Loss: 392.2121\n"
          ]
        },
        {
          "name": "stderr",
          "output_type": "stream",
          "text": [
            "\r",
            "  5%|▌         | 139/2743 [48:41<15:10:33, 20.98s/it]"
          ]
        },
        {
          "name": "stdout",
          "output_type": "stream",
          "text": [
            "Epoch [3/3], Loss: 434.3902\n",
            "ALVO done.\n",
            "20.780130799998005\n",
            "Epoch [1/3], Loss: 387.8300\n",
            "Epoch [2/3], Loss: 387.7086\n"
          ]
        },
        {
          "name": "stderr",
          "output_type": "stream",
          "text": [
            "\r",
            "  5%|▌         | 140/2743 [49:01<15:05:32, 20.87s/it]"
          ]
        },
        {
          "name": "stdout",
          "output_type": "stream",
          "text": [
            "Epoch [3/3], Loss: 406.1095\n",
            "ALVR done.\n",
            "20.286234900006093\n",
            "Epoch [1/3], Loss: 400.4342\n",
            "Epoch [2/3], Loss: 407.6206\n"
          ]
        },
        {
          "name": "stderr",
          "output_type": "stream",
          "text": [
            "\r",
            "  5%|▌         | 141/2743 [49:22<15:02:10, 20.80s/it]"
          ]
        },
        {
          "name": "stdout",
          "output_type": "stream",
          "text": [
            "Epoch [3/3], Loss: 407.1634\n",
            "ALXO done.\n",
            "20.29878379999718\n",
            "Epoch [1/3], Loss: 392.2001\n",
            "Epoch [2/3], Loss: 372.2792\n"
          ]
        },
        {
          "name": "stderr",
          "output_type": "stream",
          "text": [
            "\r",
            "  5%|▌         | 142/2743 [49:43<15:02:14, 20.81s/it]"
          ]
        },
        {
          "name": "stdout",
          "output_type": "stream",
          "text": [
            "Epoch [3/3], Loss: 384.7006\n",
            "ALYA done.\n",
            "20.496947700004966\n",
            "Epoch [1/3], Loss: 389.3417\n",
            "Epoch [2/3], Loss: 386.3604\n"
          ]
        },
        {
          "name": "stderr",
          "output_type": "stream",
          "text": [
            "\r",
            "  5%|▌         | 143/2743 [50:04<15:05:50, 20.90s/it]"
          ]
        },
        {
          "name": "stdout",
          "output_type": "stream",
          "text": [
            "Epoch [3/3], Loss: 409.9385\n",
            "ALZN done.\n",
            "20.773447500003385\n",
            "Epoch [1/3], Loss: 361.2064\n",
            "Epoch [2/3], Loss: 406.6925\n"
          ]
        },
        {
          "name": "stderr",
          "output_type": "stream",
          "text": [
            "\r",
            "  5%|▌         | 144/2743 [50:25<15:09:26, 21.00s/it]"
          ]
        },
        {
          "name": "stdout",
          "output_type": "stream",
          "text": [
            "Epoch [3/3], Loss: 368.1906\n",
            "AMAL done.\n",
            "20.864639700004773\n",
            "Epoch [1/3], Loss: 407.5558\n",
            "Epoch [2/3], Loss: 380.8068\n"
          ]
        },
        {
          "name": "stderr",
          "output_type": "stream",
          "text": [
            "\r",
            "  5%|▌         | 145/2743 [50:46<15:11:28, 21.05s/it]"
          ]
        },
        {
          "name": "stdout",
          "output_type": "stream",
          "text": [
            "Epoch [3/3], Loss: 393.3054\n",
            "AMAM done.\n",
            "20.839023200001975\n",
            "Epoch [1/3], Loss: 378.8116\n",
            "Epoch [2/3], Loss: 410.1223\n"
          ]
        },
        {
          "name": "stderr",
          "output_type": "stream",
          "text": [
            "\r",
            "  5%|▌         | 146/2743 [51:07<15:07:05, 20.96s/it]"
          ]
        },
        {
          "name": "stdout",
          "output_type": "stream",
          "text": [
            "Epoch [3/3], Loss: 424.2191\n",
            "AMAT done.\n",
            "20.399035100002948\n",
            "Epoch [1/3], Loss: 392.3795\n",
            "Epoch [2/3], Loss: 397.0292\n"
          ]
        },
        {
          "name": "stderr",
          "output_type": "stream",
          "text": [
            "\r",
            "  5%|▌         | 147/2743 [51:28<15:09:54, 21.03s/it]"
          ]
        },
        {
          "name": "stdout",
          "output_type": "stream",
          "text": [
            "Epoch [3/3], Loss: 407.1638\n",
            "AMBA done.\n",
            "20.861661199996888\n",
            "Epoch [1/3], Loss: 415.3694\n",
            "Epoch [2/3], Loss: 385.9182\n"
          ]
        },
        {
          "name": "stderr",
          "output_type": "stream",
          "text": [
            "\r",
            "  5%|▌         | 148/2743 [51:49<15:10:29, 21.05s/it]"
          ]
        },
        {
          "name": "stdout",
          "output_type": "stream",
          "text": [
            "Epoch [3/3], Loss: 412.7301\n",
            "AMCX done.\n",
            "20.76045929999964\n",
            "Epoch [1/3], Loss: 394.5674\n",
            "Epoch [2/3], Loss: 402.9280\n"
          ]
        },
        {
          "name": "stderr",
          "output_type": "stream",
          "text": [
            "\r",
            "  5%|▌         | 149/2743 [52:10<15:08:33, 21.02s/it]"
          ]
        },
        {
          "name": "stdout",
          "output_type": "stream",
          "text": [
            "Epoch [3/3], Loss: 378.4846\n",
            "AMD done.\n",
            "20.59034100000281\n",
            "Epoch [1/3], Loss: 439.3336\n",
            "Epoch [2/3], Loss: 381.1166\n"
          ]
        },
        {
          "name": "stderr",
          "output_type": "stream",
          "text": [
            "\r",
            "  5%|▌         | 150/2743 [52:31<15:08:57, 21.03s/it]"
          ]
        },
        {
          "name": "stdout",
          "output_type": "stream",
          "text": [
            "Epoch [3/3], Loss: 391.3898\n",
            "AMED done.\n",
            "20.73035340000206\n",
            "Epoch [1/3], Loss: 433.0323\n",
            "Epoch [2/3], Loss: 417.6837\n"
          ]
        },
        {
          "name": "stderr",
          "output_type": "stream",
          "text": [
            "\r",
            "  6%|▌         | 151/2743 [52:52<15:06:35, 20.99s/it]"
          ]
        },
        {
          "name": "stdout",
          "output_type": "stream",
          "text": [
            "Epoch [3/3], Loss: 391.9853\n",
            "AMEH done.\n",
            "20.539268399996217\n",
            "Epoch [1/3], Loss: 399.8784\n",
            "Epoch [2/3], Loss: 402.4959\n"
          ]
        },
        {
          "name": "stderr",
          "output_type": "stream",
          "text": [
            "\r",
            "  6%|▌         | 152/2743 [53:13<15:02:29, 20.90s/it]"
          ]
        },
        {
          "name": "stdout",
          "output_type": "stream",
          "text": [
            "Epoch [3/3], Loss: 384.9092\n",
            "AMGN done.\n",
            "20.340120599998045\n",
            "Epoch [1/3], Loss: 378.4505\n",
            "Epoch [2/3], Loss: 389.1476\n"
          ]
        },
        {
          "name": "stderr",
          "output_type": "stream",
          "text": [
            "\r",
            "  6%|▌         | 153/2743 [53:34<15:03:05, 20.92s/it]"
          ]
        },
        {
          "name": "stdout",
          "output_type": "stream",
          "text": [
            "Epoch [3/3], Loss: 388.9480\n",
            "AMKR done.\n",
            "20.62489579999965\n",
            "Epoch [1/3], Loss: 385.3495\n",
            "Epoch [2/3], Loss: 424.4798\n"
          ]
        },
        {
          "name": "stderr",
          "output_type": "stream",
          "text": [
            "\r",
            "  6%|▌         | 154/2743 [53:55<15:00:50, 20.88s/it]"
          ]
        },
        {
          "name": "stdout",
          "output_type": "stream",
          "text": [
            "Epoch [3/3], Loss: 414.8269\n",
            "AMLI done.\n",
            "20.4202132000064\n",
            "Epoch [1/3], Loss: 392.3345\n",
            "Epoch [2/3], Loss: 374.7078\n"
          ]
        },
        {
          "name": "stderr",
          "output_type": "stream",
          "text": [
            "\r",
            "  6%|▌         | 155/2743 [54:16<15:01:45, 20.91s/it]"
          ]
        },
        {
          "name": "stdout",
          "output_type": "stream",
          "text": [
            "Epoch [3/3], Loss: 379.3140\n",
            "AMLX done.\n",
            "20.621060199999192\n",
            "Epoch [1/3], Loss: 446.2922\n",
            "Epoch [2/3], Loss: 411.6318\n"
          ]
        },
        {
          "name": "stderr",
          "output_type": "stream",
          "text": [
            "\r",
            "  6%|▌         | 156/2743 [54:37<15:05:57, 21.01s/it]"
          ]
        },
        {
          "name": "stdout",
          "output_type": "stream",
          "text": [
            "Epoch [3/3], Loss: 392.9776\n",
            "AMNB done.\n",
            "20.91176809999888\n",
            "Epoch [1/3], Loss: 369.4187\n",
            "Epoch [2/3], Loss: 426.0802\n"
          ]
        },
        {
          "name": "stderr",
          "output_type": "stream",
          "text": [
            "\r",
            "  6%|▌         | 157/2743 [54:58<15:06:02, 21.02s/it]"
          ]
        },
        {
          "name": "stdout",
          "output_type": "stream",
          "text": [
            "Epoch [3/3], Loss: 366.7460\n",
            "AMPG done.\n",
            "20.689723600000434\n",
            "Epoch [1/3], Loss: 418.7978\n",
            "Epoch [2/3], Loss: 429.1315\n"
          ]
        },
        {
          "name": "stderr",
          "output_type": "stream",
          "text": [
            "\r",
            "  6%|▌         | 158/2743 [55:19<15:02:19, 20.94s/it]"
          ]
        },
        {
          "name": "stdout",
          "output_type": "stream",
          "text": [
            "Epoch [3/3], Loss: 405.6117\n",
            "AMPH done.\n",
            "20.416714899998624\n",
            "Epoch [1/3], Loss: 401.0150\n",
            "Epoch [2/3], Loss: 398.7361\n"
          ]
        },
        {
          "name": "stderr",
          "output_type": "stream",
          "text": [
            "\r",
            "  6%|▌         | 159/2743 [55:39<15:00:24, 20.91s/it]"
          ]
        },
        {
          "name": "stdout",
          "output_type": "stream",
          "text": [
            "Epoch [3/3], Loss: 407.1999\n",
            "AMPL done.\n",
            "20.47559210000327\n",
            "Epoch [1/3], Loss: 413.1700\n",
            "Epoch [2/3], Loss: 382.0236\n"
          ]
        },
        {
          "name": "stderr",
          "output_type": "stream",
          "text": [
            "\r",
            "  6%|▌         | 160/2743 [56:00<14:58:07, 20.86s/it]"
          ]
        },
        {
          "name": "stdout",
          "output_type": "stream",
          "text": [
            "Epoch [3/3], Loss: 399.7210\n",
            "AMRK done.\n",
            "20.415369300004386\n",
            "Epoch [1/3], Loss: 388.7560\n",
            "Epoch [2/3], Loss: 382.8017\n"
          ]
        },
        {
          "name": "stderr",
          "output_type": "stream",
          "text": [
            "\r",
            "  6%|▌         | 161/2743 [56:21<15:00:48, 20.93s/it]"
          ]
        },
        {
          "name": "stdout",
          "output_type": "stream",
          "text": [
            "Epoch [3/3], Loss: 398.1938\n",
            "AMRN done.\n",
            "20.750509000004968\n",
            "Epoch [1/3], Loss: 368.8110\n",
            "Epoch [2/3], Loss: 402.4437\n"
          ]
        },
        {
          "name": "stderr",
          "output_type": "stream",
          "text": [
            "\r",
            "  6%|▌         | 162/2743 [56:42<14:58:48, 20.89s/it]"
          ]
        },
        {
          "name": "stdout",
          "output_type": "stream",
          "text": [
            "Epoch [3/3], Loss: 402.1473\n",
            "AMSC done.\n",
            "20.458456399996066\n",
            "Epoch [1/3], Loss: 393.6956\n",
            "Epoch [2/3], Loss: 418.3705\n"
          ]
        },
        {
          "name": "stderr",
          "output_type": "stream",
          "text": [
            "\r",
            "  6%|▌         | 163/2743 [57:03<15:00:40, 20.95s/it]"
          ]
        },
        {
          "name": "stdout",
          "output_type": "stream",
          "text": [
            "Epoch [3/3], Loss: 396.2173\n",
            "AMSF done.\n",
            "20.719015700000455\n",
            "Epoch [1/3], Loss: 416.7960\n",
            "Epoch [2/3], Loss: 397.5363\n"
          ]
        },
        {
          "name": "stderr",
          "output_type": "stream",
          "text": [
            "\r",
            "  6%|▌         | 164/2743 [57:24<14:57:34, 20.88s/it]"
          ]
        },
        {
          "name": "stdout",
          "output_type": "stream",
          "text": [
            "Epoch [3/3], Loss: 413.9210\n",
            "AMST done.\n",
            "20.38658339999529\n",
            "Epoch [1/3], Loss: 389.7440\n",
            "Epoch [2/3], Loss: 426.1093\n"
          ]
        },
        {
          "name": "stderr",
          "output_type": "stream",
          "text": [
            "\r",
            "  6%|▌         | 165/2743 [57:45<14:57:36, 20.89s/it]"
          ]
        },
        {
          "name": "stdout",
          "output_type": "stream",
          "text": [
            "Epoch [3/3], Loss: 404.4387\n",
            "AMSWA done.\n",
            "20.56387040000118\n",
            "Epoch [1/3], Loss: 403.4281\n",
            "Epoch [2/3], Loss: 392.4293\n"
          ]
        },
        {
          "name": "stderr",
          "output_type": "stream",
          "text": [
            "\r",
            "  6%|▌         | 166/2743 [58:06<15:01:15, 20.98s/it]"
          ]
        },
        {
          "name": "stdout",
          "output_type": "stream",
          "text": [
            "Epoch [3/3], Loss: 388.4359\n",
            "AMTI done.\n",
            "20.85481269999582\n",
            "Epoch [1/3], Loss: 386.6253\n",
            "Epoch [2/3], Loss: 416.1913\n"
          ]
        },
        {
          "name": "stderr",
          "output_type": "stream",
          "text": [
            "\r",
            "  6%|▌         | 167/2743 [58:27<15:01:32, 21.00s/it]"
          ]
        },
        {
          "name": "stdout",
          "output_type": "stream",
          "text": [
            "Epoch [3/3], Loss: 376.2526\n",
            "AMTX done.\n",
            "20.679367699995055\n",
            "Epoch [1/3], Loss: 379.9676\n",
            "Epoch [2/3], Loss: 415.5780\n"
          ]
        },
        {
          "name": "stderr",
          "output_type": "stream",
          "text": [
            "\r",
            "  6%|▌         | 168/2743 [58:48<14:59:47, 20.97s/it]"
          ]
        },
        {
          "name": "stdout",
          "output_type": "stream",
          "text": [
            "Epoch [3/3], Loss: 420.6007\n",
            "AMWD done.\n",
            "20.541723599999386\n",
            "Epoch [1/3], Loss: 366.5147\n",
            "Epoch [2/3], Loss: 402.8085\n"
          ]
        },
        {
          "name": "stderr",
          "output_type": "stream",
          "text": [
            "\r",
            "  6%|▌         | 169/2743 [59:09<15:02:21, 21.03s/it]"
          ]
        },
        {
          "name": "stdout",
          "output_type": "stream",
          "text": [
            "Epoch [3/3], Loss: 408.7785\n",
            "AMZN done.\n",
            "20.84462380000332\n",
            "Epoch [1/3], Loss: 401.4326\n",
            "Epoch [2/3], Loss: 382.0653\n"
          ]
        },
        {
          "name": "stderr",
          "output_type": "stream",
          "text": [
            "\r",
            "  6%|▌         | 170/2743 [59:31<15:08:13, 21.18s/it]"
          ]
        },
        {
          "name": "stdout",
          "output_type": "stream",
          "text": [
            "Epoch [3/3], Loss: 397.4750\n",
            "ANAB done.\n",
            "21.166535099997418\n",
            "Epoch [1/3], Loss: 357.4298\n",
            "Epoch [2/3], Loss: 402.1297\n"
          ]
        },
        {
          "name": "stderr",
          "output_type": "stream",
          "text": [
            "\r",
            "  6%|▌         | 171/2743 [59:52<15:08:16, 21.19s/it]"
          ]
        },
        {
          "name": "stdout",
          "output_type": "stream",
          "text": [
            "Epoch [3/3], Loss: 385.6516\n",
            "ANDE done.\n",
            "20.85221819999424\n",
            "Epoch [1/3], Loss: 403.7626\n",
            "Epoch [2/3], Loss: 420.5580\n"
          ]
        },
        {
          "name": "stderr",
          "output_type": "stream",
          "text": [
            "\r",
            "  6%|▋         | 172/2743 [1:00:13<15:06:23, 21.15s/it]"
          ]
        },
        {
          "name": "stdout",
          "output_type": "stream",
          "text": [
            "Epoch [3/3], Loss: 383.9560\n",
            "ANGH done.\n",
            "20.708714600004896\n",
            "Epoch [1/3], Loss: 393.0556\n",
            "Epoch [2/3], Loss: 434.7687\n"
          ]
        },
        {
          "name": "stderr",
          "output_type": "stream",
          "text": [
            "\r",
            "  6%|▋         | 173/2743 [1:00:34<15:03:28, 21.09s/it]"
          ]
        },
        {
          "name": "stdout",
          "output_type": "stream",
          "text": [
            "Epoch [3/3], Loss: 387.6706\n",
            "ANGI done.\n",
            "20.607470099996135\n",
            "Epoch [1/3], Loss: 405.0065\n",
            "Epoch [2/3], Loss: 374.9506\n"
          ]
        },
        {
          "name": "stderr",
          "output_type": "stream",
          "text": [
            "\r",
            "  6%|▋         | 174/2743 [1:00:55<14:58:45, 20.99s/it]"
          ]
        },
        {
          "name": "stdout",
          "output_type": "stream",
          "text": [
            "Epoch [3/3], Loss: 385.7935\n",
            "ANGO done.\n",
            "20.406038799999806\n",
            "Epoch [1/3], Loss: 410.1876\n",
            "Epoch [2/3], Loss: 410.8708\n"
          ]
        },
        {
          "name": "stderr",
          "output_type": "stream",
          "text": [
            "\r",
            "  6%|▋         | 175/2743 [1:01:16<15:00:49, 21.05s/it]"
          ]
        },
        {
          "name": "stdout",
          "output_type": "stream",
          "text": [
            "Epoch [3/3], Loss: 353.4675\n",
            "ANIK done.\n",
            "20.827739200001815\n",
            "Epoch [1/3], Loss: 397.5919\n",
            "Epoch [2/3], Loss: 395.8845\n"
          ]
        },
        {
          "name": "stderr",
          "output_type": "stream",
          "text": [
            "\r",
            "  6%|▋         | 176/2743 [1:01:37<15:05:46, 21.17s/it]"
          ]
        },
        {
          "name": "stdout",
          "output_type": "stream",
          "text": [
            "Epoch [3/3], Loss: 412.5439\n",
            "ANIP done.\n",
            "21.10053959999641\n",
            "Epoch [1/3], Loss: 438.5059\n",
            "Epoch [2/3], Loss: 376.2123\n"
          ]
        },
        {
          "name": "stderr",
          "output_type": "stream",
          "text": [
            "\r",
            "  6%|▋         | 177/2743 [1:01:59<15:08:22, 21.24s/it]"
          ]
        },
        {
          "name": "stdout",
          "output_type": "stream",
          "text": [
            "Epoch [3/3], Loss: 406.7164\n",
            "ANIX done.\n",
            "21.039844900005846\n",
            "Epoch [1/3], Loss: 386.7660\n",
            "Epoch [2/3], Loss: 397.6328\n"
          ]
        },
        {
          "name": "stderr",
          "output_type": "stream",
          "text": [
            "\r",
            "  6%|▋         | 178/2743 [1:02:20<15:07:54, 21.24s/it]"
          ]
        },
        {
          "name": "stdout",
          "output_type": "stream",
          "text": [
            "Epoch [3/3], Loss: 427.2257\n",
            "ANNX done.\n",
            "20.85265139999683\n",
            "Epoch [1/3], Loss: 386.2105\n",
            "Epoch [2/3], Loss: 386.8151\n"
          ]
        },
        {
          "name": "stderr",
          "output_type": "stream",
          "text": [
            "\r",
            "  7%|▋         | 179/2743 [1:02:41<15:03:58, 21.15s/it]"
          ]
        },
        {
          "name": "stdout",
          "output_type": "stream",
          "text": [
            "Epoch [3/3], Loss: 423.0322\n",
            "ANSS done.\n",
            "20.607346000004327\n",
            "Epoch [1/3], Loss: 405.0197\n",
            "Epoch [2/3], Loss: 404.4432\n"
          ]
        },
        {
          "name": "stderr",
          "output_type": "stream",
          "text": [
            "\r",
            "  7%|▋         | 180/2743 [1:03:02<15:02:50, 21.14s/it]"
          ]
        },
        {
          "name": "stdout",
          "output_type": "stream",
          "text": [
            "Epoch [3/3], Loss: 397.8417\n",
            "ANTX done.\n",
            "20.747854699999152\n",
            "Epoch [1/3], Loss: 426.6900\n",
            "Epoch [2/3], Loss: 409.7127\n"
          ]
        },
        {
          "name": "stderr",
          "output_type": "stream",
          "text": [
            "\r",
            "  7%|▋         | 181/2743 [1:03:23<15:01:28, 21.11s/it]"
          ]
        },
        {
          "name": "stdout",
          "output_type": "stream",
          "text": [
            "Epoch [3/3], Loss: 428.3687\n",
            "ANY done.\n",
            "20.701585599999817\n",
            "Epoch [1/3], Loss: 422.7540\n",
            "Epoch [2/3], Loss: 416.1901\n"
          ]
        },
        {
          "name": "stderr",
          "output_type": "stream",
          "text": [
            "\r",
            "  7%|▋         | 182/2743 [1:03:44<15:04:38, 21.19s/it]"
          ]
        },
        {
          "name": "stdout",
          "output_type": "stream",
          "text": [
            "Epoch [3/3], Loss: 395.2861\n",
            "AOSL done.\n",
            "21.029562499999884\n",
            "Epoch [1/3], Loss: 369.6305\n",
            "Epoch [2/3], Loss: 400.4628\n"
          ]
        },
        {
          "name": "stderr",
          "output_type": "stream",
          "text": [
            "\r",
            "  7%|▋         | 183/2743 [1:04:05<15:02:22, 21.15s/it]"
          ]
        },
        {
          "name": "stdout",
          "output_type": "stream",
          "text": [
            "Epoch [3/3], Loss: 375.4025\n",
            "AOUT done.\n",
            "20.687984700001834\n",
            "Epoch [1/3], Loss: 410.0904\n",
            "Epoch [2/3], Loss: 417.7003\n"
          ]
        },
        {
          "name": "stderr",
          "output_type": "stream",
          "text": [
            "\r",
            "  7%|▋         | 184/2743 [1:04:26<14:58:04, 21.06s/it]"
          ]
        },
        {
          "name": "stdout",
          "output_type": "stream",
          "text": [
            "Epoch [3/3], Loss: 414.6161\n",
            "APA done.\n",
            "20.49146269999619\n",
            "Epoch [1/3], Loss: 374.6303\n",
            "Epoch [2/3], Loss: 382.9654\n"
          ]
        },
        {
          "name": "stderr",
          "output_type": "stream",
          "text": [
            "\r",
            "  7%|▋         | 185/2743 [1:04:48<15:00:18, 21.12s/it]"
          ]
        },
        {
          "name": "stdout",
          "output_type": "stream",
          "text": [
            "Epoch [3/3], Loss: 377.5557\n",
            "APCX done.\n",
            "20.911884699999064\n",
            "Epoch [1/3], Loss: 389.1305\n",
            "Epoch [2/3], Loss: 396.9765\n"
          ]
        },
        {
          "name": "stderr",
          "output_type": "stream",
          "text": [
            "\r",
            "  7%|▋         | 186/2743 [1:05:09<14:59:08, 21.10s/it]"
          ]
        },
        {
          "name": "stdout",
          "output_type": "stream",
          "text": [
            "Epoch [3/3], Loss: 423.4803\n",
            "APDN done.\n",
            "20.706580800004303\n",
            "Epoch [1/3], Loss: 364.9308\n",
            "Epoch [2/3], Loss: 380.4718\n"
          ]
        },
        {
          "name": "stderr",
          "output_type": "stream",
          "text": [
            "\r",
            "  7%|▋         | 187/2743 [1:05:29<14:53:56, 20.98s/it]"
          ]
        },
        {
          "name": "stdout",
          "output_type": "stream",
          "text": [
            "Epoch [3/3], Loss: 382.9451\n",
            "APEI done.\n",
            "20.373801800000365\n",
            "Epoch [1/3], Loss: 379.6689\n",
            "Epoch [2/3], Loss: 427.6451\n"
          ]
        },
        {
          "name": "stderr",
          "output_type": "stream",
          "text": [
            "\r",
            "  7%|▋         | 188/2743 [1:05:50<14:53:21, 20.98s/it]"
          ]
        },
        {
          "name": "stdout",
          "output_type": "stream",
          "text": [
            "Epoch [3/3], Loss: 394.4941\n",
            "API done.\n",
            "20.61778619999677\n",
            "Epoch [1/3], Loss: 383.8038\n",
            "Epoch [2/3], Loss: 425.6072\n"
          ]
        },
        {
          "name": "stderr",
          "output_type": "stream",
          "text": [
            "\r",
            "  7%|▋         | 189/2743 [1:06:11<14:51:23, 20.94s/it]"
          ]
        },
        {
          "name": "stdout",
          "output_type": "stream",
          "text": [
            "Epoch [3/3], Loss: 388.6050\n",
            "APLD done.\n",
            "20.501773500000127\n",
            "Epoch [1/3], Loss: 399.5850\n",
            "Epoch [2/3], Loss: 385.6932\n"
          ]
        },
        {
          "name": "stderr",
          "output_type": "stream",
          "text": [
            "\r",
            "  7%|▋         | 190/2743 [1:06:32<14:51:44, 20.96s/it]"
          ]
        },
        {
          "name": "stdout",
          "output_type": "stream",
          "text": [
            "Epoch [3/3], Loss: 379.6708\n",
            "APLS done.\n",
            "20.634297600001446\n",
            "Epoch [1/3], Loss: 424.5656\n",
            "Epoch [2/3], Loss: 363.6110\n"
          ]
        },
        {
          "name": "stderr",
          "output_type": "stream",
          "text": [
            "\r",
            "  7%|▋         | 191/2743 [1:06:53<14:50:07, 20.93s/it]"
          ]
        },
        {
          "name": "stdout",
          "output_type": "stream",
          "text": [
            "Epoch [3/3], Loss: 377.6363\n",
            "APLT done.\n",
            "20.48972579999827\n",
            "Epoch [1/3], Loss: 379.1262\n",
            "Epoch [2/3], Loss: 430.8658\n"
          ]
        },
        {
          "name": "stderr",
          "output_type": "stream",
          "text": [
            "\r",
            "  7%|▋         | 192/2743 [1:07:14<14:49:39, 20.93s/it]"
          ]
        },
        {
          "name": "stdout",
          "output_type": "stream",
          "text": [
            "Epoch [3/3], Loss: 413.3936\n",
            "APM done.\n",
            "20.561722900005407\n",
            "Epoch [1/3], Loss: 401.9355\n",
            "Epoch [2/3], Loss: 394.1304\n"
          ]
        },
        {
          "name": "stderr",
          "output_type": "stream",
          "text": [
            "\r",
            "  7%|▋         | 193/2743 [1:07:35<14:53:07, 21.01s/it]"
          ]
        },
        {
          "name": "stdout",
          "output_type": "stream",
          "text": [
            "Epoch [3/3], Loss: 407.1790\n",
            "APOG done.\n",
            "20.87478330000158\n",
            "Epoch [1/3], Loss: 420.3820\n",
            "Epoch [2/3], Loss: 421.7398\n"
          ]
        },
        {
          "name": "stderr",
          "output_type": "stream",
          "text": [
            "\r",
            "  7%|▋         | 194/2743 [1:07:56<14:56:29, 21.10s/it]"
          ]
        },
        {
          "name": "stdout",
          "output_type": "stream",
          "text": [
            "Epoch [3/3], Loss: 415.1940\n",
            "APP done.\n",
            "20.96166760000051\n",
            "Epoch [1/3], Loss: 376.7271\n",
            "Epoch [2/3], Loss: 386.2969\n"
          ]
        },
        {
          "name": "stderr",
          "output_type": "stream",
          "text": [
            "\r",
            "  7%|▋         | 195/2743 [1:08:18<14:57:26, 21.13s/it]"
          ]
        },
        {
          "name": "stdout",
          "output_type": "stream",
          "text": [
            "Epoch [3/3], Loss: 394.4131\n",
            "APPF done.\n",
            "20.849886800002423\n",
            "Epoch [1/3], Loss: 387.0645\n",
            "Epoch [2/3], Loss: 408.2943\n"
          ]
        },
        {
          "name": "stderr",
          "output_type": "stream",
          "text": [
            "\r",
            "  7%|▋         | 196/2743 [1:08:39<14:59:04, 21.18s/it]"
          ]
        },
        {
          "name": "stdout",
          "output_type": "stream",
          "text": [
            "Epoch [3/3], Loss: 396.2481\n",
            "APPN done.\n",
            "20.93150759999844\n",
            "Epoch [1/3], Loss: 423.5828\n",
            "Epoch [2/3], Loss: 398.3556\n"
          ]
        },
        {
          "name": "stderr",
          "output_type": "stream",
          "text": [
            "\r",
            "  7%|▋         | 197/2743 [1:09:00<14:54:18, 21.08s/it]"
          ]
        },
        {
          "name": "stdout",
          "output_type": "stream",
          "text": [
            "Epoch [3/3], Loss: 407.6225\n",
            "APPS done.\n",
            "20.47534160000214\n",
            "Epoch [1/3], Loss: 391.1112\n",
            "Epoch [2/3], Loss: 392.4556\n"
          ]
        },
        {
          "name": "stderr",
          "output_type": "stream",
          "text": [
            "\r",
            "  7%|▋         | 198/2743 [1:09:21<14:51:02, 21.01s/it]"
          ]
        },
        {
          "name": "stdout",
          "output_type": "stream",
          "text": [
            "Epoch [3/3], Loss: 400.5595\n",
            "APTO done.\n",
            "20.500282699998934\n",
            "Epoch [1/3], Loss: 400.7312\n",
            "Epoch [2/3], Loss: 413.9971\n"
          ]
        },
        {
          "name": "stderr",
          "output_type": "stream",
          "text": [
            "\r",
            "  7%|▋         | 199/2743 [1:09:42<15:00:18, 21.23s/it]"
          ]
        },
        {
          "name": "stdout",
          "output_type": "stream",
          "text": [
            "Epoch [3/3], Loss: 406.4234\n",
            "APVO done.\n",
            "21.41086279999581\n",
            "Epoch [1/3], Loss: 385.3187\n",
            "Epoch [2/3], Loss: 415.5870\n"
          ]
        },
        {
          "name": "stderr",
          "output_type": "stream",
          "text": [
            "\r",
            "  7%|▋         | 200/2743 [1:10:04<15:04:51, 21.35s/it]"
          ]
        },
        {
          "name": "stdout",
          "output_type": "stream",
          "text": [
            "Epoch [3/3], Loss: 421.6689\n",
            "APYX done.\n",
            "21.242519399995217\n",
            "Epoch [1/3], Loss: 407.8987\n",
            "Epoch [2/3], Loss: 414.4780\n"
          ]
        },
        {
          "name": "stderr",
          "output_type": "stream",
          "text": [
            "\r",
            "  7%|▋         | 201/2743 [1:10:25<15:05:28, 21.37s/it]"
          ]
        },
        {
          "name": "stdout",
          "output_type": "stream",
          "text": [
            "Epoch [3/3], Loss: 406.6893\n",
            "AQB done.\n",
            "21.068805700000667\n",
            "Epoch [1/3], Loss: 386.9427\n",
            "Epoch [2/3], Loss: 381.9144\n"
          ]
        },
        {
          "name": "stderr",
          "output_type": "stream",
          "text": [
            "\r",
            "  7%|▋         | 202/2743 [1:10:46<15:01:07, 21.28s/it]"
          ]
        },
        {
          "name": "stdout",
          "output_type": "stream",
          "text": [
            "Epoch [3/3], Loss: 377.1590\n",
            "AQMS done.\n",
            "20.704616499999247\n",
            "Epoch [1/3], Loss: 401.8118\n",
            "Epoch [2/3], Loss: 416.4747\n"
          ]
        },
        {
          "name": "stderr",
          "output_type": "stream",
          "text": [
            "\r",
            "  7%|▋         | 203/2743 [1:11:07<14:55:27, 21.15s/it]"
          ]
        },
        {
          "name": "stdout",
          "output_type": "stream",
          "text": [
            "Epoch [3/3], Loss: 419.7716\n",
            "AQST done.\n",
            "20.49763079999684\n",
            "Epoch [1/3], Loss: 391.2759\n",
            "Epoch [2/3], Loss: 419.1376\n"
          ]
        },
        {
          "name": "stderr",
          "output_type": "stream",
          "text": [
            "\r",
            "  7%|▋         | 204/2743 [1:11:28<14:51:52, 21.08s/it]"
          ]
        },
        {
          "name": "stdout",
          "output_type": "stream",
          "text": [
            "Epoch [3/3], Loss: 411.9781\n",
            "ARAV done.\n",
            "20.547842400002992\n",
            "Epoch [1/3], Loss: 376.4948\n",
            "Epoch [2/3], Loss: 396.9175\n"
          ]
        },
        {
          "name": "stderr",
          "output_type": "stream",
          "text": [
            "\r",
            "  7%|▋         | 205/2743 [1:11:49<14:48:15, 21.00s/it]"
          ]
        },
        {
          "name": "stdout",
          "output_type": "stream",
          "text": [
            "Epoch [3/3], Loss: 418.2811\n",
            "ARAY done.\n",
            "20.470327399998496\n",
            "Epoch [1/3], Loss: 381.5469\n",
            "Epoch [2/3], Loss: 390.7043\n"
          ]
        },
        {
          "name": "stderr",
          "output_type": "stream",
          "text": [
            "\r",
            "  8%|▊         | 206/2743 [1:12:10<14:43:03, 20.88s/it]"
          ]
        },
        {
          "name": "stdout",
          "output_type": "stream",
          "text": [
            "Epoch [3/3], Loss: 408.3210\n",
            "ARBE done.\n",
            "20.270894100001897\n",
            "Epoch [1/3], Loss: 407.8276\n",
            "Epoch [2/3], Loss: 405.1200\n"
          ]
        },
        {
          "name": "stderr",
          "output_type": "stream",
          "text": [
            "\r",
            "  8%|▊         | 207/2743 [1:12:31<14:47:16, 20.99s/it]"
          ]
        },
        {
          "name": "stdout",
          "output_type": "stream",
          "text": [
            "Epoch [3/3], Loss: 390.9153\n",
            "ARBK done.\n",
            "20.8932644000015\n",
            "Epoch [1/3], Loss: 404.0199\n",
            "Epoch [2/3], Loss: 404.0227\n"
          ]
        },
        {
          "name": "stderr",
          "output_type": "stream",
          "text": [
            "\r",
            "  8%|▊         | 208/2743 [1:12:52<14:49:05, 21.04s/it]"
          ]
        },
        {
          "name": "stdout",
          "output_type": "stream",
          "text": [
            "Epoch [3/3], Loss: 391.3689\n",
            "ARCB done.\n",
            "20.800441999999748\n",
            "Epoch [1/3], Loss: 418.7513\n",
            "Epoch [2/3], Loss: 399.6983\n"
          ]
        },
        {
          "name": "stderr",
          "output_type": "stream",
          "text": [
            "\r",
            "  8%|▊         | 209/2743 [1:13:13<14:46:16, 20.99s/it]"
          ]
        },
        {
          "name": "stdout",
          "output_type": "stream",
          "text": [
            "Epoch [3/3], Loss: 414.6405\n",
            "ARCC done.\n",
            "20.49808789999952\n",
            "Epoch [1/3], Loss: 374.1505\n",
            "Epoch [2/3], Loss: 417.3955\n"
          ]
        },
        {
          "name": "stderr",
          "output_type": "stream",
          "text": [
            "\r",
            "  8%|▊         | 210/2743 [1:13:34<14:45:58, 20.99s/it]"
          ]
        },
        {
          "name": "stdout",
          "output_type": "stream",
          "text": [
            "Epoch [3/3], Loss: 412.9133\n",
            "ARCE done.\n",
            "20.642803300004744\n",
            "Epoch [1/3], Loss: 416.7736\n",
            "Epoch [2/3], Loss: 378.7279\n"
          ]
        },
        {
          "name": "stderr",
          "output_type": "stream",
          "text": [
            "\r",
            "  8%|▊         | 211/2743 [1:13:55<14:44:03, 20.95s/it]"
          ]
        },
        {
          "name": "stdout",
          "output_type": "stream",
          "text": [
            "Epoch [3/3], Loss: 381.8430\n",
            "ARCT done.\n",
            "20.518512399998144\n",
            "Epoch [1/3], Loss: 427.0978\n",
            "Epoch [2/3], Loss: 413.9837\n"
          ]
        },
        {
          "name": "stderr",
          "output_type": "stream",
          "text": [
            "\r",
            "  8%|▊         | 212/2743 [1:14:16<14:42:36, 20.92s/it]"
          ]
        },
        {
          "name": "stdout",
          "output_type": "stream",
          "text": [
            "Epoch [3/3], Loss: 402.8014\n",
            "ARDX done.\n",
            "20.51370499999757\n",
            "Epoch [1/3], Loss: 414.9700\n",
            "Epoch [2/3], Loss: 432.3640\n"
          ]
        },
        {
          "name": "stderr",
          "output_type": "stream",
          "text": [
            "\r",
            "  8%|▊         | 213/2743 [1:14:37<14:46:19, 21.02s/it]"
          ]
        },
        {
          "name": "stdout",
          "output_type": "stream",
          "text": [
            "Epoch [3/3], Loss: 410.1060\n",
            "AREB done.\n",
            "20.898574500002724\n",
            "Epoch [1/3], Loss: 414.0990\n",
            "Epoch [2/3], Loss: 406.4754\n"
          ]
        },
        {
          "name": "stderr",
          "output_type": "stream",
          "text": [
            "\r",
            "  8%|▊         | 214/2743 [1:14:58<14:47:08, 21.05s/it]"
          ]
        },
        {
          "name": "stdout",
          "output_type": "stream",
          "text": [
            "Epoch [3/3], Loss: 415.7165\n",
            "AREC done.\n",
            "20.748106999999436\n",
            "Epoch [1/3], Loss: 380.2071\n",
            "Epoch [2/3], Loss: 430.2167\n"
          ]
        },
        {
          "name": "stderr",
          "output_type": "stream",
          "text": [
            "\r",
            "  8%|▊         | 215/2743 [1:15:19<14:52:05, 21.17s/it]"
          ]
        },
        {
          "name": "stdout",
          "output_type": "stream",
          "text": [
            "Epoch [3/3], Loss: 417.0122\n",
            "ARGX done.\n",
            "21.08465289999731\n",
            "Epoch [1/3], Loss: 380.5277\n",
            "Epoch [2/3], Loss: 377.5297\n"
          ]
        },
        {
          "name": "stderr",
          "output_type": "stream",
          "text": [
            "\r",
            "  8%|▊         | 216/2743 [1:15:41<14:52:03, 21.18s/it]"
          ]
        },
        {
          "name": "stdout",
          "output_type": "stream",
          "text": [
            "Epoch [3/3], Loss: 390.7258\n",
            "ARHS done.\n",
            "20.84143259999837\n",
            "Epoch [1/3], Loss: 389.5843\n",
            "Epoch [2/3], Loss: 403.3229\n"
          ]
        },
        {
          "name": "stderr",
          "output_type": "stream",
          "text": [
            "\r",
            "  8%|▊         | 217/2743 [1:16:02<14:53:47, 21.23s/it]"
          ]
        },
        {
          "name": "stdout",
          "output_type": "stream",
          "text": [
            "Epoch [3/3], Loss: 406.8607\n",
            "ARKO done.\n",
            "20.98930770000152\n",
            "Epoch [1/3], Loss: 397.7711\n",
            "Epoch [2/3], Loss: 370.1949\n"
          ]
        },
        {
          "name": "stderr",
          "output_type": "stream",
          "text": [
            "\r",
            "  8%|▊         | 218/2743 [1:16:24<14:58:52, 21.36s/it]"
          ]
        },
        {
          "name": "stdout",
          "output_type": "stream",
          "text": [
            "Epoch [3/3], Loss: 384.7523\n",
            "ARLP done.\n",
            "21.30125240000052\n",
            "Epoch [1/3], Loss: 403.3820\n",
            "Epoch [2/3], Loss: 386.1525\n"
          ]
        },
        {
          "name": "stderr",
          "output_type": "stream",
          "text": [
            "\r",
            "  8%|▊         | 219/2743 [1:16:45<14:55:04, 21.28s/it]"
          ]
        },
        {
          "name": "stdout",
          "output_type": "stream",
          "text": [
            "Epoch [3/3], Loss: 399.8661\n",
            "AROW done.\n",
            "20.729411100001016\n",
            "Epoch [1/3], Loss: 407.5331\n",
            "Epoch [2/3], Loss: 419.6205\n"
          ]
        },
        {
          "name": "stderr",
          "output_type": "stream",
          "text": [
            "\r",
            "  8%|▊         | 220/2743 [1:17:06<14:54:07, 21.26s/it]"
          ]
        },
        {
          "name": "stdout",
          "output_type": "stream",
          "text": [
            "Epoch [3/3], Loss: 412.2826\n",
            "ARQQ done.\n",
            "20.867015700001502\n",
            "Epoch [1/3], Loss: 397.1502\n",
            "Epoch [2/3], Loss: 405.4533\n"
          ]
        },
        {
          "name": "stderr",
          "output_type": "stream",
          "text": [
            "\r",
            "  8%|▊         | 221/2743 [1:17:27<14:51:06, 21.20s/it]"
          ]
        },
        {
          "name": "stdout",
          "output_type": "stream",
          "text": [
            "Epoch [3/3], Loss: 373.4145\n",
            "ARQT done.\n",
            "20.692489599998225\n",
            "Epoch [1/3], Loss: 405.5224\n",
            "Epoch [2/3], Loss: 417.0983\n"
          ]
        },
        {
          "name": "stderr",
          "output_type": "stream",
          "text": [
            "\r",
            "  8%|▊         | 222/2743 [1:17:48<14:50:40, 21.20s/it]"
          ]
        },
        {
          "name": "stdout",
          "output_type": "stream",
          "text": [
            "Epoch [3/3], Loss: 395.0269\n",
            "ARRY done.\n",
            "20.830664699999033\n",
            "Epoch [1/3], Loss: 389.8972\n",
            "Epoch [2/3], Loss: 392.4438\n"
          ]
        },
        {
          "name": "stderr",
          "output_type": "stream",
          "text": [
            "\r",
            "  8%|▊         | 223/2743 [1:18:09<14:47:44, 21.14s/it]"
          ]
        },
        {
          "name": "stdout",
          "output_type": "stream",
          "text": [
            "Epoch [3/3], Loss: 342.1789\n",
            "ARTL done.\n",
            "20.62060410000413\n",
            "Epoch [1/3], Loss: 408.2757\n",
            "Epoch [2/3], Loss: 387.6980\n"
          ]
        },
        {
          "name": "stderr",
          "output_type": "stream",
          "text": [
            "\r",
            "  8%|▊         | 224/2743 [1:18:30<14:43:24, 21.04s/it]"
          ]
        },
        {
          "name": "stdout",
          "output_type": "stream",
          "text": [
            "Epoch [3/3], Loss: 391.7269\n",
            "ARTNA done.\n",
            "20.448679100001755\n",
            "Epoch [1/3], Loss: 398.4495\n",
            "Epoch [2/3], Loss: 424.8393\n"
          ]
        },
        {
          "name": "stderr",
          "output_type": "stream",
          "text": [
            "\r",
            "  8%|▊         | 225/2743 [1:18:51<14:40:19, 20.98s/it]"
          ]
        },
        {
          "name": "stdout",
          "output_type": "stream",
          "text": [
            "Epoch [3/3], Loss: 416.0256\n",
            "ARVL done.\n",
            "20.463933699997142\n",
            "Epoch [1/3], Loss: 405.5435\n",
            "Epoch [2/3], Loss: 390.8871\n"
          ]
        },
        {
          "name": "stderr",
          "output_type": "stream",
          "text": [
            "\r",
            "  8%|▊         | 226/2743 [1:19:12<14:47:27, 21.16s/it]"
          ]
        },
        {
          "name": "stdout",
          "output_type": "stream",
          "text": [
            "Epoch [3/3], Loss: 445.0507\n",
            "ARVN done.\n",
            "21.21457869999722\n",
            "Epoch [1/3], Loss: 413.9546\n",
            "Epoch [2/3], Loss: 419.8504\n"
          ]
        },
        {
          "name": "stderr",
          "output_type": "stream",
          "text": [
            "\r",
            "  8%|▊         | 227/2743 [1:19:34<14:58:35, 21.43s/it]"
          ]
        },
        {
          "name": "stdout",
          "output_type": "stream",
          "text": [
            "Epoch [3/3], Loss: 404.8414\n",
            "ARWR done.\n",
            "21.686063000001013\n",
            "Epoch [1/3], Loss: 390.7682\n",
            "Epoch [2/3], Loss: 391.8571\n"
          ]
        },
        {
          "name": "stderr",
          "output_type": "stream",
          "text": [
            "\r",
            "  8%|▊         | 228/2743 [1:19:56<15:03:00, 21.54s/it]"
          ]
        },
        {
          "name": "stdout",
          "output_type": "stream",
          "text": [
            "Epoch [3/3], Loss: 411.8836\n",
            "ASLE done.\n",
            "21.421272400002636\n",
            "Epoch [1/3], Loss: 400.2250\n",
            "Epoch [2/3], Loss: 412.7911\n"
          ]
        },
        {
          "name": "stderr",
          "output_type": "stream",
          "text": [
            "\r",
            "  8%|▊         | 229/2743 [1:20:19<15:13:59, 21.81s/it]"
          ]
        },
        {
          "name": "stdout",
          "output_type": "stream",
          "text": [
            "Epoch [3/3], Loss: 369.9709\n",
            "ASLN done.\n",
            "22.05874760000006\n",
            "Epoch [1/3], Loss: 398.2490\n",
            "Epoch [2/3], Loss: 410.8531\n"
          ]
        },
        {
          "name": "stderr",
          "output_type": "stream",
          "text": [
            "\r",
            "  8%|▊         | 230/2743 [1:20:40<15:10:45, 21.75s/it]"
          ]
        },
        {
          "name": "stdout",
          "output_type": "stream",
          "text": [
            "Epoch [3/3], Loss: 399.7424\n",
            "ASMB done.\n",
            "21.13758389999566\n",
            "Epoch [1/3], Loss: 393.8808\n",
            "Epoch [2/3], Loss: 417.2317\n"
          ]
        },
        {
          "name": "stderr",
          "output_type": "stream",
          "text": [
            "\r",
            "  8%|▊         | 231/2743 [1:21:02<15:04:19, 21.60s/it]"
          ]
        },
        {
          "name": "stdout",
          "output_type": "stream",
          "text": [
            "Epoch [3/3], Loss: 428.4895\n",
            "ASML done.\n",
            "20.895390799996676\n",
            "Epoch [1/3], Loss: 405.4118\n",
            "Epoch [2/3], Loss: 402.9659\n"
          ]
        },
        {
          "name": "stderr",
          "output_type": "stream",
          "text": [
            "\r",
            "  8%|▊         | 232/2743 [1:21:23<15:03:54, 21.60s/it]"
          ]
        },
        {
          "name": "stdout",
          "output_type": "stream",
          "text": [
            "Epoch [3/3], Loss: 406.6806\n",
            "ASND done.\n",
            "21.22173720000137\n",
            "Epoch [1/3], Loss: 433.2947\n",
            "Epoch [2/3], Loss: 398.9638\n"
          ]
        },
        {
          "name": "stderr",
          "output_type": "stream",
          "text": [
            "\r",
            "  8%|▊         | 233/2743 [1:21:45<15:03:32, 21.60s/it]"
          ]
        },
        {
          "name": "stdout",
          "output_type": "stream",
          "text": [
            "Epoch [3/3], Loss: 410.8312\n",
            "ASO done.\n",
            "21.22660729999916\n",
            "Epoch [1/3], Loss: 377.6075\n",
            "Epoch [2/3], Loss: 409.2541\n"
          ]
        },
        {
          "name": "stderr",
          "output_type": "stream",
          "text": [
            "\r",
            "  9%|▊         | 234/2743 [1:22:06<14:58:37, 21.49s/it]"
          ]
        },
        {
          "name": "stdout",
          "output_type": "stream",
          "text": [
            "Epoch [3/3], Loss: 372.0268\n",
            "ASPI done.\n",
            "20.881517300003907\n",
            "Epoch [1/3], Loss: 410.1844\n",
            "Epoch [2/3], Loss: 403.8593\n"
          ]
        },
        {
          "name": "stderr",
          "output_type": "stream",
          "text": [
            "\r",
            "  9%|▊         | 235/2743 [1:22:27<14:52:17, 21.35s/it]"
          ]
        },
        {
          "name": "stdout",
          "output_type": "stream",
          "text": [
            "Epoch [3/3], Loss: 411.2536\n",
            "ASRT done.\n",
            "20.655742699993425\n",
            "Epoch [1/3], Loss: 403.0060\n",
            "Epoch [2/3], Loss: 378.8308\n"
          ]
        },
        {
          "name": "stderr",
          "output_type": "stream",
          "text": [
            "\r",
            "  9%|▊         | 236/2743 [1:22:48<14:47:09, 21.23s/it]"
          ]
        },
        {
          "name": "stdout",
          "output_type": "stream",
          "text": [
            "Epoch [3/3], Loss: 345.7403\n",
            "ASTE done.\n",
            "20.603786200001196\n",
            "Epoch [1/3], Loss: 410.1888\n",
            "Epoch [2/3], Loss: 409.6410\n"
          ]
        },
        {
          "name": "stderr",
          "output_type": "stream",
          "text": [
            "\r",
            "  9%|▊         | 237/2743 [1:23:09<14:44:25, 21.18s/it]"
          ]
        },
        {
          "name": "stdout",
          "output_type": "stream",
          "text": [
            "Epoch [3/3], Loss: 406.7812\n",
            "ASTI done.\n",
            "20.679868699997314\n",
            "Epoch [1/3], Loss: 416.3794\n",
            "Epoch [2/3], Loss: 405.9075\n"
          ]
        },
        {
          "name": "stderr",
          "output_type": "stream",
          "text": [
            "\r",
            "  9%|▊         | 238/2743 [1:23:30<14:43:05, 21.15s/it]"
          ]
        },
        {
          "name": "stdout",
          "output_type": "stream",
          "text": [
            "Epoch [3/3], Loss: 388.1626\n",
            "ASTL done.\n",
            "20.726699499995448\n",
            "Epoch [1/3], Loss: 384.4900\n",
            "Epoch [2/3], Loss: 396.5928\n"
          ]
        },
        {
          "name": "stderr",
          "output_type": "stream",
          "text": [
            "\r",
            "  9%|▊         | 239/2743 [1:23:52<14:45:57, 21.23s/it]"
          ]
        },
        {
          "name": "stdout",
          "output_type": "stream",
          "text": [
            "Epoch [3/3], Loss: 385.5790\n",
            "ASTR done.\n",
            "21.05472870000085\n",
            "Epoch [1/3], Loss: 403.9068\n",
            "Epoch [2/3], Loss: 403.1637\n"
          ]
        },
        {
          "name": "stderr",
          "output_type": "stream",
          "text": [
            "\r",
            "  9%|▊         | 240/2743 [1:24:14<14:58:35, 21.54s/it]"
          ]
        },
        {
          "name": "stdout",
          "output_type": "stream",
          "text": [
            "Epoch [3/3], Loss: 400.4294\n",
            "ASTS done.\n",
            "21.911349699999846\n",
            "Epoch [1/3], Loss: 382.3209\n",
            "Epoch [2/3], Loss: 413.3584\n"
          ]
        },
        {
          "name": "stderr",
          "output_type": "stream",
          "text": [
            "\r",
            "  9%|▉         | 241/2743 [1:24:35<14:54:08, 21.44s/it]"
          ]
        },
        {
          "name": "stdout",
          "output_type": "stream",
          "text": [
            "Epoch [3/3], Loss: 378.5034\n",
            "ASUR done.\n",
            "20.843322299995634\n",
            "Epoch [1/3], Loss: 380.2525\n",
            "Epoch [2/3], Loss: 383.2013\n"
          ]
        },
        {
          "name": "stderr",
          "output_type": "stream",
          "text": [
            "\r",
            "  9%|▉         | 242/2743 [1:24:57<14:59:38, 21.58s/it]"
          ]
        },
        {
          "name": "stdout",
          "output_type": "stream",
          "text": [
            "Epoch [3/3], Loss: 422.5268\n",
            "ATAI done.\n",
            "21.557496900000842\n",
            "Epoch [1/3], Loss: 409.8822\n",
            "Epoch [2/3], Loss: 409.2452\n"
          ]
        },
        {
          "name": "stderr",
          "output_type": "stream",
          "text": [
            "\r",
            "  9%|▉         | 243/2743 [1:25:18<14:55:07, 21.48s/it]"
          ]
        },
        {
          "name": "stdout",
          "output_type": "stream",
          "text": [
            "Epoch [3/3], Loss: 416.0354\n",
            "ATAT done.\n",
            "20.89485119999881\n",
            "Epoch [1/3], Loss: 375.4233\n",
            "Epoch [2/3], Loss: 414.0029\n"
          ]
        },
        {
          "name": "stderr",
          "output_type": "stream",
          "text": [
            "\r",
            "  9%|▉         | 244/2743 [1:25:39<14:48:53, 21.34s/it]"
          ]
        },
        {
          "name": "stdout",
          "output_type": "stream",
          "text": [
            "Epoch [3/3], Loss: 419.1539\n",
            "ATEC done.\n",
            "20.65324430000328\n",
            "Epoch [1/3], Loss: 435.6131\n",
            "Epoch [2/3], Loss: 425.0565\n"
          ]
        },
        {
          "name": "stderr",
          "output_type": "stream",
          "text": [
            "\r",
            "  9%|▉         | 245/2743 [1:26:01<14:48:36, 21.34s/it]"
          ]
        },
        {
          "name": "stdout",
          "output_type": "stream",
          "text": [
            "Epoch [3/3], Loss: 386.3885\n",
            "ATER done.\n",
            "20.995472000002337\n",
            "Epoch [1/3], Loss: 404.7597\n",
            "Epoch [2/3], Loss: 401.0388\n"
          ]
        },
        {
          "name": "stderr",
          "output_type": "stream",
          "text": [
            "\r",
            "  9%|▉         | 246/2743 [1:26:23<15:04:49, 21.74s/it]"
          ]
        },
        {
          "name": "stdout",
          "output_type": "stream",
          "text": [
            "Epoch [3/3], Loss: 419.0490\n",
            "ATEX done.\n",
            "22.29293509999843\n",
            "Epoch [1/3], Loss: 397.6512\n",
            "Epoch [2/3], Loss: 408.8518\n"
          ]
        },
        {
          "name": "stderr",
          "output_type": "stream",
          "text": [
            "\r",
            "  9%|▉         | 247/2743 [1:26:45<15:00:51, 21.66s/it]"
          ]
        },
        {
          "name": "stdout",
          "output_type": "stream",
          "text": [
            "Epoch [3/3], Loss: 421.8445\n",
            "ATHA done.\n",
            "21.091611299998476\n",
            "Epoch [1/3], Loss: 409.7819\n",
            "Epoch [2/3], Loss: 421.4505\n"
          ]
        },
        {
          "name": "stderr",
          "output_type": "stream",
          "text": [
            "\r",
            "  9%|▉         | 248/2743 [1:27:06<14:58:15, 21.60s/it]"
          ]
        },
        {
          "name": "stdout",
          "output_type": "stream",
          "text": [
            "Epoch [3/3], Loss: 412.7342\n",
            "ATHX done.\n",
            "21.126711899996735\n",
            "Epoch [1/3], Loss: 394.5652\n",
            "Epoch [2/3], Loss: 414.4381\n"
          ]
        },
        {
          "name": "stderr",
          "output_type": "stream",
          "text": [
            "\r",
            "  9%|▉         | 249/2743 [1:27:27<14:49:56, 21.41s/it]"
          ]
        },
        {
          "name": "stdout",
          "output_type": "stream",
          "text": [
            "Epoch [3/3], Loss: 421.6972\n",
            "ATLC done.\n",
            "20.598544300002686\n",
            "Epoch [1/3], Loss: 410.0797\n",
            "Epoch [2/3], Loss: 430.0107\n"
          ]
        },
        {
          "name": "stderr",
          "output_type": "stream",
          "text": [
            "\r",
            "  9%|▉         | 250/2743 [1:27:48<14:42:45, 21.25s/it]"
          ]
        },
        {
          "name": "stdout",
          "output_type": "stream",
          "text": [
            "Epoch [3/3], Loss: 409.5298\n",
            "ATLCP done.\n",
            "20.511888799999724\n",
            "Epoch [1/3], Loss: 399.1520\n",
            "Epoch [2/3], Loss: 408.2367\n"
          ]
        },
        {
          "name": "stderr",
          "output_type": "stream",
          "text": [
            "\r",
            "  9%|▉         | 251/2743 [1:28:09<14:42:45, 21.25s/it]"
          ]
        },
        {
          "name": "stdout",
          "output_type": "stream",
          "text": [
            "Epoch [3/3], Loss: 403.2698\n",
            "ATLO done.\n",
            "20.922638600000937\n",
            "Epoch [1/3], Loss: 393.4598\n",
            "Epoch [2/3], Loss: 397.5547\n"
          ]
        },
        {
          "name": "stderr",
          "output_type": "stream",
          "text": [
            "\r",
            "  9%|▉         | 252/2743 [1:28:31<14:44:24, 21.30s/it]"
          ]
        },
        {
          "name": "stdout",
          "output_type": "stream",
          "text": [
            "Epoch [3/3], Loss: 404.8192\n",
            "ATLX done.\n",
            "21.061343499997747\n",
            "Epoch [1/3], Loss: 378.3134\n",
            "Epoch [2/3], Loss: 407.0081\n"
          ]
        },
        {
          "name": "stderr",
          "output_type": "stream",
          "text": [
            "\r",
            "  9%|▉         | 253/2743 [1:28:52<14:41:26, 21.24s/it]"
          ]
        },
        {
          "name": "stdout",
          "output_type": "stream",
          "text": [
            "Epoch [3/3], Loss: 384.2827\n",
            "ATNF done.\n",
            "20.734444599998824\n",
            "Epoch [1/3], Loss: 391.1210\n",
            "Epoch [2/3], Loss: 404.6848\n"
          ]
        },
        {
          "name": "stderr",
          "output_type": "stream",
          "text": [
            "\r",
            "  9%|▉         | 254/2743 [1:29:13<14:43:31, 21.30s/it]"
          ]
        },
        {
          "name": "stdout",
          "output_type": "stream",
          "text": [
            "Epoch [3/3], Loss: 443.8523\n",
            "ATNI done.\n",
            "21.070673700000043\n",
            "Epoch [1/3], Loss: 398.6343\n",
            "Epoch [2/3], Loss: 396.5348\n"
          ]
        },
        {
          "name": "stderr",
          "output_type": "stream",
          "text": [
            "\r",
            "  9%|▉         | 255/2743 [1:29:35<14:44:13, 21.32s/it]"
          ]
        },
        {
          "name": "stdout",
          "output_type": "stream",
          "text": [
            "Epoch [3/3], Loss: 411.6881\n",
            "ATOM done.\n",
            "21.004110399997444\n",
            "Epoch [1/3], Loss: 411.3275\n",
            "Epoch [2/3], Loss: 384.3912\n"
          ]
        },
        {
          "name": "stderr",
          "output_type": "stream",
          "text": [
            "\r",
            "  9%|▉         | 256/2743 [1:29:56<14:46:44, 21.39s/it]"
          ]
        },
        {
          "name": "stdout",
          "output_type": "stream",
          "text": [
            "Epoch [3/3], Loss: 400.5967\n",
            "ATOS done.\n",
            "21.187661999996635\n",
            "Epoch [1/3], Loss: 392.6865\n",
            "Epoch [2/3], Loss: 412.0437\n"
          ]
        },
        {
          "name": "stderr",
          "output_type": "stream",
          "text": [
            "\r",
            "  9%|▉         | 257/2743 [1:30:17<14:42:04, 21.29s/it]"
          ]
        },
        {
          "name": "stdout",
          "output_type": "stream",
          "text": [
            "Epoch [3/3], Loss: 406.6535\n",
            "ATRA done.\n",
            "20.68744059999881\n",
            "Epoch [1/3], Loss: 393.7477\n",
            "Epoch [2/3], Loss: 410.8972\n"
          ]
        },
        {
          "name": "stderr",
          "output_type": "stream",
          "text": [
            "\r",
            "  9%|▉         | 258/2743 [1:30:38<14:40:22, 21.26s/it]"
          ]
        },
        {
          "name": "stdout",
          "output_type": "stream",
          "text": [
            "Epoch [3/3], Loss: 394.7600\n",
            "ATRC done.\n",
            "20.82694949999859\n",
            "Epoch [1/3], Loss: 382.9479\n",
            "Epoch [2/3], Loss: 395.5049\n"
          ]
        },
        {
          "name": "stderr",
          "output_type": "stream",
          "text": [
            "\r",
            "  9%|▉         | 259/2743 [1:31:00<14:39:13, 21.24s/it]"
          ]
        },
        {
          "name": "stdout",
          "output_type": "stream",
          "text": [
            "Epoch [3/3], Loss: 404.1221\n",
            "ATRI done.\n",
            "20.84614419999707\n",
            "Epoch [1/3], Loss: 412.3412\n",
            "Epoch [2/3], Loss: 376.4284\n"
          ]
        },
        {
          "name": "stderr",
          "output_type": "stream",
          "text": [
            "\r",
            "  9%|▉         | 260/2743 [1:31:21<14:41:10, 21.29s/it]"
          ]
        },
        {
          "name": "stdout",
          "output_type": "stream",
          "text": [
            "Epoch [3/3], Loss: 411.7145\n",
            "ATRO done.\n",
            "21.067167600005632\n",
            "Epoch [1/3], Loss: 394.3321\n",
            "Epoch [2/3], Loss: 394.7968\n"
          ]
        },
        {
          "name": "stderr",
          "output_type": "stream",
          "text": [
            "\r",
            " 10%|▉         | 261/2743 [1:31:42<14:43:20, 21.35s/it]"
          ]
        },
        {
          "name": "stdout",
          "output_type": "stream",
          "text": [
            "Epoch [3/3], Loss: 397.8010\n",
            "ATSG done.\n",
            "21.125130700005684\n",
            "Epoch [1/3], Loss: 390.5976\n",
            "Epoch [2/3], Loss: 413.5324\n"
          ]
        },
        {
          "name": "stderr",
          "output_type": "stream",
          "text": [
            "\r",
            " 10%|▉         | 262/2743 [1:32:04<14:46:29, 21.44s/it]"
          ]
        },
        {
          "name": "stdout",
          "output_type": "stream",
          "text": [
            "Epoch [3/3], Loss: 420.0490\n",
            "ATVI done.\n",
            "21.271577200001047\n",
            "Epoch [1/3], Loss: 390.7826\n",
            "Epoch [2/3], Loss: 400.8590\n"
          ]
        },
        {
          "name": "stderr",
          "output_type": "stream",
          "text": [
            "\r",
            " 10%|▉         | 263/2743 [1:32:25<14:42:15, 21.35s/it]"
          ]
        },
        {
          "name": "stdout",
          "output_type": "stream",
          "text": [
            "Epoch [3/3], Loss: 395.6696\n",
            "ATXG done.\n",
            "20.768049300000712\n",
            "Epoch [1/3], Loss: 434.4878\n",
            "Epoch [2/3], Loss: 409.1949\n"
          ]
        },
        {
          "name": "stderr",
          "output_type": "stream",
          "text": [
            "\r",
            " 10%|▉         | 264/2743 [1:32:46<14:40:39, 21.31s/it]"
          ]
        },
        {
          "name": "stdout",
          "output_type": "stream",
          "text": [
            "Epoch [3/3], Loss: 396.1056\n",
            "ATXI done.\n",
            "20.87396720000106\n",
            "Epoch [1/3], Loss: 404.1567\n",
            "Epoch [2/3], Loss: 410.5359\n"
          ]
        },
        {
          "name": "stderr",
          "output_type": "stream",
          "text": [
            "\r",
            " 10%|▉         | 265/2743 [1:33:08<14:39:10, 21.29s/it]"
          ]
        },
        {
          "name": "stdout",
          "output_type": "stream",
          "text": [
            "Epoch [3/3], Loss: 425.5893\n",
            "ATXS done.\n",
            "20.864801100004115\n",
            "Epoch [1/3], Loss: 423.4168\n",
            "Epoch [2/3], Loss: 409.2658\n"
          ]
        },
        {
          "name": "stderr",
          "output_type": "stream",
          "text": [
            "\r",
            " 10%|▉         | 266/2743 [1:33:29<14:34:57, 21.19s/it]"
          ]
        },
        {
          "name": "stdout",
          "output_type": "stream",
          "text": [
            "Epoch [3/3], Loss: 401.9027\n",
            "AUID done.\n",
            "20.628562500001863\n",
            "Epoch [1/3], Loss: 399.9784\n",
            "Epoch [2/3], Loss: 369.2668\n"
          ]
        },
        {
          "name": "stderr",
          "output_type": "stream",
          "text": [
            "\r",
            " 10%|▉         | 267/2743 [1:33:50<14:33:40, 21.17s/it]"
          ]
        },
        {
          "name": "stdout",
          "output_type": "stream",
          "text": [
            "Epoch [3/3], Loss: 418.0453\n",
            "AUPH done.\n",
            "20.767512599995825\n",
            "Epoch [1/3], Loss: 406.9690\n",
            "Epoch [2/3], Loss: 366.6357\n"
          ]
        },
        {
          "name": "stderr",
          "output_type": "stream",
          "text": [
            "\r",
            " 10%|▉         | 268/2743 [1:34:11<14:30:20, 21.10s/it]"
          ]
        },
        {
          "name": "stdout",
          "output_type": "stream",
          "text": [
            "Epoch [3/3], Loss: 416.8155\n",
            "AUR done.\n",
            "20.584469499997795\n",
            "Epoch [1/3], Loss: 419.4190\n",
            "Epoch [2/3], Loss: 393.6748\n"
          ]
        },
        {
          "name": "stderr",
          "output_type": "stream",
          "text": [
            "\r",
            " 10%|▉         | 269/2743 [1:34:31<14:25:56, 21.00s/it]"
          ]
        },
        {
          "name": "stdout",
          "output_type": "stream",
          "text": [
            "Epoch [3/3], Loss: 412.7090\n",
            "AURA done.\n",
            "20.419433600000048\n",
            "Epoch [1/3], Loss: 400.3292\n",
            "Epoch [2/3], Loss: 417.2705\n"
          ]
        },
        {
          "name": "stderr",
          "output_type": "stream",
          "text": [
            "\r",
            " 10%|▉         | 270/2743 [1:34:53<14:30:31, 21.12s/it]"
          ]
        },
        {
          "name": "stdout",
          "output_type": "stream",
          "text": [
            "Epoch [3/3], Loss: 377.0121\n",
            "AUTL done.\n",
            "21.054471200004627\n",
            "Epoch [1/3], Loss: 383.2990\n",
            "Epoch [2/3], Loss: 407.5619\n"
          ]
        },
        {
          "name": "stderr",
          "output_type": "stream",
          "text": [
            "\r",
            " 10%|▉         | 271/2743 [1:35:14<14:28:25, 21.08s/it]"
          ]
        },
        {
          "name": "stdout",
          "output_type": "stream",
          "text": [
            "Epoch [3/3], Loss: 417.1764\n",
            "AUUD done.\n",
            "20.630174600002647\n",
            "Epoch [1/3], Loss: 407.2696\n",
            "Epoch [2/3], Loss: 423.9639\n"
          ]
        },
        {
          "name": "stderr",
          "output_type": "stream",
          "text": [
            "\r",
            " 10%|▉         | 272/2743 [1:35:35<14:29:21, 21.11s/it]"
          ]
        },
        {
          "name": "stdout",
          "output_type": "stream",
          "text": [
            "Epoch [3/3], Loss: 437.1371\n",
            "AUVI done.\n",
            "20.831543699998292\n",
            "Epoch [1/3], Loss: 376.7426\n",
            "Epoch [2/3], Loss: 409.8551\n"
          ]
        },
        {
          "name": "stderr",
          "output_type": "stream",
          "text": [
            "\r",
            " 10%|▉         | 273/2743 [1:35:56<14:26:32, 21.05s/it]"
          ]
        },
        {
          "name": "stdout",
          "output_type": "stream",
          "text": [
            "Epoch [3/3], Loss: 412.6807\n",
            "AVAH done.\n",
            "20.55134679999901\n",
            "Epoch [1/3], Loss: 397.1491\n",
            "Epoch [2/3], Loss: 381.3222\n"
          ]
        },
        {
          "name": "stderr",
          "output_type": "stream",
          "text": [
            "\r",
            " 10%|▉         | 274/2743 [1:36:17<14:31:29, 21.18s/it]"
          ]
        },
        {
          "name": "stdout",
          "output_type": "stream",
          "text": [
            "Epoch [3/3], Loss: 412.6907\n",
            "AVAV done.\n",
            "21.11533950000012\n",
            "Epoch [1/3], Loss: 364.0739\n",
            "Epoch [2/3], Loss: 382.4815\n"
          ]
        },
        {
          "name": "stderr",
          "output_type": "stream",
          "text": [
            "\r",
            " 10%|█         | 275/2743 [1:36:38<14:25:22, 21.04s/it]"
          ]
        },
        {
          "name": "stdout",
          "output_type": "stream",
          "text": [
            "Epoch [3/3], Loss: 392.6606\n",
            "AVDL done.\n",
            "20.352306500004488\n",
            "Epoch [1/3], Loss: 394.6947\n",
            "Epoch [2/3], Loss: 374.6160\n"
          ]
        },
        {
          "name": "stderr",
          "output_type": "stream",
          "text": [
            "\r",
            " 10%|█         | 276/2743 [1:36:59<14:26:30, 21.07s/it]"
          ]
        },
        {
          "name": "stdout",
          "output_type": "stream",
          "text": [
            "Epoch [3/3], Loss: 389.3439\n",
            "AVDX done.\n",
            "20.81333900000027\n",
            "Epoch [1/3], Loss: 371.0212\n",
            "Epoch [2/3], Loss: 415.1223\n"
          ]
        },
        {
          "name": "stderr",
          "output_type": "stream",
          "text": [
            "\r",
            " 10%|█         | 277/2743 [1:37:20<14:25:34, 21.06s/it]"
          ]
        },
        {
          "name": "stdout",
          "output_type": "stream",
          "text": [
            "Epoch [3/3], Loss: 399.2537\n",
            "AVGO done.\n",
            "20.679273000001558\n",
            "Epoch [1/3], Loss: 414.3168\n",
            "Epoch [2/3], Loss: 380.5168\n"
          ]
        },
        {
          "name": "stderr",
          "output_type": "stream",
          "text": [
            "\r",
            " 10%|█         | 278/2743 [1:37:41<14:26:15, 21.09s/it]"
          ]
        },
        {
          "name": "stdout",
          "output_type": "stream",
          "text": [
            "Epoch [3/3], Loss: 389.7986\n",
            "AVGR done.\n",
            "20.78493080000044\n",
            "Epoch [1/3], Loss: 408.1005\n",
            "Epoch [2/3], Loss: 420.7721\n"
          ]
        },
        {
          "name": "stderr",
          "output_type": "stream",
          "text": [
            "\r",
            " 10%|█         | 279/2743 [1:38:03<14:26:59, 21.11s/it]"
          ]
        },
        {
          "name": "stdout",
          "output_type": "stream",
          "text": [
            "Epoch [3/3], Loss: 402.2035\n",
            "AVID done.\n",
            "20.823953900006018\n",
            "Epoch [1/3], Loss: 373.4070\n",
            "Epoch [2/3], Loss: 407.1092\n"
          ]
        },
        {
          "name": "stderr",
          "output_type": "stream",
          "text": [
            "\r",
            " 10%|█         | 280/2743 [1:38:24<14:29:56, 21.19s/it]"
          ]
        },
        {
          "name": "stdout",
          "output_type": "stream",
          "text": [
            "Epoch [3/3], Loss: 398.9325\n",
            "AVIR done.\n",
            "21.024774099998467\n",
            "Epoch [1/3], Loss: 403.5326\n",
            "Epoch [2/3], Loss: 401.1674\n"
          ]
        },
        {
          "name": "stderr",
          "output_type": "stream",
          "text": [
            "\r",
            " 10%|█         | 281/2743 [1:38:45<14:32:01, 21.25s/it]"
          ]
        },
        {
          "name": "stdout",
          "output_type": "stream",
          "text": [
            "Epoch [3/3], Loss: 401.6405\n",
            "AVNW done.\n",
            "21.039820599995437\n",
            "Epoch [1/3], Loss: 427.7412\n",
            "Epoch [2/3], Loss: 416.5205\n"
          ]
        },
        {
          "name": "stderr",
          "output_type": "stream",
          "text": [
            "\r",
            " 10%|█         | 282/2743 [1:39:06<14:25:13, 21.09s/it]"
          ]
        },
        {
          "name": "stdout",
          "output_type": "stream",
          "text": [
            "Epoch [3/3], Loss: 380.2572\n",
            "AVO done.\n",
            "20.386300300000585\n",
            "Epoch [1/3], Loss: 412.8501\n",
            "Epoch [2/3], Loss: 408.2720\n"
          ]
        },
        {
          "name": "stderr",
          "output_type": "stream",
          "text": [
            "\r",
            " 10%|█         | 283/2743 [1:39:27<14:24:45, 21.09s/it]"
          ]
        },
        {
          "name": "stdout",
          "output_type": "stream",
          "text": [
            "Epoch [3/3], Loss: 408.4819\n",
            "AVPT done.\n",
            "20.734136899998703\n",
            "Epoch [1/3], Loss: 377.8258\n",
            "Epoch [2/3], Loss: 356.2031\n"
          ]
        },
        {
          "name": "stderr",
          "output_type": "stream",
          "text": [
            "\r",
            " 10%|█         | 284/2743 [1:39:48<14:21:09, 21.01s/it]"
          ]
        },
        {
          "name": "stdout",
          "output_type": "stream",
          "text": [
            "Epoch [3/3], Loss: 420.0806\n",
            "AVRO done.\n",
            "20.483870500000194\n",
            "Epoch [1/3], Loss: 414.0454\n",
            "Epoch [2/3], Loss: 377.4857\n"
          ]
        },
        {
          "name": "stderr",
          "output_type": "stream",
          "text": [
            "\r",
            " 10%|█         | 285/2743 [1:40:09<14:24:37, 21.11s/it]"
          ]
        },
        {
          "name": "stdout",
          "output_type": "stream",
          "text": [
            "Epoch [3/3], Loss: 408.0743\n",
            "AVT done.\n",
            "20.977504199996474\n",
            "Epoch [1/3], Loss: 407.7506\n",
            "Epoch [2/3], Loss: 405.6374\n"
          ]
        },
        {
          "name": "stderr",
          "output_type": "stream",
          "text": [
            "\r",
            " 10%|█         | 286/2743 [1:40:31<14:25:04, 21.13s/it]"
          ]
        },
        {
          "name": "stdout",
          "output_type": "stream",
          "text": [
            "Epoch [3/3], Loss: 396.3443\n",
            "AVTA done.\n",
            "20.828554599997005\n",
            "Epoch [1/3], Loss: 364.7509\n",
            "Epoch [2/3], Loss: 400.5944\n"
          ]
        },
        {
          "name": "stderr",
          "output_type": "stream",
          "text": [
            "\r",
            " 10%|█         | 287/2743 [1:40:52<14:25:51, 21.15s/it]"
          ]
        },
        {
          "name": "stdout",
          "output_type": "stream",
          "text": [
            "Epoch [3/3], Loss: 388.0218\n",
            "AVTE done.\n",
            "20.86714960000245\n",
            "Epoch [1/3], Loss: 361.2000\n",
            "Epoch [2/3], Loss: 386.3564\n"
          ]
        },
        {
          "name": "stderr",
          "output_type": "stream",
          "text": [
            "\r",
            " 10%|█         | 288/2743 [1:41:13<14:21:01, 21.04s/it]"
          ]
        },
        {
          "name": "stdout",
          "output_type": "stream",
          "text": [
            "Epoch [3/3], Loss: 417.4980\n",
            "AVTX done.\n",
            "20.426203300005\n",
            "Epoch [1/3], Loss: 414.4083\n",
            "Epoch [2/3], Loss: 412.6423\n"
          ]
        },
        {
          "name": "stderr",
          "output_type": "stream",
          "text": [
            "\r",
            " 11%|█         | 289/2743 [1:41:34<14:23:15, 21.11s/it]"
          ]
        },
        {
          "name": "stdout",
          "output_type": "stream",
          "text": [
            "Epoch [3/3], Loss: 416.5617\n",
            "AVXL done.\n",
            "20.89851159999671\n",
            "Epoch [1/3], Loss: 390.5709\n",
            "Epoch [2/3], Loss: 395.4176\n"
          ]
        },
        {
          "name": "stderr",
          "output_type": "stream",
          "text": [
            "\r",
            " 11%|█         | 290/2743 [1:41:55<14:21:39, 21.08s/it]"
          ]
        },
        {
          "name": "stdout",
          "output_type": "stream",
          "text": [
            "Epoch [3/3], Loss: 384.8820\n",
            "AWH done.\n",
            "20.653871399998025\n",
            "Epoch [1/3], Loss: 428.9395\n",
            "Epoch [2/3], Loss: 386.3381\n"
          ]
        },
        {
          "name": "stderr",
          "output_type": "stream",
          "text": [
            "\r",
            " 11%|█         | 291/2743 [1:42:16<14:24:18, 21.15s/it]"
          ]
        },
        {
          "name": "stdout",
          "output_type": "stream",
          "text": [
            "Epoch [3/3], Loss: 405.2754\n",
            "AXDX done.\n",
            "20.96001690000412\n",
            "Epoch [1/3], Loss: 375.3570\n",
            "Epoch [2/3], Loss: 405.8802\n"
          ]
        },
        {
          "name": "stderr",
          "output_type": "stream",
          "text": [
            "\r",
            " 11%|█         | 292/2743 [1:42:37<14:23:06, 21.13s/it]"
          ]
        },
        {
          "name": "stdout",
          "output_type": "stream",
          "text": [
            "Epoch [3/3], Loss: 439.0073\n",
            "AXGN done.\n",
            "20.71767070000351\n",
            "Epoch [1/3], Loss: 367.1021\n",
            "Epoch [2/3], Loss: 404.8408\n"
          ]
        },
        {
          "name": "stderr",
          "output_type": "stream",
          "text": [
            "\r",
            " 11%|█         | 293/2743 [1:42:58<14:21:32, 21.10s/it]"
          ]
        },
        {
          "name": "stdout",
          "output_type": "stream",
          "text": [
            "Epoch [3/3], Loss: 398.4726\n",
            "AXLA done.\n",
            "20.67162880000251\n",
            "Epoch [1/3], Loss: 388.9203\n",
            "Epoch [2/3], Loss: 386.5105\n"
          ]
        },
        {
          "name": "stderr",
          "output_type": "stream",
          "text": [
            "\r",
            " 11%|█         | 294/2743 [1:43:19<14:23:05, 21.15s/it]"
          ]
        },
        {
          "name": "stdout",
          "output_type": "stream",
          "text": [
            "Epoch [3/3], Loss: 396.6392\n",
            "AXNX done.\n",
            "20.892562300003192\n",
            "Epoch [1/3], Loss: 426.9143\n",
            "Epoch [2/3], Loss: 424.7342\n"
          ]
        },
        {
          "name": "stderr",
          "output_type": "stream",
          "text": [
            "\r",
            " 11%|█         | 295/2743 [1:43:41<14:25:12, 21.21s/it]"
          ]
        },
        {
          "name": "stdout",
          "output_type": "stream",
          "text": [
            "Epoch [3/3], Loss: 408.9074\n",
            "AXON done.\n",
            "20.980419500003336\n",
            "Epoch [1/3], Loss: 387.4220\n",
            "Epoch [2/3], Loss: 421.4308\n"
          ]
        },
        {
          "name": "stderr",
          "output_type": "stream",
          "text": [
            "\r",
            " 11%|█         | 296/2743 [1:44:02<14:23:47, 21.18s/it]"
          ]
        },
        {
          "name": "stdout",
          "output_type": "stream",
          "text": [
            "Epoch [3/3], Loss: 399.9551\n",
            "AXSM done.\n",
            "20.753095599997323\n",
            "Epoch [1/3], Loss: 396.0358\n",
            "Epoch [2/3], Loss: 398.4199\n"
          ]
        },
        {
          "name": "stderr",
          "output_type": "stream",
          "text": [
            "\r",
            " 11%|█         | 297/2743 [1:44:23<14:25:24, 21.23s/it]"
          ]
        },
        {
          "name": "stdout",
          "output_type": "stream",
          "text": [
            "Epoch [3/3], Loss: 402.3659\n",
            "AXTI done.\n",
            "20.986607200000435\n",
            "Epoch [1/3], Loss: 402.1678\n",
            "Epoch [2/3], Loss: 374.2513\n"
          ]
        },
        {
          "name": "stderr",
          "output_type": "stream",
          "text": [
            "\r",
            " 11%|█         | 298/2743 [1:44:44<14:23:28, 21.19s/it]"
          ]
        },
        {
          "name": "stdout",
          "output_type": "stream",
          "text": [
            "Epoch [3/3], Loss: 396.5960\n",
            "AY done.\n",
            "20.734187099995324\n",
            "Epoch [1/3], Loss: 394.7526\n",
            "Epoch [2/3], Loss: 413.1281\n"
          ]
        },
        {
          "name": "stderr",
          "output_type": "stream",
          "text": [
            "\r",
            " 11%|█         | 299/2743 [1:45:06<14:24:32, 21.22s/it]"
          ]
        },
        {
          "name": "stdout",
          "output_type": "stream",
          "text": [
            "Epoch [3/3], Loss: 392.4656\n",
            "AYRO done.\n",
            "20.94777420000173\n",
            "Epoch [1/3], Loss: 387.4804\n",
            "Epoch [2/3], Loss: 417.8106\n"
          ]
        },
        {
          "name": "stderr",
          "output_type": "stream",
          "text": [
            "\r",
            " 11%|█         | 300/2743 [1:45:27<14:25:34, 21.26s/it]"
          ]
        },
        {
          "name": "stdout",
          "output_type": "stream",
          "text": [
            "Epoch [3/3], Loss: 360.3608\n",
            "AYTU done.\n",
            "20.97145830000227\n",
            "Epoch [1/3], Loss: 409.6201\n",
            "Epoch [2/3], Loss: 424.6918\n"
          ]
        },
        {
          "name": "stderr",
          "output_type": "stream",
          "text": [
            "\r",
            " 11%|█         | 301/2743 [1:45:48<14:26:06, 21.28s/it]"
          ]
        },
        {
          "name": "stdout",
          "output_type": "stream",
          "text": [
            "Epoch [3/3], Loss: 406.2306\n",
            "AZ done.\n",
            "20.978501799996593\n",
            "Epoch [1/3], Loss: 391.5164\n",
            "Epoch [2/3], Loss: 401.5121\n"
          ]
        },
        {
          "name": "stderr",
          "output_type": "stream",
          "text": [
            "\r",
            " 11%|█         | 302/2743 [1:46:10<14:27:47, 21.33s/it]"
          ]
        },
        {
          "name": "stdout",
          "output_type": "stream",
          "text": [
            "Epoch [3/3], Loss: 408.6169\n",
            "AZN done.\n",
            "21.09326670000155\n",
            "Epoch [1/3], Loss: 406.7441\n",
            "Epoch [2/3], Loss: 408.3697\n"
          ]
        },
        {
          "name": "stderr",
          "output_type": "stream",
          "text": [
            "\r",
            " 11%|█         | 303/2743 [1:46:31<14:25:18, 21.28s/it]"
          ]
        },
        {
          "name": "stdout",
          "output_type": "stream",
          "text": [
            "Epoch [3/3], Loss: 405.9913\n",
            "AZPN done.\n",
            "20.783555000001797\n"
          ]
        },
        {
          "name": "stderr",
          "output_type": "stream",
          "text": [
            " 11%|█         | 303/2743 [1:46:33<14:18:05, 21.10s/it]\n"
          ]
        },
        {
          "ename": "KeyboardInterrupt",
          "evalue": "",
          "output_type": "error",
          "traceback": [
            "\u001b[1;31m---------------------------------------------------------------------------\u001b[0m",
            "\u001b[1;31mKeyboardInterrupt\u001b[0m                         Traceback (most recent call last)",
            "Cell \u001b[1;32mIn[39], line 87\u001b[0m\n\u001b[0;32m     84\u001b[0m         \u001b[38;5;28mprint\u001b[39m(end \u001b[38;5;241m-\u001b[39m start)\n\u001b[0;32m     86\u001b[0m \u001b[38;5;28;01mif\u001b[39;00m \u001b[38;5;18m__name__\u001b[39m \u001b[38;5;241m==\u001b[39m \u001b[38;5;124m\"\u001b[39m\u001b[38;5;124m__main__\u001b[39m\u001b[38;5;124m\"\u001b[39m:\n\u001b[1;32m---> 87\u001b[0m     \u001b[43mmain\u001b[49m\u001b[43m(\u001b[49m\u001b[43m)\u001b[49m\n",
            "Cell \u001b[1;32mIn[39], line 71\u001b[0m, in \u001b[0;36mmain\u001b[1;34m()\u001b[0m\n\u001b[0;32m     68\u001b[0m labels \u001b[38;5;241m=\u001b[39m y_train[i:i \u001b[38;5;241m+\u001b[39m batch_size]\n\u001b[0;32m     70\u001b[0m \u001b[38;5;66;03m# Forward pass\u001b[39;00m\n\u001b[1;32m---> 71\u001b[0m outputs \u001b[38;5;241m=\u001b[39m \u001b[43mmodel\u001b[49m\u001b[43m(\u001b[49m\u001b[43minputs\u001b[49m\u001b[43m)\u001b[49m\n\u001b[0;32m     72\u001b[0m loss \u001b[38;5;241m=\u001b[39m criterion(outputs, labels)\n\u001b[0;32m     74\u001b[0m \u001b[38;5;66;03m# Backward pass and optimize\u001b[39;00m\n",
            "File \u001b[1;32m~\\AppData\\Roaming\\Python\\Python310\\site-packages\\torch\\nn\\modules\\module.py:1501\u001b[0m, in \u001b[0;36mModule._call_impl\u001b[1;34m(self, *args, **kwargs)\u001b[0m\n\u001b[0;32m   1496\u001b[0m \u001b[38;5;66;03m# If we don't have any hooks, we want to skip the rest of the logic in\u001b[39;00m\n\u001b[0;32m   1497\u001b[0m \u001b[38;5;66;03m# this function, and just call forward.\u001b[39;00m\n\u001b[0;32m   1498\u001b[0m \u001b[38;5;28;01mif\u001b[39;00m \u001b[38;5;129;01mnot\u001b[39;00m (\u001b[38;5;28mself\u001b[39m\u001b[38;5;241m.\u001b[39m_backward_hooks \u001b[38;5;129;01mor\u001b[39;00m \u001b[38;5;28mself\u001b[39m\u001b[38;5;241m.\u001b[39m_backward_pre_hooks \u001b[38;5;129;01mor\u001b[39;00m \u001b[38;5;28mself\u001b[39m\u001b[38;5;241m.\u001b[39m_forward_hooks \u001b[38;5;129;01mor\u001b[39;00m \u001b[38;5;28mself\u001b[39m\u001b[38;5;241m.\u001b[39m_forward_pre_hooks\n\u001b[0;32m   1499\u001b[0m         \u001b[38;5;129;01mor\u001b[39;00m _global_backward_pre_hooks \u001b[38;5;129;01mor\u001b[39;00m _global_backward_hooks\n\u001b[0;32m   1500\u001b[0m         \u001b[38;5;129;01mor\u001b[39;00m _global_forward_hooks \u001b[38;5;129;01mor\u001b[39;00m _global_forward_pre_hooks):\n\u001b[1;32m-> 1501\u001b[0m     \u001b[38;5;28;01mreturn\u001b[39;00m forward_call(\u001b[38;5;241m*\u001b[39margs, \u001b[38;5;241m*\u001b[39m\u001b[38;5;241m*\u001b[39mkwargs)\n\u001b[0;32m   1502\u001b[0m \u001b[38;5;66;03m# Do not call functions when jit is used\u001b[39;00m\n\u001b[0;32m   1503\u001b[0m full_backward_hooks, non_full_backward_hooks \u001b[38;5;241m=\u001b[39m [], []\n",
            "Cell \u001b[1;32mIn[39], line 12\u001b[0m, in \u001b[0;36mLSTMModel.forward\u001b[1;34m(self, x)\u001b[0m\n\u001b[0;32m     10\u001b[0m \u001b[38;5;28;01mdef\u001b[39;00m \u001b[38;5;21mforward\u001b[39m(\u001b[38;5;28mself\u001b[39m, x):\n\u001b[0;32m     11\u001b[0m     out, _ \u001b[38;5;241m=\u001b[39m \u001b[38;5;28mself\u001b[39m\u001b[38;5;241m.\u001b[39mlstm1(x)\n\u001b[1;32m---> 12\u001b[0m     out, _ \u001b[38;5;241m=\u001b[39m \u001b[38;5;28;43mself\u001b[39;49m\u001b[38;5;241;43m.\u001b[39;49m\u001b[43mlstm2\u001b[49m\u001b[43m(\u001b[49m\u001b[43mout\u001b[49m\u001b[43m)\u001b[49m\n\u001b[0;32m     13\u001b[0m     out \u001b[38;5;241m=\u001b[39m \u001b[38;5;28mself\u001b[39m\u001b[38;5;241m.\u001b[39mdropout(out)\n\u001b[0;32m     14\u001b[0m     out \u001b[38;5;241m=\u001b[39m torch\u001b[38;5;241m.\u001b[39mrelu(\u001b[38;5;28mself\u001b[39m\u001b[38;5;241m.\u001b[39mfc1(out[:, \u001b[38;5;241m-\u001b[39m\u001b[38;5;241m1\u001b[39m, :]))\n",
            "File \u001b[1;32m~\\AppData\\Roaming\\Python\\Python310\\site-packages\\torch\\nn\\modules\\module.py:1501\u001b[0m, in \u001b[0;36mModule._call_impl\u001b[1;34m(self, *args, **kwargs)\u001b[0m\n\u001b[0;32m   1496\u001b[0m \u001b[38;5;66;03m# If we don't have any hooks, we want to skip the rest of the logic in\u001b[39;00m\n\u001b[0;32m   1497\u001b[0m \u001b[38;5;66;03m# this function, and just call forward.\u001b[39;00m\n\u001b[0;32m   1498\u001b[0m \u001b[38;5;28;01mif\u001b[39;00m \u001b[38;5;129;01mnot\u001b[39;00m (\u001b[38;5;28mself\u001b[39m\u001b[38;5;241m.\u001b[39m_backward_hooks \u001b[38;5;129;01mor\u001b[39;00m \u001b[38;5;28mself\u001b[39m\u001b[38;5;241m.\u001b[39m_backward_pre_hooks \u001b[38;5;129;01mor\u001b[39;00m \u001b[38;5;28mself\u001b[39m\u001b[38;5;241m.\u001b[39m_forward_hooks \u001b[38;5;129;01mor\u001b[39;00m \u001b[38;5;28mself\u001b[39m\u001b[38;5;241m.\u001b[39m_forward_pre_hooks\n\u001b[0;32m   1499\u001b[0m         \u001b[38;5;129;01mor\u001b[39;00m _global_backward_pre_hooks \u001b[38;5;129;01mor\u001b[39;00m _global_backward_hooks\n\u001b[0;32m   1500\u001b[0m         \u001b[38;5;129;01mor\u001b[39;00m _global_forward_hooks \u001b[38;5;129;01mor\u001b[39;00m _global_forward_pre_hooks):\n\u001b[1;32m-> 1501\u001b[0m     \u001b[38;5;28;01mreturn\u001b[39;00m forward_call(\u001b[38;5;241m*\u001b[39margs, \u001b[38;5;241m*\u001b[39m\u001b[38;5;241m*\u001b[39mkwargs)\n\u001b[0;32m   1502\u001b[0m \u001b[38;5;66;03m# Do not call functions when jit is used\u001b[39;00m\n\u001b[0;32m   1503\u001b[0m full_backward_hooks, non_full_backward_hooks \u001b[38;5;241m=\u001b[39m [], []\n",
            "File \u001b[1;32m~\\AppData\\Roaming\\Python\\Python310\\site-packages\\torch\\nn\\modules\\rnn.py:812\u001b[0m, in \u001b[0;36mLSTM.forward\u001b[1;34m(self, input, hx)\u001b[0m\n\u001b[0;32m    810\u001b[0m \u001b[38;5;28mself\u001b[39m\u001b[38;5;241m.\u001b[39mcheck_forward_args(\u001b[38;5;28minput\u001b[39m, hx, batch_sizes)\n\u001b[0;32m    811\u001b[0m \u001b[38;5;28;01mif\u001b[39;00m batch_sizes \u001b[38;5;129;01mis\u001b[39;00m \u001b[38;5;28;01mNone\u001b[39;00m:\n\u001b[1;32m--> 812\u001b[0m     result \u001b[38;5;241m=\u001b[39m \u001b[43m_VF\u001b[49m\u001b[38;5;241;43m.\u001b[39;49m\u001b[43mlstm\u001b[49m\u001b[43m(\u001b[49m\u001b[38;5;28;43minput\u001b[39;49m\u001b[43m,\u001b[49m\u001b[43m \u001b[49m\u001b[43mhx\u001b[49m\u001b[43m,\u001b[49m\u001b[43m \u001b[49m\u001b[38;5;28;43mself\u001b[39;49m\u001b[38;5;241;43m.\u001b[39;49m\u001b[43m_flat_weights\u001b[49m\u001b[43m,\u001b[49m\u001b[43m \u001b[49m\u001b[38;5;28;43mself\u001b[39;49m\u001b[38;5;241;43m.\u001b[39;49m\u001b[43mbias\u001b[49m\u001b[43m,\u001b[49m\u001b[43m \u001b[49m\u001b[38;5;28;43mself\u001b[39;49m\u001b[38;5;241;43m.\u001b[39;49m\u001b[43mnum_layers\u001b[49m\u001b[43m,\u001b[49m\n\u001b[0;32m    813\u001b[0m \u001b[43m                      \u001b[49m\u001b[38;5;28;43mself\u001b[39;49m\u001b[38;5;241;43m.\u001b[39;49m\u001b[43mdropout\u001b[49m\u001b[43m,\u001b[49m\u001b[43m \u001b[49m\u001b[38;5;28;43mself\u001b[39;49m\u001b[38;5;241;43m.\u001b[39;49m\u001b[43mtraining\u001b[49m\u001b[43m,\u001b[49m\u001b[43m \u001b[49m\u001b[38;5;28;43mself\u001b[39;49m\u001b[38;5;241;43m.\u001b[39;49m\u001b[43mbidirectional\u001b[49m\u001b[43m,\u001b[49m\u001b[43m \u001b[49m\u001b[38;5;28;43mself\u001b[39;49m\u001b[38;5;241;43m.\u001b[39;49m\u001b[43mbatch_first\u001b[49m\u001b[43m)\u001b[49m\n\u001b[0;32m    814\u001b[0m \u001b[38;5;28;01melse\u001b[39;00m:\n\u001b[0;32m    815\u001b[0m     result \u001b[38;5;241m=\u001b[39m _VF\u001b[38;5;241m.\u001b[39mlstm(\u001b[38;5;28minput\u001b[39m, batch_sizes, hx, \u001b[38;5;28mself\u001b[39m\u001b[38;5;241m.\u001b[39m_flat_weights, \u001b[38;5;28mself\u001b[39m\u001b[38;5;241m.\u001b[39mbias,\n\u001b[0;32m    816\u001b[0m                       \u001b[38;5;28mself\u001b[39m\u001b[38;5;241m.\u001b[39mnum_layers, \u001b[38;5;28mself\u001b[39m\u001b[38;5;241m.\u001b[39mdropout, \u001b[38;5;28mself\u001b[39m\u001b[38;5;241m.\u001b[39mtraining, \u001b[38;5;28mself\u001b[39m\u001b[38;5;241m.\u001b[39mbidirectional)\n",
            "\u001b[1;31mKeyboardInterrupt\u001b[0m: "
          ]
        }
      ],
      "source": [
        "class LSTMModel(nn.Module):\n",
        "    def __init__(self, input_size, hidden_size, num_layers):\n",
        "        super(LSTMModel, self).__init__()\n",
        "        self.lstm1 = nn.LSTM(input_size, hidden_size, num_layers, batch_first=True)\n",
        "        self.lstm2 = nn.LSTM(hidden_size, 32, batch_first=True)\n",
        "        self.dropout = nn.Dropout(0.2)\n",
        "        self.fc1 = nn.Linear(32, 16)\n",
        "        self.fc2 = nn.Linear(16, 1)\n",
        "\n",
        "    def forward(self, x):\n",
        "        out, _ = self.lstm1(x)\n",
        "        out, _ = self.lstm2(out)\n",
        "        out = self.dropout(out)\n",
        "        out = torch.relu(self.fc1(out[:, -1, :]))\n",
        "        out = self.fc2(out)\n",
        "        return out\n",
        "\n",
        "def prepare_data(data, sequence_length):\n",
        "    result = []\n",
        "    for index in range(len(data) - sequence_length):\n",
        "        result.append(data[index: index + sequence_length])\n",
        "    result = np.array(result)\n",
        "    return result\n",
        "\n",
        "def main():\n",
        "    tk_list = df['tck_iem_cd'].unique().tolist()\n",
        "    sequence_length = 6\n",
        "\n",
        "    for tk in tqdm(tk_list):\n",
        "        test1 = df[df['tck_iem_cd'] == tk]\n",
        "        cols = ['gts_iem_ong_pr', 'gts_iem_hi_pr', 'gts_iem_low_pr', 'gts_acl_trd_qty', 'gts_iem_end_pr']\n",
        "        test1 = df[cols]\n",
        "\n",
        "        data = test1.to_numpy()\n",
        "        result = prepare_data(data, sequence_length)\n",
        "\n",
        "\n",
        "        # Creating training data\n",
        "        row = round(0.8 * result.shape[0])\n",
        "        train = result\n",
        "        x_train = train[:, :-1]\n",
        "        y_train = train[:, -1][:, -1]\n",
        "        x_test = result[int(row):, :-1]\n",
        "        y_test = result[int(row):, -1][:, -1]\n",
        "\n",
        "\n",
        "        num_features = len(test1.columns)\n",
        "        x_train = np.reshape(x_train, (x_train.shape[0], x_train.shape[1], num_features))\n",
        "        x_test = np.reshape(x_test, (x_test.shape[0], x_test.shape[1], num_features))\n",
        "\n",
        "\n",
        "        x_train = torch.from_numpy(x_train).float().to(device)\n",
        "        y_train = torch.from_numpy(y_train).float().unsqueeze(1).to(device)\n",
        "        x_test = torch.from_numpy(x_test).float().to(device)\n",
        "        y_test = torch.from_numpy(y_test).float().unsqueeze(1).to(device)\n",
        "\n",
        "        model = LSTMModel(num_features, 5, 1).to(device)\n",
        "        optimizer = optim.Adam(model.parameters(), lr=0.001)\n",
        "        criterion = nn.MSELoss()\n",
        "\n",
        "\n",
        "        start = timer()\n",
        "        num_epochs = 3\n",
        "        batch_size = 128\n",
        "        for epoch in range(num_epochs):\n",
        "            for i in range(0, len(x_train), batch_size):\n",
        "                inputs = x_train[i:i + batch_size]\n",
        "                labels = y_train[i:i + batch_size]\n",
        "\n",
        "                # Forward pass\n",
        "                outputs = model(inputs)\n",
        "                loss = criterion(outputs, labels)\n",
        "\n",
        "                # Backward pass and optimize\n",
        "                optimizer.zero_grad()\n",
        "                loss.backward()\n",
        "                optimizer.step()\n",
        "\n",
        "            print(f\"Epoch [{epoch + 1}/{num_epochs}], Loss: {loss.item():.4f}\")\n",
        "\n",
        "        torch.save(model.state_dict(), weight_file.format(tk))\n",
        "        print(f'{tk} done.')\n",
        "        end = timer()\n",
        "        print(end - start)\n",
        "\n",
        "if __name__ == \"__main__\":\n",
        "    main()"
      ]
    },
    {
      "cell_type": "code",
      "execution_count": null,
      "id": "e75b06f0",
      "metadata": {
        "id": "e75b06f0",
        "outputId": "de8b7f9b-7c30-4840-98bf-f923c41546c6"
      },
      "outputs": [
        {
          "name": "stderr",
          "output_type": "stream",
          "text": [
            "  0%|          | 1/2743 [00:00<14:50,  3.08it/s]"
          ]
        },
        {
          "name": "stdout",
          "output_type": "stream",
          "text": [
            "AACG done.\n",
            "0.003889399995387066\n"
          ]
        },
        {
          "name": "stderr",
          "output_type": "stream",
          "text": [
            "\r",
            "  0%|          | 2/2743 [00:00<14:49,  3.08it/s]"
          ]
        },
        {
          "name": "stdout",
          "output_type": "stream",
          "text": [
            "AADI done.\n",
            "0.0015331000031437725\n"
          ]
        },
        {
          "name": "stderr",
          "output_type": "stream",
          "text": [
            "\r",
            "  0%|          | 3/2743 [00:00<14:53,  3.07it/s]"
          ]
        },
        {
          "name": "stdout",
          "output_type": "stream",
          "text": [
            "AAL done.\n",
            "0.0025621999957365915\n"
          ]
        },
        {
          "name": "stderr",
          "output_type": "stream",
          "text": [
            "\r",
            "  0%|          | 4/2743 [00:01<14:49,  3.08it/s]"
          ]
        },
        {
          "name": "stdout",
          "output_type": "stream",
          "text": [
            "AAOI done.\n",
            "0.0015697999988333322\n"
          ]
        },
        {
          "name": "stderr",
          "output_type": "stream",
          "text": [
            "\r",
            "  0%|          | 5/2743 [00:01<14:47,  3.08it/s]"
          ]
        },
        {
          "name": "stdout",
          "output_type": "stream",
          "text": [
            "AAON done.\n",
            "0.0015916999982437119\n"
          ]
        },
        {
          "name": "stderr",
          "output_type": "stream",
          "text": [
            "\r",
            "  0%|          | 6/2743 [00:01<14:51,  3.07it/s]"
          ]
        },
        {
          "name": "stdout",
          "output_type": "stream",
          "text": [
            "AAPL done.\n",
            "0.0016813999973237514\n"
          ]
        },
        {
          "name": "stderr",
          "output_type": "stream",
          "text": [
            "  0%|          | 6/2743 [00:02<17:15,  2.64it/s]\n"
          ]
        },
        {
          "ename": "FileNotFoundError",
          "evalue": "[Errno 2] No such file or directory: './nsdq_weight/ABCB_cp.pth'",
          "output_type": "error",
          "traceback": [
            "\u001b[1;31m---------------------------------------------------------------------------\u001b[0m",
            "\u001b[1;31mFileNotFoundError\u001b[0m                         Traceback (most recent call last)",
            "Cell \u001b[1;32mIn[38], line 51\u001b[0m\n\u001b[0;32m     48\u001b[0m         \u001b[38;5;28mprint\u001b[39m(end \u001b[38;5;241m-\u001b[39m start)\n\u001b[0;32m     50\u001b[0m \u001b[38;5;28;01mif\u001b[39;00m \u001b[38;5;18m__name__\u001b[39m \u001b[38;5;241m==\u001b[39m \u001b[38;5;124m\"\u001b[39m\u001b[38;5;124m__main__\u001b[39m\u001b[38;5;124m\"\u001b[39m:\n\u001b[1;32m---> 51\u001b[0m     \u001b[43mmain\u001b[49m\u001b[43m(\u001b[49m\u001b[43m)\u001b[49m\n",
            "Cell \u001b[1;32mIn[38], line 38\u001b[0m, in \u001b[0;36mmain\u001b[1;34m()\u001b[0m\n\u001b[0;32m     35\u001b[0m y_test \u001b[38;5;241m=\u001b[39m torch\u001b[38;5;241m.\u001b[39mfrom_numpy(y_test)\u001b[38;5;241m.\u001b[39mfloat()\u001b[38;5;241m.\u001b[39mto(device)\n\u001b[0;32m     37\u001b[0m model \u001b[38;5;241m=\u001b[39m LSTMModel(num_features, \u001b[38;5;241m5\u001b[39m, \u001b[38;5;241m1\u001b[39m)\u001b[38;5;241m.\u001b[39mto(device)\n\u001b[1;32m---> 38\u001b[0m model\u001b[38;5;241m.\u001b[39mload_state_dict(\u001b[43mtorch\u001b[49m\u001b[38;5;241;43m.\u001b[39;49m\u001b[43mload\u001b[49m\u001b[43m(\u001b[49m\u001b[43mweight_file\u001b[49m\u001b[38;5;241;43m.\u001b[39;49m\u001b[43mformat\u001b[49m\u001b[43m(\u001b[49m\u001b[43mtk\u001b[49m\u001b[43m)\u001b[49m\u001b[43m)\u001b[49m)\n\u001b[0;32m     39\u001b[0m model\u001b[38;5;241m.\u001b[39meval()\n\u001b[0;32m     41\u001b[0m start \u001b[38;5;241m=\u001b[39m timer()\n",
            "File \u001b[1;32m~\\AppData\\Roaming\\Python\\Python310\\site-packages\\torch\\serialization.py:791\u001b[0m, in \u001b[0;36mload\u001b[1;34m(f, map_location, pickle_module, weights_only, **pickle_load_args)\u001b[0m\n\u001b[0;32m    788\u001b[0m \u001b[38;5;28;01mif\u001b[39;00m \u001b[38;5;124m'\u001b[39m\u001b[38;5;124mencoding\u001b[39m\u001b[38;5;124m'\u001b[39m \u001b[38;5;129;01mnot\u001b[39;00m \u001b[38;5;129;01min\u001b[39;00m pickle_load_args\u001b[38;5;241m.\u001b[39mkeys():\n\u001b[0;32m    789\u001b[0m     pickle_load_args[\u001b[38;5;124m'\u001b[39m\u001b[38;5;124mencoding\u001b[39m\u001b[38;5;124m'\u001b[39m] \u001b[38;5;241m=\u001b[39m \u001b[38;5;124m'\u001b[39m\u001b[38;5;124mutf-8\u001b[39m\u001b[38;5;124m'\u001b[39m\n\u001b[1;32m--> 791\u001b[0m \u001b[38;5;28;01mwith\u001b[39;00m \u001b[43m_open_file_like\u001b[49m\u001b[43m(\u001b[49m\u001b[43mf\u001b[49m\u001b[43m,\u001b[49m\u001b[43m \u001b[49m\u001b[38;5;124;43m'\u001b[39;49m\u001b[38;5;124;43mrb\u001b[39;49m\u001b[38;5;124;43m'\u001b[39;49m\u001b[43m)\u001b[49m \u001b[38;5;28;01mas\u001b[39;00m opened_file:\n\u001b[0;32m    792\u001b[0m     \u001b[38;5;28;01mif\u001b[39;00m _is_zipfile(opened_file):\n\u001b[0;32m    793\u001b[0m         \u001b[38;5;66;03m# The zipfile reader is going to advance the current file position.\u001b[39;00m\n\u001b[0;32m    794\u001b[0m         \u001b[38;5;66;03m# If we want to actually tail call to torch.jit.load, we need to\u001b[39;00m\n\u001b[0;32m    795\u001b[0m         \u001b[38;5;66;03m# reset back to the original position.\u001b[39;00m\n\u001b[0;32m    796\u001b[0m         orig_position \u001b[38;5;241m=\u001b[39m opened_file\u001b[38;5;241m.\u001b[39mtell()\n",
            "File \u001b[1;32m~\\AppData\\Roaming\\Python\\Python310\\site-packages\\torch\\serialization.py:271\u001b[0m, in \u001b[0;36m_open_file_like\u001b[1;34m(name_or_buffer, mode)\u001b[0m\n\u001b[0;32m    269\u001b[0m \u001b[38;5;28;01mdef\u001b[39;00m \u001b[38;5;21m_open_file_like\u001b[39m(name_or_buffer, mode):\n\u001b[0;32m    270\u001b[0m     \u001b[38;5;28;01mif\u001b[39;00m _is_path(name_or_buffer):\n\u001b[1;32m--> 271\u001b[0m         \u001b[38;5;28;01mreturn\u001b[39;00m \u001b[43m_open_file\u001b[49m\u001b[43m(\u001b[49m\u001b[43mname_or_buffer\u001b[49m\u001b[43m,\u001b[49m\u001b[43m \u001b[49m\u001b[43mmode\u001b[49m\u001b[43m)\u001b[49m\n\u001b[0;32m    272\u001b[0m     \u001b[38;5;28;01melse\u001b[39;00m:\n\u001b[0;32m    273\u001b[0m         \u001b[38;5;28;01mif\u001b[39;00m \u001b[38;5;124m'\u001b[39m\u001b[38;5;124mw\u001b[39m\u001b[38;5;124m'\u001b[39m \u001b[38;5;129;01min\u001b[39;00m mode:\n",
            "File \u001b[1;32m~\\AppData\\Roaming\\Python\\Python310\\site-packages\\torch\\serialization.py:252\u001b[0m, in \u001b[0;36m_open_file.__init__\u001b[1;34m(self, name, mode)\u001b[0m\n\u001b[0;32m    251\u001b[0m \u001b[38;5;28;01mdef\u001b[39;00m \u001b[38;5;21m__init__\u001b[39m(\u001b[38;5;28mself\u001b[39m, name, mode):\n\u001b[1;32m--> 252\u001b[0m     \u001b[38;5;28msuper\u001b[39m()\u001b[38;5;241m.\u001b[39m\u001b[38;5;21m__init__\u001b[39m(\u001b[38;5;28;43mopen\u001b[39;49m\u001b[43m(\u001b[49m\u001b[43mname\u001b[49m\u001b[43m,\u001b[49m\u001b[43m \u001b[49m\u001b[43mmode\u001b[49m\u001b[43m)\u001b[49m)\n",
            "\u001b[1;31mFileNotFoundError\u001b[0m: [Errno 2] No such file or directory: './nsdq_weight/ABCB_cp.pth'"
          ]
        }
      ],
      "source": [
        "def get_vector(data, model):\n",
        "    emb = torch.zeros((16))\n",
        "    def copy_data(m, i, o):\n",
        "        emb.copy_(o.data.flatten())\n",
        "\n",
        "    layer = model._modules['fc1']\n",
        "\n",
        "    loc_h = layer.register_forward_hook(copy_data)\n",
        "    model(data)\n",
        "    loc_h.remove()\n",
        "    return emb.numpy()\n",
        "\n",
        "def main():\n",
        "    tk_list = df['tck_iem_cd'].unique().tolist()\n",
        "    sequence_length = 6\n",
        "\n",
        "    for tk in tqdm(tk_list):\n",
        "        test1 = df[df['tck_iem_cd'] == tk]\n",
        "        cols = ['gts_iem_ong_pr', 'gts_iem_hi_pr', 'gts_iem_low_pr', 'gts_acl_trd_qty', 'gts_iem_end_pr']\n",
        "        test1 = df[cols]\n",
        "\n",
        "        data = test1.to_numpy()\n",
        "        result = prepare_data(data, sequence_length)\n",
        "\n",
        "\n",
        "        # Creating training data\n",
        "        row = result.shape[0]-1\n",
        "        x_test = result[int(row):, :-1]\n",
        "        y_test = result[int(row):, -1][:, -1]\n",
        "\n",
        "        num_features = len(test1.columns)\n",
        "        x_test = np.reshape(x_test, (x_test.shape[0], x_test.shape[1], num_features))\n",
        "\n",
        "        x_test = torch.from_numpy(x_test).float().to(device)\n",
        "        y_test = torch.from_numpy(y_test).float().to(device)\n",
        "\n",
        "        model = LSTMModel(num_features, 5, 1).to(device)\n",
        "        model.load_state_dict(torch.load(weight_file.format(tk)))\n",
        "        model.eval()\n",
        "\n",
        "        start = timer()\n",
        "\n",
        "        feature = get_vector(x_test, model)\n",
        "\n",
        "        np.save(feature_file.format(tk), feature)\n",
        "        print(f'{tk} done.')\n",
        "        end = timer()\n",
        "        print(end - start)\n",
        "\n",
        "if __name__ == \"__main__\":\n",
        "    main()"
      ]
    },
    {
      "cell_type": "code",
      "execution_count": null,
      "id": "d1f6e3d4",
      "metadata": {
        "id": "d1f6e3d4"
      },
      "outputs": [],
      "source": []
    }
  ],
  "metadata": {
    "kernelspec": {
      "display_name": "Python 3 (ipykernel)",
      "language": "python",
      "name": "python3"
    },
    "language_info": {
      "codemirror_mode": {
        "name": "ipython",
        "version": 3
      },
      "file_extension": ".py",
      "mimetype": "text/x-python",
      "name": "python",
      "nbconvert_exporter": "python",
      "pygments_lexer": "ipython3",
      "version": "3.10.9"
    },
    "colab": {
      "provenance": []
    }
  },
  "nbformat": 4,
  "nbformat_minor": 5
}