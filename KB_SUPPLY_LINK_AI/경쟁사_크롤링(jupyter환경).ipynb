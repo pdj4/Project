{
 "cells": [
  {
   "cell_type": "code",
   "execution_count": 1,
   "id": "fb07239c",
   "metadata": {},
   "outputs": [],
   "source": [
    "import pandas as pd"
   ]
  },
  {
   "cell_type": "code",
   "execution_count": 19,
   "id": "66899d2b",
   "metadata": {},
   "outputs": [],
   "source": [
    "kospi = pd.read_csv(\"./data_3559_20240718.csv\", encoding=\"cp949\")"
   ]
  },
  {
   "cell_type": "code",
   "execution_count": 31,
   "id": "8fb67d7d",
   "metadata": {},
   "outputs": [],
   "source": [
    "df = kospi[['단축코드' , '한글 종목명', '한글 종목약명']]"
   ]
  },
  {
   "cell_type": "code",
   "execution_count": 32,
   "id": "3a77d894",
   "metadata": {},
   "outputs": [],
   "source": [
    "df = df[['단축코드', '한글 종목약명']]"
   ]
  },
  {
   "cell_type": "code",
   "execution_count": 33,
   "id": "e6f6b31d",
   "metadata": {},
   "outputs": [
    {
     "data": {
      "text/html": [
       "<div>\n",
       "<style scoped>\n",
       "    .dataframe tbody tr th:only-of-type {\n",
       "        vertical-align: middle;\n",
       "    }\n",
       "\n",
       "    .dataframe tbody tr th {\n",
       "        vertical-align: top;\n",
       "    }\n",
       "\n",
       "    .dataframe thead th {\n",
       "        text-align: right;\n",
       "    }\n",
       "</style>\n",
       "<table border=\"1\" class=\"dataframe\">\n",
       "  <thead>\n",
       "    <tr style=\"text-align: right;\">\n",
       "      <th></th>\n",
       "      <th>단축코드</th>\n",
       "      <th>한글 종목약명</th>\n",
       "    </tr>\n",
       "  </thead>\n",
       "  <tbody>\n",
       "    <tr>\n",
       "      <th>0</th>\n",
       "      <td>095570</td>\n",
       "      <td>AJ네트웍스</td>\n",
       "    </tr>\n",
       "    <tr>\n",
       "      <th>1</th>\n",
       "      <td>006840</td>\n",
       "      <td>AK홀딩스</td>\n",
       "    </tr>\n",
       "    <tr>\n",
       "      <th>2</th>\n",
       "      <td>282330</td>\n",
       "      <td>BGF리테일</td>\n",
       "    </tr>\n",
       "    <tr>\n",
       "      <th>3</th>\n",
       "      <td>027410</td>\n",
       "      <td>BGF</td>\n",
       "    </tr>\n",
       "    <tr>\n",
       "      <th>4</th>\n",
       "      <td>138930</td>\n",
       "      <td>BNK금융지주</td>\n",
       "    </tr>\n",
       "    <tr>\n",
       "      <th>...</th>\n",
       "      <td>...</td>\n",
       "      <td>...</td>\n",
       "    </tr>\n",
       "    <tr>\n",
       "      <th>950</th>\n",
       "      <td>079980</td>\n",
       "      <td>휴비스</td>\n",
       "    </tr>\n",
       "    <tr>\n",
       "      <th>951</th>\n",
       "      <td>005010</td>\n",
       "      <td>휴스틸</td>\n",
       "    </tr>\n",
       "    <tr>\n",
       "      <th>952</th>\n",
       "      <td>000545</td>\n",
       "      <td>흥국화재우</td>\n",
       "    </tr>\n",
       "    <tr>\n",
       "      <th>953</th>\n",
       "      <td>000540</td>\n",
       "      <td>흥국화재</td>\n",
       "    </tr>\n",
       "    <tr>\n",
       "      <th>954</th>\n",
       "      <td>003280</td>\n",
       "      <td>흥아해운</td>\n",
       "    </tr>\n",
       "  </tbody>\n",
       "</table>\n",
       "<p>955 rows × 2 columns</p>\n",
       "</div>"
      ],
      "text/plain": [
       "       단축코드  한글 종목약명\n",
       "0    095570   AJ네트웍스\n",
       "1    006840    AK홀딩스\n",
       "2    282330   BGF리테일\n",
       "3    027410      BGF\n",
       "4    138930  BNK금융지주\n",
       "..      ...      ...\n",
       "950  079980      휴비스\n",
       "951  005010      휴스틸\n",
       "952  000545    흥국화재우\n",
       "953  000540     흥국화재\n",
       "954  003280     흥아해운\n",
       "\n",
       "[955 rows x 2 columns]"
      ]
     },
     "execution_count": 33,
     "metadata": {},
     "output_type": "execute_result"
    }
   ],
   "source": [
    "df"
   ]
  },
  {
   "cell_type": "code",
   "execution_count": 9,
   "id": "ae1d5985",
   "metadata": {},
   "outputs": [
    {
     "name": "stdout",
     "output_type": "stream",
     "text": [
      "Collecting selenium\n",
      "  Obtaining dependency information for selenium from https://files.pythonhosted.org/packages/05/6e/ce2c7b3e822c4b349e963ea5b75ec7ae2b6e2c0ad4b8f946055629877e1d/selenium-4.23.0-py3-none-any.whl.metadata\n",
      "  Downloading selenium-4.23.0-py3-none-any.whl.metadata (7.1 kB)\n",
      "Collecting chromedriver_autoinstaller\n",
      "  Obtaining dependency information for chromedriver_autoinstaller from https://files.pythonhosted.org/packages/a5/b5/36f0b0add145c371b5282e881a687601899f2d27fae5d0595bc02026b67c/chromedriver_autoinstaller-0.6.4-py3-none-any.whl.metadata\n",
      "  Downloading chromedriver_autoinstaller-0.6.4-py3-none-any.whl.metadata (2.1 kB)\n",
      "Requirement already satisfied: urllib3[socks]<3,>=1.26 in d:\\py\\lib\\site-packages (from selenium) (1.26.16)\n",
      "Collecting trio~=0.17 (from selenium)\n",
      "  Obtaining dependency information for trio~=0.17 from https://files.pythonhosted.org/packages/77/34/461280cc615614a9e434c6e23373371a2436f71d045303cadabb1d775eba/trio-0.26.0-py3-none-any.whl.metadata\n",
      "  Downloading trio-0.26.0-py3-none-any.whl.metadata (8.8 kB)\n",
      "Collecting trio-websocket~=0.9 (from selenium)\n",
      "  Obtaining dependency information for trio-websocket~=0.9 from https://files.pythonhosted.org/packages/48/be/a9ae5f50cad5b6f85bd2574c2c923730098530096e170c1ce7452394d7aa/trio_websocket-0.11.1-py3-none-any.whl.metadata\n",
      "  Using cached trio_websocket-0.11.1-py3-none-any.whl.metadata (4.7 kB)\n",
      "Requirement already satisfied: certifi>=2021.10.8 in d:\\py\\lib\\site-packages (from selenium) (2023.7.22)\n",
      "Collecting typing_extensions~=4.9.0 (from selenium)\n",
      "  Obtaining dependency information for typing_extensions~=4.9.0 from https://files.pythonhosted.org/packages/b7/f4/6a90020cd2d93349b442bfcb657d0dc91eee65491600b2cb1d388bc98e6b/typing_extensions-4.9.0-py3-none-any.whl.metadata\n",
      "  Downloading typing_extensions-4.9.0-py3-none-any.whl.metadata (3.0 kB)\n",
      "Collecting websocket-client==1.8.0 (from selenium)\n",
      "  Obtaining dependency information for websocket-client==1.8.0 from https://files.pythonhosted.org/packages/5a/84/44687a29792a70e111c5c477230a72c4b957d88d16141199bf9acb7537a3/websocket_client-1.8.0-py3-none-any.whl.metadata\n",
      "  Downloading websocket_client-1.8.0-py3-none-any.whl.metadata (8.0 kB)\n",
      "Requirement already satisfied: packaging>=23.1 in d:\\py\\lib\\site-packages (from chromedriver_autoinstaller) (23.1)\n",
      "Collecting attrs>=23.2.0 (from trio~=0.17->selenium)\n",
      "  Obtaining dependency information for attrs>=23.2.0 from https://files.pythonhosted.org/packages/e0/44/827b2a91a5816512fcaf3cc4ebc465ccd5d598c45cefa6703fcf4a79018f/attrs-23.2.0-py3-none-any.whl.metadata\n",
      "  Downloading attrs-23.2.0-py3-none-any.whl.metadata (9.5 kB)\n",
      "Requirement already satisfied: sortedcontainers in d:\\py\\lib\\site-packages (from trio~=0.17->selenium) (2.4.0)\n",
      "Requirement already satisfied: idna in d:\\py\\lib\\site-packages (from trio~=0.17->selenium) (3.4)\n",
      "Collecting outcome (from trio~=0.17->selenium)\n",
      "  Obtaining dependency information for outcome from https://files.pythonhosted.org/packages/55/8b/5ab7257531a5d830fc8000c476e63c935488d74609b50f9384a643ec0a62/outcome-1.3.0.post0-py2.py3-none-any.whl.metadata\n",
      "  Using cached outcome-1.3.0.post0-py2.py3-none-any.whl.metadata (2.6 kB)\n",
      "Collecting sniffio>=1.3.0 (from trio~=0.17->selenium)\n",
      "  Obtaining dependency information for sniffio>=1.3.0 from https://files.pythonhosted.org/packages/e9/44/75a9c9421471a6c4805dbf2356f7c181a29c1879239abab1ea2cc8f38b40/sniffio-1.3.1-py3-none-any.whl.metadata\n",
      "  Downloading sniffio-1.3.1-py3-none-any.whl.metadata (3.9 kB)\n",
      "Requirement already satisfied: cffi>=1.14 in d:\\py\\lib\\site-packages (from trio~=0.17->selenium) (1.15.1)\n",
      "Collecting wsproto>=0.14 (from trio-websocket~=0.9->selenium)\n",
      "  Obtaining dependency information for wsproto>=0.14 from https://files.pythonhosted.org/packages/78/58/e860788190eba3bcce367f74d29c4675466ce8dddfba85f7827588416f01/wsproto-1.2.0-py3-none-any.whl.metadata\n",
      "  Downloading wsproto-1.2.0-py3-none-any.whl.metadata (5.6 kB)\n",
      "Requirement already satisfied: PySocks!=1.5.7,<2.0,>=1.5.6 in d:\\py\\lib\\site-packages (from urllib3[socks]<3,>=1.26->selenium) (1.7.1)\n",
      "Requirement already satisfied: pycparser in d:\\py\\lib\\site-packages (from cffi>=1.14->trio~=0.17->selenium) (2.21)\n",
      "Collecting h11<1,>=0.9.0 (from wsproto>=0.14->trio-websocket~=0.9->selenium)\n",
      "  Obtaining dependency information for h11<1,>=0.9.0 from https://files.pythonhosted.org/packages/95/04/ff642e65ad6b90db43e668d70ffb6736436c7ce41fcc549f4e9472234127/h11-0.14.0-py3-none-any.whl.metadata\n",
      "  Downloading h11-0.14.0-py3-none-any.whl.metadata (8.2 kB)\n",
      "Downloading selenium-4.23.0-py3-none-any.whl (9.4 MB)\n",
      "   ---------------------------------------- 0.0/9.4 MB ? eta -:--:--\n",
      "   -- ------------------------------------- 0.5/9.4 MB 10.9 MB/s eta 0:00:01\n",
      "   ---- ----------------------------------- 1.0/9.4 MB 12.2 MB/s eta 0:00:01\n",
      "   ------ --------------------------------- 1.5/9.4 MB 11.6 MB/s eta 0:00:01\n",
      "   -------- ------------------------------- 2.0/9.4 MB 11.4 MB/s eta 0:00:01\n",
      "   ---------- ----------------------------- 2.5/9.4 MB 11.4 MB/s eta 0:00:01\n",
      "   ------------ --------------------------- 2.9/9.4 MB 11.0 MB/s eta 0:00:01\n",
      "   -------------- ------------------------- 3.4/9.4 MB 11.4 MB/s eta 0:00:01\n",
      "   ----------------- ---------------------- 4.1/9.4 MB 11.3 MB/s eta 0:00:01\n",
      "   ------------------- -------------------- 4.6/9.4 MB 11.4 MB/s eta 0:00:01\n",
      "   --------------------- ------------------ 5.1/9.4 MB 11.3 MB/s eta 0:00:01\n",
      "   ----------------------- ---------------- 5.6/9.4 MB 11.4 MB/s eta 0:00:01\n",
      "   -------------------------- ------------- 6.2/9.4 MB 11.3 MB/s eta 0:00:01\n",
      "   ---------------------------- ----------- 6.7/9.4 MB 11.3 MB/s eta 0:00:01\n",
      "   ------------------------------ --------- 7.3/9.4 MB 11.3 MB/s eta 0:00:01\n",
      "   -------------------------------- ------- 7.8/9.4 MB 11.3 MB/s eta 0:00:01\n",
      "   ----------------------------------- ---- 8.3/9.4 MB 11.6 MB/s eta 0:00:01\n",
      "   ------------------------------------ --- 8.7/9.4 MB 11.3 MB/s eta 0:00:01\n",
      "   ---------------------------------------  9.2/9.4 MB 11.3 MB/s eta 0:00:01\n",
      "   ---------------------------------------  9.4/9.4 MB 11.2 MB/s eta 0:00:01\n",
      "   ---------------------------------------- 9.4/9.4 MB 10.6 MB/s eta 0:00:00\n",
      "Downloading websocket_client-1.8.0-py3-none-any.whl (58 kB)\n",
      "   ---------------------------------------- 0.0/58.8 kB ? eta -:--:--\n",
      "   ---------------------------------------- 58.8/58.8 kB 3.0 MB/s eta 0:00:00\n",
      "Downloading chromedriver_autoinstaller-0.6.4-py3-none-any.whl (7.6 kB)\n",
      "Downloading trio-0.26.0-py3-none-any.whl (475 kB)\n",
      "   ---------------------------------------- 0.0/475.7 kB ? eta -:--:--\n",
      "   --------------------------------------  471.0/475.7 kB 14.4 MB/s eta 0:00:01\n",
      "   ---------------------------------------- 475.7/475.7 kB 9.9 MB/s eta 0:00:00\n",
      "Using cached trio_websocket-0.11.1-py3-none-any.whl (17 kB)\n",
      "Downloading typing_extensions-4.9.0-py3-none-any.whl (32 kB)\n",
      "Downloading attrs-23.2.0-py3-none-any.whl (60 kB)\n",
      "   ---------------------------------------- 0.0/60.8 kB ? eta -:--:--\n",
      "   ---------------------------------------- 60.8/60.8 kB ? eta 0:00:00\n",
      "Downloading sniffio-1.3.1-py3-none-any.whl (10 kB)\n",
      "Using cached wsproto-1.2.0-py3-none-any.whl (24 kB)\n",
      "Using cached outcome-1.3.0.post0-py2.py3-none-any.whl (10 kB)\n",
      "Using cached h11-0.14.0-py3-none-any.whl (58 kB)\n",
      "Installing collected packages: websocket-client, typing_extensions, sniffio, h11, chromedriver_autoinstaller, attrs, wsproto, outcome, trio, trio-websocket, selenium\n",
      "  Attempting uninstall: websocket-client\n",
      "    Found existing installation: websocket-client 0.58.0\n",
      "    Uninstalling websocket-client-0.58.0:\n",
      "      Successfully uninstalled websocket-client-0.58.0\n",
      "  Attempting uninstall: typing_extensions\n",
      "    Found existing installation: typing_extensions 4.7.1\n",
      "    Uninstalling typing_extensions-4.7.1:\n",
      "      Successfully uninstalled typing_extensions-4.7.1\n",
      "  Attempting uninstall: sniffio\n",
      "    Found existing installation: sniffio 1.2.0\n",
      "    Uninstalling sniffio-1.2.0:\n",
      "      Successfully uninstalled sniffio-1.2.0\n",
      "  Attempting uninstall: attrs\n",
      "    Found existing installation: attrs 22.1.0\n",
      "    Uninstalling attrs-22.1.0:\n",
      "      Successfully uninstalled attrs-22.1.0\n",
      "Successfully installed attrs-23.2.0 chromedriver_autoinstaller-0.6.4 h11-0.14.0 outcome-1.3.0.post0 selenium-4.23.0 sniffio-1.3.1 trio-0.26.0 trio-websocket-0.11.1 typing_extensions-4.9.0 websocket-client-1.8.0 wsproto-1.2.0\n",
      "Note: you may need to restart the kernel to use updated packages.\n"
     ]
    }
   ],
   "source": [
    "pip install selenium chromedriver_autoinstaller"
   ]
  },
  {
   "cell_type": "code",
   "execution_count": 25,
   "id": "373e6c99",
   "metadata": {},
   "outputs": [],
   "source": [
    "from tqdm import tqdm"
   ]
  },
  {
   "cell_type": "code",
   "execution_count": 34,
   "id": "06bcf330",
   "metadata": {},
   "outputs": [
    {
     "name": "stderr",
     "output_type": "stream",
     "text": [
      "  1%|▌                                                                               | 6/955 [00:15<1:08:24,  4.33s/it]"
     ]
    },
    {
     "name": "stdout",
     "output_type": "stream",
     "text": [
      "Error fetching data for stock code 001465: Message: \n",
      "Stacktrace:\n",
      "\tGetHandleVerifier [0x0078C203+27395]\n",
      "\t(No symbol) [0x00723E04]\n",
      "\t(No symbol) [0x00621B7F]\n",
      "\t(No symbol) [0x00662C65]\n",
      "\t(No symbol) [0x00662D3B]\n",
      "\t(No symbol) [0x0069EC82]\n",
      "\t(No symbol) [0x006839E4]\n",
      "\t(No symbol) [0x0069CB24]\n",
      "\t(No symbol) [0x00683736]\n",
      "\t(No symbol) [0x00657541]\n",
      "\t(No symbol) [0x006580BD]\n",
      "\tGetHandleVerifier [0x00A43AB3+2876339]\n",
      "\tGetHandleVerifier [0x00A97F7D+3221629]\n",
      "\tGetHandleVerifier [0x0080D674+556916]\n",
      "\tGetHandleVerifier [0x0081478C+585868]\n",
      "\t(No symbol) [0x0072CE44]\n",
      "\t(No symbol) [0x00729858]\n",
      "\t(No symbol) [0x007299F7]\n",
      "\t(No symbol) [0x0071BF4E]\n",
      "\tBaseThreadInitThunk [0x76097BA9+25]\n",
      "\tRtlInitializeExceptionChain [0x777BC10B+107]\n",
      "\tRtlClearBits [0x777BC08F+191]\n",
      "\n"
     ]
    },
    {
     "name": "stderr",
     "output_type": "stream",
     "text": [
      "  1%|▋                                                                               | 8/955 [00:26<1:25:18,  5.40s/it]"
     ]
    },
    {
     "name": "stdout",
     "output_type": "stream",
     "text": [
      "Error fetching data for stock code 001045: Message: \n",
      "Stacktrace:\n",
      "\tGetHandleVerifier [0x0078C203+27395]\n",
      "\t(No symbol) [0x00723E04]\n",
      "\t(No symbol) [0x00621B7F]\n",
      "\t(No symbol) [0x00662C65]\n",
      "\t(No symbol) [0x00662D3B]\n",
      "\t(No symbol) [0x0069EC82]\n",
      "\t(No symbol) [0x006839E4]\n",
      "\t(No symbol) [0x0069CB24]\n",
      "\t(No symbol) [0x00683736]\n",
      "\t(No symbol) [0x00657541]\n",
      "\t(No symbol) [0x006580BD]\n",
      "\tGetHandleVerifier [0x00A43AB3+2876339]\n",
      "\tGetHandleVerifier [0x00A97F7D+3221629]\n",
      "\tGetHandleVerifier [0x0080D674+556916]\n",
      "\tGetHandleVerifier [0x0081478C+585868]\n",
      "\t(No symbol) [0x0072CE44]\n",
      "\t(No symbol) [0x00729858]\n",
      "\t(No symbol) [0x007299F7]\n",
      "\t(No symbol) [0x0071BF4E]\n",
      "\tBaseThreadInitThunk [0x76097BA9+25]\n",
      "\tRtlInitializeExceptionChain [0x777BC10B+107]\n",
      "\tRtlClearBits [0x777BC08F+191]\n",
      "\n"
     ]
    },
    {
     "name": "stderr",
     "output_type": "stream",
     "text": [
      "  1%|▊                                                                               | 9/955 [00:37<1:49:24,  6.94s/it]"
     ]
    },
    {
     "name": "stdout",
     "output_type": "stream",
     "text": [
      "Error fetching data for stock code 00104K: Message: \n",
      "Stacktrace:\n",
      "\tGetHandleVerifier [0x0078C203+27395]\n",
      "\t(No symbol) [0x00723E04]\n",
      "\t(No symbol) [0x00621B7F]\n",
      "\t(No symbol) [0x00662C65]\n",
      "\t(No symbol) [0x00662D3B]\n",
      "\t(No symbol) [0x0069EC82]\n",
      "\t(No symbol) [0x006839E4]\n",
      "\t(No symbol) [0x0069CB24]\n",
      "\t(No symbol) [0x00683736]\n",
      "\t(No symbol) [0x00657541]\n",
      "\t(No symbol) [0x006580BD]\n",
      "\tGetHandleVerifier [0x00A43AB3+2876339]\n",
      "\tGetHandleVerifier [0x00A97F7D+3221629]\n",
      "\tGetHandleVerifier [0x0080D674+556916]\n",
      "\tGetHandleVerifier [0x0081478C+585868]\n",
      "\t(No symbol) [0x0072CE44]\n",
      "\t(No symbol) [0x00729858]\n",
      "\t(No symbol) [0x007299F7]\n",
      "\t(No symbol) [0x0071BF4E]\n",
      "\tBaseThreadInitThunk [0x76097BA9+25]\n",
      "\tRtlInitializeExceptionChain [0x777BC10B+107]\n",
      "\tRtlClearBits [0x777BC08F+191]\n",
      "\n"
     ]
    },
    {
     "name": "stderr",
     "output_type": "stream",
     "text": [
      "  1%|▉                                                                              | 11/955 [00:48<1:46:41,  6.78s/it]"
     ]
    },
    {
     "name": "stdout",
     "output_type": "stream",
     "text": [
      "Error fetching data for stock code 011155: Message: \n",
      "Stacktrace:\n",
      "\tGetHandleVerifier [0x0078C203+27395]\n",
      "\t(No symbol) [0x00723E04]\n",
      "\t(No symbol) [0x00621B7F]\n",
      "\t(No symbol) [0x00662C65]\n",
      "\t(No symbol) [0x00662D3B]\n",
      "\t(No symbol) [0x0069EC82]\n",
      "\t(No symbol) [0x006839E4]\n",
      "\t(No symbol) [0x0069CB24]\n",
      "\t(No symbol) [0x00683736]\n",
      "\t(No symbol) [0x00657541]\n",
      "\t(No symbol) [0x006580BD]\n",
      "\tGetHandleVerifier [0x00A43AB3+2876339]\n",
      "\tGetHandleVerifier [0x00A97F7D+3221629]\n",
      "\tGetHandleVerifier [0x0080D674+556916]\n",
      "\tGetHandleVerifier [0x0081478C+585868]\n",
      "\t(No symbol) [0x0072CE44]\n",
      "\t(No symbol) [0x00729858]\n",
      "\t(No symbol) [0x007299F7]\n",
      "\t(No symbol) [0x0071BF4E]\n",
      "\tBaseThreadInitThunk [0x76097BA9+25]\n",
      "\tRtlInitializeExceptionChain [0x777BC10B+107]\n",
      "\tRtlClearBits [0x777BC08F+191]\n",
      "\n"
     ]
    },
    {
     "name": "stderr",
     "output_type": "stream",
     "text": [
      "  2%|█▋                                                                             | 20/955 [01:08<1:04:08,  4.12s/it]"
     ]
    },
    {
     "name": "stdout",
     "output_type": "stream",
     "text": [
      "Error fetching data for stock code 000215: Message: \n",
      "Stacktrace:\n",
      "\tGetHandleVerifier [0x0078C203+27395]\n",
      "\t(No symbol) [0x00723E04]\n",
      "\t(No symbol) [0x00621B7F]\n",
      "\t(No symbol) [0x00662C65]\n",
      "\t(No symbol) [0x00662D3B]\n",
      "\t(No symbol) [0x0069EC82]\n",
      "\t(No symbol) [0x006839E4]\n",
      "\t(No symbol) [0x0069CB24]\n",
      "\t(No symbol) [0x00683736]\n",
      "\t(No symbol) [0x00657541]\n",
      "\t(No symbol) [0x006580BD]\n",
      "\tGetHandleVerifier [0x00A43AB3+2876339]\n",
      "\tGetHandleVerifier [0x00A97F7D+3221629]\n",
      "\tGetHandleVerifier [0x0080D674+556916]\n",
      "\tGetHandleVerifier [0x0081478C+585868]\n",
      "\t(No symbol) [0x0072CE44]\n",
      "\t(No symbol) [0x00729858]\n",
      "\t(No symbol) [0x007299F7]\n",
      "\t(No symbol) [0x0071BF4E]\n",
      "\tBaseThreadInitThunk [0x76097BA9+25]\n",
      "\tRtlInitializeExceptionChain [0x777BC10B+107]\n",
      "\tRtlClearBits [0x777BC08F+191]\n",
      "\n"
     ]
    },
    {
     "name": "stderr",
     "output_type": "stream",
     "text": [
      "  2%|█▊                                                                             | 22/955 [01:19<1:24:02,  5.40s/it]"
     ]
    },
    {
     "name": "stdout",
     "output_type": "stream",
     "text": [
      "Error fetching data for stock code 37550K: Message: \n",
      "Stacktrace:\n",
      "\tGetHandleVerifier [0x0078C203+27395]\n",
      "\t(No symbol) [0x00723E04]\n",
      "\t(No symbol) [0x00621B7F]\n",
      "\t(No symbol) [0x00662C65]\n",
      "\t(No symbol) [0x00662D3B]\n",
      "\t(No symbol) [0x0069EC82]\n",
      "\t(No symbol) [0x006839E4]\n",
      "\t(No symbol) [0x0069CB24]\n",
      "\t(No symbol) [0x00683736]\n",
      "\t(No symbol) [0x00657541]\n",
      "\t(No symbol) [0x006580BD]\n",
      "\tGetHandleVerifier [0x00A43AB3+2876339]\n",
      "\tGetHandleVerifier [0x00A97F7D+3221629]\n",
      "\tGetHandleVerifier [0x0080D674+556916]\n",
      "\tGetHandleVerifier [0x0081478C+585868]\n",
      "\t(No symbol) [0x0072CE44]\n",
      "\t(No symbol) [0x00729858]\n",
      "\t(No symbol) [0x007299F7]\n",
      "\t(No symbol) [0x0071BF4E]\n",
      "\tBaseThreadInitThunk [0x76097BA9+25]\n",
      "\tRtlInitializeExceptionChain [0x777BC10B+107]\n",
      "\tRtlClearBits [0x777BC08F+191]\n",
      "\n"
     ]
    },
    {
     "name": "stderr",
     "output_type": "stream",
     "text": [
      "  2%|█▉                                                                             | 23/955 [01:30<1:46:31,  6.86s/it]"
     ]
    },
    {
     "name": "stdout",
     "output_type": "stream",
     "text": [
      "Error fetching data for stock code 37550L: Message: \n",
      "Stacktrace:\n",
      "\tGetHandleVerifier [0x0078C203+27395]\n",
      "\t(No symbol) [0x00723E04]\n",
      "\t(No symbol) [0x00621B7F]\n",
      "\t(No symbol) [0x00662C65]\n",
      "\t(No symbol) [0x00662D3B]\n",
      "\t(No symbol) [0x0069EC82]\n",
      "\t(No symbol) [0x006839E4]\n",
      "\t(No symbol) [0x0069CB24]\n",
      "\t(No symbol) [0x00683736]\n",
      "\t(No symbol) [0x00657541]\n",
      "\t(No symbol) [0x006580BD]\n",
      "\tGetHandleVerifier [0x00A43AB3+2876339]\n",
      "\tGetHandleVerifier [0x00A97F7D+3221629]\n",
      "\tGetHandleVerifier [0x0080D674+556916]\n",
      "\tGetHandleVerifier [0x0081478C+585868]\n",
      "\t(No symbol) [0x0072CE44]\n",
      "\t(No symbol) [0x00729858]\n",
      "\t(No symbol) [0x007299F7]\n",
      "\t(No symbol) [0x0071BF4E]\n",
      "\tBaseThreadInitThunk [0x76097BA9+25]\n",
      "\tRtlInitializeExceptionChain [0x777BC10B+107]\n",
      "\tRtlClearBits [0x777BC08F+191]\n",
      "\n"
     ]
    },
    {
     "name": "stderr",
     "output_type": "stream",
     "text": [
      "  3%|██▋                                                                            | 32/955 [01:48<1:01:58,  4.03s/it]"
     ]
    },
    {
     "name": "stdout",
     "output_type": "stream",
     "text": [
      "Error fetching data for stock code 078935: Message: \n",
      "Stacktrace:\n",
      "\tGetHandleVerifier [0x0078C203+27395]\n",
      "\t(No symbol) [0x00723E04]\n",
      "\t(No symbol) [0x00621B7F]\n",
      "\t(No symbol) [0x00662C65]\n",
      "\t(No symbol) [0x00662D3B]\n",
      "\t(No symbol) [0x0069EC82]\n",
      "\t(No symbol) [0x006839E4]\n",
      "\t(No symbol) [0x0069CB24]\n",
      "\t(No symbol) [0x00683736]\n",
      "\t(No symbol) [0x00657541]\n",
      "\t(No symbol) [0x006580BD]\n",
      "\tGetHandleVerifier [0x00A43AB3+2876339]\n",
      "\tGetHandleVerifier [0x00A97F7D+3221629]\n",
      "\tGetHandleVerifier [0x0080D674+556916]\n",
      "\tGetHandleVerifier [0x0081478C+585868]\n",
      "\t(No symbol) [0x0072CE44]\n",
      "\t(No symbol) [0x00729858]\n",
      "\t(No symbol) [0x007299F7]\n",
      "\t(No symbol) [0x0071BF4E]\n",
      "\tBaseThreadInitThunk [0x76097BA9+25]\n",
      "\tRtlInitializeExceptionChain [0x777BC10B+107]\n",
      "\tRtlClearBits [0x777BC08F+191]\n",
      "\n"
     ]
    },
    {
     "name": "stderr",
     "output_type": "stream",
     "text": [
      "  5%|███▊                                                                             | 45/955 [02:11<54:56,  3.62s/it]"
     ]
    },
    {
     "name": "stdout",
     "output_type": "stream",
     "text": [
      "Error fetching data for stock code 001065: Message: \n",
      "Stacktrace:\n",
      "\tGetHandleVerifier [0x0078C203+27395]\n",
      "\t(No symbol) [0x00723E04]\n",
      "\t(No symbol) [0x00621B7F]\n",
      "\t(No symbol) [0x00662C65]\n",
      "\t(No symbol) [0x00662D3B]\n",
      "\t(No symbol) [0x0069EC82]\n",
      "\t(No symbol) [0x006839E4]\n",
      "\t(No symbol) [0x0069CB24]\n",
      "\t(No symbol) [0x00683736]\n",
      "\t(No symbol) [0x00657541]\n",
      "\t(No symbol) [0x006580BD]\n",
      "\tGetHandleVerifier [0x00A43AB3+2876339]\n",
      "\tGetHandleVerifier [0x00A97F7D+3221629]\n",
      "\tGetHandleVerifier [0x0080D674+556916]\n",
      "\tGetHandleVerifier [0x0081478C+585868]\n",
      "\t(No symbol) [0x0072CE44]\n",
      "\t(No symbol) [0x00729858]\n",
      "\t(No symbol) [0x007299F7]\n",
      "\t(No symbol) [0x0071BF4E]\n",
      "\tBaseThreadInitThunk [0x76097BA9+25]\n",
      "\tRtlInitializeExceptionChain [0x777BC10B+107]\n",
      "\tRtlClearBits [0x777BC08F+191]\n",
      "\n"
     ]
    },
    {
     "name": "stderr",
     "output_type": "stream",
     "text": [
      "  5%|███▊                                                                           | 46/955 [02:22<1:25:22,  5.63s/it]"
     ]
    },
    {
     "name": "stdout",
     "output_type": "stream",
     "text": [
      "Error fetching data for stock code 001067: Message: \n",
      "Stacktrace:\n",
      "\tGetHandleVerifier [0x0078C203+27395]\n",
      "\t(No symbol) [0x00723E04]\n",
      "\t(No symbol) [0x00621B7F]\n",
      "\t(No symbol) [0x00662C65]\n",
      "\t(No symbol) [0x00662D3B]\n",
      "\t(No symbol) [0x0069EC82]\n",
      "\t(No symbol) [0x006839E4]\n",
      "\t(No symbol) [0x0069CB24]\n",
      "\t(No symbol) [0x00683736]\n",
      "\t(No symbol) [0x00657541]\n",
      "\t(No symbol) [0x006580BD]\n",
      "\tGetHandleVerifier [0x00A43AB3+2876339]\n",
      "\tGetHandleVerifier [0x00A97F7D+3221629]\n",
      "\tGetHandleVerifier [0x0080D674+556916]\n",
      "\tGetHandleVerifier [0x0081478C+585868]\n",
      "\t(No symbol) [0x0072CE44]\n",
      "\t(No symbol) [0x00729858]\n",
      "\t(No symbol) [0x007299F7]\n",
      "\t(No symbol) [0x0071BF4E]\n",
      "\tBaseThreadInitThunk [0x76097BA9+25]\n",
      "\tRtlInitializeExceptionChain [0x777BC10B+107]\n",
      "\tRtlClearBits [0x777BC08F+191]\n",
      "\n"
     ]
    },
    {
     "name": "stderr",
     "output_type": "stream",
     "text": [
      "  6%|█████▏                                                                           | 61/955 [02:47<58:27,  3.92s/it]"
     ]
    },
    {
     "name": "stdout",
     "output_type": "stream",
     "text": [
      "Error fetching data for stock code 003555: Message: \n",
      "Stacktrace:\n",
      "\tGetHandleVerifier [0x0078C203+27395]\n",
      "\t(No symbol) [0x00723E04]\n",
      "\t(No symbol) [0x00621B7F]\n",
      "\t(No symbol) [0x00662C65]\n",
      "\t(No symbol) [0x00662D3B]\n",
      "\t(No symbol) [0x0069EC82]\n",
      "\t(No symbol) [0x006839E4]\n",
      "\t(No symbol) [0x0069CB24]\n",
      "\t(No symbol) [0x00683736]\n",
      "\t(No symbol) [0x00657541]\n",
      "\t(No symbol) [0x006580BD]\n",
      "\tGetHandleVerifier [0x00A43AB3+2876339]\n",
      "\tGetHandleVerifier [0x00A97F7D+3221629]\n",
      "\tGetHandleVerifier [0x0080D674+556916]\n",
      "\tGetHandleVerifier [0x0081478C+585868]\n",
      "\t(No symbol) [0x0072CE44]\n",
      "\t(No symbol) [0x00729858]\n",
      "\t(No symbol) [0x007299F7]\n",
      "\t(No symbol) [0x0071BF4E]\n",
      "\tBaseThreadInitThunk [0x76097BA9+25]\n",
      "\tRtlInitializeExceptionChain [0x777BC10B+107]\n",
      "\tRtlClearBits [0x777BC08F+191]\n",
      "\n"
     ]
    },
    {
     "name": "stderr",
     "output_type": "stream",
     "text": [
      "  7%|█████▎                                                                         | 64/955 [03:01<1:16:33,  5.16s/it]"
     ]
    },
    {
     "name": "stdout",
     "output_type": "stream",
     "text": [
      "Error fetching data for stock code 051905: Message: \n",
      "Stacktrace:\n",
      "\tGetHandleVerifier [0x0078C203+27395]\n",
      "\t(No symbol) [0x00723E04]\n",
      "\t(No symbol) [0x00621B7F]\n",
      "\t(No symbol) [0x00662C65]\n",
      "\t(No symbol) [0x00662D3B]\n",
      "\t(No symbol) [0x0069EC82]\n",
      "\t(No symbol) [0x006839E4]\n",
      "\t(No symbol) [0x0069CB24]\n",
      "\t(No symbol) [0x00683736]\n",
      "\t(No symbol) [0x00657541]\n",
      "\t(No symbol) [0x006580BD]\n",
      "\tGetHandleVerifier [0x00A43AB3+2876339]\n",
      "\tGetHandleVerifier [0x00A97F7D+3221629]\n",
      "\tGetHandleVerifier [0x0080D674+556916]\n",
      "\tGetHandleVerifier [0x0081478C+585868]\n",
      "\t(No symbol) [0x0072CE44]\n",
      "\t(No symbol) [0x00729858]\n",
      "\t(No symbol) [0x007299F7]\n",
      "\t(No symbol) [0x0071BF4E]\n",
      "\tBaseThreadInitThunk [0x76097BA9+25]\n",
      "\tRtlInitializeExceptionChain [0x777BC10B+107]\n",
      "\tRtlClearBits [0x777BC08F+191]\n",
      "\n"
     ]
    },
    {
     "name": "stderr",
     "output_type": "stream",
     "text": [
      "  7%|█████▋                                                                         | 69/955 [03:16<1:09:10,  4.69s/it]"
     ]
    },
    {
     "name": "stdout",
     "output_type": "stream",
     "text": [
      "Error fetching data for stock code 066575: Message: \n",
      "Stacktrace:\n",
      "\tGetHandleVerifier [0x0078C203+27395]\n",
      "\t(No symbol) [0x00723E04]\n",
      "\t(No symbol) [0x00621B7F]\n",
      "\t(No symbol) [0x00662C65]\n",
      "\t(No symbol) [0x00662D3B]\n",
      "\t(No symbol) [0x0069EC82]\n",
      "\t(No symbol) [0x006839E4]\n",
      "\t(No symbol) [0x0069CB24]\n",
      "\t(No symbol) [0x00683736]\n",
      "\t(No symbol) [0x00657541]\n",
      "\t(No symbol) [0x006580BD]\n",
      "\tGetHandleVerifier [0x00A43AB3+2876339]\n",
      "\tGetHandleVerifier [0x00A97F7D+3221629]\n",
      "\tGetHandleVerifier [0x0080D674+556916]\n",
      "\tGetHandleVerifier [0x0081478C+585868]\n",
      "\t(No symbol) [0x0072CE44]\n",
      "\t(No symbol) [0x00729858]\n",
      "\t(No symbol) [0x007299F7]\n",
      "\t(No symbol) [0x0071BF4E]\n",
      "\tBaseThreadInitThunk [0x76097BA9+25]\n",
      "\tRtlInitializeExceptionChain [0x777BC10B+107]\n",
      "\tRtlClearBits [0x777BC08F+191]\n",
      "\n"
     ]
    },
    {
     "name": "stderr",
     "output_type": "stream",
     "text": [
      "  7%|█████▊                                                                         | 71/955 [03:28<1:22:54,  5.63s/it]"
     ]
    },
    {
     "name": "stdout",
     "output_type": "stream",
     "text": [
      "Error fetching data for stock code 051915: Message: \n",
      "Stacktrace:\n",
      "\tGetHandleVerifier [0x0078C203+27395]\n",
      "\t(No symbol) [0x00723E04]\n",
      "\t(No symbol) [0x00621B7F]\n",
      "\t(No symbol) [0x00662C65]\n",
      "\t(No symbol) [0x00662D3B]\n",
      "\t(No symbol) [0x0069EC82]\n",
      "\t(No symbol) [0x006839E4]\n",
      "\t(No symbol) [0x0069CB24]\n",
      "\t(No symbol) [0x00683736]\n",
      "\t(No symbol) [0x00657541]\n",
      "\t(No symbol) [0x006580BD]\n",
      "\tGetHandleVerifier [0x00A43AB3+2876339]\n",
      "\tGetHandleVerifier [0x00A97F7D+3221629]\n",
      "\tGetHandleVerifier [0x0080D674+556916]\n",
      "\tGetHandleVerifier [0x0081478C+585868]\n",
      "\t(No symbol) [0x0072CE44]\n",
      "\t(No symbol) [0x00729858]\n",
      "\t(No symbol) [0x007299F7]\n",
      "\t(No symbol) [0x0071BF4E]\n",
      "\tBaseThreadInitThunk [0x76097BA9+25]\n",
      "\tRtlInitializeExceptionChain [0x777BC10B+107]\n",
      "\tRtlClearBits [0x777BC08F+191]\n",
      "\n"
     ]
    },
    {
     "name": "stderr",
     "output_type": "stream",
     "text": [
      "  9%|███████▎                                                                         | 86/955 [03:54<57:42,  3.98s/it]"
     ]
    },
    {
     "name": "stdout",
     "output_type": "stream",
     "text": [
      "Error fetching data for stock code 004255: Message: \n",
      "Stacktrace:\n",
      "\tGetHandleVerifier [0x0078C203+27395]\n",
      "\t(No symbol) [0x00723E04]\n",
      "\t(No symbol) [0x00621B7F]\n",
      "\t(No symbol) [0x00662C65]\n",
      "\t(No symbol) [0x00662D3B]\n",
      "\t(No symbol) [0x0069EC82]\n",
      "\t(No symbol) [0x006839E4]\n",
      "\t(No symbol) [0x0069CB24]\n",
      "\t(No symbol) [0x00683736]\n",
      "\t(No symbol) [0x00657541]\n",
      "\t(No symbol) [0x006580BD]\n",
      "\tGetHandleVerifier [0x00A43AB3+2876339]\n",
      "\tGetHandleVerifier [0x00A97F7D+3221629]\n",
      "\tGetHandleVerifier [0x0080D674+556916]\n",
      "\tGetHandleVerifier [0x0081478C+585868]\n",
      "\t(No symbol) [0x0072CE44]\n",
      "\t(No symbol) [0x00729858]\n",
      "\t(No symbol) [0x007299F7]\n",
      "\t(No symbol) [0x0071BF4E]\n",
      "\tBaseThreadInitThunk [0x76097BA9+25]\n",
      "\tRtlInitializeExceptionChain [0x777BC10B+107]\n",
      "\tRtlClearBits [0x777BC08F+191]\n",
      "\n"
     ]
    },
    {
     "name": "stderr",
     "output_type": "stream",
     "text": [
      "  9%|███████▎                                                                       | 89/955 [04:07<1:11:03,  4.92s/it]"
     ]
    },
    {
     "name": "stdout",
     "output_type": "stream",
     "text": [
      "Error fetching data for stock code 010955: Message: \n",
      "Stacktrace:\n",
      "\tGetHandleVerifier [0x0078C203+27395]\n",
      "\t(No symbol) [0x00723E04]\n",
      "\t(No symbol) [0x00621B7F]\n",
      "\t(No symbol) [0x00662C65]\n",
      "\t(No symbol) [0x00662D3B]\n",
      "\t(No symbol) [0x0069EC82]\n",
      "\t(No symbol) [0x006839E4]\n",
      "\t(No symbol) [0x0069CB24]\n",
      "\t(No symbol) [0x00683736]\n",
      "\t(No symbol) [0x00657541]\n",
      "\t(No symbol) [0x006580BD]\n",
      "\tGetHandleVerifier [0x00A43AB3+2876339]\n",
      "\tGetHandleVerifier [0x00A97F7D+3221629]\n",
      "\tGetHandleVerifier [0x0080D674+556916]\n",
      "\tGetHandleVerifier [0x0081478C+585868]\n",
      "\t(No symbol) [0x0072CE44]\n",
      "\t(No symbol) [0x00729858]\n",
      "\t(No symbol) [0x007299F7]\n",
      "\t(No symbol) [0x0071BF4E]\n",
      "\tBaseThreadInitThunk [0x76097BA9+25]\n",
      "\tRtlInitializeExceptionChain [0x777BC10B+107]\n",
      "\tRtlClearBits [0x777BC08F+191]\n",
      "\n"
     ]
    },
    {
     "name": "stderr",
     "output_type": "stream",
     "text": [
      " 10%|████████▎                                                                        | 98/955 [04:26<59:20,  4.15s/it]"
     ]
    },
    {
     "name": "stdout",
     "output_type": "stream",
     "text": [
      "Error fetching data for stock code 03473K: Message: \n",
      "Stacktrace:\n",
      "\tGetHandleVerifier [0x0078C203+27395]\n",
      "\t(No symbol) [0x00723E04]\n",
      "\t(No symbol) [0x00621B7F]\n",
      "\t(No symbol) [0x00662C65]\n",
      "\t(No symbol) [0x00662D3B]\n",
      "\t(No symbol) [0x0069EC82]\n",
      "\t(No symbol) [0x006839E4]\n",
      "\t(No symbol) [0x0069CB24]\n",
      "\t(No symbol) [0x00683736]\n",
      "\t(No symbol) [0x00657541]\n",
      "\t(No symbol) [0x006580BD]\n",
      "\tGetHandleVerifier [0x00A43AB3+2876339]\n",
      "\tGetHandleVerifier [0x00A97F7D+3221629]\n",
      "\tGetHandleVerifier [0x0080D674+556916]\n",
      "\tGetHandleVerifier [0x0081478C+585868]\n",
      "\t(No symbol) [0x0072CE44]\n",
      "\t(No symbol) [0x00729858]\n",
      "\t(No symbol) [0x007299F7]\n",
      "\t(No symbol) [0x0071BF4E]\n",
      "\tBaseThreadInitThunk [0x76097BA9+25]\n",
      "\tRtlInitializeExceptionChain [0x777BC10B+107]\n",
      "\tRtlClearBits [0x777BC08F+191]\n",
      "\n"
     ]
    },
    {
     "name": "stderr",
     "output_type": "stream",
     "text": [
      " 11%|█████████                                                                       | 108/955 [04:47<55:13,  3.91s/it]"
     ]
    },
    {
     "name": "stdout",
     "output_type": "stream",
     "text": [
      "Error fetching data for stock code 096775: Message: \n",
      "Stacktrace:\n",
      "\tGetHandleVerifier [0x0078C203+27395]\n",
      "\t(No symbol) [0x00723E04]\n",
      "\t(No symbol) [0x00621B7F]\n",
      "\t(No symbol) [0x00662C65]\n",
      "\t(No symbol) [0x00662D3B]\n",
      "\t(No symbol) [0x0069EC82]\n",
      "\t(No symbol) [0x006839E4]\n",
      "\t(No symbol) [0x0069CB24]\n",
      "\t(No symbol) [0x00683736]\n",
      "\t(No symbol) [0x00657541]\n",
      "\t(No symbol) [0x006580BD]\n",
      "\tGetHandleVerifier [0x00A43AB3+2876339]\n",
      "\tGetHandleVerifier [0x00A97F7D+3221629]\n",
      "\tGetHandleVerifier [0x0080D674+556916]\n",
      "\tGetHandleVerifier [0x0081478C+585868]\n",
      "\t(No symbol) [0x0072CE44]\n",
      "\t(No symbol) [0x00729858]\n",
      "\t(No symbol) [0x007299F7]\n",
      "\t(No symbol) [0x0071BF4E]\n",
      "\tBaseThreadInitThunk [0x76097BA9+25]\n",
      "\tRtlInitializeExceptionChain [0x777BC10B+107]\n",
      "\tRtlClearBits [0x777BC08F+191]\n",
      "\n"
     ]
    },
    {
     "name": "stderr",
     "output_type": "stream",
     "text": [
      " 12%|████████▉                                                                     | 110/955 [04:59<1:15:28,  5.36s/it]"
     ]
    },
    {
     "name": "stdout",
     "output_type": "stream",
     "text": [
      "Error fetching data for stock code 001515: Message: \n",
      "Stacktrace:\n",
      "\tGetHandleVerifier [0x0078C203+27395]\n",
      "\t(No symbol) [0x00723E04]\n",
      "\t(No symbol) [0x00621B7F]\n",
      "\t(No symbol) [0x00662C65]\n",
      "\t(No symbol) [0x00662D3B]\n",
      "\t(No symbol) [0x0069EC82]\n",
      "\t(No symbol) [0x006839E4]\n",
      "\t(No symbol) [0x0069CB24]\n",
      "\t(No symbol) [0x00683736]\n",
      "\t(No symbol) [0x00657541]\n",
      "\t(No symbol) [0x006580BD]\n",
      "\tGetHandleVerifier [0x00A43AB3+2876339]\n",
      "\tGetHandleVerifier [0x00A97F7D+3221629]\n",
      "\tGetHandleVerifier [0x0080D674+556916]\n",
      "\tGetHandleVerifier [0x0081478C+585868]\n",
      "\t(No symbol) [0x0072CE44]\n",
      "\t(No symbol) [0x00729858]\n",
      "\t(No symbol) [0x007299F7]\n",
      "\t(No symbol) [0x0071BF4E]\n",
      "\tBaseThreadInitThunk [0x76097BA9+25]\n",
      "\tRtlInitializeExceptionChain [0x777BC10B+107]\n",
      "\tRtlClearBits [0x777BC08F+191]\n",
      "\n"
     ]
    },
    {
     "name": "stderr",
     "output_type": "stream",
     "text": [
      " 12%|█████████▏                                                                    | 112/955 [05:10<1:24:43,  6.03s/it]"
     ]
    },
    {
     "name": "stdout",
     "output_type": "stream",
     "text": [
      "Error fetching data for stock code 28513K: Message: \n",
      "Stacktrace:\n",
      "\tGetHandleVerifier [0x0078C203+27395]\n",
      "\t(No symbol) [0x00723E04]\n",
      "\t(No symbol) [0x00621B7F]\n",
      "\t(No symbol) [0x00662C65]\n",
      "\t(No symbol) [0x00662D3B]\n",
      "\t(No symbol) [0x0069EC82]\n",
      "\t(No symbol) [0x006839E4]\n",
      "\t(No symbol) [0x0069CB24]\n",
      "\t(No symbol) [0x00683736]\n",
      "\t(No symbol) [0x00657541]\n",
      "\t(No symbol) [0x006580BD]\n",
      "\tGetHandleVerifier [0x00A43AB3+2876339]\n",
      "\tGetHandleVerifier [0x00A97F7D+3221629]\n",
      "\tGetHandleVerifier [0x0080D674+556916]\n",
      "\tGetHandleVerifier [0x0081478C+585868]\n",
      "\t(No symbol) [0x0072CE44]\n",
      "\t(No symbol) [0x00729858]\n",
      "\t(No symbol) [0x007299F7]\n",
      "\t(No symbol) [0x0071BF4E]\n",
      "\tBaseThreadInitThunk [0x76097BA9+25]\n",
      "\tRtlInitializeExceptionChain [0x777BC10B+107]\n",
      "\tRtlClearBits [0x777BC08F+191]\n",
      "\n"
     ]
    },
    {
     "name": "stderr",
     "output_type": "stream",
     "text": [
      " 15%|███████████▋                                                                    | 140/955 [05:50<53:00,  3.90s/it]"
     ]
    },
    {
     "name": "stdout",
     "output_type": "stream",
     "text": [
      "Error fetching data for stock code 012205: Message: \n",
      "Stacktrace:\n",
      "\tGetHandleVerifier [0x0078C203+27395]\n",
      "\t(No symbol) [0x00723E04]\n",
      "\t(No symbol) [0x00621B7F]\n",
      "\t(No symbol) [0x00662C65]\n",
      "\t(No symbol) [0x00662D3B]\n",
      "\t(No symbol) [0x0069EC82]\n",
      "\t(No symbol) [0x006839E4]\n",
      "\t(No symbol) [0x0069CB24]\n",
      "\t(No symbol) [0x00683736]\n",
      "\t(No symbol) [0x00657541]\n",
      "\t(No symbol) [0x006580BD]\n",
      "\tGetHandleVerifier [0x00A43AB3+2876339]\n",
      "\tGetHandleVerifier [0x00A97F7D+3221629]\n",
      "\tGetHandleVerifier [0x0080D674+556916]\n",
      "\tGetHandleVerifier [0x0081478C+585868]\n",
      "\t(No symbol) [0x0072CE44]\n",
      "\t(No symbol) [0x00729858]\n",
      "\t(No symbol) [0x007299F7]\n",
      "\t(No symbol) [0x0071BF4E]\n",
      "\tBaseThreadInitThunk [0x76097BA9+25]\n",
      "\tRtlInitializeExceptionChain [0x777BC10B+107]\n",
      "\tRtlClearBits [0x777BC08F+191]\n",
      "\n"
     ]
    },
    {
     "name": "stderr",
     "output_type": "stream",
     "text": [
      " 17%|█████████████▏                                                                  | 158/955 [06:23<54:30,  4.10s/it]"
     ]
    },
    {
     "name": "stdout",
     "output_type": "stream",
     "text": [
      "Error fetching data for stock code 014285: Message: \n",
      "Stacktrace:\n",
      "\tGetHandleVerifier [0x0078C203+27395]\n",
      "\t(No symbol) [0x00723E04]\n",
      "\t(No symbol) [0x00621B7F]\n",
      "\t(No symbol) [0x00662C65]\n",
      "\t(No symbol) [0x00662D3B]\n",
      "\t(No symbol) [0x0069EC82]\n",
      "\t(No symbol) [0x006839E4]\n",
      "\t(No symbol) [0x0069CB24]\n",
      "\t(No symbol) [0x00683736]\n",
      "\t(No symbol) [0x00657541]\n",
      "\t(No symbol) [0x006580BD]\n",
      "\tGetHandleVerifier [0x00A43AB3+2876339]\n",
      "\tGetHandleVerifier [0x00A97F7D+3221629]\n",
      "\tGetHandleVerifier [0x0080D674+556916]\n",
      "\tGetHandleVerifier [0x0081478C+585868]\n",
      "\t(No symbol) [0x0072CE44]\n",
      "\t(No symbol) [0x00729858]\n",
      "\t(No symbol) [0x007299F7]\n",
      "\t(No symbol) [0x0071BF4E]\n",
      "\tBaseThreadInitThunk [0x76097BA9+25]\n",
      "\tRtlInitializeExceptionChain [0x777BC10B+107]\n",
      "\tRtlClearBits [0x777BC08F+191]\n",
      "\n"
     ]
    },
    {
     "name": "stderr",
     "output_type": "stream",
     "text": [
      " 17%|█████████████▏                                                                | 162/955 [06:36<1:00:31,  4.58s/it]"
     ]
    },
    {
     "name": "stdout",
     "output_type": "stream",
     "text": [
      "Error fetching data for stock code 002995: Message: \n",
      "Stacktrace:\n",
      "\tGetHandleVerifier [0x0078C203+27395]\n",
      "\t(No symbol) [0x00723E04]\n",
      "\t(No symbol) [0x00621B7F]\n",
      "\t(No symbol) [0x00662C65]\n",
      "\t(No symbol) [0x00662D3B]\n",
      "\t(No symbol) [0x0069EC82]\n",
      "\t(No symbol) [0x006839E4]\n",
      "\t(No symbol) [0x0069CB24]\n",
      "\t(No symbol) [0x00683736]\n",
      "\t(No symbol) [0x00657541]\n",
      "\t(No symbol) [0x006580BD]\n",
      "\tGetHandleVerifier [0x00A43AB3+2876339]\n",
      "\tGetHandleVerifier [0x00A97F7D+3221629]\n",
      "\tGetHandleVerifier [0x0080D674+556916]\n",
      "\tGetHandleVerifier [0x0081478C+585868]\n",
      "\t(No symbol) [0x0072CE44]\n",
      "\t(No symbol) [0x00729858]\n",
      "\t(No symbol) [0x007299F7]\n",
      "\t(No symbol) [0x0071BF4E]\n",
      "\tBaseThreadInitThunk [0x76097BA9+25]\n",
      "\tRtlInitializeExceptionChain [0x777BC10B+107]\n",
      "\tRtlClearBits [0x777BC08F+191]\n",
      "\n"
     ]
    },
    {
     "name": "stderr",
     "output_type": "stream",
     "text": [
      " 17%|█████████████▍                                                                | 164/955 [06:48<1:13:14,  5.56s/it]"
     ]
    },
    {
     "name": "stdout",
     "output_type": "stream",
     "text": [
      "Error fetching data for stock code 011785: Message: \n",
      "Stacktrace:\n",
      "\tGetHandleVerifier [0x0078C203+27395]\n",
      "\t(No symbol) [0x00723E04]\n",
      "\t(No symbol) [0x00621B7F]\n",
      "\t(No symbol) [0x00662C65]\n",
      "\t(No symbol) [0x00662D3B]\n",
      "\t(No symbol) [0x0069EC82]\n",
      "\t(No symbol) [0x006839E4]\n",
      "\t(No symbol) [0x0069CB24]\n",
      "\t(No symbol) [0x00683736]\n",
      "\t(No symbol) [0x00657541]\n",
      "\t(No symbol) [0x006580BD]\n",
      "\tGetHandleVerifier [0x00A43AB3+2876339]\n",
      "\tGetHandleVerifier [0x00A97F7D+3221629]\n",
      "\tGetHandleVerifier [0x0080D674+556916]\n",
      "\tGetHandleVerifier [0x0081478C+585868]\n",
      "\t(No symbol) [0x0072CE44]\n",
      "\t(No symbol) [0x00729858]\n",
      "\t(No symbol) [0x007299F7]\n",
      "\t(No symbol) [0x0071BF4E]\n",
      "\tBaseThreadInitThunk [0x76097BA9+25]\n",
      "\tRtlInitializeExceptionChain [0x777BC10B+107]\n",
      "\tRtlClearBits [0x777BC08F+191]\n",
      "\n"
     ]
    },
    {
     "name": "stderr",
     "output_type": "stream",
     "text": [
      " 18%|██████████████▍                                                                 | 172/955 [07:03<49:30,  3.79s/it]"
     ]
    },
    {
     "name": "stdout",
     "output_type": "stream",
     "text": [
      "Error fetching data for stock code 004545: Message: \n",
      "Stacktrace:\n",
      "\tGetHandleVerifier [0x0078C203+27395]\n",
      "\t(No symbol) [0x00723E04]\n",
      "\t(No symbol) [0x00621B7F]\n",
      "\t(No symbol) [0x00662C65]\n",
      "\t(No symbol) [0x00662D3B]\n",
      "\t(No symbol) [0x0069EC82]\n",
      "\t(No symbol) [0x006839E4]\n",
      "\t(No symbol) [0x0069CB24]\n",
      "\t(No symbol) [0x00683736]\n",
      "\t(No symbol) [0x00657541]\n",
      "\t(No symbol) [0x006580BD]\n",
      "\tGetHandleVerifier [0x00A43AB3+2876339]\n",
      "\tGetHandleVerifier [0x00A97F7D+3221629]\n",
      "\tGetHandleVerifier [0x0080D674+556916]\n",
      "\tGetHandleVerifier [0x0081478C+585868]\n",
      "\t(No symbol) [0x0072CE44]\n",
      "\t(No symbol) [0x00729858]\n",
      "\t(No symbol) [0x007299F7]\n",
      "\t(No symbol) [0x0071BF4E]\n",
      "\tBaseThreadInitThunk [0x76097BA9+25]\n",
      "\tRtlInitializeExceptionChain [0x777BC10B+107]\n",
      "\tRtlClearBits [0x777BC08F+191]\n",
      "\n"
     ]
    },
    {
     "name": "stderr",
     "output_type": "stream",
     "text": [
      " 18%|██████████████▎                                                               | 176/955 [07:38<1:28:05,  6.78s/it]"
     ]
    },
    {
     "name": "stdout",
     "output_type": "stream",
     "text": [
      "Error fetching data for stock code 008355: Message: \n",
      "Stacktrace:\n",
      "\tGetHandleVerifier [0x0078C203+27395]\n",
      "\t(No symbol) [0x00723E04]\n",
      "\t(No symbol) [0x00621B7F]\n",
      "\t(No symbol) [0x00662C65]\n",
      "\t(No symbol) [0x00662D3B]\n",
      "\t(No symbol) [0x0069EC82]\n",
      "\t(No symbol) [0x006839E4]\n",
      "\t(No symbol) [0x0069CB24]\n",
      "\t(No symbol) [0x00683736]\n",
      "\t(No symbol) [0x00657541]\n",
      "\t(No symbol) [0x006580BD]\n",
      "\tGetHandleVerifier [0x00A43AB3+2876339]\n",
      "\tGetHandleVerifier [0x00A97F7D+3221629]\n",
      "\tGetHandleVerifier [0x0080D674+556916]\n",
      "\tGetHandleVerifier [0x0081478C+585868]\n",
      "\t(No symbol) [0x0072CE44]\n",
      "\t(No symbol) [0x00729858]\n",
      "\t(No symbol) [0x007299F7]\n",
      "\t(No symbol) [0x0071BF4E]\n",
      "\tBaseThreadInitThunk [0x76097BA9+25]\n",
      "\tRtlInitializeExceptionChain [0x777BC10B+107]\n",
      "\tRtlClearBits [0x777BC08F+191]\n",
      "\n"
     ]
    },
    {
     "name": "stderr",
     "output_type": "stream",
     "text": [
      " 19%|██████████████▌                                                               | 179/955 [07:52<1:17:47,  6.02s/it]"
     ]
    },
    {
     "name": "stdout",
     "output_type": "stream",
     "text": [
      "Error fetching data for stock code 003925: Message: \n",
      "Stacktrace:\n",
      "\tGetHandleVerifier [0x0078C203+27395]\n",
      "\t(No symbol) [0x00723E04]\n",
      "\t(No symbol) [0x00621B7F]\n",
      "\t(No symbol) [0x00662C65]\n",
      "\t(No symbol) [0x00662D3B]\n",
      "\t(No symbol) [0x0069EC82]\n",
      "\t(No symbol) [0x006839E4]\n",
      "\t(No symbol) [0x0069CB24]\n",
      "\t(No symbol) [0x00683736]\n",
      "\t(No symbol) [0x00657541]\n",
      "\t(No symbol) [0x006580BD]\n",
      "\tGetHandleVerifier [0x00A43AB3+2876339]\n",
      "\tGetHandleVerifier [0x00A97F7D+3221629]\n",
      "\tGetHandleVerifier [0x0080D674+556916]\n",
      "\tGetHandleVerifier [0x0081478C+585868]\n",
      "\t(No symbol) [0x0072CE44]\n",
      "\t(No symbol) [0x00729858]\n",
      "\t(No symbol) [0x007299F7]\n",
      "\t(No symbol) [0x0071BF4E]\n",
      "\tBaseThreadInitThunk [0x76097BA9+25]\n",
      "\tRtlInitializeExceptionChain [0x777BC10B+107]\n",
      "\tRtlClearBits [0x777BC08F+191]\n",
      "\n"
     ]
    },
    {
     "name": "stderr",
     "output_type": "stream",
     "text": [
      " 19%|██████████████▊                                                               | 182/955 [08:06<1:14:52,  5.81s/it]"
     ]
    },
    {
     "name": "stdout",
     "output_type": "stream",
     "text": [
      "Error fetching data for stock code 005725: Message: \n",
      "Stacktrace:\n",
      "\tGetHandleVerifier [0x0078C203+27395]\n",
      "\t(No symbol) [0x00723E04]\n",
      "\t(No symbol) [0x00621B7F]\n",
      "\t(No symbol) [0x00662C65]\n",
      "\t(No symbol) [0x00662D3B]\n",
      "\t(No symbol) [0x0069EC82]\n",
      "\t(No symbol) [0x006839E4]\n",
      "\t(No symbol) [0x0069CB24]\n",
      "\t(No symbol) [0x00683736]\n",
      "\t(No symbol) [0x00657541]\n",
      "\t(No symbol) [0x006580BD]\n",
      "\tGetHandleVerifier [0x00A43AB3+2876339]\n",
      "\tGetHandleVerifier [0x00A97F7D+3221629]\n",
      "\tGetHandleVerifier [0x0080D674+556916]\n",
      "\tGetHandleVerifier [0x0081478C+585868]\n",
      "\t(No symbol) [0x0072CE44]\n",
      "\t(No symbol) [0x00729858]\n",
      "\t(No symbol) [0x007299F7]\n",
      "\t(No symbol) [0x0071BF4E]\n",
      "\tBaseThreadInitThunk [0x76097BA9+25]\n",
      "\tRtlInitializeExceptionChain [0x777BC10B+107]\n",
      "\tRtlClearBits [0x777BC08F+191]\n",
      "\n"
     ]
    },
    {
     "name": "stderr",
     "output_type": "stream",
     "text": [
      " 19%|███████████████                                                               | 184/955 [08:17<1:20:09,  6.24s/it]"
     ]
    },
    {
     "name": "stdout",
     "output_type": "stream",
     "text": [
      "Error fetching data for stock code 002355: Message: \n",
      "Stacktrace:\n",
      "\tGetHandleVerifier [0x0078C203+27395]\n",
      "\t(No symbol) [0x00723E04]\n",
      "\t(No symbol) [0x00621B7F]\n",
      "\t(No symbol) [0x00662C65]\n",
      "\t(No symbol) [0x00662D3B]\n",
      "\t(No symbol) [0x0069EC82]\n",
      "\t(No symbol) [0x006839E4]\n",
      "\t(No symbol) [0x0069CB24]\n",
      "\t(No symbol) [0x00683736]\n",
      "\t(No symbol) [0x00657541]\n",
      "\t(No symbol) [0x006580BD]\n",
      "\tGetHandleVerifier [0x00A43AB3+2876339]\n",
      "\tGetHandleVerifier [0x00A97F7D+3221629]\n",
      "\tGetHandleVerifier [0x0080D674+556916]\n",
      "\tGetHandleVerifier [0x0081478C+585868]\n",
      "\t(No symbol) [0x0072CE44]\n",
      "\t(No symbol) [0x00729858]\n",
      "\t(No symbol) [0x007299F7]\n",
      "\t(No symbol) [0x0071BF4E]\n",
      "\tBaseThreadInitThunk [0x76097BA9+25]\n",
      "\tRtlInitializeExceptionChain [0x777BC10B+107]\n",
      "\tRtlClearBits [0x777BC08F+191]\n",
      "\n"
     ]
    },
    {
     "name": "stderr",
     "output_type": "stream",
     "text": [
      " 20%|███████████████▎                                                              | 188/955 [08:33<1:08:21,  5.35s/it]"
     ]
    },
    {
     "name": "stdout",
     "output_type": "stream",
     "text": [
      "Error fetching data for stock code 090355: Message: \n",
      "Stacktrace:\n",
      "\tGetHandleVerifier [0x0078C203+27395]\n",
      "\t(No symbol) [0x00723E04]\n",
      "\t(No symbol) [0x00621B7F]\n",
      "\t(No symbol) [0x00662C65]\n",
      "\t(No symbol) [0x00662D3B]\n",
      "\t(No symbol) [0x0069EC82]\n",
      "\t(No symbol) [0x006839E4]\n",
      "\t(No symbol) [0x0069CB24]\n",
      "\t(No symbol) [0x00683736]\n",
      "\t(No symbol) [0x00657541]\n",
      "\t(No symbol) [0x006580BD]\n",
      "\tGetHandleVerifier [0x00A43AB3+2876339]\n",
      "\tGetHandleVerifier [0x00A97F7D+3221629]\n",
      "\tGetHandleVerifier [0x0080D674+556916]\n",
      "\tGetHandleVerifier [0x0081478C+585868]\n",
      "\t(No symbol) [0x0072CE44]\n",
      "\t(No symbol) [0x00729858]\n",
      "\t(No symbol) [0x007299F7]\n",
      "\t(No symbol) [0x0071BF4E]\n",
      "\tBaseThreadInitThunk [0x76097BA9+25]\n",
      "\tRtlInitializeExceptionChain [0x777BC10B+107]\n",
      "\tRtlClearBits [0x777BC08F+191]\n",
      "\n"
     ]
    },
    {
     "name": "stderr",
     "output_type": "stream",
     "text": [
      " 20%|███████████████▌                                                              | 190/955 [08:45<1:18:47,  6.18s/it]"
     ]
    },
    {
     "name": "stdout",
     "output_type": "stream",
     "text": [
      "Error fetching data for stock code 000325: Message: \n",
      "Stacktrace:\n",
      "\tGetHandleVerifier [0x0078C203+27395]\n",
      "\t(No symbol) [0x00723E04]\n",
      "\t(No symbol) [0x00621B7F]\n",
      "\t(No symbol) [0x00662C65]\n",
      "\t(No symbol) [0x00662D3B]\n",
      "\t(No symbol) [0x0069EC82]\n",
      "\t(No symbol) [0x006839E4]\n",
      "\t(No symbol) [0x0069CB24]\n",
      "\t(No symbol) [0x00683736]\n",
      "\t(No symbol) [0x00657541]\n",
      "\t(No symbol) [0x006580BD]\n",
      "\tGetHandleVerifier [0x00A43AB3+2876339]\n",
      "\tGetHandleVerifier [0x00A97F7D+3221629]\n",
      "\tGetHandleVerifier [0x0080D674+556916]\n",
      "\tGetHandleVerifier [0x0081478C+585868]\n",
      "\t(No symbol) [0x0072CE44]\n",
      "\t(No symbol) [0x00729858]\n",
      "\t(No symbol) [0x007299F7]\n",
      "\t(No symbol) [0x0071BF4E]\n",
      "\tBaseThreadInitThunk [0x76097BA9+25]\n",
      "\tRtlInitializeExceptionChain [0x777BC10B+107]\n",
      "\tRtlClearBits [0x777BC08F+191]\n",
      "\n"
     ]
    },
    {
     "name": "stderr",
     "output_type": "stream",
     "text": [
      " 20%|███████████████▊                                                              | 193/955 [08:58<1:11:03,  5.60s/it]"
     ]
    },
    {
     "name": "stdout",
     "output_type": "stream",
     "text": [
      "Error fetching data for stock code 005257: Message: \n",
      "Stacktrace:\n",
      "\tGetHandleVerifier [0x0078C203+27395]\n",
      "\t(No symbol) [0x00723E04]\n",
      "\t(No symbol) [0x00621B7F]\n",
      "\t(No symbol) [0x00662C65]\n",
      "\t(No symbol) [0x00662D3B]\n",
      "\t(No symbol) [0x0069EC82]\n",
      "\t(No symbol) [0x006839E4]\n",
      "\t(No symbol) [0x0069CB24]\n",
      "\t(No symbol) [0x00683736]\n",
      "\t(No symbol) [0x00657541]\n",
      "\t(No symbol) [0x006580BD]\n",
      "\tGetHandleVerifier [0x00A43AB3+2876339]\n",
      "\tGetHandleVerifier [0x00A97F7D+3221629]\n",
      "\tGetHandleVerifier [0x0080D674+556916]\n",
      "\tGetHandleVerifier [0x0081478C+585868]\n",
      "\t(No symbol) [0x0072CE44]\n",
      "\t(No symbol) [0x00729858]\n",
      "\t(No symbol) [0x007299F7]\n",
      "\t(No symbol) [0x0071BF4E]\n",
      "\tBaseThreadInitThunk [0x76097BA9+25]\n",
      "\tRtlInitializeExceptionChain [0x777BC10B+107]\n",
      "\tRtlClearBits [0x777BC08F+191]\n",
      "\n"
     ]
    },
    {
     "name": "stderr",
     "output_type": "stream",
     "text": [
      " 21%|████████████████▉                                                               | 202/955 [09:18<52:44,  4.20s/it]"
     ]
    },
    {
     "name": "stdout",
     "output_type": "stream",
     "text": [
      "Error fetching data for stock code 019685: Message: \n",
      "Stacktrace:\n",
      "\tGetHandleVerifier [0x0078C203+27395]\n",
      "\t(No symbol) [0x00723E04]\n",
      "\t(No symbol) [0x00621B7F]\n",
      "\t(No symbol) [0x00662C65]\n",
      "\t(No symbol) [0x00662D3B]\n",
      "\t(No symbol) [0x0069EC82]\n",
      "\t(No symbol) [0x006839E4]\n",
      "\t(No symbol) [0x0069CB24]\n",
      "\t(No symbol) [0x00683736]\n",
      "\t(No symbol) [0x00657541]\n",
      "\t(No symbol) [0x006580BD]\n",
      "\tGetHandleVerifier [0x00A43AB3+2876339]\n",
      "\tGetHandleVerifier [0x00A97F7D+3221629]\n",
      "\tGetHandleVerifier [0x0080D674+556916]\n",
      "\tGetHandleVerifier [0x0081478C+585868]\n",
      "\t(No symbol) [0x0072CE44]\n",
      "\t(No symbol) [0x00729858]\n",
      "\t(No symbol) [0x007299F7]\n",
      "\t(No symbol) [0x0071BF4E]\n",
      "\tBaseThreadInitThunk [0x76097BA9+25]\n",
      "\tRtlInitializeExceptionChain [0x777BC10B+107]\n",
      "\tRtlClearBits [0x777BC08F+191]\n",
      "\n"
     ]
    },
    {
     "name": "stderr",
     "output_type": "stream",
     "text": [
      " 21%|████████████████▋                                                             | 204/955 [09:30<1:09:02,  5.52s/it]"
     ]
    },
    {
     "name": "stdout",
     "output_type": "stream",
     "text": [
      "Error fetching data for stock code 00806K: Message: \n",
      "Stacktrace:\n",
      "\tGetHandleVerifier [0x0078C203+27395]\n",
      "\t(No symbol) [0x00723E04]\n",
      "\t(No symbol) [0x00621B7F]\n",
      "\t(No symbol) [0x00662C65]\n",
      "\t(No symbol) [0x00662D3B]\n",
      "\t(No symbol) [0x0069EC82]\n",
      "\t(No symbol) [0x006839E4]\n",
      "\t(No symbol) [0x0069CB24]\n",
      "\t(No symbol) [0x00683736]\n",
      "\t(No symbol) [0x00657541]\n",
      "\t(No symbol) [0x006580BD]\n",
      "\tGetHandleVerifier [0x00A43AB3+2876339]\n",
      "\tGetHandleVerifier [0x00A97F7D+3221629]\n",
      "\tGetHandleVerifier [0x0080D674+556916]\n",
      "\tGetHandleVerifier [0x0081478C+585868]\n",
      "\t(No symbol) [0x0072CE44]\n",
      "\t(No symbol) [0x00729858]\n",
      "\t(No symbol) [0x007299F7]\n",
      "\t(No symbol) [0x0071BF4E]\n",
      "\tBaseThreadInitThunk [0x76097BA9+25]\n",
      "\tRtlInitializeExceptionChain [0x777BC10B+107]\n",
      "\tRtlClearBits [0x777BC08F+191]\n",
      "\n"
     ]
    },
    {
     "name": "stderr",
     "output_type": "stream",
     "text": [
      " 22%|████████████████▉                                                             | 207/955 [09:43<1:09:18,  5.56s/it]"
     ]
    },
    {
     "name": "stdout",
     "output_type": "stream",
     "text": [
      "Error fetching data for stock code 35320K: Message: \n",
      "Stacktrace:\n",
      "\tGetHandleVerifier [0x0078C203+27395]\n",
      "\t(No symbol) [0x00723E04]\n",
      "\t(No symbol) [0x00621B7F]\n",
      "\t(No symbol) [0x00662C65]\n",
      "\t(No symbol) [0x00662D3B]\n",
      "\t(No symbol) [0x0069EC82]\n",
      "\t(No symbol) [0x006839E4]\n",
      "\t(No symbol) [0x0069CB24]\n",
      "\t(No symbol) [0x00683736]\n",
      "\t(No symbol) [0x00657541]\n",
      "\t(No symbol) [0x006580BD]\n",
      "\tGetHandleVerifier [0x00A43AB3+2876339]\n",
      "\tGetHandleVerifier [0x00A97F7D+3221629]\n",
      "\tGetHandleVerifier [0x0080D674+556916]\n",
      "\tGetHandleVerifier [0x0081478C+585868]\n",
      "\t(No symbol) [0x0072CE44]\n",
      "\t(No symbol) [0x00729858]\n",
      "\t(No symbol) [0x007299F7]\n",
      "\t(No symbol) [0x0071BF4E]\n",
      "\tBaseThreadInitThunk [0x76097BA9+25]\n",
      "\tRtlInitializeExceptionChain [0x777BC10B+107]\n",
      "\tRtlClearBits [0x777BC08F+191]\n",
      "\n"
     ]
    },
    {
     "name": "stderr",
     "output_type": "stream",
     "text": [
      " 22%|█████████████████▊                                                              | 212/955 [09:57<56:26,  4.56s/it]"
     ]
    },
    {
     "name": "stdout",
     "output_type": "stream",
     "text": [
      "Error fetching data for stock code 001685: Message: \n",
      "Stacktrace:\n",
      "\tGetHandleVerifier [0x0078C203+27395]\n",
      "\t(No symbol) [0x00723E04]\n",
      "\t(No symbol) [0x00621B7F]\n",
      "\t(No symbol) [0x00662C65]\n",
      "\t(No symbol) [0x00662D3B]\n",
      "\t(No symbol) [0x0069EC82]\n",
      "\t(No symbol) [0x006839E4]\n",
      "\t(No symbol) [0x0069CB24]\n",
      "\t(No symbol) [0x00683736]\n",
      "\t(No symbol) [0x00657541]\n",
      "\t(No symbol) [0x006580BD]\n",
      "\tGetHandleVerifier [0x00A43AB3+2876339]\n",
      "\tGetHandleVerifier [0x00A97F7D+3221629]\n",
      "\tGetHandleVerifier [0x0080D674+556916]\n",
      "\tGetHandleVerifier [0x0081478C+585868]\n",
      "\t(No symbol) [0x0072CE44]\n",
      "\t(No symbol) [0x00729858]\n",
      "\t(No symbol) [0x007299F7]\n",
      "\t(No symbol) [0x0071BF4E]\n",
      "\tBaseThreadInitThunk [0x76097BA9+25]\n",
      "\tRtlInitializeExceptionChain [0x777BC10B+107]\n",
      "\tRtlClearBits [0x777BC08F+191]\n",
      "\n"
     ]
    },
    {
     "name": "stderr",
     "output_type": "stream",
     "text": [
      " 22%|█████████████████▍                                                            | 214/955 [10:09<1:07:55,  5.50s/it]"
     ]
    },
    {
     "name": "stdout",
     "output_type": "stream",
     "text": [
      "Error fetching data for stock code 084695: Message: \n",
      "Stacktrace:\n",
      "\tGetHandleVerifier [0x0078C203+27395]\n",
      "\t(No symbol) [0x00723E04]\n",
      "\t(No symbol) [0x00621B7F]\n",
      "\t(No symbol) [0x00662C65]\n",
      "\t(No symbol) [0x00662D3B]\n",
      "\t(No symbol) [0x0069EC82]\n",
      "\t(No symbol) [0x006839E4]\n",
      "\t(No symbol) [0x0069CB24]\n",
      "\t(No symbol) [0x00683736]\n",
      "\t(No symbol) [0x00657541]\n",
      "\t(No symbol) [0x006580BD]\n",
      "\tGetHandleVerifier [0x00A43AB3+2876339]\n",
      "\tGetHandleVerifier [0x00A97F7D+3221629]\n",
      "\tGetHandleVerifier [0x0080D674+556916]\n",
      "\tGetHandleVerifier [0x0081478C+585868]\n",
      "\t(No symbol) [0x0072CE44]\n",
      "\t(No symbol) [0x00729858]\n",
      "\t(No symbol) [0x007299F7]\n",
      "\t(No symbol) [0x0071BF4E]\n",
      "\tBaseThreadInitThunk [0x76097BA9+25]\n",
      "\tRtlInitializeExceptionChain [0x777BC10B+107]\n",
      "\tRtlClearBits [0x777BC08F+191]\n",
      "\n"
     ]
    },
    {
     "name": "stderr",
     "output_type": "stream",
     "text": [
      " 23%|██████████████████▎                                                             | 219/955 [10:22<55:01,  4.49s/it]"
     ]
    },
    {
     "name": "stdout",
     "output_type": "stream",
     "text": [
      "Error fetching data for stock code 003545: Message: \n",
      "Stacktrace:\n",
      "\tGetHandleVerifier [0x0078C203+27395]\n",
      "\t(No symbol) [0x00723E04]\n",
      "\t(No symbol) [0x00621B7F]\n",
      "\t(No symbol) [0x00662C65]\n",
      "\t(No symbol) [0x00662D3B]\n",
      "\t(No symbol) [0x0069EC82]\n",
      "\t(No symbol) [0x006839E4]\n",
      "\t(No symbol) [0x0069CB24]\n",
      "\t(No symbol) [0x00683736]\n",
      "\t(No symbol) [0x00657541]\n",
      "\t(No symbol) [0x006580BD]\n",
      "\tGetHandleVerifier [0x00A43AB3+2876339]\n",
      "\tGetHandleVerifier [0x00A97F7D+3221629]\n",
      "\tGetHandleVerifier [0x0080D674+556916]\n",
      "\tGetHandleVerifier [0x0081478C+585868]\n",
      "\t(No symbol) [0x0072CE44]\n",
      "\t(No symbol) [0x00729858]\n",
      "\t(No symbol) [0x007299F7]\n",
      "\t(No symbol) [0x0071BF4E]\n",
      "\tBaseThreadInitThunk [0x76097BA9+25]\n",
      "\tRtlInitializeExceptionChain [0x777BC10B+107]\n",
      "\tRtlClearBits [0x777BC08F+191]\n",
      "\n"
     ]
    },
    {
     "name": "stderr",
     "output_type": "stream",
     "text": [
      " 23%|█████████████████▉                                                            | 220/955 [10:32<1:16:15,  6.23s/it]"
     ]
    },
    {
     "name": "stdout",
     "output_type": "stream",
     "text": [
      "Error fetching data for stock code 003547: Message: \n",
      "Stacktrace:\n",
      "\tGetHandleVerifier [0x0078C203+27395]\n",
      "\t(No symbol) [0x00723E04]\n",
      "\t(No symbol) [0x00621B7F]\n",
      "\t(No symbol) [0x00662C65]\n",
      "\t(No symbol) [0x00662D3B]\n",
      "\t(No symbol) [0x0069EC82]\n",
      "\t(No symbol) [0x006839E4]\n",
      "\t(No symbol) [0x0069CB24]\n",
      "\t(No symbol) [0x00683736]\n",
      "\t(No symbol) [0x00657541]\n",
      "\t(No symbol) [0x006580BD]\n",
      "\tGetHandleVerifier [0x00A43AB3+2876339]\n",
      "\tGetHandleVerifier [0x00A97F7D+3221629]\n",
      "\tGetHandleVerifier [0x0080D674+556916]\n",
      "\tGetHandleVerifier [0x0081478C+585868]\n",
      "\t(No symbol) [0x0072CE44]\n",
      "\t(No symbol) [0x00729858]\n",
      "\t(No symbol) [0x007299F7]\n",
      "\t(No symbol) [0x0071BF4E]\n",
      "\tBaseThreadInitThunk [0x76097BA9+25]\n",
      "\tRtlInitializeExceptionChain [0x777BC10B+107]\n",
      "\tRtlClearBits [0x777BC08F+191]\n",
      "\n"
     ]
    },
    {
     "name": "stderr",
     "output_type": "stream",
     "text": [
      " 24%|███████████████████▏                                                            | 229/955 [10:49<46:11,  3.82s/it]"
     ]
    },
    {
     "name": "stdout",
     "output_type": "stream",
     "text": [
      "Error fetching data for stock code 006345: Message: \n",
      "Stacktrace:\n",
      "\tGetHandleVerifier [0x0078C203+27395]\n",
      "\t(No symbol) [0x00723E04]\n",
      "\t(No symbol) [0x00621B7F]\n",
      "\t(No symbol) [0x00662C65]\n",
      "\t(No symbol) [0x00662D3B]\n",
      "\t(No symbol) [0x0069EC82]\n",
      "\t(No symbol) [0x006839E4]\n",
      "\t(No symbol) [0x0069CB24]\n",
      "\t(No symbol) [0x00683736]\n",
      "\t(No symbol) [0x00657541]\n",
      "\t(No symbol) [0x006580BD]\n",
      "\tGetHandleVerifier [0x00A43AB3+2876339]\n",
      "\tGetHandleVerifier [0x00A97F7D+3221629]\n",
      "\tGetHandleVerifier [0x0080D674+556916]\n",
      "\tGetHandleVerifier [0x0081478C+585868]\n",
      "\t(No symbol) [0x0072CE44]\n",
      "\t(No symbol) [0x00729858]\n",
      "\t(No symbol) [0x007299F7]\n",
      "\t(No symbol) [0x0071BF4E]\n",
      "\tBaseThreadInitThunk [0x76097BA9+25]\n",
      "\tRtlInitializeExceptionChain [0x777BC10B+107]\n",
      "\tRtlClearBits [0x777BC08F+191]\n",
      "\n"
     ]
    },
    {
     "name": "stderr",
     "output_type": "stream",
     "text": [
      " 25%|████████████████████▏                                                           | 241/955 [11:08<43:52,  3.69s/it]"
     ]
    },
    {
     "name": "stdout",
     "output_type": "stream",
     "text": [
      "Error fetching data for stock code 001795: Message: \n",
      "Stacktrace:\n",
      "\tGetHandleVerifier [0x0078C203+27395]\n",
      "\t(No symbol) [0x00723E04]\n",
      "\t(No symbol) [0x00621B7F]\n",
      "\t(No symbol) [0x00662C65]\n",
      "\t(No symbol) [0x00662D3B]\n",
      "\t(No symbol) [0x0069EC82]\n",
      "\t(No symbol) [0x006839E4]\n",
      "\t(No symbol) [0x0069CB24]\n",
      "\t(No symbol) [0x00683736]\n",
      "\t(No symbol) [0x00657541]\n",
      "\t(No symbol) [0x006580BD]\n",
      "\tGetHandleVerifier [0x00A43AB3+2876339]\n",
      "\tGetHandleVerifier [0x00A97F7D+3221629]\n",
      "\tGetHandleVerifier [0x0080D674+556916]\n",
      "\tGetHandleVerifier [0x0081478C+585868]\n",
      "\t(No symbol) [0x0072CE44]\n",
      "\t(No symbol) [0x00729858]\n",
      "\t(No symbol) [0x007299F7]\n",
      "\t(No symbol) [0x0071BF4E]\n",
      "\tBaseThreadInitThunk [0x76097BA9+25]\n",
      "\tRtlInitializeExceptionChain [0x777BC10B+107]\n",
      "\tRtlClearBits [0x777BC08F+191]\n",
      "\n"
     ]
    },
    {
     "name": "stderr",
     "output_type": "stream",
     "text": [
      " 26%|████████████████████▍                                                           | 244/955 [11:19<54:20,  4.59s/it]"
     ]
    },
    {
     "name": "stdout",
     "output_type": "stream",
     "text": [
      "Error fetching data for stock code 003495: Message: \n",
      "Stacktrace:\n",
      "\tGetHandleVerifier [0x0078C203+27395]\n",
      "\t(No symbol) [0x00723E04]\n",
      "\t(No symbol) [0x00621B7F]\n",
      "\t(No symbol) [0x00662C65]\n",
      "\t(No symbol) [0x00662D3B]\n",
      "\t(No symbol) [0x0069EC82]\n",
      "\t(No symbol) [0x006839E4]\n",
      "\t(No symbol) [0x0069CB24]\n",
      "\t(No symbol) [0x00683736]\n",
      "\t(No symbol) [0x00657541]\n",
      "\t(No symbol) [0x006580BD]\n",
      "\tGetHandleVerifier [0x00A43AB3+2876339]\n",
      "\tGetHandleVerifier [0x00A97F7D+3221629]\n",
      "\tGetHandleVerifier [0x0080D674+556916]\n",
      "\tGetHandleVerifier [0x0081478C+585868]\n",
      "\t(No symbol) [0x0072CE44]\n",
      "\t(No symbol) [0x00729858]\n",
      "\t(No symbol) [0x007299F7]\n",
      "\t(No symbol) [0x0071BF4E]\n",
      "\tBaseThreadInitThunk [0x76097BA9+25]\n",
      "\tRtlInitializeExceptionChain [0x777BC10B+107]\n",
      "\tRtlClearBits [0x777BC08F+191]\n",
      "\n"
     ]
    },
    {
     "name": "stderr",
     "output_type": "stream",
     "text": [
      " 26%|█████████████████████                                                           | 252/955 [11:35<45:18,  3.87s/it]"
     ]
    },
    {
     "name": "stdout",
     "output_type": "stream",
     "text": [
      "Error fetching data for stock code 004835: Message: \n",
      "Stacktrace:\n",
      "\tGetHandleVerifier [0x0078C203+27395]\n",
      "\t(No symbol) [0x00723E04]\n",
      "\t(No symbol) [0x00621B7F]\n",
      "\t(No symbol) [0x00662C65]\n",
      "\t(No symbol) [0x00662D3B]\n",
      "\t(No symbol) [0x0069EC82]\n",
      "\t(No symbol) [0x006839E4]\n",
      "\t(No symbol) [0x0069CB24]\n",
      "\t(No symbol) [0x00683736]\n",
      "\t(No symbol) [0x00657541]\n",
      "\t(No symbol) [0x006580BD]\n",
      "\tGetHandleVerifier [0x00A43AB3+2876339]\n",
      "\tGetHandleVerifier [0x00A97F7D+3221629]\n",
      "\tGetHandleVerifier [0x0080D674+556916]\n",
      "\tGetHandleVerifier [0x0081478C+585868]\n",
      "\t(No symbol) [0x0072CE44]\n",
      "\t(No symbol) [0x00729858]\n",
      "\t(No symbol) [0x007299F7]\n",
      "\t(No symbol) [0x0071BF4E]\n",
      "\tBaseThreadInitThunk [0x76097BA9+25]\n",
      "\tRtlInitializeExceptionChain [0x777BC10B+107]\n",
      "\tRtlClearBits [0x777BC08F+191]\n",
      "\n"
     ]
    },
    {
     "name": "stderr",
     "output_type": "stream",
     "text": [
      " 27%|█████████████████████▉                                                          | 262/955 [11:52<43:02,  3.73s/it]"
     ]
    },
    {
     "name": "stdout",
     "output_type": "stream",
     "text": [
      "Error fetching data for stock code 005965: Message: \n",
      "Stacktrace:\n",
      "\tGetHandleVerifier [0x0078C203+27395]\n",
      "\t(No symbol) [0x00723E04]\n",
      "\t(No symbol) [0x00621B7F]\n",
      "\t(No symbol) [0x00662C65]\n",
      "\t(No symbol) [0x00662D3B]\n",
      "\t(No symbol) [0x0069EC82]\n",
      "\t(No symbol) [0x006839E4]\n",
      "\t(No symbol) [0x0069CB24]\n",
      "\t(No symbol) [0x00683736]\n",
      "\t(No symbol) [0x00657541]\n",
      "\t(No symbol) [0x006580BD]\n",
      "\tGetHandleVerifier [0x00A43AB3+2876339]\n",
      "\tGetHandleVerifier [0x00A97F7D+3221629]\n",
      "\tGetHandleVerifier [0x0080D674+556916]\n",
      "\tGetHandleVerifier [0x0081478C+585868]\n",
      "\t(No symbol) [0x0072CE44]\n",
      "\t(No symbol) [0x00729858]\n",
      "\t(No symbol) [0x007299F7]\n",
      "\t(No symbol) [0x0071BF4E]\n",
      "\tBaseThreadInitThunk [0x76097BA9+25]\n",
      "\tRtlInitializeExceptionChain [0x777BC10B+107]\n",
      "\tRtlClearBits [0x777BC08F+191]\n",
      "\n"
     ]
    },
    {
     "name": "stderr",
     "output_type": "stream",
     "text": [
      " 28%|██████████████████████▋                                                         | 271/955 [12:10<42:55,  3.77s/it]"
     ]
    },
    {
     "name": "stdout",
     "output_type": "stream",
     "text": [
      "Error fetching data for stock code 001525: Message: \n",
      "Stacktrace:\n",
      "\tGetHandleVerifier [0x0078C203+27395]\n",
      "\t(No symbol) [0x00723E04]\n",
      "\t(No symbol) [0x00621B7F]\n",
      "\t(No symbol) [0x00662C65]\n",
      "\t(No symbol) [0x00662D3B]\n",
      "\t(No symbol) [0x0069EC82]\n",
      "\t(No symbol) [0x006839E4]\n",
      "\t(No symbol) [0x0069CB24]\n",
      "\t(No symbol) [0x00683736]\n",
      "\t(No symbol) [0x00657541]\n",
      "\t(No symbol) [0x006580BD]\n",
      "\tGetHandleVerifier [0x00A43AB3+2876339]\n",
      "\tGetHandleVerifier [0x00A97F7D+3221629]\n",
      "\tGetHandleVerifier [0x0080D674+556916]\n",
      "\tGetHandleVerifier [0x0081478C+585868]\n",
      "\t(No symbol) [0x0072CE44]\n",
      "\t(No symbol) [0x00729858]\n",
      "\t(No symbol) [0x007299F7]\n",
      "\t(No symbol) [0x0071BF4E]\n",
      "\tBaseThreadInitThunk [0x76097BA9+25]\n",
      "\tRtlInitializeExceptionChain [0x777BC10B+107]\n",
      "\tRtlClearBits [0x777BC08F+191]\n",
      "\n"
     ]
    },
    {
     "name": "stderr",
     "output_type": "stream",
     "text": [
      " 28%|██████████████████████▏                                                       | 272/955 [12:20<1:05:04,  5.72s/it]"
     ]
    },
    {
     "name": "stdout",
     "output_type": "stream",
     "text": [
      "Error fetching data for stock code 001527: Message: \n",
      "Stacktrace:\n",
      "\tGetHandleVerifier [0x0078C203+27395]\n",
      "\t(No symbol) [0x00723E04]\n",
      "\t(No symbol) [0x00621B7F]\n",
      "\t(No symbol) [0x00662C65]\n",
      "\t(No symbol) [0x00662D3B]\n",
      "\t(No symbol) [0x0069EC82]\n",
      "\t(No symbol) [0x006839E4]\n",
      "\t(No symbol) [0x0069CB24]\n",
      "\t(No symbol) [0x00683736]\n",
      "\t(No symbol) [0x00657541]\n",
      "\t(No symbol) [0x006580BD]\n",
      "\tGetHandleVerifier [0x00A43AB3+2876339]\n",
      "\tGetHandleVerifier [0x00A97F7D+3221629]\n",
      "\tGetHandleVerifier [0x0080D674+556916]\n",
      "\tGetHandleVerifier [0x0081478C+585868]\n",
      "\t(No symbol) [0x0072CE44]\n",
      "\t(No symbol) [0x00729858]\n",
      "\t(No symbol) [0x007299F7]\n",
      "\t(No symbol) [0x0071BF4E]\n",
      "\tBaseThreadInitThunk [0x76097BA9+25]\n",
      "\tRtlInitializeExceptionChain [0x777BC10B+107]\n",
      "\tRtlClearBits [0x777BC08F+191]\n",
      "\n"
     ]
    },
    {
     "name": "stderr",
     "output_type": "stream",
     "text": [
      " 30%|███████████████████████▌                                                        | 282/955 [12:37<43:02,  3.84s/it]"
     ]
    },
    {
     "name": "stdout",
     "output_type": "stream",
     "text": [
      "Error fetching data for stock code 014825: Message: \n",
      "Stacktrace:\n",
      "\tGetHandleVerifier [0x0078C203+27395]\n",
      "\t(No symbol) [0x00723E04]\n",
      "\t(No symbol) [0x00621B7F]\n",
      "\t(No symbol) [0x00662C65]\n",
      "\t(No symbol) [0x00662D3B]\n",
      "\t(No symbol) [0x0069EC82]\n",
      "\t(No symbol) [0x006839E4]\n",
      "\t(No symbol) [0x0069CB24]\n",
      "\t(No symbol) [0x00683736]\n",
      "\t(No symbol) [0x00657541]\n",
      "\t(No symbol) [0x006580BD]\n",
      "\tGetHandleVerifier [0x00A43AB3+2876339]\n",
      "\tGetHandleVerifier [0x00A97F7D+3221629]\n",
      "\tGetHandleVerifier [0x0080D674+556916]\n",
      "\tGetHandleVerifier [0x0081478C+585868]\n",
      "\t(No symbol) [0x0072CE44]\n",
      "\t(No symbol) [0x00729858]\n",
      "\t(No symbol) [0x007299F7]\n",
      "\t(No symbol) [0x0071BF4E]\n",
      "\tBaseThreadInitThunk [0x76097BA9+25]\n",
      "\tRtlInitializeExceptionChain [0x777BC10B+107]\n",
      "\tRtlClearBits [0x777BC08F+191]\n",
      "\n"
     ]
    },
    {
     "name": "stderr",
     "output_type": "stream",
     "text": [
      " 30%|████████████████████████▏                                                       | 289/955 [12:52<42:42,  3.85s/it]"
     ]
    },
    {
     "name": "stdout",
     "output_type": "stream",
     "text": [
      "Error fetching data for stock code 000155: Message: \n",
      "Stacktrace:\n",
      "\tGetHandleVerifier [0x0078C203+27395]\n",
      "\t(No symbol) [0x00723E04]\n",
      "\t(No symbol) [0x00621B7F]\n",
      "\t(No symbol) [0x00662C65]\n",
      "\t(No symbol) [0x00662D3B]\n",
      "\t(No symbol) [0x0069EC82]\n",
      "\t(No symbol) [0x006839E4]\n",
      "\t(No symbol) [0x0069CB24]\n",
      "\t(No symbol) [0x00683736]\n",
      "\t(No symbol) [0x00657541]\n",
      "\t(No symbol) [0x006580BD]\n",
      "\tGetHandleVerifier [0x00A43AB3+2876339]\n",
      "\tGetHandleVerifier [0x00A97F7D+3221629]\n",
      "\tGetHandleVerifier [0x0080D674+556916]\n",
      "\tGetHandleVerifier [0x0081478C+585868]\n",
      "\t(No symbol) [0x0072CE44]\n",
      "\t(No symbol) [0x00729858]\n",
      "\t(No symbol) [0x007299F7]\n",
      "\t(No symbol) [0x0071BF4E]\n",
      "\tBaseThreadInitThunk [0x76097BA9+25]\n",
      "\tRtlInitializeExceptionChain [0x777BC10B+107]\n",
      "\tRtlClearBits [0x777BC08F+191]\n",
      "\n"
     ]
    },
    {
     "name": "stderr",
     "output_type": "stream",
     "text": [
      " 30%|███████████████████████▋                                                      | 290/955 [13:03<1:04:53,  5.85s/it]"
     ]
    },
    {
     "name": "stdout",
     "output_type": "stream",
     "text": [
      "Error fetching data for stock code 000157: Message: \n",
      "Stacktrace:\n",
      "\tGetHandleVerifier [0x0078C203+27395]\n",
      "\t(No symbol) [0x00723E04]\n",
      "\t(No symbol) [0x00621B7F]\n",
      "\t(No symbol) [0x00662C65]\n",
      "\t(No symbol) [0x00662D3B]\n",
      "\t(No symbol) [0x0069EC82]\n",
      "\t(No symbol) [0x006839E4]\n",
      "\t(No symbol) [0x0069CB24]\n",
      "\t(No symbol) [0x00683736]\n",
      "\t(No symbol) [0x00657541]\n",
      "\t(No symbol) [0x006580BD]\n",
      "\tGetHandleVerifier [0x00A43AB3+2876339]\n",
      "\tGetHandleVerifier [0x00A97F7D+3221629]\n",
      "\tGetHandleVerifier [0x0080D674+556916]\n",
      "\tGetHandleVerifier [0x0081478C+585868]\n",
      "\t(No symbol) [0x0072CE44]\n",
      "\t(No symbol) [0x00729858]\n",
      "\t(No symbol) [0x007299F7]\n",
      "\t(No symbol) [0x0071BF4E]\n",
      "\tBaseThreadInitThunk [0x76097BA9+25]\n",
      "\tRtlInitializeExceptionChain [0x777BC10B+107]\n",
      "\tRtlClearBits [0x777BC08F+191]\n",
      "\n"
     ]
    },
    {
     "name": "stderr",
     "output_type": "stream",
     "text": [
      " 31%|████████████████████████▋                                                       | 295/955 [13:15<48:38,  4.42s/it]"
     ]
    },
    {
     "name": "stdout",
     "output_type": "stream",
     "text": [
      "Error fetching data for stock code 33626K: Message: \n",
      "Stacktrace:\n",
      "\tGetHandleVerifier [0x0078C203+27395]\n",
      "\t(No symbol) [0x00723E04]\n",
      "\t(No symbol) [0x00621B7F]\n",
      "\t(No symbol) [0x00662C65]\n",
      "\t(No symbol) [0x00662D3B]\n",
      "\t(No symbol) [0x0069EC82]\n",
      "\t(No symbol) [0x006839E4]\n",
      "\t(No symbol) [0x0069CB24]\n",
      "\t(No symbol) [0x00683736]\n",
      "\t(No symbol) [0x00657541]\n",
      "\t(No symbol) [0x006580BD]\n",
      "\tGetHandleVerifier [0x00A43AB3+2876339]\n",
      "\tGetHandleVerifier [0x00A97F7D+3221629]\n",
      "\tGetHandleVerifier [0x0080D674+556916]\n",
      "\tGetHandleVerifier [0x0081478C+585868]\n",
      "\t(No symbol) [0x0072CE44]\n",
      "\t(No symbol) [0x00729858]\n",
      "\t(No symbol) [0x007299F7]\n",
      "\t(No symbol) [0x0071BF4E]\n",
      "\tBaseThreadInitThunk [0x76097BA9+25]\n",
      "\tRtlInitializeExceptionChain [0x777BC10B+107]\n",
      "\tRtlClearBits [0x777BC08F+191]\n",
      "\n"
     ]
    },
    {
     "name": "stderr",
     "output_type": "stream",
     "text": [
      " 31%|████████████████████████▏                                                     | 296/955 [13:26<1:07:14,  6.12s/it]"
     ]
    },
    {
     "name": "stdout",
     "output_type": "stream",
     "text": [
      "Error fetching data for stock code 33626L: Message: \n",
      "Stacktrace:\n",
      "\tGetHandleVerifier [0x0078C203+27395]\n",
      "\t(No symbol) [0x00723E04]\n",
      "\t(No symbol) [0x00621B7F]\n",
      "\t(No symbol) [0x00662C65]\n",
      "\t(No symbol) [0x00662D3B]\n",
      "\t(No symbol) [0x0069EC82]\n",
      "\t(No symbol) [0x006839E4]\n",
      "\t(No symbol) [0x0069CB24]\n",
      "\t(No symbol) [0x00683736]\n",
      "\t(No symbol) [0x00657541]\n",
      "\t(No symbol) [0x006580BD]\n",
      "\tGetHandleVerifier [0x00A43AB3+2876339]\n",
      "\tGetHandleVerifier [0x00A97F7D+3221629]\n",
      "\tGetHandleVerifier [0x0080D674+556916]\n",
      "\tGetHandleVerifier [0x0081478C+585868]\n",
      "\t(No symbol) [0x0072CE44]\n",
      "\t(No symbol) [0x00729858]\n",
      "\t(No symbol) [0x007299F7]\n",
      "\t(No symbol) [0x0071BF4E]\n",
      "\tBaseThreadInitThunk [0x76097BA9+25]\n",
      "\tRtlInitializeExceptionChain [0x777BC10B+107]\n",
      "\tRtlClearBits [0x777BC08F+191]\n",
      "\n"
     ]
    },
    {
     "name": "stderr",
     "output_type": "stream",
     "text": [
      " 33%|██████████████████████████▋                                                     | 318/955 [13:51<39:00,  3.67s/it]"
     ]
    },
    {
     "name": "stdout",
     "output_type": "stream",
     "text": [
      "Error fetching data for stock code 00499K: Message: \n",
      "Stacktrace:\n",
      "\tGetHandleVerifier [0x0078C203+27395]\n",
      "\t(No symbol) [0x00723E04]\n",
      "\t(No symbol) [0x00621B7F]\n",
      "\t(No symbol) [0x00662C65]\n",
      "\t(No symbol) [0x00662D3B]\n",
      "\t(No symbol) [0x0069EC82]\n",
      "\t(No symbol) [0x006839E4]\n",
      "\t(No symbol) [0x0069CB24]\n",
      "\t(No symbol) [0x00683736]\n",
      "\t(No symbol) [0x00657541]\n",
      "\t(No symbol) [0x006580BD]\n",
      "\tGetHandleVerifier [0x00A43AB3+2876339]\n",
      "\tGetHandleVerifier [0x00A97F7D+3221629]\n",
      "\tGetHandleVerifier [0x0080D674+556916]\n",
      "\tGetHandleVerifier [0x0081478C+585868]\n",
      "\t(No symbol) [0x0072CE44]\n",
      "\t(No symbol) [0x00729858]\n",
      "\t(No symbol) [0x007299F7]\n",
      "\t(No symbol) [0x0071BF4E]\n",
      "\tBaseThreadInitThunk [0x76097BA9+25]\n",
      "\tRtlInitializeExceptionChain [0x777BC10B+107]\n",
      "\tRtlClearBits [0x777BC08F+191]\n",
      "\n"
     ]
    },
    {
     "name": "stderr",
     "output_type": "stream",
     "text": [
      " 34%|██████████████████████████▊                                                     | 320/955 [14:02<53:44,  5.08s/it]"
     ]
    },
    {
     "name": "stdout",
     "output_type": "stream",
     "text": [
      "Error fetching data for stock code 005305: Message: \n",
      "Stacktrace:\n",
      "\tGetHandleVerifier [0x0078C203+27395]\n",
      "\t(No symbol) [0x00723E04]\n",
      "\t(No symbol) [0x00621B7F]\n",
      "\t(No symbol) [0x00662C65]\n",
      "\t(No symbol) [0x00662D3B]\n",
      "\t(No symbol) [0x0069EC82]\n",
      "\t(No symbol) [0x006839E4]\n",
      "\t(No symbol) [0x0069CB24]\n",
      "\t(No symbol) [0x00683736]\n",
      "\t(No symbol) [0x00657541]\n",
      "\t(No symbol) [0x006580BD]\n",
      "\tGetHandleVerifier [0x00A43AB3+2876339]\n",
      "\tGetHandleVerifier [0x00A97F7D+3221629]\n",
      "\tGetHandleVerifier [0x0080D674+556916]\n",
      "\tGetHandleVerifier [0x0081478C+585868]\n",
      "\t(No symbol) [0x0072CE44]\n",
      "\t(No symbol) [0x00729858]\n",
      "\t(No symbol) [0x007299F7]\n",
      "\t(No symbol) [0x0071BF4E]\n",
      "\tBaseThreadInitThunk [0x76097BA9+25]\n",
      "\tRtlInitializeExceptionChain [0x777BC10B+107]\n",
      "\tRtlClearBits [0x777BC08F+191]\n",
      "\n"
     ]
    },
    {
     "name": "stderr",
     "output_type": "stream",
     "text": [
      " 36%|████████████████████████████▊                                                   | 344/955 [14:31<36:31,  3.59s/it]"
     ]
    },
    {
     "name": "stdout",
     "output_type": "stream",
     "text": [
      "Error fetching data for stock code 094800: Message: \n",
      "Stacktrace:\n",
      "\tGetHandleVerifier [0x0078C203+27395]\n",
      "\t(No symbol) [0x00723E04]\n",
      "\t(No symbol) [0x00621B7F]\n",
      "\t(No symbol) [0x00662C65]\n",
      "\t(No symbol) [0x00662D3B]\n",
      "\t(No symbol) [0x0069EC82]\n",
      "\t(No symbol) [0x006839E4]\n",
      "\t(No symbol) [0x0069CB24]\n",
      "\t(No symbol) [0x00683736]\n",
      "\t(No symbol) [0x00657541]\n",
      "\t(No symbol) [0x006580BD]\n",
      "\tGetHandleVerifier [0x00A43AB3+2876339]\n",
      "\tGetHandleVerifier [0x00A97F7D+3221629]\n",
      "\tGetHandleVerifier [0x0080D674+556916]\n",
      "\tGetHandleVerifier [0x0081478C+585868]\n",
      "\t(No symbol) [0x0072CE44]\n",
      "\t(No symbol) [0x00729858]\n",
      "\t(No symbol) [0x007299F7]\n",
      "\t(No symbol) [0x0071BF4E]\n",
      "\tBaseThreadInitThunk [0x76097BA9+25]\n",
      "\tRtlInitializeExceptionChain [0x777BC10B+107]\n",
      "\tRtlClearBits [0x777BC08F+191]\n",
      "\n"
     ]
    },
    {
     "name": "stderr",
     "output_type": "stream",
     "text": [
      " 36%|████████████████████████████▉                                                   | 346/955 [14:42<50:58,  5.02s/it]"
     ]
    },
    {
     "name": "stdout",
     "output_type": "stream",
     "text": [
      "Error fetching data for stock code 006805: Message: \n",
      "Stacktrace:\n",
      "\tGetHandleVerifier [0x0078C203+27395]\n",
      "\t(No symbol) [0x00723E04]\n",
      "\t(No symbol) [0x00621B7F]\n",
      "\t(No symbol) [0x00662C65]\n",
      "\t(No symbol) [0x00662D3B]\n",
      "\t(No symbol) [0x0069EC82]\n",
      "\t(No symbol) [0x006839E4]\n",
      "\t(No symbol) [0x0069CB24]\n",
      "\t(No symbol) [0x00683736]\n",
      "\t(No symbol) [0x00657541]\n",
      "\t(No symbol) [0x006580BD]\n",
      "\tGetHandleVerifier [0x00A43AB3+2876339]\n",
      "\tGetHandleVerifier [0x00A97F7D+3221629]\n",
      "\tGetHandleVerifier [0x0080D674+556916]\n",
      "\tGetHandleVerifier [0x0081478C+585868]\n",
      "\t(No symbol) [0x0072CE44]\n",
      "\t(No symbol) [0x00729858]\n",
      "\t(No symbol) [0x007299F7]\n",
      "\t(No symbol) [0x0071BF4E]\n",
      "\tBaseThreadInitThunk [0x76097BA9+25]\n",
      "\tRtlInitializeExceptionChain [0x777BC10B+107]\n",
      "\tRtlClearBits [0x777BC08F+191]\n",
      "\n"
     ]
    },
    {
     "name": "stderr",
     "output_type": "stream",
     "text": [
      " 36%|████████████████████████████▎                                                 | 347/955 [14:53<1:06:35,  6.57s/it]"
     ]
    },
    {
     "name": "stdout",
     "output_type": "stream",
     "text": [
      "Error fetching data for stock code 00680K: Message: \n",
      "Stacktrace:\n",
      "\tGetHandleVerifier [0x0078C203+27395]\n",
      "\t(No symbol) [0x00723E04]\n",
      "\t(No symbol) [0x00621B7F]\n",
      "\t(No symbol) [0x00662C65]\n",
      "\t(No symbol) [0x00662D3B]\n",
      "\t(No symbol) [0x0069EC82]\n",
      "\t(No symbol) [0x006839E4]\n",
      "\t(No symbol) [0x0069CB24]\n",
      "\t(No symbol) [0x00683736]\n",
      "\t(No symbol) [0x00657541]\n",
      "\t(No symbol) [0x006580BD]\n",
      "\tGetHandleVerifier [0x00A43AB3+2876339]\n",
      "\tGetHandleVerifier [0x00A97F7D+3221629]\n",
      "\tGetHandleVerifier [0x0080D674+556916]\n",
      "\tGetHandleVerifier [0x0081478C+585868]\n",
      "\t(No symbol) [0x0072CE44]\n",
      "\t(No symbol) [0x00729858]\n",
      "\t(No symbol) [0x007299F7]\n",
      "\t(No symbol) [0x0071BF4E]\n",
      "\tBaseThreadInitThunk [0x76097BA9+25]\n",
      "\tRtlInitializeExceptionChain [0x777BC10B+107]\n",
      "\tRtlClearBits [0x777BC08F+191]\n",
      "\n"
     ]
    },
    {
     "name": "stderr",
     "output_type": "stream",
     "text": [
      " 38%|██████████████████████████████▍                                                 | 364/955 [15:18<36:48,  3.74s/it]"
     ]
    },
    {
     "name": "stdout",
     "output_type": "stream",
     "text": [
      "Error fetching data for stock code 001275: Message: \n",
      "Stacktrace:\n",
      "\tGetHandleVerifier [0x0078C203+27395]\n",
      "\t(No symbol) [0x00723E04]\n",
      "\t(No symbol) [0x00621B7F]\n",
      "\t(No symbol) [0x00662C65]\n",
      "\t(No symbol) [0x00662D3B]\n",
      "\t(No symbol) [0x0069EC82]\n",
      "\t(No symbol) [0x006839E4]\n",
      "\t(No symbol) [0x0069CB24]\n",
      "\t(No symbol) [0x00683736]\n",
      "\t(No symbol) [0x00657541]\n",
      "\t(No symbol) [0x006580BD]\n",
      "\tGetHandleVerifier [0x00A43AB3+2876339]\n",
      "\tGetHandleVerifier [0x00A97F7D+3221629]\n",
      "\tGetHandleVerifier [0x0080D674+556916]\n",
      "\tGetHandleVerifier [0x0081478C+585868]\n",
      "\t(No symbol) [0x0072CE44]\n",
      "\t(No symbol) [0x00729858]\n",
      "\t(No symbol) [0x007299F7]\n",
      "\t(No symbol) [0x0071BF4E]\n",
      "\tBaseThreadInitThunk [0x76097BA9+25]\n",
      "\tRtlInitializeExceptionChain [0x777BC10B+107]\n",
      "\tRtlClearBits [0x777BC08F+191]\n",
      "\n"
     ]
    },
    {
     "name": "stderr",
     "output_type": "stream",
     "text": [
      " 40%|███████████████████████████████▉                                                | 381/955 [15:42<33:51,  3.54s/it]"
     ]
    },
    {
     "name": "stdout",
     "output_type": "stream",
     "text": [
      "Error fetching data for stock code 006405: Message: \n",
      "Stacktrace:\n",
      "\tGetHandleVerifier [0x0078C203+27395]\n",
      "\t(No symbol) [0x00723E04]\n",
      "\t(No symbol) [0x00621B7F]\n",
      "\t(No symbol) [0x00662C65]\n",
      "\t(No symbol) [0x00662D3B]\n",
      "\t(No symbol) [0x0069EC82]\n",
      "\t(No symbol) [0x006839E4]\n",
      "\t(No symbol) [0x0069CB24]\n",
      "\t(No symbol) [0x00683736]\n",
      "\t(No symbol) [0x00657541]\n",
      "\t(No symbol) [0x006580BD]\n",
      "\tGetHandleVerifier [0x00A43AB3+2876339]\n",
      "\tGetHandleVerifier [0x00A97F7D+3221629]\n",
      "\tGetHandleVerifier [0x0080D674+556916]\n",
      "\tGetHandleVerifier [0x0081478C+585868]\n",
      "\t(No symbol) [0x0072CE44]\n",
      "\t(No symbol) [0x00729858]\n",
      "\t(No symbol) [0x007299F7]\n",
      "\t(No symbol) [0x0071BF4E]\n",
      "\tBaseThreadInitThunk [0x76097BA9+25]\n",
      "\tRtlInitializeExceptionChain [0x777BC10B+107]\n",
      "\tRtlClearBits [0x777BC08F+191]\n",
      "\n"
     ]
    },
    {
     "name": "stderr",
     "output_type": "stream",
     "text": [
      " 40%|████████████████████████████████▏                                               | 384/955 [15:54<43:55,  4.61s/it]"
     ]
    },
    {
     "name": "stdout",
     "output_type": "stream",
     "text": [
      "Error fetching data for stock code 02826K: Message: \n",
      "Stacktrace:\n",
      "\tGetHandleVerifier [0x0078C203+27395]\n",
      "\t(No symbol) [0x00723E04]\n",
      "\t(No symbol) [0x00621B7F]\n",
      "\t(No symbol) [0x00662C65]\n",
      "\t(No symbol) [0x00662D3B]\n",
      "\t(No symbol) [0x0069EC82]\n",
      "\t(No symbol) [0x006839E4]\n",
      "\t(No symbol) [0x0069CB24]\n",
      "\t(No symbol) [0x00683736]\n",
      "\t(No symbol) [0x00657541]\n",
      "\t(No symbol) [0x006580BD]\n",
      "\tGetHandleVerifier [0x00A43AB3+2876339]\n",
      "\tGetHandleVerifier [0x00A97F7D+3221629]\n",
      "\tGetHandleVerifier [0x0080D674+556916]\n",
      "\tGetHandleVerifier [0x0081478C+585868]\n",
      "\t(No symbol) [0x0072CE44]\n",
      "\t(No symbol) [0x00729858]\n",
      "\t(No symbol) [0x007299F7]\n",
      "\t(No symbol) [0x0071BF4E]\n",
      "\tBaseThreadInitThunk [0x76097BA9+25]\n",
      "\tRtlInitializeExceptionChain [0x777BC10B+107]\n",
      "\tRtlClearBits [0x777BC08F+191]\n",
      "\n"
     ]
    },
    {
     "name": "stderr",
     "output_type": "stream",
     "text": [
      " 41%|████████████████████████████████▌                                               | 389/955 [16:07<39:16,  4.16s/it]"
     ]
    },
    {
     "name": "stdout",
     "output_type": "stream",
     "text": [
      "Error fetching data for stock code 009155: Message: \n",
      "Stacktrace:\n",
      "\tGetHandleVerifier [0x0078C203+27395]\n",
      "\t(No symbol) [0x00723E04]\n",
      "\t(No symbol) [0x00621B7F]\n",
      "\t(No symbol) [0x00662C65]\n",
      "\t(No symbol) [0x00662D3B]\n",
      "\t(No symbol) [0x0069EC82]\n",
      "\t(No symbol) [0x006839E4]\n",
      "\t(No symbol) [0x0069CB24]\n",
      "\t(No symbol) [0x00683736]\n",
      "\t(No symbol) [0x00657541]\n",
      "\t(No symbol) [0x006580BD]\n",
      "\tGetHandleVerifier [0x00A43AB3+2876339]\n",
      "\tGetHandleVerifier [0x00A97F7D+3221629]\n",
      "\tGetHandleVerifier [0x0080D674+556916]\n",
      "\tGetHandleVerifier [0x0081478C+585868]\n",
      "\t(No symbol) [0x0072CE44]\n",
      "\t(No symbol) [0x00729858]\n",
      "\t(No symbol) [0x007299F7]\n",
      "\t(No symbol) [0x0071BF4E]\n",
      "\tBaseThreadInitThunk [0x76097BA9+25]\n",
      "\tRtlInitializeExceptionChain [0x777BC10B+107]\n",
      "\tRtlClearBits [0x777BC08F+191]\n",
      "\n"
     ]
    },
    {
     "name": "stderr",
     "output_type": "stream",
     "text": [
      " 41%|████████████████████████████████▊                                               | 391/955 [16:18<49:11,  5.23s/it]"
     ]
    },
    {
     "name": "stdout",
     "output_type": "stream",
     "text": [
      "Error fetching data for stock code 005935: Message: \n",
      "Stacktrace:\n",
      "\tGetHandleVerifier [0x0078C203+27395]\n",
      "\t(No symbol) [0x00723E04]\n",
      "\t(No symbol) [0x00621B7F]\n",
      "\t(No symbol) [0x00662C65]\n",
      "\t(No symbol) [0x00662D3B]\n",
      "\t(No symbol) [0x0069EC82]\n",
      "\t(No symbol) [0x006839E4]\n",
      "\t(No symbol) [0x0069CB24]\n",
      "\t(No symbol) [0x00683736]\n",
      "\t(No symbol) [0x00657541]\n",
      "\t(No symbol) [0x006580BD]\n",
      "\tGetHandleVerifier [0x00A43AB3+2876339]\n",
      "\tGetHandleVerifier [0x00A97F7D+3221629]\n",
      "\tGetHandleVerifier [0x0080D674+556916]\n",
      "\tGetHandleVerifier [0x0081478C+585868]\n",
      "\t(No symbol) [0x0072CE44]\n",
      "\t(No symbol) [0x00729858]\n",
      "\t(No symbol) [0x007299F7]\n",
      "\t(No symbol) [0x0071BF4E]\n",
      "\tBaseThreadInitThunk [0x76097BA9+25]\n",
      "\tRtlInitializeExceptionChain [0x777BC10B+107]\n",
      "\tRtlClearBits [0x777BC08F+191]\n",
      "\n"
     ]
    },
    {
     "name": "stderr",
     "output_type": "stream",
     "text": [
      " 42%|█████████████████████████████████▎                                              | 398/955 [16:32<37:15,  4.01s/it]"
     ]
    },
    {
     "name": "stdout",
     "output_type": "stream",
     "text": [
      "Error fetching data for stock code 000815: Message: \n",
      "Stacktrace:\n",
      "\tGetHandleVerifier [0x0078C203+27395]\n",
      "\t(No symbol) [0x00723E04]\n",
      "\t(No symbol) [0x00621B7F]\n",
      "\t(No symbol) [0x00662C65]\n",
      "\t(No symbol) [0x00662D3B]\n",
      "\t(No symbol) [0x0069EC82]\n",
      "\t(No symbol) [0x006839E4]\n",
      "\t(No symbol) [0x0069CB24]\n",
      "\t(No symbol) [0x00683736]\n",
      "\t(No symbol) [0x00657541]\n",
      "\t(No symbol) [0x006580BD]\n",
      "\tGetHandleVerifier [0x00A43AB3+2876339]\n",
      "\tGetHandleVerifier [0x00A97F7D+3221629]\n",
      "\tGetHandleVerifier [0x0080D674+556916]\n",
      "\tGetHandleVerifier [0x0081478C+585868]\n",
      "\t(No symbol) [0x0072CE44]\n",
      "\t(No symbol) [0x00729858]\n",
      "\t(No symbol) [0x007299F7]\n",
      "\t(No symbol) [0x0071BF4E]\n",
      "\tBaseThreadInitThunk [0x76097BA9+25]\n",
      "\tRtlInitializeExceptionChain [0x777BC10B+107]\n",
      "\tRtlClearBits [0x777BC08F+191]\n",
      "\n"
     ]
    },
    {
     "name": "stderr",
     "output_type": "stream",
     "text": [
      " 42%|█████████████████████████████████▌                                              | 401/955 [16:44<43:52,  4.75s/it]"
     ]
    },
    {
     "name": "stdout",
     "output_type": "stream",
     "text": [
      "Error fetching data for stock code 145995: Message: \n",
      "Stacktrace:\n",
      "\tGetHandleVerifier [0x0078C203+27395]\n",
      "\t(No symbol) [0x00723E04]\n",
      "\t(No symbol) [0x00621B7F]\n",
      "\t(No symbol) [0x00662C65]\n",
      "\t(No symbol) [0x00662D3B]\n",
      "\t(No symbol) [0x0069EC82]\n",
      "\t(No symbol) [0x006839E4]\n",
      "\t(No symbol) [0x0069CB24]\n",
      "\t(No symbol) [0x00683736]\n",
      "\t(No symbol) [0x00657541]\n",
      "\t(No symbol) [0x006580BD]\n",
      "\tGetHandleVerifier [0x00A43AB3+2876339]\n",
      "\tGetHandleVerifier [0x00A97F7D+3221629]\n",
      "\tGetHandleVerifier [0x0080D674+556916]\n",
      "\tGetHandleVerifier [0x0081478C+585868]\n",
      "\t(No symbol) [0x0072CE44]\n",
      "\t(No symbol) [0x00729858]\n",
      "\t(No symbol) [0x007299F7]\n",
      "\t(No symbol) [0x0071BF4E]\n",
      "\tBaseThreadInitThunk [0x76097BA9+25]\n",
      "\tRtlInitializeExceptionChain [0x777BC10B+107]\n",
      "\tRtlClearBits [0x777BC08F+191]\n",
      "\n"
     ]
    },
    {
     "name": "stderr",
     "output_type": "stream",
     "text": [
      " 43%|██████████████████████████████████                                              | 406/955 [17:00<43:44,  4.78s/it]"
     ]
    },
    {
     "name": "stdout",
     "output_type": "stream",
     "text": [
      "Error fetching data for stock code 000075: Message: \n",
      "Stacktrace:\n",
      "\tGetHandleVerifier [0x0078C203+27395]\n",
      "\t(No symbol) [0x00723E04]\n",
      "\t(No symbol) [0x00621B7F]\n",
      "\t(No symbol) [0x00662C65]\n",
      "\t(No symbol) [0x00662D3B]\n",
      "\t(No symbol) [0x0069EC82]\n",
      "\t(No symbol) [0x006839E4]\n",
      "\t(No symbol) [0x0069CB24]\n",
      "\t(No symbol) [0x00683736]\n",
      "\t(No symbol) [0x00657541]\n",
      "\t(No symbol) [0x006580BD]\n",
      "\tGetHandleVerifier [0x00A43AB3+2876339]\n",
      "\tGetHandleVerifier [0x00A97F7D+3221629]\n",
      "\tGetHandleVerifier [0x0080D674+556916]\n",
      "\tGetHandleVerifier [0x0081478C+585868]\n",
      "\t(No symbol) [0x0072CE44]\n",
      "\t(No symbol) [0x00729858]\n",
      "\t(No symbol) [0x007299F7]\n",
      "\t(No symbol) [0x0071BF4E]\n",
      "\tBaseThreadInitThunk [0x76097BA9+25]\n",
      "\tRtlInitializeExceptionChain [0x777BC10B+107]\n",
      "\tRtlClearBits [0x777BC08F+191]\n",
      "\n"
     ]
    },
    {
     "name": "stderr",
     "output_type": "stream",
     "text": [
      " 45%|████████████████████████████████████▎                                           | 433/955 [17:29<31:03,  3.57s/it]"
     ]
    },
    {
     "name": "stdout",
     "output_type": "stream",
     "text": [
      "Error fetching data for stock code 004415: Message: \n",
      "Stacktrace:\n",
      "\tGetHandleVerifier [0x0078C203+27395]\n",
      "\t(No symbol) [0x00723E04]\n",
      "\t(No symbol) [0x00621B7F]\n",
      "\t(No symbol) [0x00662C65]\n",
      "\t(No symbol) [0x00662D3B]\n",
      "\t(No symbol) [0x0069EC82]\n",
      "\t(No symbol) [0x006839E4]\n",
      "\t(No symbol) [0x0069CB24]\n",
      "\t(No symbol) [0x00683736]\n",
      "\t(No symbol) [0x00657541]\n",
      "\t(No symbol) [0x006580BD]\n",
      "\tGetHandleVerifier [0x00A43AB3+2876339]\n",
      "\tGetHandleVerifier [0x00A97F7D+3221629]\n",
      "\tGetHandleVerifier [0x0080D674+556916]\n",
      "\tGetHandleVerifier [0x0081478C+585868]\n",
      "\t(No symbol) [0x0072CE44]\n",
      "\t(No symbol) [0x00729858]\n",
      "\t(No symbol) [0x007299F7]\n",
      "\t(No symbol) [0x0071BF4E]\n",
      "\tBaseThreadInitThunk [0x76097BA9+25]\n",
      "\tRtlInitializeExceptionChain [0x777BC10B+107]\n",
      "\tRtlClearBits [0x777BC08F+191]\n",
      "\n"
     ]
    },
    {
     "name": "stderr",
     "output_type": "stream",
     "text": [
      " 46%|████████████████████████████████████▊                                           | 440/955 [17:43<32:40,  3.81s/it]"
     ]
    },
    {
     "name": "stdout",
     "output_type": "stream",
     "text": [
      "Error fetching data for stock code 014915: Message: \n",
      "Stacktrace:\n",
      "\tGetHandleVerifier [0x0078C203+27395]\n",
      "\t(No symbol) [0x00723E04]\n",
      "\t(No symbol) [0x00621B7F]\n",
      "\t(No symbol) [0x00662C65]\n",
      "\t(No symbol) [0x00662D3B]\n",
      "\t(No symbol) [0x0069EC82]\n",
      "\t(No symbol) [0x006839E4]\n",
      "\t(No symbol) [0x0069CB24]\n",
      "\t(No symbol) [0x00683736]\n",
      "\t(No symbol) [0x00657541]\n",
      "\t(No symbol) [0x006580BD]\n",
      "\tGetHandleVerifier [0x00A43AB3+2876339]\n",
      "\tGetHandleVerifier [0x00A97F7D+3221629]\n",
      "\tGetHandleVerifier [0x0080D674+556916]\n",
      "\tGetHandleVerifier [0x0081478C+585868]\n",
      "\t(No symbol) [0x0072CE44]\n",
      "\t(No symbol) [0x00729858]\n",
      "\t(No symbol) [0x007299F7]\n",
      "\t(No symbol) [0x0071BF4E]\n",
      "\tBaseThreadInitThunk [0x76097BA9+25]\n",
      "\tRtlInitializeExceptionChain [0x777BC10B+107]\n",
      "\tRtlClearBits [0x777BC08F+191]\n",
      "\n"
     ]
    },
    {
     "name": "stderr",
     "output_type": "stream",
     "text": [
      " 46%|█████████████████████████████████████                                           | 443/955 [17:56<40:45,  4.78s/it]"
     ]
    },
    {
     "name": "stdout",
     "output_type": "stream",
     "text": [
      "Error fetching data for stock code 004985: Message: \n",
      "Stacktrace:\n",
      "\tGetHandleVerifier [0x0078C203+27395]\n",
      "\t(No symbol) [0x00723E04]\n",
      "\t(No symbol) [0x00621B7F]\n",
      "\t(No symbol) [0x00662C65]\n",
      "\t(No symbol) [0x00662D3B]\n",
      "\t(No symbol) [0x0069EC82]\n",
      "\t(No symbol) [0x006839E4]\n",
      "\t(No symbol) [0x0069CB24]\n",
      "\t(No symbol) [0x00683736]\n",
      "\t(No symbol) [0x00657541]\n",
      "\t(No symbol) [0x006580BD]\n",
      "\tGetHandleVerifier [0x00A43AB3+2876339]\n",
      "\tGetHandleVerifier [0x00A97F7D+3221629]\n",
      "\tGetHandleVerifier [0x0080D674+556916]\n",
      "\tGetHandleVerifier [0x0081478C+585868]\n",
      "\t(No symbol) [0x0072CE44]\n",
      "\t(No symbol) [0x00729858]\n",
      "\t(No symbol) [0x007299F7]\n",
      "\t(No symbol) [0x0071BF4E]\n",
      "\tBaseThreadInitThunk [0x76097BA9+25]\n",
      "\tRtlInitializeExceptionChain [0x777BC10B+107]\n",
      "\tRtlClearBits [0x777BC08F+191]\n",
      "\n"
     ]
    },
    {
     "name": "stderr",
     "output_type": "stream",
     "text": [
      " 47%|█████████████████████████████████████▌                                          | 448/955 [18:09<36:09,  4.28s/it]"
     ]
    },
    {
     "name": "stdout",
     "output_type": "stream",
     "text": [
      "Error fetching data for stock code 004365: Message: \n",
      "Stacktrace:\n",
      "\tGetHandleVerifier [0x0078C203+27395]\n",
      "\t(No symbol) [0x00723E04]\n",
      "\t(No symbol) [0x00621B7F]\n",
      "\t(No symbol) [0x00662C65]\n",
      "\t(No symbol) [0x00662D3B]\n",
      "\t(No symbol) [0x0069EC82]\n",
      "\t(No symbol) [0x006839E4]\n",
      "\t(No symbol) [0x0069CB24]\n",
      "\t(No symbol) [0x00683736]\n",
      "\t(No symbol) [0x00657541]\n",
      "\t(No symbol) [0x006580BD]\n",
      "\tGetHandleVerifier [0x00A43AB3+2876339]\n",
      "\tGetHandleVerifier [0x00A97F7D+3221629]\n",
      "\tGetHandleVerifier [0x0080D674+556916]\n",
      "\tGetHandleVerifier [0x0081478C+585868]\n",
      "\t(No symbol) [0x0072CE44]\n",
      "\t(No symbol) [0x00729858]\n",
      "\t(No symbol) [0x007299F7]\n",
      "\t(No symbol) [0x0071BF4E]\n",
      "\tBaseThreadInitThunk [0x76097BA9+25]\n",
      "\tRtlInitializeExceptionChain [0x777BC10B+107]\n",
      "\tRtlClearBits [0x777BC08F+191]\n",
      "\n"
     ]
    },
    {
     "name": "stderr",
     "output_type": "stream",
     "text": [
      " 48%|██████████████████████████████████████▋                                         | 462/955 [18:30<30:52,  3.76s/it]"
     ]
    },
    {
     "name": "stdout",
     "output_type": "stream",
     "text": [
      "Error fetching data for stock code 33637K: Message: \n",
      "Stacktrace:\n",
      "\tGetHandleVerifier [0x0078C203+27395]\n",
      "\t(No symbol) [0x00723E04]\n",
      "\t(No symbol) [0x00621B7F]\n",
      "\t(No symbol) [0x00662C65]\n",
      "\t(No symbol) [0x00662D3B]\n",
      "\t(No symbol) [0x0069EC82]\n",
      "\t(No symbol) [0x006839E4]\n",
      "\t(No symbol) [0x0069CB24]\n",
      "\t(No symbol) [0x00683736]\n",
      "\t(No symbol) [0x00657541]\n",
      "\t(No symbol) [0x006580BD]\n",
      "\tGetHandleVerifier [0x00A43AB3+2876339]\n",
      "\tGetHandleVerifier [0x00A97F7D+3221629]\n",
      "\tGetHandleVerifier [0x0080D674+556916]\n",
      "\tGetHandleVerifier [0x0081478C+585868]\n",
      "\t(No symbol) [0x0072CE44]\n",
      "\t(No symbol) [0x00729858]\n",
      "\t(No symbol) [0x007299F7]\n",
      "\t(No symbol) [0x0071BF4E]\n",
      "\tBaseThreadInitThunk [0x76097BA9+25]\n",
      "\tRtlInitializeExceptionChain [0x777BC10B+107]\n",
      "\tRtlClearBits [0x777BC08F+191]\n",
      "\n"
     ]
    },
    {
     "name": "stderr",
     "output_type": "stream",
     "text": [
      " 48%|██████████████████████████████████████▊                                         | 463/955 [18:40<46:39,  5.69s/it]"
     ]
    },
    {
     "name": "stdout",
     "output_type": "stream",
     "text": [
      "Error fetching data for stock code 33637L: Message: \n",
      "Stacktrace:\n",
      "\tGetHandleVerifier [0x0078C203+27395]\n",
      "\t(No symbol) [0x00723E04]\n",
      "\t(No symbol) [0x00621B7F]\n",
      "\t(No symbol) [0x00662C65]\n",
      "\t(No symbol) [0x00662D3B]\n",
      "\t(No symbol) [0x0069EC82]\n",
      "\t(No symbol) [0x006839E4]\n",
      "\t(No symbol) [0x0069CB24]\n",
      "\t(No symbol) [0x00683736]\n",
      "\t(No symbol) [0x00657541]\n",
      "\t(No symbol) [0x006580BD]\n",
      "\tGetHandleVerifier [0x00A43AB3+2876339]\n",
      "\tGetHandleVerifier [0x00A97F7D+3221629]\n",
      "\tGetHandleVerifier [0x0080D674+556916]\n",
      "\tGetHandleVerifier [0x0081478C+585868]\n",
      "\t(No symbol) [0x0072CE44]\n",
      "\t(No symbol) [0x00729858]\n",
      "\t(No symbol) [0x007299F7]\n",
      "\t(No symbol) [0x0071BF4E]\n",
      "\tBaseThreadInitThunk [0x76097BA9+25]\n",
      "\tRtlInitializeExceptionChain [0x777BC10B+107]\n",
      "\tRtlClearBits [0x777BC08F+191]\n",
      "\n"
     ]
    },
    {
     "name": "stderr",
     "output_type": "stream",
     "text": [
      " 51%|█████████████████████████████████████████                                       | 490/955 [19:10<28:58,  3.74s/it]"
     ]
    },
    {
     "name": "stdout",
     "output_type": "stream",
     "text": [
      "Error fetching data for stock code 019175: Message: \n",
      "Stacktrace:\n",
      "\tGetHandleVerifier [0x0078C203+27395]\n",
      "\t(No symbol) [0x00723E04]\n",
      "\t(No symbol) [0x00621B7F]\n",
      "\t(No symbol) [0x00662C65]\n",
      "\t(No symbol) [0x00662D3B]\n",
      "\t(No symbol) [0x0069EC82]\n",
      "\t(No symbol) [0x006839E4]\n",
      "\t(No symbol) [0x0069CB24]\n",
      "\t(No symbol) [0x00683736]\n",
      "\t(No symbol) [0x00657541]\n",
      "\t(No symbol) [0x006580BD]\n",
      "\tGetHandleVerifier [0x00A43AB3+2876339]\n",
      "\tGetHandleVerifier [0x00A97F7D+3221629]\n",
      "\tGetHandleVerifier [0x0080D674+556916]\n",
      "\tGetHandleVerifier [0x0081478C+585868]\n",
      "\t(No symbol) [0x0072CE44]\n",
      "\t(No symbol) [0x00729858]\n",
      "\t(No symbol) [0x007299F7]\n",
      "\t(No symbol) [0x0071BF4E]\n",
      "\tBaseThreadInitThunk [0x76097BA9+25]\n",
      "\tRtlInitializeExceptionChain [0x777BC10B+107]\n",
      "\tRtlClearBits [0x777BC08F+191]\n",
      "\n"
     ]
    },
    {
     "name": "stderr",
     "output_type": "stream",
     "text": [
      " 53%|██████████████████████████████████████████▏                                     | 504/955 [19:29<26:34,  3.54s/it]"
     ]
    },
    {
     "name": "stdout",
     "output_type": "stream",
     "text": [
      "Error fetching data for stock code 097955: Message: \n",
      "Stacktrace:\n",
      "\tGetHandleVerifier [0x0078C203+27395]\n",
      "\t(No symbol) [0x00723E04]\n",
      "\t(No symbol) [0x00621B7F]\n",
      "\t(No symbol) [0x00662C65]\n",
      "\t(No symbol) [0x00662D3B]\n",
      "\t(No symbol) [0x0069EC82]\n",
      "\t(No symbol) [0x006839E4]\n",
      "\t(No symbol) [0x0069CB24]\n",
      "\t(No symbol) [0x00683736]\n",
      "\t(No symbol) [0x00657541]\n",
      "\t(No symbol) [0x006580BD]\n",
      "\tGetHandleVerifier [0x00A43AB3+2876339]\n",
      "\tGetHandleVerifier [0x00A97F7D+3221629]\n",
      "\tGetHandleVerifier [0x0080D674+556916]\n",
      "\tGetHandleVerifier [0x0081478C+585868]\n",
      "\t(No symbol) [0x0072CE44]\n",
      "\t(No symbol) [0x00729858]\n",
      "\t(No symbol) [0x007299F7]\n",
      "\t(No symbol) [0x0071BF4E]\n",
      "\tBaseThreadInitThunk [0x76097BA9+25]\n",
      "\tRtlInitializeExceptionChain [0x777BC10B+107]\n",
      "\tRtlClearBits [0x777BC08F+191]\n",
      "\n"
     ]
    },
    {
     "name": "stderr",
     "output_type": "stream",
     "text": [
      " 53%|██████████████████████████████████████████▌                                     | 508/955 [19:41<31:58,  4.29s/it]"
     ]
    },
    {
     "name": "stdout",
     "output_type": "stream",
     "text": [
      "Error fetching data for stock code 002795: Message: \n",
      "Stacktrace:\n",
      "\tGetHandleVerifier [0x0078C203+27395]\n",
      "\t(No symbol) [0x00723E04]\n",
      "\t(No symbol) [0x00621B7F]\n",
      "\t(No symbol) [0x00662C65]\n",
      "\t(No symbol) [0x00662D3B]\n",
      "\t(No symbol) [0x0069EC82]\n",
      "\t(No symbol) [0x006839E4]\n",
      "\t(No symbol) [0x0069CB24]\n",
      "\t(No symbol) [0x00683736]\n",
      "\t(No symbol) [0x00657541]\n",
      "\t(No symbol) [0x006580BD]\n",
      "\tGetHandleVerifier [0x00A43AB3+2876339]\n",
      "\tGetHandleVerifier [0x00A97F7D+3221629]\n",
      "\tGetHandleVerifier [0x0080D674+556916]\n",
      "\tGetHandleVerifier [0x0081478C+585868]\n",
      "\t(No symbol) [0x0072CE44]\n",
      "\t(No symbol) [0x00729858]\n",
      "\t(No symbol) [0x007299F7]\n",
      "\t(No symbol) [0x0071BF4E]\n",
      "\tBaseThreadInitThunk [0x76097BA9+25]\n",
      "\tRtlInitializeExceptionChain [0x777BC10B+107]\n",
      "\tRtlClearBits [0x777BC08F+191]\n",
      "\n"
     ]
    },
    {
     "name": "stderr",
     "output_type": "stream",
     "text": [
      " 53%|██████████████████████████████████████████▋                                     | 509/955 [19:52<45:39,  6.14s/it]"
     ]
    },
    {
     "name": "stdout",
     "output_type": "stream",
     "text": [
      "Error fetching data for stock code 00279K: Message: \n",
      "Stacktrace:\n",
      "\tGetHandleVerifier [0x0078C203+27395]\n",
      "\t(No symbol) [0x00723E04]\n",
      "\t(No symbol) [0x00621B7F]\n",
      "\t(No symbol) [0x00662C65]\n",
      "\t(No symbol) [0x00662D3B]\n",
      "\t(No symbol) [0x0069EC82]\n",
      "\t(No symbol) [0x006839E4]\n",
      "\t(No symbol) [0x0069CB24]\n",
      "\t(No symbol) [0x00683736]\n",
      "\t(No symbol) [0x00657541]\n",
      "\t(No symbol) [0x006580BD]\n",
      "\tGetHandleVerifier [0x00A43AB3+2876339]\n",
      "\tGetHandleVerifier [0x00A97F7D+3221629]\n",
      "\tGetHandleVerifier [0x0080D674+556916]\n",
      "\tGetHandleVerifier [0x0081478C+585868]\n",
      "\t(No symbol) [0x0072CE44]\n",
      "\t(No symbol) [0x00729858]\n",
      "\t(No symbol) [0x007299F7]\n",
      "\t(No symbol) [0x0071BF4E]\n",
      "\tBaseThreadInitThunk [0x76097BA9+25]\n",
      "\tRtlInitializeExceptionChain [0x777BC10B+107]\n",
      "\tRtlClearBits [0x777BC08F+191]\n",
      "\n"
     ]
    },
    {
     "name": "stderr",
     "output_type": "stream",
     "text": [
      " 54%|██████████████████████████████████████████▊                                     | 511/955 [20:03<46:03,  6.22s/it]"
     ]
    },
    {
     "name": "stdout",
     "output_type": "stream",
     "text": [
      "Error fetching data for stock code 090435: Message: \n",
      "Stacktrace:\n",
      "\tGetHandleVerifier [0x0078C203+27395]\n",
      "\t(No symbol) [0x00723E04]\n",
      "\t(No symbol) [0x00621B7F]\n",
      "\t(No symbol) [0x00662C65]\n",
      "\t(No symbol) [0x00662D3B]\n",
      "\t(No symbol) [0x0069EC82]\n",
      "\t(No symbol) [0x006839E4]\n",
      "\t(No symbol) [0x0069CB24]\n",
      "\t(No symbol) [0x00683736]\n",
      "\t(No symbol) [0x00657541]\n",
      "\t(No symbol) [0x006580BD]\n",
      "\tGetHandleVerifier [0x00A43AB3+2876339]\n",
      "\tGetHandleVerifier [0x00A97F7D+3221629]\n",
      "\tGetHandleVerifier [0x0080D674+556916]\n",
      "\tGetHandleVerifier [0x0081478C+585868]\n",
      "\t(No symbol) [0x0072CE44]\n",
      "\t(No symbol) [0x00729858]\n",
      "\t(No symbol) [0x007299F7]\n",
      "\t(No symbol) [0x0071BF4E]\n",
      "\tBaseThreadInitThunk [0x76097BA9+25]\n",
      "\tRtlInitializeExceptionChain [0x777BC10B+107]\n",
      "\tRtlClearBits [0x777BC08F+191]\n",
      "\n"
     ]
    },
    {
     "name": "stderr",
     "output_type": "stream",
     "text": [
      " 56%|████████████████████████████████████████████▋                                   | 534/955 [20:27<24:41,  3.52s/it]"
     ]
    },
    {
     "name": "stdout",
     "output_type": "stream",
     "text": [
      "Error fetching data for stock code 006125: Message: \n",
      "Stacktrace:\n",
      "\tGetHandleVerifier [0x0078C203+27395]\n",
      "\t(No symbol) [0x00723E04]\n",
      "\t(No symbol) [0x00621B7F]\n",
      "\t(No symbol) [0x00662C65]\n",
      "\t(No symbol) [0x00662D3B]\n",
      "\t(No symbol) [0x0069EC82]\n",
      "\t(No symbol) [0x006839E4]\n",
      "\t(No symbol) [0x0069CB24]\n",
      "\t(No symbol) [0x00683736]\n",
      "\t(No symbol) [0x00657541]\n",
      "\t(No symbol) [0x006580BD]\n",
      "\tGetHandleVerifier [0x00A43AB3+2876339]\n",
      "\tGetHandleVerifier [0x00A97F7D+3221629]\n",
      "\tGetHandleVerifier [0x0080D674+556916]\n",
      "\tGetHandleVerifier [0x0081478C+585868]\n",
      "\t(No symbol) [0x0072CE44]\n",
      "\t(No symbol) [0x00729858]\n",
      "\t(No symbol) [0x007299F7]\n",
      "\t(No symbol) [0x0071BF4E]\n",
      "\tBaseThreadInitThunk [0x76097BA9+25]\n",
      "\tRtlInitializeExceptionChain [0x777BC10B+107]\n",
      "\tRtlClearBits [0x777BC08F+191]\n",
      "\n"
     ]
    },
    {
     "name": "stderr",
     "output_type": "stream",
     "text": [
      " 59%|███████████████████████████████████████████████▍                                | 566/955 [20:59<22:37,  3.49s/it]"
     ]
    },
    {
     "name": "stdout",
     "output_type": "stream",
     "text": [
      "Error fetching data for stock code 005945: Message: \n",
      "Stacktrace:\n",
      "\tGetHandleVerifier [0x0078C203+27395]\n",
      "\t(No symbol) [0x00723E04]\n",
      "\t(No symbol) [0x00621B7F]\n",
      "\t(No symbol) [0x00662C65]\n",
      "\t(No symbol) [0x00662D3B]\n",
      "\t(No symbol) [0x0069EC82]\n",
      "\t(No symbol) [0x006839E4]\n",
      "\t(No symbol) [0x0069CB24]\n",
      "\t(No symbol) [0x00683736]\n",
      "\t(No symbol) [0x00657541]\n",
      "\t(No symbol) [0x006580BD]\n",
      "\tGetHandleVerifier [0x00A43AB3+2876339]\n",
      "\tGetHandleVerifier [0x00A97F7D+3221629]\n",
      "\tGetHandleVerifier [0x0080D674+556916]\n",
      "\tGetHandleVerifier [0x0081478C+585868]\n",
      "\t(No symbol) [0x0072CE44]\n",
      "\t(No symbol) [0x00729858]\n",
      "\t(No symbol) [0x007299F7]\n",
      "\t(No symbol) [0x0071BF4E]\n",
      "\tBaseThreadInitThunk [0x76097BA9+25]\n",
      "\tRtlInitializeExceptionChain [0x777BC10B+107]\n",
      "\tRtlClearBits [0x777BC08F+191]\n",
      "\n"
     ]
    },
    {
     "name": "stderr",
     "output_type": "stream",
     "text": [
      " 60%|███████████████████████████████████████████████▊                                | 571/955 [21:12<25:15,  3.95s/it]"
     ]
    },
    {
     "name": "stdout",
     "output_type": "stream",
     "text": [
      "Error fetching data for stock code 108675: Message: \n",
      "Stacktrace:\n",
      "\tGetHandleVerifier [0x0078C203+27395]\n",
      "\t(No symbol) [0x00723E04]\n",
      "\t(No symbol) [0x00621B7F]\n",
      "\t(No symbol) [0x00662C65]\n",
      "\t(No symbol) [0x00662D3B]\n",
      "\t(No symbol) [0x0069EC82]\n",
      "\t(No symbol) [0x006839E4]\n",
      "\t(No symbol) [0x0069CB24]\n",
      "\t(No symbol) [0x00683736]\n",
      "\t(No symbol) [0x00657541]\n",
      "\t(No symbol) [0x006580BD]\n",
      "\tGetHandleVerifier [0x00A43AB3+2876339]\n",
      "\tGetHandleVerifier [0x00A97F7D+3221629]\n",
      "\tGetHandleVerifier [0x0080D674+556916]\n",
      "\tGetHandleVerifier [0x0081478C+585868]\n",
      "\t(No symbol) [0x0072CE44]\n",
      "\t(No symbol) [0x00729858]\n",
      "\t(No symbol) [0x007299F7]\n",
      "\t(No symbol) [0x0071BF4E]\n",
      "\tBaseThreadInitThunk [0x76097BA9+25]\n",
      "\tRtlInitializeExceptionChain [0x777BC10B+107]\n",
      "\tRtlClearBits [0x777BC08F+191]\n",
      "\n"
     ]
    },
    {
     "name": "stderr",
     "output_type": "stream",
     "text": [
      " 60%|████████████████████████████████████████████████                                | 573/955 [21:23<33:30,  5.26s/it]"
     ]
    },
    {
     "name": "stdout",
     "output_type": "stream",
     "text": [
      "Error fetching data for stock code 38380K: Message: \n",
      "Stacktrace:\n",
      "\tGetHandleVerifier [0x0078C203+27395]\n",
      "\t(No symbol) [0x00723E04]\n",
      "\t(No symbol) [0x00621B7F]\n",
      "\t(No symbol) [0x00662C65]\n",
      "\t(No symbol) [0x00662D3B]\n",
      "\t(No symbol) [0x0069EC82]\n",
      "\t(No symbol) [0x006839E4]\n",
      "\t(No symbol) [0x0069CB24]\n",
      "\t(No symbol) [0x00683736]\n",
      "\t(No symbol) [0x00657541]\n",
      "\t(No symbol) [0x006580BD]\n",
      "\tGetHandleVerifier [0x00A43AB3+2876339]\n",
      "\tGetHandleVerifier [0x00A97F7D+3221629]\n",
      "\tGetHandleVerifier [0x0080D674+556916]\n",
      "\tGetHandleVerifier [0x0081478C+585868]\n",
      "\t(No symbol) [0x0072CE44]\n",
      "\t(No symbol) [0x00729858]\n",
      "\t(No symbol) [0x007299F7]\n",
      "\t(No symbol) [0x0071BF4E]\n",
      "\tBaseThreadInitThunk [0x76097BA9+25]\n",
      "\tRtlInitializeExceptionChain [0x777BC10B+107]\n",
      "\tRtlClearBits [0x777BC08F+191]\n",
      "\n"
     ]
    },
    {
     "name": "stderr",
     "output_type": "stream",
     "text": [
      " 64%|███████████████████████████████████████████████████▎                            | 612/955 [22:05<20:50,  3.65s/it]"
     ]
    },
    {
     "name": "stdout",
     "output_type": "stream",
     "text": [
      "Error fetching data for stock code 003475: Message: \n",
      "Stacktrace:\n",
      "\tGetHandleVerifier [0x0078C203+27395]\n",
      "\t(No symbol) [0x00723E04]\n",
      "\t(No symbol) [0x00621B7F]\n",
      "\t(No symbol) [0x00662C65]\n",
      "\t(No symbol) [0x00662D3B]\n",
      "\t(No symbol) [0x0069EC82]\n",
      "\t(No symbol) [0x006839E4]\n",
      "\t(No symbol) [0x0069CB24]\n",
      "\t(No symbol) [0x00683736]\n",
      "\t(No symbol) [0x00657541]\n",
      "\t(No symbol) [0x006580BD]\n",
      "\tGetHandleVerifier [0x00A43AB3+2876339]\n",
      "\tGetHandleVerifier [0x00A97F7D+3221629]\n",
      "\tGetHandleVerifier [0x0080D674+556916]\n",
      "\tGetHandleVerifier [0x0081478C+585868]\n",
      "\t(No symbol) [0x0072CE44]\n",
      "\t(No symbol) [0x00729858]\n",
      "\t(No symbol) [0x007299F7]\n",
      "\t(No symbol) [0x0071BF4E]\n",
      "\tBaseThreadInitThunk [0x76097BA9+25]\n",
      "\tRtlInitializeExceptionChain [0x777BC10B+107]\n",
      "\tRtlClearBits [0x777BC08F+191]\n",
      "\n"
     ]
    },
    {
     "name": "stderr",
     "output_type": "stream",
     "text": [
      " 64%|███████████████████████████████████████████████████▌                            | 615/955 [22:17<26:04,  4.60s/it]"
     ]
    },
    {
     "name": "stdout",
     "output_type": "stream",
     "text": [
      "Error fetching data for stock code 000225: Message: \n",
      "Stacktrace:\n",
      "\tGetHandleVerifier [0x0078C203+27395]\n",
      "\t(No symbol) [0x00723E04]\n",
      "\t(No symbol) [0x00621B7F]\n",
      "\t(No symbol) [0x00662C65]\n",
      "\t(No symbol) [0x00662D3B]\n",
      "\t(No symbol) [0x0069EC82]\n",
      "\t(No symbol) [0x006839E4]\n",
      "\t(No symbol) [0x0069CB24]\n",
      "\t(No symbol) [0x00683736]\n",
      "\t(No symbol) [0x00657541]\n",
      "\t(No symbol) [0x006580BD]\n",
      "\tGetHandleVerifier [0x00A43AB3+2876339]\n",
      "\tGetHandleVerifier [0x00A97F7D+3221629]\n",
      "\tGetHandleVerifier [0x0080D674+556916]\n",
      "\tGetHandleVerifier [0x0081478C+585868]\n",
      "\t(No symbol) [0x0072CE44]\n",
      "\t(No symbol) [0x00729858]\n",
      "\t(No symbol) [0x007299F7]\n",
      "\t(No symbol) [0x0071BF4E]\n",
      "\tBaseThreadInitThunk [0x76097BA9+25]\n",
      "\tRtlInitializeExceptionChain [0x777BC10B+107]\n",
      "\tRtlClearBits [0x777BC08F+191]\n",
      "\n"
     ]
    },
    {
     "name": "stderr",
     "output_type": "stream",
     "text": [
      " 65%|███████████████████████████████████████████████████▌                            | 616/955 [22:27<35:46,  6.33s/it]"
     ]
    },
    {
     "name": "stdout",
     "output_type": "stream",
     "text": [
      "Error fetching data for stock code 000227: Message: \n",
      "Stacktrace:\n",
      "\tGetHandleVerifier [0x0078C203+27395]\n",
      "\t(No symbol) [0x00723E04]\n",
      "\t(No symbol) [0x00621B7F]\n",
      "\t(No symbol) [0x00662C65]\n",
      "\t(No symbol) [0x00662D3B]\n",
      "\t(No symbol) [0x0069EC82]\n",
      "\t(No symbol) [0x006839E4]\n",
      "\t(No symbol) [0x0069CB24]\n",
      "\t(No symbol) [0x00683736]\n",
      "\t(No symbol) [0x00657541]\n",
      "\t(No symbol) [0x006580BD]\n",
      "\tGetHandleVerifier [0x00A43AB3+2876339]\n",
      "\tGetHandleVerifier [0x00A97F7D+3221629]\n",
      "\tGetHandleVerifier [0x0080D674+556916]\n",
      "\tGetHandleVerifier [0x0081478C+585868]\n",
      "\t(No symbol) [0x0072CE44]\n",
      "\t(No symbol) [0x00729858]\n",
      "\t(No symbol) [0x007299F7]\n",
      "\t(No symbol) [0x0071BF4E]\n",
      "\tBaseThreadInitThunk [0x76097BA9+25]\n",
      "\tRtlInitializeExceptionChain [0x777BC10B+107]\n",
      "\tRtlClearBits [0x777BC08F+191]\n",
      "\n"
     ]
    },
    {
     "name": "stderr",
     "output_type": "stream",
     "text": [
      " 65%|███████████████████████████████████████████████████▊                            | 619/955 [22:39<30:58,  5.53s/it]"
     ]
    },
    {
     "name": "stdout",
     "output_type": "stream",
     "text": [
      "Error fetching data for stock code 000105: Message: \n",
      "Stacktrace:\n",
      "\tGetHandleVerifier [0x0078C203+27395]\n",
      "\t(No symbol) [0x00723E04]\n",
      "\t(No symbol) [0x00621B7F]\n",
      "\t(No symbol) [0x00662C65]\n",
      "\t(No symbol) [0x00662D3B]\n",
      "\t(No symbol) [0x0069EC82]\n",
      "\t(No symbol) [0x006839E4]\n",
      "\t(No symbol) [0x0069CB24]\n",
      "\t(No symbol) [0x00683736]\n",
      "\t(No symbol) [0x00657541]\n",
      "\t(No symbol) [0x006580BD]\n",
      "\tGetHandleVerifier [0x00A43AB3+2876339]\n",
      "\tGetHandleVerifier [0x00A97F7D+3221629]\n",
      "\tGetHandleVerifier [0x0080D674+556916]\n",
      "\tGetHandleVerifier [0x0081478C+585868]\n",
      "\t(No symbol) [0x0072CE44]\n",
      "\t(No symbol) [0x00729858]\n",
      "\t(No symbol) [0x007299F7]\n",
      "\t(No symbol) [0x0071BF4E]\n",
      "\tBaseThreadInitThunk [0x76097BA9+25]\n",
      "\tRtlInitializeExceptionChain [0x777BC10B+107]\n",
      "\tRtlClearBits [0x777BC08F+191]\n",
      "\n"
     ]
    },
    {
     "name": "stderr",
     "output_type": "stream",
     "text": [
      " 65%|████████████████████████████████████████████████████                            | 621/955 [22:52<35:36,  6.40s/it]"
     ]
    },
    {
     "name": "stdout",
     "output_type": "stream",
     "text": [
      "Error fetching data for stock code 003465: Message: \n",
      "Stacktrace:\n",
      "\tGetHandleVerifier [0x0078C203+27395]\n",
      "\t(No symbol) [0x00723E04]\n",
      "\t(No symbol) [0x00621B7F]\n",
      "\t(No symbol) [0x00662C65]\n",
      "\t(No symbol) [0x00662D3B]\n",
      "\t(No symbol) [0x0069EC82]\n",
      "\t(No symbol) [0x006839E4]\n",
      "\t(No symbol) [0x0069CB24]\n",
      "\t(No symbol) [0x00683736]\n",
      "\t(No symbol) [0x00657541]\n",
      "\t(No symbol) [0x006580BD]\n",
      "\tGetHandleVerifier [0x00A43AB3+2876339]\n",
      "\tGetHandleVerifier [0x00A97F7D+3221629]\n",
      "\tGetHandleVerifier [0x0080D674+556916]\n",
      "\tGetHandleVerifier [0x0081478C+585868]\n",
      "\t(No symbol) [0x0072CE44]\n",
      "\t(No symbol) [0x00729858]\n",
      "\t(No symbol) [0x007299F7]\n",
      "\t(No symbol) [0x0071BF4E]\n",
      "\tBaseThreadInitThunk [0x76097BA9+25]\n",
      "\tRtlInitializeExceptionChain [0x777BC10B+107]\n",
      "\tRtlClearBits [0x777BC08F+191]\n",
      "\n"
     ]
    },
    {
     "name": "stderr",
     "output_type": "stream",
     "text": [
      " 68%|██████████████████████████████████████████████████████▋                         | 653/955 [23:28<18:09,  3.61s/it]"
     ]
    },
    {
     "name": "stdout",
     "output_type": "stream",
     "text": [
      "Error fetching data for stock code 007575: Message: \n",
      "Stacktrace:\n",
      "\tGetHandleVerifier [0x0078C203+27395]\n",
      "\t(No symbol) [0x00723E04]\n",
      "\t(No symbol) [0x00621B7F]\n",
      "\t(No symbol) [0x00662C65]\n",
      "\t(No symbol) [0x00662D3B]\n",
      "\t(No symbol) [0x0069EC82]\n",
      "\t(No symbol) [0x006839E4]\n",
      "\t(No symbol) [0x0069CB24]\n",
      "\t(No symbol) [0x00683736]\n",
      "\t(No symbol) [0x00657541]\n",
      "\t(No symbol) [0x006580BD]\n",
      "\tGetHandleVerifier [0x00A43AB3+2876339]\n",
      "\tGetHandleVerifier [0x00A97F7D+3221629]\n",
      "\tGetHandleVerifier [0x0080D674+556916]\n",
      "\tGetHandleVerifier [0x0081478C+585868]\n",
      "\t(No symbol) [0x0072CE44]\n",
      "\t(No symbol) [0x00729858]\n",
      "\t(No symbol) [0x007299F7]\n",
      "\t(No symbol) [0x0071BF4E]\n",
      "\tBaseThreadInitThunk [0x76097BA9+25]\n",
      "\tRtlInitializeExceptionChain [0x777BC10B+107]\n",
      "\tRtlClearBits [0x777BC08F+191]\n",
      "\n"
     ]
    },
    {
     "name": "stderr",
     "output_type": "stream",
     "text": [
      " 73%|██████████████████████████████████████████████████████████▋                     | 701/955 [24:12<15:13,  3.60s/it]"
     ]
    },
    {
     "name": "stdout",
     "output_type": "stream",
     "text": [
      "Error fetching data for stock code 002785: Message: \n",
      "Stacktrace:\n",
      "\tGetHandleVerifier [0x0078C203+27395]\n",
      "\t(No symbol) [0x00723E04]\n",
      "\t(No symbol) [0x00621B7F]\n",
      "\t(No symbol) [0x00662C65]\n",
      "\t(No symbol) [0x00662D3B]\n",
      "\t(No symbol) [0x0069EC82]\n",
      "\t(No symbol) [0x006839E4]\n",
      "\t(No symbol) [0x0069CB24]\n",
      "\t(No symbol) [0x00683736]\n",
      "\t(No symbol) [0x00657541]\n",
      "\t(No symbol) [0x006580BD]\n",
      "\tGetHandleVerifier [0x00A43AB3+2876339]\n",
      "\tGetHandleVerifier [0x00A97F7D+3221629]\n",
      "\tGetHandleVerifier [0x0080D674+556916]\n",
      "\tGetHandleVerifier [0x0081478C+585868]\n",
      "\t(No symbol) [0x0072CE44]\n",
      "\t(No symbol) [0x00729858]\n",
      "\t(No symbol) [0x007299F7]\n",
      "\t(No symbol) [0x0071BF4E]\n",
      "\tBaseThreadInitThunk [0x76097BA9+25]\n",
      "\tRtlInitializeExceptionChain [0x777BC10B+107]\n",
      "\tRtlClearBits [0x777BC08F+191]\n",
      "\n"
     ]
    },
    {
     "name": "stderr",
     "output_type": "stream",
     "text": [
      " 74%|██████████████████████████████████████████████████████████▊                     | 702/955 [24:23<23:51,  5.66s/it]"
     ]
    },
    {
     "name": "stdout",
     "output_type": "stream",
     "text": [
      "Error fetching data for stock code 002787: Message: \n",
      "Stacktrace:\n",
      "\tGetHandleVerifier [0x0078C203+27395]\n",
      "\t(No symbol) [0x00723E04]\n",
      "\t(No symbol) [0x00621B7F]\n",
      "\t(No symbol) [0x00662C65]\n",
      "\t(No symbol) [0x00662D3B]\n",
      "\t(No symbol) [0x0069EC82]\n",
      "\t(No symbol) [0x006839E4]\n",
      "\t(No symbol) [0x0069CB24]\n",
      "\t(No symbol) [0x00683736]\n",
      "\t(No symbol) [0x00657541]\n",
      "\t(No symbol) [0x006580BD]\n",
      "\tGetHandleVerifier [0x00A43AB3+2876339]\n",
      "\tGetHandleVerifier [0x00A97F7D+3221629]\n",
      "\tGetHandleVerifier [0x0080D674+556916]\n",
      "\tGetHandleVerifier [0x0081478C+585868]\n",
      "\t(No symbol) [0x0072CE44]\n",
      "\t(No symbol) [0x00729858]\n",
      "\t(No symbol) [0x007299F7]\n",
      "\t(No symbol) [0x0071BF4E]\n",
      "\tBaseThreadInitThunk [0x76097BA9+25]\n",
      "\tRtlInitializeExceptionChain [0x777BC10B+107]\n",
      "\tRtlClearBits [0x777BC08F+191]\n",
      "\n"
     ]
    },
    {
     "name": "stderr",
     "output_type": "stream",
     "text": [
      " 76%|█████████████████████████████████████████████████████████████▏                  | 730/955 [24:55<13:32,  3.61s/it]"
     ]
    },
    {
     "name": "stdout",
     "output_type": "stream",
     "text": [
      "Error fetching data for stock code 007815: Message: \n",
      "Stacktrace:\n",
      "\tGetHandleVerifier [0x0078C203+27395]\n",
      "\t(No symbol) [0x00723E04]\n",
      "\t(No symbol) [0x00621B7F]\n",
      "\t(No symbol) [0x00662C65]\n",
      "\t(No symbol) [0x00662D3B]\n",
      "\t(No symbol) [0x0069EC82]\n",
      "\t(No symbol) [0x006839E4]\n",
      "\t(No symbol) [0x0069CB24]\n",
      "\t(No symbol) [0x00683736]\n",
      "\t(No symbol) [0x00657541]\n",
      "\t(No symbol) [0x006580BD]\n",
      "\tGetHandleVerifier [0x00A43AB3+2876339]\n",
      "\tGetHandleVerifier [0x00A97F7D+3221629]\n",
      "\tGetHandleVerifier [0x0080D674+556916]\n",
      "\tGetHandleVerifier [0x0081478C+585868]\n",
      "\t(No symbol) [0x0072CE44]\n",
      "\t(No symbol) [0x00729858]\n",
      "\t(No symbol) [0x007299F7]\n",
      "\t(No symbol) [0x0071BF4E]\n",
      "\tBaseThreadInitThunk [0x76097BA9+25]\n",
      "\tRtlInitializeExceptionChain [0x777BC10B+107]\n",
      "\tRtlClearBits [0x777BC08F+191]\n",
      "\n"
     ]
    },
    {
     "name": "stderr",
     "output_type": "stream",
     "text": [
      " 77%|█████████████████████████████████████████████████████████████▏                  | 731/955 [25:05<21:01,  5.63s/it]"
     ]
    },
    {
     "name": "stdout",
     "output_type": "stream",
     "text": [
      "Error fetching data for stock code 00781K: Message: \n",
      "Stacktrace:\n",
      "\tGetHandleVerifier [0x0078C203+27395]\n",
      "\t(No symbol) [0x00723E04]\n",
      "\t(No symbol) [0x00621B7F]\n",
      "\t(No symbol) [0x00662C65]\n",
      "\t(No symbol) [0x00662D3B]\n",
      "\t(No symbol) [0x0069EC82]\n",
      "\t(No symbol) [0x006839E4]\n",
      "\t(No symbol) [0x0069CB24]\n",
      "\t(No symbol) [0x00683736]\n",
      "\t(No symbol) [0x00657541]\n",
      "\t(No symbol) [0x006580BD]\n",
      "\tGetHandleVerifier [0x00A43AB3+2876339]\n",
      "\tGetHandleVerifier [0x00A97F7D+3221629]\n",
      "\tGetHandleVerifier [0x0080D674+556916]\n",
      "\tGetHandleVerifier [0x0081478C+585868]\n",
      "\t(No symbol) [0x0072CE44]\n",
      "\t(No symbol) [0x00729858]\n",
      "\t(No symbol) [0x007299F7]\n",
      "\t(No symbol) [0x0071BF4E]\n",
      "\tBaseThreadInitThunk [0x76097BA9+25]\n",
      "\tRtlInitializeExceptionChain [0x777BC10B+107]\n",
      "\tRtlClearBits [0x777BC08F+191]\n",
      "\n"
     ]
    },
    {
     "name": "stderr",
     "output_type": "stream",
     "text": [
      " 77%|█████████████████████████████████████████████████████████████▉                  | 739/955 [25:51<16:27,  4.57s/it]"
     ]
    },
    {
     "name": "stdout",
     "output_type": "stream",
     "text": [
      "Error fetching data for stock code 002025: Message: \n",
      "Stacktrace:\n",
      "\tGetHandleVerifier [0x0078C203+27395]\n",
      "\t(No symbol) [0x00723E04]\n",
      "\t(No symbol) [0x00621B7F]\n",
      "\t(No symbol) [0x00662C65]\n",
      "\t(No symbol) [0x00662D3B]\n",
      "\t(No symbol) [0x0069EC82]\n",
      "\t(No symbol) [0x006839E4]\n",
      "\t(No symbol) [0x0069CB24]\n",
      "\t(No symbol) [0x00683736]\n",
      "\t(No symbol) [0x00657541]\n",
      "\t(No symbol) [0x006580BD]\n",
      "\tGetHandleVerifier [0x00A43AB3+2876339]\n",
      "\tGetHandleVerifier [0x00A97F7D+3221629]\n",
      "\tGetHandleVerifier [0x0080D674+556916]\n",
      "\tGetHandleVerifier [0x0081478C+585868]\n",
      "\t(No symbol) [0x0072CE44]\n",
      "\t(No symbol) [0x00729858]\n",
      "\t(No symbol) [0x007299F7]\n",
      "\t(No symbol) [0x0071BF4E]\n",
      "\tBaseThreadInitThunk [0x76097BA9+25]\n",
      "\tRtlInitializeExceptionChain [0x777BC10B+107]\n",
      "\tRtlClearBits [0x777BC08F+191]\n",
      "\n"
     ]
    },
    {
     "name": "stderr",
     "output_type": "stream",
     "text": [
      " 77%|█████████████████████████████████████████████████████████████▉                  | 740/955 [26:01<22:21,  6.24s/it]"
     ]
    },
    {
     "name": "stdout",
     "output_type": "stream",
     "text": [
      "Error fetching data for stock code 003075: Message: \n",
      "Stacktrace:\n",
      "\tGetHandleVerifier [0x0078C203+27395]\n",
      "\t(No symbol) [0x00723E04]\n",
      "\t(No symbol) [0x00621B7F]\n",
      "\t(No symbol) [0x00662C65]\n",
      "\t(No symbol) [0x00662D3B]\n",
      "\t(No symbol) [0x0069EC82]\n",
      "\t(No symbol) [0x006839E4]\n",
      "\t(No symbol) [0x0069CB24]\n",
      "\t(No symbol) [0x00683736]\n",
      "\t(No symbol) [0x00657541]\n",
      "\t(No symbol) [0x006580BD]\n",
      "\tGetHandleVerifier [0x00A43AB3+2876339]\n",
      "\tGetHandleVerifier [0x00A97F7D+3221629]\n",
      "\tGetHandleVerifier [0x0080D674+556916]\n",
      "\tGetHandleVerifier [0x0081478C+585868]\n",
      "\t(No symbol) [0x0072CE44]\n",
      "\t(No symbol) [0x00729858]\n",
      "\t(No symbol) [0x007299F7]\n",
      "\t(No symbol) [0x0071BF4E]\n",
      "\tBaseThreadInitThunk [0x76097BA9+25]\n",
      "\tRtlInitializeExceptionChain [0x777BC10B+107]\n",
      "\tRtlClearBits [0x777BC08F+191]\n",
      "\n"
     ]
    },
    {
     "name": "stderr",
     "output_type": "stream",
     "text": [
      " 78%|██████████████████████████████████████████████████████████████▏                 | 742/955 [26:12<22:45,  6.41s/it]"
     ]
    },
    {
     "name": "stdout",
     "output_type": "stream",
     "text": [
      "Error fetching data for stock code 45014K: Message: \n",
      "Stacktrace:\n",
      "\tGetHandleVerifier [0x0078C203+27395]\n",
      "\t(No symbol) [0x00723E04]\n",
      "\t(No symbol) [0x00621B7F]\n",
      "\t(No symbol) [0x00662C65]\n",
      "\t(No symbol) [0x00662D3B]\n",
      "\t(No symbol) [0x0069EC82]\n",
      "\t(No symbol) [0x006839E4]\n",
      "\t(No symbol) [0x0069CB24]\n",
      "\t(No symbol) [0x00683736]\n",
      "\t(No symbol) [0x00657541]\n",
      "\t(No symbol) [0x006580BD]\n",
      "\tGetHandleVerifier [0x00A43AB3+2876339]\n",
      "\tGetHandleVerifier [0x00A97F7D+3221629]\n",
      "\tGetHandleVerifier [0x0080D674+556916]\n",
      "\tGetHandleVerifier [0x0081478C+585868]\n",
      "\t(No symbol) [0x0072CE44]\n",
      "\t(No symbol) [0x00729858]\n",
      "\t(No symbol) [0x007299F7]\n",
      "\t(No symbol) [0x0071BF4E]\n",
      "\tBaseThreadInitThunk [0x76097BA9+25]\n",
      "\tRtlInitializeExceptionChain [0x777BC10B+107]\n",
      "\tRtlClearBits [0x777BC08F+191]\n",
      "\n"
     ]
    },
    {
     "name": "stderr",
     "output_type": "stream",
     "text": [
      " 78%|██████████████████████████████████████████████████████████████▍                 | 746/955 [26:25<17:38,  5.06s/it]"
     ]
    },
    {
     "name": "stdout",
     "output_type": "stream",
     "text": [
      "Error fetching data for stock code 120115: Message: \n",
      "Stacktrace:\n",
      "\tGetHandleVerifier [0x0078C203+27395]\n",
      "\t(No symbol) [0x00723E04]\n",
      "\t(No symbol) [0x00621B7F]\n",
      "\t(No symbol) [0x00662C65]\n",
      "\t(No symbol) [0x00662D3B]\n",
      "\t(No symbol) [0x0069EC82]\n",
      "\t(No symbol) [0x006839E4]\n",
      "\t(No symbol) [0x0069CB24]\n",
      "\t(No symbol) [0x00683736]\n",
      "\t(No symbol) [0x00657541]\n",
      "\t(No symbol) [0x006580BD]\n",
      "\tGetHandleVerifier [0x00A43AB3+2876339]\n",
      "\tGetHandleVerifier [0x00A97F7D+3221629]\n",
      "\tGetHandleVerifier [0x0080D674+556916]\n",
      "\tGetHandleVerifier [0x0081478C+585868]\n",
      "\t(No symbol) [0x0072CE44]\n",
      "\t(No symbol) [0x00729858]\n",
      "\t(No symbol) [0x007299F7]\n",
      "\t(No symbol) [0x0071BF4E]\n",
      "\tBaseThreadInitThunk [0x76097BA9+25]\n",
      "\tRtlInitializeExceptionChain [0x777BC10B+107]\n",
      "\tRtlClearBits [0x777BC08F+191]\n",
      "\n"
     ]
    },
    {
     "name": "stderr",
     "output_type": "stream",
     "text": [
      " 79%|███████████████████████████████████████████████████████████████▏                | 754/955 [26:42<13:00,  3.88s/it]"
     ]
    },
    {
     "name": "stdout",
     "output_type": "stream",
     "text": [
      "Error fetching data for stock code 26490K: Message: \n",
      "Stacktrace:\n",
      "\tGetHandleVerifier [0x0078C203+27395]\n",
      "\t(No symbol) [0x00723E04]\n",
      "\t(No symbol) [0x00621B7F]\n",
      "\t(No symbol) [0x00662C65]\n",
      "\t(No symbol) [0x00662D3B]\n",
      "\t(No symbol) [0x0069EC82]\n",
      "\t(No symbol) [0x006839E4]\n",
      "\t(No symbol) [0x0069CB24]\n",
      "\t(No symbol) [0x00683736]\n",
      "\t(No symbol) [0x00657541]\n",
      "\t(No symbol) [0x006580BD]\n",
      "\tGetHandleVerifier [0x00A43AB3+2876339]\n",
      "\tGetHandleVerifier [0x00A97F7D+3221629]\n",
      "\tGetHandleVerifier [0x0080D674+556916]\n",
      "\tGetHandleVerifier [0x0081478C+585868]\n",
      "\t(No symbol) [0x0072CE44]\n",
      "\t(No symbol) [0x00729858]\n",
      "\t(No symbol) [0x007299F7]\n",
      "\t(No symbol) [0x0071BF4E]\n",
      "\tBaseThreadInitThunk [0x76097BA9+25]\n",
      "\tRtlInitializeExceptionChain [0x777BC10B+107]\n",
      "\tRtlClearBits [0x777BC08F+191]\n",
      "\n"
     ]
    },
    {
     "name": "stderr",
     "output_type": "stream",
     "text": [
      " 79%|███████████████████████████████████████████████████████████████▎                | 756/955 [26:52<16:51,  5.08s/it]"
     ]
    },
    {
     "name": "stdout",
     "output_type": "stream",
     "text": [
      "Error fetching data for stock code 005745: Message: \n",
      "Stacktrace:\n",
      "\tGetHandleVerifier [0x0078C203+27395]\n",
      "\t(No symbol) [0x00723E04]\n",
      "\t(No symbol) [0x00621B7F]\n",
      "\t(No symbol) [0x00662C65]\n",
      "\t(No symbol) [0x00662D3B]\n",
      "\t(No symbol) [0x0069EC82]\n",
      "\t(No symbol) [0x006839E4]\n",
      "\t(No symbol) [0x0069CB24]\n",
      "\t(No symbol) [0x00683736]\n",
      "\t(No symbol) [0x00657541]\n",
      "\t(No symbol) [0x006580BD]\n",
      "\tGetHandleVerifier [0x00A43AB3+2876339]\n",
      "\tGetHandleVerifier [0x00A97F7D+3221629]\n",
      "\tGetHandleVerifier [0x0080D674+556916]\n",
      "\tGetHandleVerifier [0x0081478C+585868]\n",
      "\t(No symbol) [0x0072CE44]\n",
      "\t(No symbol) [0x00729858]\n",
      "\t(No symbol) [0x007299F7]\n",
      "\t(No symbol) [0x0071BF4E]\n",
      "\tBaseThreadInitThunk [0x76097BA9+25]\n",
      "\tRtlInitializeExceptionChain [0x777BC10B+107]\n",
      "\tRtlClearBits [0x777BC08F+191]\n",
      "\n"
     ]
    },
    {
     "name": "stderr",
     "output_type": "stream",
     "text": [
      " 80%|████████████████████████████████████████████████████████████████▏               | 766/955 [27:09<11:40,  3.70s/it]"
     ]
    },
    {
     "name": "stdout",
     "output_type": "stream",
     "text": [
      "Error fetching data for stock code 004105: Message: \n",
      "Stacktrace:\n",
      "\tGetHandleVerifier [0x0078C203+27395]\n",
      "\t(No symbol) [0x00723E04]\n",
      "\t(No symbol) [0x00621B7F]\n",
      "\t(No symbol) [0x00662C65]\n",
      "\t(No symbol) [0x00662D3B]\n",
      "\t(No symbol) [0x0069EC82]\n",
      "\t(No symbol) [0x006839E4]\n",
      "\t(No symbol) [0x0069CB24]\n",
      "\t(No symbol) [0x00683736]\n",
      "\t(No symbol) [0x00657541]\n",
      "\t(No symbol) [0x006580BD]\n",
      "\tGetHandleVerifier [0x00A43AB3+2876339]\n",
      "\tGetHandleVerifier [0x00A97F7D+3221629]\n",
      "\tGetHandleVerifier [0x0080D674+556916]\n",
      "\tGetHandleVerifier [0x0081478C+585868]\n",
      "\t(No symbol) [0x0072CE44]\n",
      "\t(No symbol) [0x00729858]\n",
      "\t(No symbol) [0x007299F7]\n",
      "\t(No symbol) [0x0071BF4E]\n",
      "\tBaseThreadInitThunk [0x76097BA9+25]\n",
      "\tRtlInitializeExceptionChain [0x777BC10B+107]\n",
      "\tRtlClearBits [0x777BC08F+191]\n",
      "\n"
     ]
    },
    {
     "name": "stderr",
     "output_type": "stream",
     "text": [
      " 81%|████████████████████████████████████████████████████████████████▍               | 769/955 [27:23<15:22,  4.96s/it]"
     ]
    },
    {
     "name": "stdout",
     "output_type": "stream",
     "text": [
      "Error fetching data for stock code 009415: Message: \n",
      "Stacktrace:\n",
      "\tGetHandleVerifier [0x0078C203+27395]\n",
      "\t(No symbol) [0x00723E04]\n",
      "\t(No symbol) [0x00621B7F]\n",
      "\t(No symbol) [0x00662C65]\n",
      "\t(No symbol) [0x00662D3B]\n",
      "\t(No symbol) [0x0069EC82]\n",
      "\t(No symbol) [0x006839E4]\n",
      "\t(No symbol) [0x0069CB24]\n",
      "\t(No symbol) [0x00683736]\n",
      "\t(No symbol) [0x00657541]\n",
      "\t(No symbol) [0x006580BD]\n",
      "\tGetHandleVerifier [0x00A43AB3+2876339]\n",
      "\tGetHandleVerifier [0x00A97F7D+3221629]\n",
      "\tGetHandleVerifier [0x0080D674+556916]\n",
      "\tGetHandleVerifier [0x0081478C+585868]\n",
      "\t(No symbol) [0x0072CE44]\n",
      "\t(No symbol) [0x00729858]\n",
      "\t(No symbol) [0x007299F7]\n",
      "\t(No symbol) [0x0071BF4E]\n",
      "\tBaseThreadInitThunk [0x76097BA9+25]\n",
      "\tRtlInitializeExceptionChain [0x777BC10B+107]\n",
      "\tRtlClearBits [0x777BC08F+191]\n",
      "\n"
     ]
    },
    {
     "name": "stderr",
     "output_type": "stream",
     "text": [
      " 81%|█████████████████████████████████████████████████████████████████               | 776/955 [27:37<11:37,  3.90s/it]"
     ]
    },
    {
     "name": "stdout",
     "output_type": "stream",
     "text": [
      "Error fetching data for stock code 36328K: Message: \n",
      "Stacktrace:\n",
      "\tGetHandleVerifier [0x0078C203+27395]\n",
      "\t(No symbol) [0x00723E04]\n",
      "\t(No symbol) [0x00621B7F]\n",
      "\t(No symbol) [0x00662C65]\n",
      "\t(No symbol) [0x00662D3B]\n",
      "\t(No symbol) [0x0069EC82]\n",
      "\t(No symbol) [0x006839E4]\n",
      "\t(No symbol) [0x0069CB24]\n",
      "\t(No symbol) [0x00683736]\n",
      "\t(No symbol) [0x00657541]\n",
      "\t(No symbol) [0x006580BD]\n",
      "\tGetHandleVerifier [0x00A43AB3+2876339]\n",
      "\tGetHandleVerifier [0x00A97F7D+3221629]\n",
      "\tGetHandleVerifier [0x0080D674+556916]\n",
      "\tGetHandleVerifier [0x0081478C+585868]\n",
      "\t(No symbol) [0x0072CE44]\n",
      "\t(No symbol) [0x00729858]\n",
      "\t(No symbol) [0x007299F7]\n",
      "\t(No symbol) [0x0071BF4E]\n",
      "\tBaseThreadInitThunk [0x76097BA9+25]\n",
      "\tRtlInitializeExceptionChain [0x777BC10B+107]\n",
      "\tRtlClearBits [0x777BC08F+191]\n",
      "\n"
     ]
    },
    {
     "name": "stderr",
     "output_type": "stream",
     "text": [
      " 85%|███████████████████████████████████████████████████████████████████▊            | 809/955 [28:12<09:00,  3.70s/it]"
     ]
    },
    {
     "name": "stdout",
     "output_type": "stream",
     "text": [
      "Error fetching data for stock code 000087: Message: \n",
      "Stacktrace:\n",
      "\tGetHandleVerifier [0x0078C203+27395]\n",
      "\t(No symbol) [0x00723E04]\n",
      "\t(No symbol) [0x00621B7F]\n",
      "\t(No symbol) [0x00662C65]\n",
      "\t(No symbol) [0x00662D3B]\n",
      "\t(No symbol) [0x0069EC82]\n",
      "\t(No symbol) [0x006839E4]\n",
      "\t(No symbol) [0x0069CB24]\n",
      "\t(No symbol) [0x00683736]\n",
      "\t(No symbol) [0x00657541]\n",
      "\t(No symbol) [0x006580BD]\n",
      "\tGetHandleVerifier [0x00A43AB3+2876339]\n",
      "\tGetHandleVerifier [0x00A97F7D+3221629]\n",
      "\tGetHandleVerifier [0x0080D674+556916]\n",
      "\tGetHandleVerifier [0x0081478C+585868]\n",
      "\t(No symbol) [0x0072CE44]\n",
      "\t(No symbol) [0x00729858]\n",
      "\t(No symbol) [0x007299F7]\n",
      "\t(No symbol) [0x0071BF4E]\n",
      "\tBaseThreadInitThunk [0x76097BA9+25]\n",
      "\tRtlInitializeExceptionChain [0x777BC10B+107]\n",
      "\tRtlClearBits [0x777BC08F+191]\n",
      "\n"
     ]
    },
    {
     "name": "stderr",
     "output_type": "stream",
     "text": [
      " 85%|███████████████████████████████████████████████████████████████████▉            | 811/955 [28:43<21:58,  9.16s/it]"
     ]
    },
    {
     "name": "stdout",
     "output_type": "stream",
     "text": [
      "Error fetching data for stock code 000145: Message: \n",
      "Stacktrace:\n",
      "\tGetHandleVerifier [0x0078C203+27395]\n",
      "\t(No symbol) [0x00723E04]\n",
      "\t(No symbol) [0x00621B7F]\n",
      "\t(No symbol) [0x00662C65]\n",
      "\t(No symbol) [0x00662D3B]\n",
      "\t(No symbol) [0x0069EC82]\n",
      "\t(No symbol) [0x006839E4]\n",
      "\t(No symbol) [0x0069CB24]\n",
      "\t(No symbol) [0x00683736]\n",
      "\t(No symbol) [0x00657541]\n",
      "\t(No symbol) [0x006580BD]\n",
      "\tGetHandleVerifier [0x00A43AB3+2876339]\n",
      "\tGetHandleVerifier [0x00A97F7D+3221629]\n",
      "\tGetHandleVerifier [0x0080D674+556916]\n",
      "\tGetHandleVerifier [0x0081478C+585868]\n",
      "\t(No symbol) [0x0072CE44]\n",
      "\t(No symbol) [0x00729858]\n",
      "\t(No symbol) [0x007299F7]\n",
      "\t(No symbol) [0x0071BF4E]\n",
      "\tBaseThreadInitThunk [0x76097BA9+25]\n",
      "\tRtlInitializeExceptionChain [0x777BC10B+107]\n",
      "\tRtlClearBits [0x777BC08F+191]\n",
      "\n"
     ]
    },
    {
     "name": "stderr",
     "output_type": "stream",
     "text": [
      " 88%|██████████████████████████████████████████████████████████████████████          | 836/955 [29:09<06:59,  3.53s/it]"
     ]
    },
    {
     "name": "stdout",
     "output_type": "stream",
     "text": [
      "Error fetching data for stock code 152550: Message: \n",
      "Stacktrace:\n",
      "\tGetHandleVerifier [0x0078C203+27395]\n",
      "\t(No symbol) [0x00723E04]\n",
      "\t(No symbol) [0x00621B7F]\n",
      "\t(No symbol) [0x00662C65]\n",
      "\t(No symbol) [0x00662D3B]\n",
      "\t(No symbol) [0x0069EC82]\n",
      "\t(No symbol) [0x006839E4]\n",
      "\t(No symbol) [0x0069CB24]\n",
      "\t(No symbol) [0x00683736]\n",
      "\t(No symbol) [0x00657541]\n",
      "\t(No symbol) [0x006580BD]\n",
      "\tGetHandleVerifier [0x00A43AB3+2876339]\n",
      "\tGetHandleVerifier [0x00A97F7D+3221629]\n",
      "\tGetHandleVerifier [0x0080D674+556916]\n",
      "\tGetHandleVerifier [0x0081478C+585868]\n",
      "\t(No symbol) [0x0072CE44]\n",
      "\t(No symbol) [0x00729858]\n",
      "\t(No symbol) [0x007299F7]\n",
      "\t(No symbol) [0x0071BF4E]\n",
      "\tBaseThreadInitThunk [0x76097BA9+25]\n",
      "\tRtlInitializeExceptionChain [0x777BC10B+107]\n",
      "\tRtlClearBits [0x777BC08F+191]\n",
      "\n"
     ]
    },
    {
     "name": "stderr",
     "output_type": "stream",
     "text": [
      " 88%|██████████████████████████████████████████████████████████████████████          | 837/955 [29:19<10:56,  5.56s/it]"
     ]
    },
    {
     "name": "stdout",
     "output_type": "stream",
     "text": [
      "Error fetching data for stock code 168490: Message: \n",
      "Stacktrace:\n",
      "\tGetHandleVerifier [0x0078C203+27395]\n",
      "\t(No symbol) [0x00723E04]\n",
      "\t(No symbol) [0x00621B7F]\n",
      "\t(No symbol) [0x00662C65]\n",
      "\t(No symbol) [0x00662D3B]\n",
      "\t(No symbol) [0x0069EC82]\n",
      "\t(No symbol) [0x006839E4]\n",
      "\t(No symbol) [0x0069CB24]\n",
      "\t(No symbol) [0x00683736]\n",
      "\t(No symbol) [0x00657541]\n",
      "\t(No symbol) [0x006580BD]\n",
      "\tGetHandleVerifier [0x00A43AB3+2876339]\n",
      "\tGetHandleVerifier [0x00A97F7D+3221629]\n",
      "\tGetHandleVerifier [0x0080D674+556916]\n",
      "\tGetHandleVerifier [0x0081478C+585868]\n",
      "\t(No symbol) [0x0072CE44]\n",
      "\t(No symbol) [0x00729858]\n",
      "\t(No symbol) [0x007299F7]\n",
      "\t(No symbol) [0x0071BF4E]\n",
      "\tBaseThreadInitThunk [0x76097BA9+25]\n",
      "\tRtlInitializeExceptionChain [0x777BC10B+107]\n",
      "\tRtlClearBits [0x777BC08F+191]\n",
      "\n"
     ]
    },
    {
     "name": "stderr",
     "output_type": "stream",
     "text": [
      " 88%|██████████████████████████████████████████████████████████████████████▏         | 838/955 [29:29<13:38,  6.99s/it]"
     ]
    },
    {
     "name": "stdout",
     "output_type": "stream",
     "text": [
      "Error fetching data for stock code 071055: Message: \n",
      "Stacktrace:\n",
      "\tGetHandleVerifier [0x0078C203+27395]\n",
      "\t(No symbol) [0x00723E04]\n",
      "\t(No symbol) [0x00621B7F]\n",
      "\t(No symbol) [0x00662C65]\n",
      "\t(No symbol) [0x00662D3B]\n",
      "\t(No symbol) [0x0069EC82]\n",
      "\t(No symbol) [0x006839E4]\n",
      "\t(No symbol) [0x0069CB24]\n",
      "\t(No symbol) [0x00683736]\n",
      "\t(No symbol) [0x00657541]\n",
      "\t(No symbol) [0x006580BD]\n",
      "\tGetHandleVerifier [0x00A43AB3+2876339]\n",
      "\tGetHandleVerifier [0x00A97F7D+3221629]\n",
      "\tGetHandleVerifier [0x0080D674+556916]\n",
      "\tGetHandleVerifier [0x0081478C+585868]\n",
      "\t(No symbol) [0x0072CE44]\n",
      "\t(No symbol) [0x00729858]\n",
      "\t(No symbol) [0x007299F7]\n",
      "\t(No symbol) [0x0071BF4E]\n",
      "\tBaseThreadInitThunk [0x76097BA9+25]\n",
      "\tRtlInitializeExceptionChain [0x777BC10B+107]\n",
      "\tRtlClearBits [0x777BC08F+191]\n",
      "\n"
     ]
    },
    {
     "name": "stderr",
     "output_type": "stream",
     "text": [
      " 91%|████████████████████████████████████████████████████████████████████████▍       | 865/955 [29:57<05:13,  3.48s/it]"
     ]
    },
    {
     "name": "stdout",
     "output_type": "stream",
     "text": [
      "Error fetching data for stock code 001755: Message: \n",
      "Stacktrace:\n",
      "\tGetHandleVerifier [0x0078C203+27395]\n",
      "\t(No symbol) [0x00723E04]\n",
      "\t(No symbol) [0x00621B7F]\n",
      "\t(No symbol) [0x00662C65]\n",
      "\t(No symbol) [0x00662D3B]\n",
      "\t(No symbol) [0x0069EC82]\n",
      "\t(No symbol) [0x006839E4]\n",
      "\t(No symbol) [0x0069CB24]\n",
      "\t(No symbol) [0x00683736]\n",
      "\t(No symbol) [0x00657541]\n",
      "\t(No symbol) [0x006580BD]\n",
      "\tGetHandleVerifier [0x00A43AB3+2876339]\n",
      "\tGetHandleVerifier [0x00A97F7D+3221629]\n",
      "\tGetHandleVerifier [0x0080D674+556916]\n",
      "\tGetHandleVerifier [0x0081478C+585868]\n",
      "\t(No symbol) [0x0072CE44]\n",
      "\t(No symbol) [0x00729858]\n",
      "\t(No symbol) [0x007299F7]\n",
      "\t(No symbol) [0x0071BF4E]\n",
      "\tBaseThreadInitThunk [0x76097BA9+25]\n",
      "\tRtlInitializeExceptionChain [0x777BC10B+107]\n",
      "\tRtlClearBits [0x777BC08F+191]\n",
      "\n"
     ]
    },
    {
     "name": "stderr",
     "output_type": "stream",
     "text": [
      " 92%|█████████████████████████████████████████████████████████████████████████▌      | 878/955 [30:17<04:47,  3.73s/it]"
     ]
    },
    {
     "name": "stdout",
     "output_type": "stream",
     "text": [
      "Error fetching data for stock code 18064K: Message: \n",
      "Stacktrace:\n",
      "\tGetHandleVerifier [0x0078C203+27395]\n",
      "\t(No symbol) [0x00723E04]\n",
      "\t(No symbol) [0x00621B7F]\n",
      "\t(No symbol) [0x00662C65]\n",
      "\t(No symbol) [0x00662D3B]\n",
      "\t(No symbol) [0x0069EC82]\n",
      "\t(No symbol) [0x006839E4]\n",
      "\t(No symbol) [0x0069CB24]\n",
      "\t(No symbol) [0x00683736]\n",
      "\t(No symbol) [0x00657541]\n",
      "\t(No symbol) [0x006580BD]\n",
      "\tGetHandleVerifier [0x00A43AB3+2876339]\n",
      "\tGetHandleVerifier [0x00A97F7D+3221629]\n",
      "\tGetHandleVerifier [0x0080D674+556916]\n",
      "\tGetHandleVerifier [0x0081478C+585868]\n",
      "\t(No symbol) [0x0072CE44]\n",
      "\t(No symbol) [0x00729858]\n",
      "\t(No symbol) [0x007299F7]\n",
      "\t(No symbol) [0x0071BF4E]\n",
      "\tBaseThreadInitThunk [0x76097BA9+25]\n",
      "\tRtlInitializeExceptionChain [0x777BC10B+107]\n",
      "\tRtlClearBits [0x777BC08F+191]\n",
      "\n"
     ]
    },
    {
     "name": "stderr",
     "output_type": "stream",
     "text": [
      " 92%|█████████████████████████████████████████████████████████████████████████▉      | 883/955 [30:31<05:06,  4.25s/it]"
     ]
    },
    {
     "name": "stdout",
     "output_type": "stream",
     "text": [
      "Error fetching data for stock code 000885: Message: \n",
      "Stacktrace:\n",
      "\tGetHandleVerifier [0x0078C203+27395]\n",
      "\t(No symbol) [0x00723E04]\n",
      "\t(No symbol) [0x00621B7F]\n",
      "\t(No symbol) [0x00662C65]\n",
      "\t(No symbol) [0x00662D3B]\n",
      "\t(No symbol) [0x0069EC82]\n",
      "\t(No symbol) [0x006839E4]\n",
      "\t(No symbol) [0x0069CB24]\n",
      "\t(No symbol) [0x00683736]\n",
      "\t(No symbol) [0x00657541]\n",
      "\t(No symbol) [0x006580BD]\n",
      "\tGetHandleVerifier [0x00A43AB3+2876339]\n",
      "\tGetHandleVerifier [0x00A97F7D+3221629]\n",
      "\tGetHandleVerifier [0x0080D674+556916]\n",
      "\tGetHandleVerifier [0x0081478C+585868]\n",
      "\t(No symbol) [0x0072CE44]\n",
      "\t(No symbol) [0x00729858]\n",
      "\t(No symbol) [0x007299F7]\n",
      "\t(No symbol) [0x0071BF4E]\n",
      "\tBaseThreadInitThunk [0x76097BA9+25]\n",
      "\tRtlInitializeExceptionChain [0x777BC10B+107]\n",
      "\tRtlClearBits [0x777BC08F+191]\n",
      "\n"
     ]
    },
    {
     "name": "stderr",
     "output_type": "stream",
     "text": [
      " 93%|██████████████████████████████████████████████████████████████████████████      | 884/955 [30:41<07:15,  6.13s/it]"
     ]
    },
    {
     "name": "stdout",
     "output_type": "stream",
     "text": [
      "Error fetching data for stock code 00088K: Message: \n",
      "Stacktrace:\n",
      "\tGetHandleVerifier [0x0078C203+27395]\n",
      "\t(No symbol) [0x00723E04]\n",
      "\t(No symbol) [0x00621B7F]\n",
      "\t(No symbol) [0x00662C65]\n",
      "\t(No symbol) [0x00662D3B]\n",
      "\t(No symbol) [0x0069EC82]\n",
      "\t(No symbol) [0x006839E4]\n",
      "\t(No symbol) [0x0069CB24]\n",
      "\t(No symbol) [0x00683736]\n",
      "\t(No symbol) [0x00657541]\n",
      "\t(No symbol) [0x006580BD]\n",
      "\tGetHandleVerifier [0x00A43AB3+2876339]\n",
      "\tGetHandleVerifier [0x00A97F7D+3221629]\n",
      "\tGetHandleVerifier [0x0080D674+556916]\n",
      "\tGetHandleVerifier [0x0081478C+585868]\n",
      "\t(No symbol) [0x0072CE44]\n",
      "\t(No symbol) [0x00729858]\n",
      "\t(No symbol) [0x007299F7]\n",
      "\t(No symbol) [0x0071BF4E]\n",
      "\tBaseThreadInitThunk [0x76097BA9+25]\n",
      "\tRtlInitializeExceptionChain [0x777BC10B+107]\n",
      "\tRtlClearBits [0x777BC08F+191]\n",
      "\n"
     ]
    },
    {
     "name": "stderr",
     "output_type": "stream",
     "text": [
      " 93%|██████████████████████████████████████████████████████████████████████████▏     | 885/955 [30:52<08:36,  7.38s/it]"
     ]
    },
    {
     "name": "stdout",
     "output_type": "stream",
     "text": [
      "Error fetching data for stock code 45226K: Message: \n",
      "Stacktrace:\n",
      "\tGetHandleVerifier [0x0078C203+27395]\n",
      "\t(No symbol) [0x00723E04]\n",
      "\t(No symbol) [0x00621B7F]\n",
      "\t(No symbol) [0x00662C65]\n",
      "\t(No symbol) [0x00662D3B]\n",
      "\t(No symbol) [0x0069EC82]\n",
      "\t(No symbol) [0x006839E4]\n",
      "\t(No symbol) [0x0069CB24]\n",
      "\t(No symbol) [0x00683736]\n",
      "\t(No symbol) [0x00657541]\n",
      "\t(No symbol) [0x006580BD]\n",
      "\tGetHandleVerifier [0x00A43AB3+2876339]\n",
      "\tGetHandleVerifier [0x00A97F7D+3221629]\n",
      "\tGetHandleVerifier [0x0080D674+556916]\n",
      "\tGetHandleVerifier [0x0081478C+585868]\n",
      "\t(No symbol) [0x0072CE44]\n",
      "\t(No symbol) [0x00729858]\n",
      "\t(No symbol) [0x007299F7]\n",
      "\t(No symbol) [0x0071BF4E]\n",
      "\tBaseThreadInitThunk [0x76097BA9+25]\n",
      "\tRtlInitializeExceptionChain [0x777BC10B+107]\n",
      "\tRtlClearBits [0x777BC08F+191]\n",
      "\n"
     ]
    },
    {
     "name": "stderr",
     "output_type": "stream",
     "text": [
      " 93%|██████████████████████████████████████████████████████████████████████████▋     | 891/955 [31:06<04:39,  4.36s/it]"
     ]
    },
    {
     "name": "stdout",
     "output_type": "stream",
     "text": [
      "Error fetching data for stock code 009835: Message: \n",
      "Stacktrace:\n",
      "\tGetHandleVerifier [0x0078C203+27395]\n",
      "\t(No symbol) [0x00723E04]\n",
      "\t(No symbol) [0x00621B7F]\n",
      "\t(No symbol) [0x00662C65]\n",
      "\t(No symbol) [0x00662D3B]\n",
      "\t(No symbol) [0x0069EC82]\n",
      "\t(No symbol) [0x006839E4]\n",
      "\t(No symbol) [0x0069CB24]\n",
      "\t(No symbol) [0x00683736]\n",
      "\t(No symbol) [0x00657541]\n",
      "\t(No symbol) [0x006580BD]\n",
      "\tGetHandleVerifier [0x00A43AB3+2876339]\n",
      "\tGetHandleVerifier [0x00A97F7D+3221629]\n",
      "\tGetHandleVerifier [0x0080D674+556916]\n",
      "\tGetHandleVerifier [0x0081478C+585868]\n",
      "\t(No symbol) [0x0072CE44]\n",
      "\t(No symbol) [0x00729858]\n",
      "\t(No symbol) [0x007299F7]\n",
      "\t(No symbol) [0x0071BF4E]\n",
      "\tBaseThreadInitThunk [0x76097BA9+25]\n",
      "\tRtlInitializeExceptionChain [0x777BC10B+107]\n",
      "\tRtlClearBits [0x777BC08F+191]\n",
      "\n"
     ]
    },
    {
     "name": "stderr",
     "output_type": "stream",
     "text": [
      " 94%|███████████████████████████████████████████████████████████████████████████▏    | 897/955 [31:21<04:05,  4.23s/it]"
     ]
    },
    {
     "name": "stdout",
     "output_type": "stream",
     "text": [
      "Error fetching data for stock code 003535: Message: \n",
      "Stacktrace:\n",
      "\tGetHandleVerifier [0x0078C203+27395]\n",
      "\t(No symbol) [0x00723E04]\n",
      "\t(No symbol) [0x00621B7F]\n",
      "\t(No symbol) [0x00662C65]\n",
      "\t(No symbol) [0x00662D3B]\n",
      "\t(No symbol) [0x0069EC82]\n",
      "\t(No symbol) [0x006839E4]\n",
      "\t(No symbol) [0x0069CB24]\n",
      "\t(No symbol) [0x00683736]\n",
      "\t(No symbol) [0x00657541]\n",
      "\t(No symbol) [0x006580BD]\n",
      "\tGetHandleVerifier [0x00A43AB3+2876339]\n",
      "\tGetHandleVerifier [0x00A97F7D+3221629]\n",
      "\tGetHandleVerifier [0x0080D674+556916]\n",
      "\tGetHandleVerifier [0x0081478C+585868]\n",
      "\t(No symbol) [0x0072CE44]\n",
      "\t(No symbol) [0x00729858]\n",
      "\t(No symbol) [0x007299F7]\n",
      "\t(No symbol) [0x0071BF4E]\n",
      "\tBaseThreadInitThunk [0x76097BA9+25]\n",
      "\tRtlInitializeExceptionChain [0x777BC10B+107]\n",
      "\tRtlClearBits [0x777BC08F+191]\n",
      "\n"
     ]
    },
    {
     "name": "stderr",
     "output_type": "stream",
     "text": [
      " 94%|███████████████████████████████████████████████████████████████████████████▌    | 902/955 [31:34<03:41,  4.17s/it]"
     ]
    },
    {
     "name": "stdout",
     "output_type": "stream",
     "text": [
      "Error fetching data for stock code 000725: Message: \n",
      "Stacktrace:\n",
      "\tGetHandleVerifier [0x0078C203+27395]\n",
      "\t(No symbol) [0x00723E04]\n",
      "\t(No symbol) [0x00621B7F]\n",
      "\t(No symbol) [0x00662C65]\n",
      "\t(No symbol) [0x00662D3B]\n",
      "\t(No symbol) [0x0069EC82]\n",
      "\t(No symbol) [0x006839E4]\n",
      "\t(No symbol) [0x0069CB24]\n",
      "\t(No symbol) [0x00683736]\n",
      "\t(No symbol) [0x00657541]\n",
      "\t(No symbol) [0x006580BD]\n",
      "\tGetHandleVerifier [0x00A43AB3+2876339]\n",
      "\tGetHandleVerifier [0x00A97F7D+3221629]\n",
      "\tGetHandleVerifier [0x0080D674+556916]\n",
      "\tGetHandleVerifier [0x0081478C+585868]\n",
      "\t(No symbol) [0x0072CE44]\n",
      "\t(No symbol) [0x00729858]\n",
      "\t(No symbol) [0x007299F7]\n",
      "\t(No symbol) [0x0071BF4E]\n",
      "\tBaseThreadInitThunk [0x76097BA9+25]\n",
      "\tRtlInitializeExceptionChain [0x777BC10B+107]\n",
      "\tRtlClearBits [0x777BC08F+191]\n",
      "\n"
     ]
    },
    {
     "name": "stderr",
     "output_type": "stream",
     "text": [
      " 96%|████████████████████████████████████████████████████████████████████████████▋   | 915/955 [31:59<02:35,  3.88s/it]"
     ]
    },
    {
     "name": "stdout",
     "output_type": "stream",
     "text": [
      "Error fetching data for stock code 005385: Message: \n",
      "Stacktrace:\n",
      "\tGetHandleVerifier [0x0078C203+27395]\n",
      "\t(No symbol) [0x00723E04]\n",
      "\t(No symbol) [0x00621B7F]\n",
      "\t(No symbol) [0x00662C65]\n",
      "\t(No symbol) [0x00662D3B]\n",
      "\t(No symbol) [0x0069EC82]\n",
      "\t(No symbol) [0x006839E4]\n",
      "\t(No symbol) [0x0069CB24]\n",
      "\t(No symbol) [0x00683736]\n",
      "\t(No symbol) [0x00657541]\n",
      "\t(No symbol) [0x006580BD]\n",
      "\tGetHandleVerifier [0x00A43AB3+2876339]\n",
      "\tGetHandleVerifier [0x00A97F7D+3221629]\n",
      "\tGetHandleVerifier [0x0080D674+556916]\n",
      "\tGetHandleVerifier [0x0081478C+585868]\n",
      "\t(No symbol) [0x0072CE44]\n",
      "\t(No symbol) [0x00729858]\n",
      "\t(No symbol) [0x007299F7]\n",
      "\t(No symbol) [0x0071BF4E]\n",
      "\tBaseThreadInitThunk [0x76097BA9+25]\n",
      "\tRtlInitializeExceptionChain [0x777BC10B+107]\n",
      "\tRtlClearBits [0x777BC08F+191]\n",
      "\n"
     ]
    },
    {
     "name": "stderr",
     "output_type": "stream",
     "text": [
      " 96%|████████████████████████████████████████████████████████████████████████████▋   | 916/955 [32:10<03:53,  5.99s/it]"
     ]
    },
    {
     "name": "stdout",
     "output_type": "stream",
     "text": [
      "Error fetching data for stock code 005387: Message: \n",
      "Stacktrace:\n",
      "\tGetHandleVerifier [0x0078C203+27395]\n",
      "\t(No symbol) [0x00723E04]\n",
      "\t(No symbol) [0x00621B7F]\n",
      "\t(No symbol) [0x00662C65]\n",
      "\t(No symbol) [0x00662D3B]\n",
      "\t(No symbol) [0x0069EC82]\n",
      "\t(No symbol) [0x006839E4]\n",
      "\t(No symbol) [0x0069CB24]\n",
      "\t(No symbol) [0x00683736]\n",
      "\t(No symbol) [0x00657541]\n",
      "\t(No symbol) [0x006580BD]\n",
      "\tGetHandleVerifier [0x00A43AB3+2876339]\n",
      "\tGetHandleVerifier [0x00A97F7D+3221629]\n",
      "\tGetHandleVerifier [0x0080D674+556916]\n",
      "\tGetHandleVerifier [0x0081478C+585868]\n",
      "\t(No symbol) [0x0072CE44]\n",
      "\t(No symbol) [0x00729858]\n",
      "\t(No symbol) [0x007299F7]\n",
      "\t(No symbol) [0x0071BF4E]\n",
      "\tBaseThreadInitThunk [0x76097BA9+25]\n",
      "\tRtlInitializeExceptionChain [0x777BC10B+107]\n",
      "\tRtlClearBits [0x777BC08F+191]\n",
      "\n"
     ]
    },
    {
     "name": "stderr",
     "output_type": "stream",
     "text": [
      " 96%|████████████████████████████████████████████████████████████████████████████▊   | 917/955 [32:20<04:38,  7.33s/it]"
     ]
    },
    {
     "name": "stdout",
     "output_type": "stream",
     "text": [
      "Error fetching data for stock code 005389: Message: \n",
      "Stacktrace:\n",
      "\tGetHandleVerifier [0x0078C203+27395]\n",
      "\t(No symbol) [0x00723E04]\n",
      "\t(No symbol) [0x00621B7F]\n",
      "\t(No symbol) [0x00662C65]\n",
      "\t(No symbol) [0x00662D3B]\n",
      "\t(No symbol) [0x0069EC82]\n",
      "\t(No symbol) [0x006839E4]\n",
      "\t(No symbol) [0x0069CB24]\n",
      "\t(No symbol) [0x00683736]\n",
      "\t(No symbol) [0x00657541]\n",
      "\t(No symbol) [0x006580BD]\n",
      "\tGetHandleVerifier [0x00A43AB3+2876339]\n",
      "\tGetHandleVerifier [0x00A97F7D+3221629]\n",
      "\tGetHandleVerifier [0x0080D674+556916]\n",
      "\tGetHandleVerifier [0x0081478C+585868]\n",
      "\t(No symbol) [0x0072CE44]\n",
      "\t(No symbol) [0x00729858]\n",
      "\t(No symbol) [0x007299F7]\n",
      "\t(No symbol) [0x0071BF4E]\n",
      "\tBaseThreadInitThunk [0x76097BA9+25]\n",
      "\tRtlInitializeExceptionChain [0x777BC10B+107]\n",
      "\tRtlClearBits [0x777BC08F+191]\n",
      "\n"
     ]
    },
    {
     "name": "stderr",
     "output_type": "stream",
     "text": [
      " 97%|█████████████████████████████████████████████████████████████████████████████▉  | 930/955 [32:48<01:44,  4.16s/it]"
     ]
    },
    {
     "name": "stdout",
     "output_type": "stream",
     "text": [
      "Error fetching data for stock code 008775: Message: \n",
      "Stacktrace:\n",
      "\tGetHandleVerifier [0x0078C203+27395]\n",
      "\t(No symbol) [0x00723E04]\n",
      "\t(No symbol) [0x00621B7F]\n",
      "\t(No symbol) [0x00662C65]\n",
      "\t(No symbol) [0x00662D3B]\n",
      "\t(No symbol) [0x0069EC82]\n",
      "\t(No symbol) [0x006839E4]\n",
      "\t(No symbol) [0x0069CB24]\n",
      "\t(No symbol) [0x00683736]\n",
      "\t(No symbol) [0x00657541]\n",
      "\t(No symbol) [0x006580BD]\n",
      "\tGetHandleVerifier [0x00A43AB3+2876339]\n",
      "\tGetHandleVerifier [0x00A97F7D+3221629]\n",
      "\tGetHandleVerifier [0x0080D674+556916]\n",
      "\tGetHandleVerifier [0x0081478C+585868]\n",
      "\t(No symbol) [0x0072CE44]\n",
      "\t(No symbol) [0x00729858]\n",
      "\t(No symbol) [0x007299F7]\n",
      "\t(No symbol) [0x0071BF4E]\n",
      "\tBaseThreadInitThunk [0x76097BA9+25]\n",
      "\tRtlInitializeExceptionChain [0x777BC10B+107]\n",
      "\tRtlClearBits [0x777BC08F+191]\n",
      "\n"
     ]
    },
    {
     "name": "stderr",
     "output_type": "stream",
     "text": [
      "100%|███████████████████████████████████████████████████████████████████████████████▊| 953/955 [33:31<00:09,  4.51s/it]"
     ]
    },
    {
     "name": "stdout",
     "output_type": "stream",
     "text": [
      "Error fetching data for stock code 000545: Message: \n",
      "Stacktrace:\n",
      "\tGetHandleVerifier [0x0078C203+27395]\n",
      "\t(No symbol) [0x00723E04]\n",
      "\t(No symbol) [0x00621B7F]\n",
      "\t(No symbol) [0x00662C65]\n",
      "\t(No symbol) [0x00662D3B]\n",
      "\t(No symbol) [0x0069EC82]\n",
      "\t(No symbol) [0x006839E4]\n",
      "\t(No symbol) [0x0069CB24]\n",
      "\t(No symbol) [0x00683736]\n",
      "\t(No symbol) [0x00657541]\n",
      "\t(No symbol) [0x006580BD]\n",
      "\tGetHandleVerifier [0x00A43AB3+2876339]\n",
      "\tGetHandleVerifier [0x00A97F7D+3221629]\n",
      "\tGetHandleVerifier [0x0080D674+556916]\n",
      "\tGetHandleVerifier [0x0081478C+585868]\n",
      "\t(No symbol) [0x0072CE44]\n",
      "\t(No symbol) [0x00729858]\n",
      "\t(No symbol) [0x007299F7]\n",
      "\t(No symbol) [0x0071BF4E]\n",
      "\tBaseThreadInitThunk [0x76097BA9+25]\n",
      "\tRtlInitializeExceptionChain [0x777BC10B+107]\n",
      "\tRtlClearBits [0x777BC08F+191]\n",
      "\n"
     ]
    },
    {
     "name": "stderr",
     "output_type": "stream",
     "text": [
      "100%|████████████████████████████████████████████████████████████████████████████████| 955/955 [33:33<00:00,  2.11s/it]\n"
     ]
    }
   ],
   "source": [
    "from selenium import webdriver\n",
    "from selenium.webdriver.chrome.service import Service\n",
    "from selenium.webdriver.chrome.options import Options\n",
    "from selenium.webdriver.common.by import By\n",
    "from selenium.webdriver.support.ui import WebDriverWait\n",
    "from selenium.webdriver.support import expected_conditions as EC\n",
    "import pandas as pd\n",
    "import chromedriver_autoinstaller\n",
    "from tqdm import tqdm\n",
    "\n",
    "# ChromeDriver 자동 설치\n",
    "chromedriver_autoinstaller.install()\n",
    "\n",
    "# Chrome 옵션 설정\n",
    "chrome_options = Options()\n",
    "chrome_options.add_argument(\"--headless\")  # 브라우저를 화면에 표시하지 않음\n",
    "chrome_options.add_argument(\"--no-sandbox\")\n",
    "chrome_options.add_argument(\"--disable-dev-shm-usage\")\n",
    "\n",
    "# WebDriver 설정\n",
    "service = Service()\n",
    "driver = webdriver.Chrome(service=service, options=chrome_options)\n",
    "\n",
    "\n",
    "\n",
    "def get_competitors(stock_code):\n",
    "    url = f'https://comp.fnguide.com/SVO2/ASP/SVD_Comparison.asp?pGB=1&gicode=A{stock_code}&cID=&MenuYn=Y&ReportGB=&NewMenuID=106&stkGb=701&cpGb=undefined'\n",
    "    \n",
    "    # 페이지 열기\n",
    "    driver.get(url)\n",
    "    \n",
    "    # 데이터 로딩 대기 (10초 대기)\n",
    "    try:\n",
    "        WebDriverWait(driver, 10).until(\n",
    "            EC.presence_of_element_located((By.ID, 'grid_D_Y'))\n",
    "        )\n",
    "        \n",
    "        # 경쟁사 정보 추출\n",
    "        competitors = []\n",
    "        table_header = driver.find_element(By.CSS_SELECTOR, '#grid_D_Y > table > thead > tr')\n",
    "        header_cells = table_header.find_elements(By.TAG_NAME, 'th')\n",
    "        \n",
    "        for cell in header_cells[2:]:  # 첫 번째 열은 구분 제목이므로 건너뜀\n",
    "            competitor_name = cell.get_attribute('title')\n",
    "            competitors.append(competitor_name)\n",
    "                \n",
    "        return competitors\n",
    "    except Exception as e:\n",
    "        print(f\"Error fetching data for stock code {stock_code}: {e}\")\n",
    "        return []\n",
    "\n",
    "# 경쟁사 데이터 수집\n",
    "competitor_data = []\n",
    "\n",
    "for index, row in tqdm(df.iterrows(), total=df.shape[0]):\n",
    "    stock_code = row['단축코드']\n",
    "    stock_name = row['한글 종목약명']\n",
    "    competitors = get_competitors(stock_code)\n",
    "    competitor_data.append({'단축코드': stock_code, '한글 종목약명': stock_name, '경쟁사': competitors})\n",
    "\n",
    "# DataFrame 생성\n",
    "df_competitors = pd.DataFrame(competitor_data)\n",
    "\n",
    "# 브라우저 닫기\n",
    "driver.quit()\n",
    "df_competitors.to_csv('./df_competitors.csv')\n"
   ]
  },
  {
   "cell_type": "code",
   "execution_count": 35,
   "id": "93a05d57",
   "metadata": {},
   "outputs": [
    {
     "data": {
      "text/html": [
       "<div>\n",
       "<style scoped>\n",
       "    .dataframe tbody tr th:only-of-type {\n",
       "        vertical-align: middle;\n",
       "    }\n",
       "\n",
       "    .dataframe tbody tr th {\n",
       "        vertical-align: top;\n",
       "    }\n",
       "\n",
       "    .dataframe thead th {\n",
       "        text-align: right;\n",
       "    }\n",
       "</style>\n",
       "<table border=\"1\" class=\"dataframe\">\n",
       "  <thead>\n",
       "    <tr style=\"text-align: right;\">\n",
       "      <th></th>\n",
       "      <th>단축코드</th>\n",
       "      <th>한글 종목약명</th>\n",
       "      <th>경쟁사</th>\n",
       "    </tr>\n",
       "  </thead>\n",
       "  <tbody>\n",
       "    <tr>\n",
       "      <th>0</th>\n",
       "      <td>095570</td>\n",
       "      <td>AJ네트웍스</td>\n",
       "      <td>[SK네트웍스, SG&amp;G, 롯데렌탈]</td>\n",
       "    </tr>\n",
       "    <tr>\n",
       "      <th>1</th>\n",
       "      <td>006840</td>\n",
       "      <td>AK홀딩스</td>\n",
       "      <td>[대한유화, 태광산업, 이수화학]</td>\n",
       "    </tr>\n",
       "    <tr>\n",
       "      <th>2</th>\n",
       "      <td>282330</td>\n",
       "      <td>BGF리테일</td>\n",
       "      <td>[GS리테일, 롯데쇼핑, 지어소프트]</td>\n",
       "    </tr>\n",
       "    <tr>\n",
       "      <th>3</th>\n",
       "      <td>027410</td>\n",
       "      <td>BGF</td>\n",
       "      <td>[PI첨단소재, 테이팩스, 레이크머티리얼즈]</td>\n",
       "    </tr>\n",
       "    <tr>\n",
       "      <th>4</th>\n",
       "      <td>138930</td>\n",
       "      <td>BNK금융지주</td>\n",
       "      <td>[신한지주, KB금융, 하나금융지주]</td>\n",
       "    </tr>\n",
       "    <tr>\n",
       "      <th>...</th>\n",
       "      <td>...</td>\n",
       "      <td>...</td>\n",
       "      <td>...</td>\n",
       "    </tr>\n",
       "    <tr>\n",
       "      <th>950</th>\n",
       "      <td>079980</td>\n",
       "      <td>휴비스</td>\n",
       "      <td>[DI동일, 일신방직, 백산]</td>\n",
       "    </tr>\n",
       "    <tr>\n",
       "      <th>951</th>\n",
       "      <td>005010</td>\n",
       "      <td>휴스틸</td>\n",
       "      <td>[현대비앤지스틸, 동국산업, 알루코]</td>\n",
       "    </tr>\n",
       "    <tr>\n",
       "      <th>952</th>\n",
       "      <td>000545</td>\n",
       "      <td>흥국화재우</td>\n",
       "      <td>[]</td>\n",
       "    </tr>\n",
       "    <tr>\n",
       "      <th>953</th>\n",
       "      <td>000540</td>\n",
       "      <td>흥국화재</td>\n",
       "      <td>[한화손해보험, 동양생명, 롯데손해보험]</td>\n",
       "    </tr>\n",
       "    <tr>\n",
       "      <th>954</th>\n",
       "      <td>003280</td>\n",
       "      <td>흥아해운</td>\n",
       "      <td>[대한해운, 인터지스, KSS해운]</td>\n",
       "    </tr>\n",
       "  </tbody>\n",
       "</table>\n",
       "<p>955 rows × 3 columns</p>\n",
       "</div>"
      ],
      "text/plain": [
       "       단축코드  한글 종목약명                       경쟁사\n",
       "0    095570   AJ네트웍스      [SK네트웍스, SG&G, 롯데렌탈]\n",
       "1    006840    AK홀딩스        [대한유화, 태광산업, 이수화학]\n",
       "2    282330   BGF리테일      [GS리테일, 롯데쇼핑, 지어소프트]\n",
       "3    027410      BGF  [PI첨단소재, 테이팩스, 레이크머티리얼즈]\n",
       "4    138930  BNK금융지주      [신한지주, KB금융, 하나금융지주]\n",
       "..      ...      ...                       ...\n",
       "950  079980      휴비스          [DI동일, 일신방직, 백산]\n",
       "951  005010      휴스틸      [현대비앤지스틸, 동국산업, 알루코]\n",
       "952  000545    흥국화재우                        []\n",
       "953  000540     흥국화재    [한화손해보험, 동양생명, 롯데손해보험]\n",
       "954  003280     흥아해운       [대한해운, 인터지스, KSS해운]\n",
       "\n",
       "[955 rows x 3 columns]"
      ]
     },
     "execution_count": 35,
     "metadata": {},
     "output_type": "execute_result"
    }
   ],
   "source": [
    "df_competitors"
   ]
  },
  {
   "cell_type": "code",
   "execution_count": null,
   "id": "76b40c85",
   "metadata": {},
   "outputs": [],
   "source": [
    "df_competitors.to_csv('./df_competitors.csv')"
   ]
  },
  {
   "cell_type": "code",
   "execution_count": null,
   "id": "556d49d8",
   "metadata": {},
   "outputs": [],
   "source": []
  }
 ],
 "metadata": {
  "kernelspec": {
   "display_name": "Python 3 (ipykernel)",
   "language": "python",
   "name": "python3"
  },
  "language_info": {
   "codemirror_mode": {
    "name": "ipython",
    "version": 3
   },
   "file_extension": ".py",
   "mimetype": "text/x-python",
   "name": "python",
   "nbconvert_exporter": "python",
   "pygments_lexer": "ipython3",
   "version": "3.11.5"
  }
 },
 "nbformat": 4,
 "nbformat_minor": 5
}
